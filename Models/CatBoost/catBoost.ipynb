{
 "cells": [
  {
   "cell_type": "code",
   "execution_count": 8,
   "metadata": {},
   "outputs": [
    {
     "name": "stderr",
     "output_type": "stream",
     "text": [
      "C:\\Users\\ztiff\\AppData\\Local\\Temp\\ipykernel_928\\3489471851.py:45: FutureWarning: The argument 'date_parser' is deprecated and will be removed in a future version. Please use 'date_format' instead, or read your data in as 'object' dtype and then call 'to_datetime'.\n",
      "  df = pd.read_csv(\n",
      "C:\\Users\\ztiff\\AppData\\Local\\Temp\\ipykernel_928\\3489471851.py:45: DtypeWarning: Columns (9) have mixed types. Specify dtype option on import or set low_memory=False.\n",
      "  df = pd.read_csv(\n",
      "C:\\Users\\ztiff\\AppData\\Local\\Temp\\ipykernel_928\\3489471851.py:45: UserWarning: Could not infer format, so each element will be parsed individually, falling back to `dateutil`. To ensure parsing is consistent and as-expected, please specify a format.\n",
      "  df = pd.read_csv(\n",
      "C:\\Users\\ztiff\\AppData\\Local\\Temp\\ipykernel_928\\3489471851.py:45: UserWarning: Could not infer format, so each element will be parsed individually, falling back to `dateutil`. To ensure parsing is consistent and as-expected, please specify a format.\n",
      "  df = pd.read_csv(\n",
      "C:\\Users\\ztiff\\AppData\\Local\\Temp\\ipykernel_928\\3489471851.py:45: UserWarning: Could not infer format, so each element will be parsed individually, falling back to `dateutil`. To ensure parsing is consistent and as-expected, please specify a format.\n",
      "  df = pd.read_csv(\n"
     ]
    }
   ],
   "source": [
    "import numpy as np\n",
    "import pandas as pd\n",
    "import imblearn\n",
    "from imblearn.over_sampling import RandomOverSampler\n",
    "from sklearn.preprocessing import LabelEncoder\n",
    "from sklearn.model_selection import train_test_split\n",
    "from sklearn.metrics import accuracy_score\n",
    "from catboost import CatBoostClassifier\n",
    "\n",
    "\n",
    "def preprocessing():\n",
    "    # Removes the dollar signs and commas\n",
    "    def custom_dollar_converter(dollar_str):\n",
    "        if '#' in dollar_str:\n",
    "            return np.nan\n",
    "        else:\n",
    "            dollar_str = dollar_str.replace('$', '').replace(',', '')\n",
    "            return float(dollar_str)\n",
    "    \n",
    "    # Determines whether a business is a franchise or not\n",
    "    # If the value is 0 or 1, the business is not a franchise\n",
    "    def custom_franchise_converter(franchise_str):\n",
    "        if franchise_str.strip() == '0' or franchise_str.strip() == '1':\n",
    "            return 0\n",
    "        else:\n",
    "            return 1\n",
    "    \n",
    "    # Trims zip codes to the first two numbers\n",
    "    def zip_trimmer(zip_str):\n",
    "        return zip_str[:2]\n",
    "    \n",
    "    # reads in data, using the custom converters\n",
    "    bank_converters = {\n",
    "        'DisbursementGross': custom_dollar_converter,\n",
    "        'BalanceGross': custom_dollar_converter,\n",
    "        'ChgOffPrinGr': custom_dollar_converter,\n",
    "        'GrAppv': custom_dollar_converter,\n",
    "        'SBA_Appv': custom_dollar_converter,\n",
    "        'FranchiseCode': custom_franchise_converter,\n",
    "        'Zip': zip_trimmer,\n",
    "    }\n",
    "\n",
    "    bank_parse_dates = [ 'ApprovalDate', 'ChgOffDate', 'DisbursementDate' ]\n",
    "\n",
    "    df = pd.read_csv(\n",
    "        'SBAnational.csv',\n",
    "        converters=bank_converters,\n",
    "        parse_dates=bank_parse_dates,\n",
    "        date_parser=pd.to_datetime,\n",
    "    )\n",
    "\n",
    "    # drops unnecessary columns\n",
    "    drop_columns = [\n",
    "        'Name', 'City', 'ChgOffDate', 'DisbursementDate',\n",
    "        'LoanNr_ChkDgt', 'Bank', 'NAICS',\n",
    "        'CreateJob', 'RetainedJob', 'ChgOffPrinGr',\n",
    "        'RevLineCr', 'LowDoc',\n",
    "    ]\n",
    "    working_df = df.drop(columns=drop_columns)\n",
    "    \n",
    "    # removes all null values\n",
    "    working_df = working_df.dropna()\n",
    "    \n",
    "    \n",
    "    # label encode MIS_Status\n",
    "    mis_label_encoder = LabelEncoder()\n",
    "    mis_encoded = mis_label_encoder.fit_transform(working_df['MIS_Status'])\n",
    "    working_df['MIS_Status'] = mis_encoded\n",
    "    \n",
    "    \n",
    "    # makes the NewExist variable more intuitive\n",
    "    # a value of 1 means the business is new\n",
    "    # a value of 0 means the business is not new\n",
    "    working_df['NewExist'] = working_df['NewExist'].replace({ 2:1, 1:0 })\n",
    "    # one hot encoding NewExist\n",
    "    new_exist_true = working_df['NewExist'] == 1\n",
    "    new_exist_false = working_df['NewExist'] == 0\n",
    "    working_df['NewExistTrue'] = new_exist_true\n",
    "    working_df['NewExistFalse'] = new_exist_false\n",
    "    working_df = working_df.drop(columns=['NewExist'])\n",
    "    \n",
    "\n",
    "    # handling datetime information\n",
    "    approval_date_months = working_df['ApprovalDate'].dt.month\n",
    "    approval_date_days = working_df['ApprovalDate'].dt.day\n",
    "    working_df['ApprovalMonth'] = approval_date_months\n",
    "    working_df['ApprovalDay'] = approval_date_days\n",
    "    working_df = working_df.drop(columns=['ApprovalDate'])\n",
    "\n",
    "    approval_years = []\n",
    "    for date in working_df['ApprovalFY']:\n",
    "        if date == '1976A':\n",
    "            approval_years.append(1976)\n",
    "        else:\n",
    "            approval_years.append(int(date))\n",
    "\n",
    "    working_df['ApprovalFY'] = np.array(approval_years).astype(np.int64)\n",
    "    \n",
    "    \n",
    "    # label encoding state information\n",
    "    state_label_encoder = LabelEncoder()\n",
    "    state_encoded = state_label_encoder.fit_transform(working_df['State'])\n",
    "    bank_state_encoded = state_label_encoder.fit_transform(working_df['BankState'])\n",
    "    working_df['State'] = state_encoded\n",
    "    working_df['BankState'] = bank_state_encoded\n",
    "    \n",
    "    \n",
    "    # converting zip information to the right datatype\n",
    "    working_df['Zip'] = pd.to_numeric(working_df['Zip'])\n",
    "    \n",
    "    \n",
    "    # separate data by features and target\n",
    "    X = working_df.drop(columns=['MIS_Status'])\n",
    "    y = working_df['MIS_Status']\n",
    "    # separate the testing data from the training data\n",
    "    X_train, X_test, y_train, y_test = train_test_split(X, y, test_size=0.2, random_state=42)\n",
    "    \n",
    "    \n",
    "    # balancing the training data based on MIS_Status\n",
    "    sampler = RandomOverSampler(sampling_strategy='minority')\n",
    "    df_without_status, df_with_status = X_train, y_train\n",
    "    df_without_status_rebalanced, df_with_status_rebalanced = sampler.fit_resample(\n",
    "        df_without_status, df_with_status\n",
    "    )\n",
    "    X_train, y_train = df_without_status_rebalanced, df_with_status_rebalanced\n",
    "    \n",
    "    \n",
    "    \n",
    "    return X_train, X_test, y_train, y_test\n",
    "\n",
    "X_train, X_test, y_train, y_test = preprocessing()"
   ]
  },
  {
   "cell_type": "code",
   "execution_count": 9,
   "metadata": {},
   "outputs": [
    {
     "name": "stdout",
     "output_type": "stream",
     "text": [
      "0:\tlearn: 0.4910775\ttotal: 99ms\tremaining: 99ms\n",
      "1:\tlearn: 0.4283798\ttotal: 215ms\tremaining: 0us\n"
     ]
    },
    {
     "data": {
      "text/plain": [
       "0.8515482797512032"
      ]
     },
     "execution_count": 9,
     "metadata": {},
     "output_type": "execute_result"
    }
   ],
   "source": [
    "model = CatBoostClassifier(iterations = 2, learning_rate= 1, depth = 2);\n",
    "model.fit(X_train, y_train)\n",
    "\n",
    "y_pred = model.predict(X_test)\n",
    "\n",
    "accuracy = accuracy_score(y_test, y_pred)\n",
    "accuracy"
   ]
  },
  {
   "cell_type": "code",
   "execution_count": 16,
   "metadata": {},
   "outputs": [
    {
     "name": "stdout",
     "output_type": "stream",
     "text": [
      "0:\tlearn: 0.6417551\ttotal: 121ms\tremaining: 965ms\n",
      "1:\tlearn: 0.6001338\ttotal: 276ms\tremaining: 967ms\n",
      "2:\tlearn: 0.5653032\ttotal: 481ms\tremaining: 961ms\n",
      "3:\tlearn: 0.5366426\ttotal: 662ms\tremaining: 827ms\n",
      "4:\tlearn: 0.5090879\ttotal: 844ms\tremaining: 675ms\n",
      "5:\tlearn: 0.4875136\ttotal: 1.04s\tremaining: 521ms\n",
      "6:\tlearn: 0.4672581\ttotal: 1.22s\tremaining: 349ms\n",
      "7:\tlearn: 0.4511044\ttotal: 1.39s\tremaining: 174ms\n",
      "8:\tlearn: 0.4367958\ttotal: 1.55s\tremaining: 0us\n"
     ]
    },
    {
     "data": {
      "text/plain": [
       "0.8511797746535493"
      ]
     },
     "execution_count": 16,
     "metadata": {},
     "output_type": "execute_result"
    }
   ],
   "source": [
    "\n",
    "model = CatBoostClassifier(iterations = 9 , learning_rate = 0.1, depth = 6);\n",
    "model.fit(X_train, y_train)\n",
    "\n",
    "y_pred = model.predict(X_test)\n",
    "\n",
    "accuracy = accuracy_score(y_test, y_pred)\n",
    "accuracy"
   ]
  }
 ],
 "metadata": {
  "kernelspec": {
   "display_name": "base",
   "language": "python",
   "name": "python3"
  },
  "language_info": {
   "codemirror_mode": {
    "name": "ipython",
    "version": 3
   },
   "file_extension": ".py",
   "mimetype": "text/x-python",
   "name": "python",
   "nbconvert_exporter": "python",
   "pygments_lexer": "ipython3",
   "version": "3.10.9"
  },
  "orig_nbformat": 4
 },
 "nbformat": 4,
 "nbformat_minor": 2
}
