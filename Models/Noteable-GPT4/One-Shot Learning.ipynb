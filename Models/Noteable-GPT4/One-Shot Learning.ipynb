{
  "nbformat": 4,
  "nbformat_minor": 5,
  "metadata": {
    "kernel_info": {
      "name": "python3"
    },
    "noteable": {
      "last_transaction_id": "e5bfc0bc-c4b1-43c4-96ee-5c216d567c85"
    },
    "kernelspec": {
      "display_name": "Python 3.9",
      "language": "python",
      "name": "python3"
    },
    "selected_hardware_size": "large"
  },
  "cells": [
    {
      "id": "a6029b7a-5a9f-4102-84f8-f4ee81e497e5",
      "cell_type": "code",
      "metadata": {
        "jupyter": {
          "outputs_hidden": false,
          "source_hidden": false
        },
        "noteable": {
          "cell_type": "code"
        }
      },
      "execution_count": null,
      "source": "",
      "outputs": []
    },
    {
      "id": "b65c2055-d974-46e7-b1cb-7bb9a5733746",
      "cell_type": "code",
      "metadata": {
        "noteable": {
          "cell_type": "code",
          "output_collection_id": "d3caf811-612c-4462-b5df-021b9f3593be"
        },
        "ExecuteTime": {
          "end_time": "2023-09-03T02:37:00.229984+00:00",
          "start_time": "2023-09-03T02:36:52.570501+00:00"
        },
        "datalink": {
          "cd71e8b0-4c6a-4614-a246-a4264aa69d40": {
            "applied_filters": [],
            "dataframe_info": {
              "default_index_used": true,
              "orig_num_cols": 27,
              "orig_num_rows": 5,
              "orig_size_bytes": 1120,
              "truncated_num_cols": 27,
              "truncated_num_rows": 5,
              "truncated_size_bytes": 1120,
              "truncated_string_columns": []
            },
            "display_id": "cd71e8b0-4c6a-4614-a246-a4264aa69d40",
            "dx_settings": {
              "ALLOW_NOTEABLE_ATTRS": true,
              "COLUMN_SAMPLING_METHOD": "outer",
              "DB_LOCATION": ":memory:",
              "DEV_MODE": false,
              "DISPLAY_MAX_COLUMNS": 100,
              "DISPLAY_MAX_ROWS": 50000,
              "DISPLAY_MODE": "simple",
              "ENABLE_ASSIGNMENT": true,
              "ENABLE_DATALINK": true,
              "FLATTEN_COLUMN_VALUES": true,
              "FLATTEN_INDEX_VALUES": false,
              "GENERATE_DEX_METADATA": false,
              "HTML_TABLE_SCHEMA": false,
              "LOG_LEVEL": 30,
              "MAX_RENDER_SIZE_BYTES": 104857600,
              "MAX_STRING_LENGTH": 250,
              "NUM_PAST_SAMPLES_TRACKED": 3,
              "RANDOM_STATE": 12648430,
              "RESET_INDEX_VALUES": false,
              "ROW_SAMPLING_METHOD": "random",
              "SAMPLING_FACTOR": 0.1,
              "SAMPLING_METHOD": "random",
              "STRINGIFY_COLUMN_VALUES": true,
              "STRINGIFY_INDEX_VALUES": false
            },
            "sample_history": [],
            "sampling_time": "2023-09-03T02:37:00.061375",
            "user_variable_name": null,
            "variable_name": "unk_dataframe_430c4ad3b3c5442da5493954892514a7"
          }
        }
      },
      "execution_count": null,
      "source": "import pandas as pd\nimport numpy as np\nimport matplotlib.pyplot as plt\nimport seaborn as sns\n\n# Load the datasets\nfile0 = pd.read_csv('file0.csv')\nfile1 = pd.read_csv('file1.csv')\nfile2 = pd.read_csv('file2.csv')\n\n# Concatenate the datasets to form a single dataframe\ndata = pd.concat([file0, file1, file2], axis=0).reset_index(drop=True)\n\n# Display the first few rows of the concatenated dataset\ndata.head()",
      "outputs": []
    },
    {
      "id": "24b78b2d-7a6c-481d-a4cc-c01d3dcf417b",
      "cell_type": "markdown",
      "source": "### Data Preprocessing",
      "metadata": {
        "noteable": {
          "cell_type": "markdown"
        }
      }
    },
    {
      "id": "69f7a343-2eee-4e23-a19a-2eb970396e55",
      "cell_type": "code",
      "metadata": {
        "noteable": {
          "cell_type": "code",
          "output_collection_id": "b0cd721c-c941-4cf3-a38a-933cfc89f54e"
        },
        "ExecuteTime": {
          "end_time": "2023-09-03T02:37:31.205117+00:00",
          "start_time": "2023-09-03T02:37:24.052776+00:00"
        },
        "datalink": {
          "2dcca322-a1b0-4de1-baf3-60c6fb8d2343": {
            "applied_filters": [],
            "dataframe_info": {
              "default_index_used": false,
              "orig_num_cols": 2,
              "orig_num_rows": 11,
              "orig_size_bytes": 264,
              "truncated_num_cols": 2,
              "truncated_num_rows": 11,
              "truncated_size_bytes": 264,
              "truncated_string_columns": []
            },
            "display_id": "2dcca322-a1b0-4de1-baf3-60c6fb8d2343",
            "dx_settings": {
              "ALLOW_NOTEABLE_ATTRS": true,
              "COLUMN_SAMPLING_METHOD": "outer",
              "DB_LOCATION": ":memory:",
              "DEV_MODE": false,
              "DISPLAY_MAX_COLUMNS": 100,
              "DISPLAY_MAX_ROWS": 50000,
              "DISPLAY_MODE": "simple",
              "ENABLE_ASSIGNMENT": true,
              "ENABLE_DATALINK": true,
              "FLATTEN_COLUMN_VALUES": true,
              "FLATTEN_INDEX_VALUES": false,
              "GENERATE_DEX_METADATA": false,
              "HTML_TABLE_SCHEMA": false,
              "LOG_LEVEL": 30,
              "MAX_RENDER_SIZE_BYTES": 104857600,
              "MAX_STRING_LENGTH": 250,
              "NUM_PAST_SAMPLES_TRACKED": 3,
              "RANDOM_STATE": 12648430,
              "RESET_INDEX_VALUES": false,
              "ROW_SAMPLING_METHOD": "random",
              "SAMPLING_FACTOR": 0.1,
              "SAMPLING_METHOD": "random",
              "STRINGIFY_COLUMN_VALUES": true,
              "STRINGIFY_INDEX_VALUES": false
            },
            "sample_history": [],
            "sampling_time": "2023-09-03T02:37:31.046938",
            "user_variable_name": "missing_df",
            "variable_name": "missing_df"
          }
        }
      },
      "execution_count": null,
      "source": "# Check for missing values\nmissing_data = data.isnull().sum()\nmissing_percentage = (data.isnull().sum() / len(data)) * 100\n\n# Create a dataframe to display missing data information\nmissing_df = pd.DataFrame({'Missing Values': missing_data, '% of Total Values': missing_percentage})\nmissing_df = missing_df[missing_df['Missing Values'] != 0].sort_values(by='% of Total Values', ascending=False)\nmissing_df",
      "outputs": []
    },
    {
      "id": "809ca89d-8203-4297-80ee-a1b97a5ab915",
      "cell_type": "code",
      "metadata": {
        "noteable": {
          "cell_type": "code",
          "output_collection_id": "f50fc3a3-dde5-4b8a-b0a1-6a822b7495b5"
        },
        "ExecuteTime": {
          "end_time": "2023-09-03T02:37:59.399378+00:00",
          "start_time": "2023-09-03T02:37:53.111292+00:00"
        },
        "datalink": {
          "1da4d31f-b3d6-43b5-9d25-471f440e74bc": {
            "applied_filters": [],
            "dataframe_info": {
              "default_index_used": false,
              "orig_num_cols": 1,
              "orig_num_rows": 27,
              "orig_size_bytes": 432,
              "truncated_num_cols": 1,
              "truncated_num_rows": 27,
              "truncated_size_bytes": 432,
              "truncated_string_columns": []
            },
            "display_id": "1da4d31f-b3d6-43b5-9d25-471f440e74bc",
            "dx_settings": {
              "ALLOW_NOTEABLE_ATTRS": true,
              "COLUMN_SAMPLING_METHOD": "outer",
              "DB_LOCATION": ":memory:",
              "DEV_MODE": false,
              "DISPLAY_MAX_COLUMNS": 100,
              "DISPLAY_MAX_ROWS": 50000,
              "DISPLAY_MODE": "simple",
              "ENABLE_ASSIGNMENT": true,
              "ENABLE_DATALINK": true,
              "FLATTEN_COLUMN_VALUES": true,
              "FLATTEN_INDEX_VALUES": false,
              "GENERATE_DEX_METADATA": false,
              "HTML_TABLE_SCHEMA": false,
              "LOG_LEVEL": 30,
              "MAX_RENDER_SIZE_BYTES": 104857600,
              "MAX_STRING_LENGTH": 250,
              "NUM_PAST_SAMPLES_TRACKED": 3,
              "RANDOM_STATE": 12648430,
              "RESET_INDEX_VALUES": false,
              "ROW_SAMPLING_METHOD": "random",
              "SAMPLING_FACTOR": 0.1,
              "SAMPLING_METHOD": "random",
              "STRINGIFY_COLUMN_VALUES": true,
              "STRINGIFY_INDEX_VALUES": false
            },
            "sample_history": [],
            "sampling_time": "2023-09-03T02:37:59.241132",
            "user_variable_name": null,
            "variable_name": "unk_dataframe_7cc25387c8464dd8b8edcc11a2ed9db0"
          }
        }
      },
      "execution_count": null,
      "source": "# Fill missing values for categorical columns with their mode\ncategorical_columns = ['Bank', 'MIS_Status', 'LowDoc', 'RevLineCr']\nfor column in categorical_columns:\n    data[column].fillna(data[column].mode()[0], inplace=True)\n\n# Fill missing values for date columns with a placeholder value\ndata['DisbursementDate'].fillna('Unknown', inplace=True)\ndata['ChgOffDate'].fillna('Unknown', inplace=True)\n\n# Check if there are any missing values left\ndata.isnull().sum()",
      "outputs": []
    },
    {
      "id": "95caf763-bcd4-44ed-9a00-4cd76fb6b39e",
      "cell_type": "code",
      "metadata": {
        "noteable": {
          "cell_type": "code",
          "output_collection_id": "88cb7e48-08a5-4b5b-98b0-d7cb1389e2f0"
        },
        "ExecuteTime": {
          "end_time": "2023-09-03T02:38:15.274098+00:00",
          "start_time": "2023-09-03T02:38:13.946250+00:00"
        }
      },
      "execution_count": null,
      "source": "# Fill missing values for the 'NewExist' column with its mode\ndata['NewExist'].fillna(data['NewExist'].mode()[0], inplace=True)\n\n# Check if there are any missing values left\ndata.isnull().sum().sum()",
      "outputs": []
    },
    {
      "id": "92d40b2b-22fd-4fff-b017-d5b36c360591",
      "cell_type": "code",
      "metadata": {
        "noteable": {
          "cell_type": "code",
          "output_collection_id": "a3c97c08-c133-41da-963c-311cfdb490e9"
        },
        "ExecuteTime": {
          "end_time": "2023-09-03T02:38:30.823166+00:00",
          "start_time": "2023-09-03T02:38:24.396838+00:00"
        },
        "datalink": {
          "ca3563e6-9c8b-4517-9d1b-3d7722267627": {
            "applied_filters": [],
            "dataframe_info": {
              "default_index_used": false,
              "orig_num_cols": 1,
              "orig_num_rows": 4,
              "orig_size_bytes": 64,
              "truncated_num_cols": 1,
              "truncated_num_rows": 4,
              "truncated_size_bytes": 64,
              "truncated_string_columns": []
            },
            "display_id": "ca3563e6-9c8b-4517-9d1b-3d7722267627",
            "dx_settings": {
              "ALLOW_NOTEABLE_ATTRS": true,
              "COLUMN_SAMPLING_METHOD": "outer",
              "DB_LOCATION": ":memory:",
              "DEV_MODE": false,
              "DISPLAY_MAX_COLUMNS": 100,
              "DISPLAY_MAX_ROWS": 50000,
              "DISPLAY_MODE": "simple",
              "ENABLE_ASSIGNMENT": true,
              "ENABLE_DATALINK": true,
              "FLATTEN_COLUMN_VALUES": true,
              "FLATTEN_INDEX_VALUES": false,
              "GENERATE_DEX_METADATA": false,
              "HTML_TABLE_SCHEMA": false,
              "LOG_LEVEL": 30,
              "MAX_RENDER_SIZE_BYTES": 104857600,
              "MAX_STRING_LENGTH": 250,
              "NUM_PAST_SAMPLES_TRACKED": 3,
              "RANDOM_STATE": 12648430,
              "RESET_INDEX_VALUES": false,
              "ROW_SAMPLING_METHOD": "random",
              "SAMPLING_FACTOR": 0.1,
              "SAMPLING_METHOD": "random",
              "STRINGIFY_COLUMN_VALUES": true,
              "STRINGIFY_INDEX_VALUES": false
            },
            "sample_history": [],
            "sampling_time": "2023-09-03T02:38:30.665349",
            "user_variable_name": "missing_data",
            "variable_name": "missing_data"
          }
        }
      },
      "execution_count": null,
      "source": "# Identify columns with missing values\ncolumns_with_missing = data.columns[data.isnull().any()]\nmissing_data = data[columns_with_missing].isnull().sum()\nmissing_data",
      "outputs": []
    },
    {
      "id": "645c9796-ed44-4a02-a71c-223f590cb35d",
      "cell_type": "code",
      "metadata": {
        "noteable": {
          "cell_type": "code",
          "output_collection_id": "60d1171d-3412-4a8c-918c-539747ad5c50"
        },
        "ExecuteTime": {
          "end_time": "2023-09-03T02:40:39.831930+00:00",
          "start_time": "2023-09-03T02:40:39.004176+00:00"
        }
      },
      "execution_count": null,
      "source": "# Fill missing values for categorical columns with mode\ncategorical_columns = ['Bank', 'MIS_Status', 'LowDoc', 'RevLineCr']\nfor column in categorical_columns:\n    mode_val = data[column].mode()[0]\n    data[column].fillna(mode_val, inplace=True)\n\n# Fill missing values for date columns with median date\ndate_columns = ['DisbursementDate', 'ChgOffDate']\nfor column in date_columns:\n    median_date = pd.to_datetime(data[column].dropna()).median()\n    data[column].fillna(median_date, inplace=True)\n\n# Check if there are any missing values left\ndata.isnull().sum().sort_values(ascending=False)",
      "outputs": []
    },
    {
      "id": "0fd6c6a6-7297-4272-8a7d-70013c8ed404",
      "cell_type": "code",
      "metadata": {
        "noteable": {
          "cell_type": "code",
          "output_collection_id": "6aaeeeba-3da8-4aca-a544-c6e3afb6d19e"
        },
        "ExecuteTime": {
          "end_time": "2023-09-03T02:40:52.177394+00:00",
          "start_time": "2023-09-03T02:40:51.903381+00:00"
        }
      },
      "execution_count": null,
      "source": "# Inspect unique values in the 'DisbursementDate' and 'ChgOffDate' columns\ndisbursement_dates = data['DisbursementDate'].dropna().unique()\nchgoff_dates = data['ChgOffDate'].dropna().unique()\n\ndisbursement_dates, chgoff_dates",
      "outputs": []
    },
    {
      "id": "5d744784-6530-4c68-bd66-f4801e8e8876",
      "cell_type": "code",
      "metadata": {
        "noteable": {
          "cell_type": "code",
          "output_collection_id": "07c21732-2ba5-498f-87b1-2aa0d68ee740"
        },
        "ExecuteTime": {
          "end_time": "2023-09-03T02:41:07.594715+00:00",
          "start_time": "2023-09-03T02:41:07.260665+00:00"
        }
      },
      "execution_count": null,
      "source": "# Replace 'Unknown' with NaN in 'ChgOffDate' column\ndata['ChgOffDate'].replace('Unknown', np.nan, inplace=True)\n\n# Fill missing values for date columns with median date\nfor column in date_columns:\n    median_date = pd.to_datetime(data[column].dropna()).median()\n    data[column].fillna(median_date, inplace=True)\n\n# Check if there are any missing values left\ndata.isnull().sum().sort_values(ascending=False)",
      "outputs": []
    },
    {
      "id": "3b204b2e-c1cf-4892-9c6d-b87624f3fc37",
      "cell_type": "code",
      "metadata": {
        "noteable": {
          "cell_type": "code",
          "output_collection_id": "bd57dafb-aee4-415b-94c3-412bcc94d7d9"
        },
        "ExecuteTime": {
          "end_time": "2023-09-03T02:41:25.849930+00:00",
          "start_time": "2023-09-03T02:41:23.616150+00:00"
        }
      },
      "execution_count": null,
      "source": "# Check for non-standard date formats in 'DisbursementDate' and 'ChgOffDate' columns\ndef check_date_format(date_series):\n    non_standard_dates = []\n    for date in date_series.dropna().unique():\n        try:\n            pd.to_datetime(date)\n        except:\n            non_standard_dates.append(date)\n    return non_standard_dates\n\nnon_standard_disbursement_dates = check_date_format(data['DisbursementDate'])\nnon_standard_chgoff_dates = check_date_format(data['ChgOffDate'])\n\nnon_standard_disbursement_dates, non_standard_chgoff_dates",
      "outputs": []
    },
    {
      "id": "5339aa39-a861-42e8-82c5-e504df8b780e",
      "cell_type": "code",
      "metadata": {
        "noteable": {
          "cell_type": "code",
          "output_collection_id": "46ecfd6a-c62b-4ffb-8c72-d285186b01c0"
        },
        "ExecuteTime": {
          "end_time": "2023-09-03T02:41:57.349305+00:00",
          "start_time": "2023-09-03T02:41:42.536672+00:00"
        },
        "datalink": {
          "48d4ee8e-8249-48ee-94a8-e9660b5da039": {
            "applied_filters": [],
            "dataframe_info": {
              "default_index_used": false,
              "orig_num_cols": 1,
              "orig_num_rows": 27,
              "orig_size_bytes": 432,
              "truncated_num_cols": 1,
              "truncated_num_rows": 27,
              "truncated_size_bytes": 432,
              "truncated_string_columns": []
            },
            "display_id": "48d4ee8e-8249-48ee-94a8-e9660b5da039",
            "dx_settings": {
              "ALLOW_NOTEABLE_ATTRS": true,
              "COLUMN_SAMPLING_METHOD": "outer",
              "DB_LOCATION": ":memory:",
              "DEV_MODE": false,
              "DISPLAY_MAX_COLUMNS": 100,
              "DISPLAY_MAX_ROWS": 50000,
              "DISPLAY_MODE": "simple",
              "ENABLE_ASSIGNMENT": true,
              "ENABLE_DATALINK": true,
              "FLATTEN_COLUMN_VALUES": true,
              "FLATTEN_INDEX_VALUES": false,
              "GENERATE_DEX_METADATA": false,
              "HTML_TABLE_SCHEMA": false,
              "LOG_LEVEL": 30,
              "MAX_RENDER_SIZE_BYTES": 104857600,
              "MAX_STRING_LENGTH": 250,
              "NUM_PAST_SAMPLES_TRACKED": 3,
              "RANDOM_STATE": 12648430,
              "RESET_INDEX_VALUES": false,
              "ROW_SAMPLING_METHOD": "random",
              "SAMPLING_FACTOR": 0.1,
              "SAMPLING_METHOD": "random",
              "STRINGIFY_COLUMN_VALUES": true,
              "STRINGIFY_INDEX_VALUES": false
            },
            "sample_history": [],
            "sampling_time": "2023-09-03T02:41:57.191128",
            "user_variable_name": null,
            "variable_name": "unk_dataframe_49707af25fb6427ca8698a616c4c03a2"
          }
        }
      },
      "execution_count": null,
      "source": "# Replace 'Unknown' with NaN in 'DisbursementDate' column\ndata['DisbursementDate'].replace('Unknown', np.nan, inplace=True)\n\n# Fill missing values for date columns with median date\nfor column in date_columns:\n    median_date = pd.to_datetime(data[column].dropna()).median()\n    data[column].fillna(median_date, inplace=True)\n\n# Check if there are any missing values left\ndata.isnull().sum().sort_values(ascending=False)",
      "outputs": []
    },
    {
      "id": "7443d823-d08f-417f-ac10-de41dc8ea6e2",
      "cell_type": "markdown",
      "source": "### Feature Engineering",
      "metadata": {
        "noteable": {
          "cell_type": "markdown"
        }
      }
    },
    {
      "id": "fce21d47-6761-4ca9-a6f8-a385ee58f765",
      "cell_type": "code",
      "metadata": {
        "noteable": {
          "cell_type": "code",
          "output_collection_id": "2e0f0563-b7be-4c07-b2c6-0f9d85182316"
        },
        "ExecuteTime": {
          "end_time": "2023-09-03T02:42:29.069826+00:00",
          "start_time": "2023-09-03T02:42:27.381030+00:00"
        }
      },
      "execution_count": null,
      "source": "# Create 'Loan Duration' feature\ndata['DisbursementDate'] = pd.to_datetime(data['DisbursementDate'])\ndata['ChgOffDate'] = pd.to_datetime(data['ChgOffDate'])\ndata['Loan Duration'] = (data['ChgOffDate'] - data['DisbursementDate']).dt.days\n\n# Create 'Loan Amount' feature\ndata['Loan Amount'] = data['GrAppv'] - data['SBA_Appv']\n\n# Create 'Job Impact' feature\ndata['Job Impact'] = data['CreateJob'] - data['RetainedJob']\n\n# Display the first few rows of the dataset with the new features\ndata[['Loan Duration', 'Loan Amount', 'Job Impact']].head()",
      "outputs": []
    },
    {
      "id": "e1674b83-52a4-4666-ac1c-f665e804d0d9",
      "cell_type": "code",
      "metadata": {
        "noteable": {
          "cell_type": "code",
          "output_collection_id": "382be82f-f74d-417a-9b22-b831c5f3f5bd"
        },
        "ExecuteTime": {
          "end_time": "2023-09-03T02:42:48.673842+00:00",
          "start_time": "2023-09-03T02:42:42.985953+00:00"
        },
        "datalink": {
          "67be105a-e2da-483d-b398-c6863398dd67": {
            "applied_filters": [],
            "dataframe_info": {
              "default_index_used": false,
              "orig_num_cols": 1,
              "orig_num_rows": 2,
              "orig_size_bytes": 32,
              "truncated_num_cols": 1,
              "truncated_num_rows": 2,
              "truncated_size_bytes": 32,
              "truncated_string_columns": []
            },
            "display_id": "67be105a-e2da-483d-b398-c6863398dd67",
            "dx_settings": {
              "ALLOW_NOTEABLE_ATTRS": true,
              "COLUMN_SAMPLING_METHOD": "outer",
              "DB_LOCATION": ":memory:",
              "DEV_MODE": false,
              "DISPLAY_MAX_COLUMNS": 100,
              "DISPLAY_MAX_ROWS": 50000,
              "DISPLAY_MODE": "simple",
              "ENABLE_ASSIGNMENT": true,
              "ENABLE_DATALINK": true,
              "FLATTEN_COLUMN_VALUES": true,
              "FLATTEN_INDEX_VALUES": false,
              "GENERATE_DEX_METADATA": false,
              "HTML_TABLE_SCHEMA": false,
              "LOG_LEVEL": 30,
              "MAX_RENDER_SIZE_BYTES": 104857600,
              "MAX_STRING_LENGTH": 250,
              "NUM_PAST_SAMPLES_TRACKED": 3,
              "RANDOM_STATE": 12648430,
              "RESET_INDEX_VALUES": false,
              "ROW_SAMPLING_METHOD": "random",
              "SAMPLING_FACTOR": 0.1,
              "SAMPLING_METHOD": "random",
              "STRINGIFY_COLUMN_VALUES": true,
              "STRINGIFY_INDEX_VALUES": false
            },
            "sample_history": [],
            "sampling_time": "2023-09-03T02:42:48.516161",
            "user_variable_name": null,
            "variable_name": "unk_dataframe_3cd2c717dc7941d1b4953daba68ea413"
          }
        }
      },
      "execution_count": null,
      "source": "# Inspect the data types of 'GrAppv' and 'SBA_Appv' columns\ndata[['GrAppv', 'SBA_Appv']].dtypes",
      "outputs": []
    },
    {
      "id": "38e23394-0716-477f-b1aa-d629b7295740",
      "cell_type": "code",
      "metadata": {
        "noteable": {
          "cell_type": "code",
          "output_collection_id": "3c73fba5-cb6b-4159-acd3-9789b6423e9f"
        },
        "ExecuteTime": {
          "end_time": "2023-09-03T02:43:14.515032+00:00",
          "start_time": "2023-09-03T02:43:06.355012+00:00"
        },
        "datalink": {
          "c6c9717a-6848-4aeb-9c84-29cece2afb98": {
            "applied_filters": [],
            "dataframe_info": {
              "default_index_used": true,
              "orig_num_cols": 1,
              "orig_num_rows": 5,
              "orig_size_bytes": 80,
              "truncated_num_cols": 1,
              "truncated_num_rows": 5,
              "truncated_size_bytes": 80,
              "truncated_string_columns": []
            },
            "display_id": "c6c9717a-6848-4aeb-9c84-29cece2afb98",
            "dx_settings": {
              "ALLOW_NOTEABLE_ATTRS": true,
              "COLUMN_SAMPLING_METHOD": "outer",
              "DB_LOCATION": ":memory:",
              "DEV_MODE": false,
              "DISPLAY_MAX_COLUMNS": 100,
              "DISPLAY_MAX_ROWS": 50000,
              "DISPLAY_MODE": "simple",
              "ENABLE_ASSIGNMENT": true,
              "ENABLE_DATALINK": true,
              "FLATTEN_COLUMN_VALUES": true,
              "FLATTEN_INDEX_VALUES": false,
              "GENERATE_DEX_METADATA": false,
              "HTML_TABLE_SCHEMA": false,
              "LOG_LEVEL": 30,
              "MAX_RENDER_SIZE_BYTES": 104857600,
              "MAX_STRING_LENGTH": 250,
              "NUM_PAST_SAMPLES_TRACKED": 3,
              "RANDOM_STATE": 12648430,
              "RESET_INDEX_VALUES": false,
              "ROW_SAMPLING_METHOD": "random",
              "SAMPLING_FACTOR": 0.1,
              "SAMPLING_METHOD": "random",
              "STRINGIFY_COLUMN_VALUES": true,
              "STRINGIFY_INDEX_VALUES": false
            },
            "sample_history": [],
            "sampling_time": "2023-09-03T02:43:14.357083",
            "user_variable_name": null,
            "variable_name": "unk_dataframe_f45cf66e1c0842de89f8769fa6a5171d"
          }
        }
      },
      "execution_count": null,
      "source": "# Convert 'GrAppv' and 'SBA_Appv' columns to numeric data type\ndata['GrAppv'] = data['GrAppv'].str.replace('[^\\d.]', '', regex=True).astype(float)\ndata['SBA_Appv'] = data['SBA_Appv'].str.replace('[^\\d.]', '', regex=True).astype(float)\n\n# Create 'Loan Amount' feature\ndata['Loan Amount'] = data['GrAppv'] - data['SBA_Appv']\n\n# Display the first few rows of the dataset with the new feature\ndata[['Loan Amount']].head()",
      "outputs": []
    },
    {
      "id": "c11b88e5-d2d4-4f1a-acaf-e12705f49c52",
      "cell_type": "markdown",
      "source": "### Exploratory Data Analysis (EDA)",
      "metadata": {
        "noteable": {
          "cell_type": "markdown"
        }
      }
    },
    {
      "id": "eb7c6528-c7a1-44f3-bf19-704e42f0f3a7",
      "cell_type": "code",
      "metadata": {
        "noteable": {
          "cell_type": "code",
          "output_collection_id": "5077315c-db37-487d-8403-488694ac581c"
        },
        "ExecuteTime": {
          "end_time": "2023-09-03T02:43:39.750617+00:00",
          "start_time": "2023-09-03T02:43:39.081462+00:00"
        }
      },
      "execution_count": null,
      "source": "# Visualize the distribution of loan statuses\nplt.figure(figsize=(10, 6))\nsns.countplot(data=data, x='MIS_Status')\nplt.title('Distribution of Loan Statuses')\nplt.ylabel('Number of Loans')\nplt.xlabel('Loan Status')\nplt.show()",
      "outputs": []
    },
    {
      "id": "e7552368-e79b-4f40-9274-531046096166",
      "cell_type": "markdown",
      "source": "### Data Visualization",
      "metadata": {
        "noteable": {
          "cell_type": "markdown"
        }
      }
    },
    {
      "id": "fa17c793-5e5c-4b76-9ee0-852d1ee25976",
      "cell_type": "code",
      "metadata": {
        "noteable": {
          "cell_type": "code",
          "output_collection_id": "f53f1e37-a599-40e9-83bd-db0b509ccc09"
        },
        "ExecuteTime": {
          "end_time": "2023-09-03T02:46:03.473190+00:00",
          "start_time": "2023-09-03T02:45:59.705024+00:00"
        }
      },
      "execution_count": null,
      "source": "# Visualize the distribution of loan amounts\nplt.figure(figsize=(10, 6))\nsns.histplot(data['Loan Amount'], bins=50, kde=True)\nplt.title('Distribution of Loan Amounts')\nplt.xlabel('Loan Amount')\nplt.ylabel('Frequency')\nplt.show()",
      "outputs": []
    },
    {
      "id": "5ca5e29d-2439-4f50-b6a6-f4aa4c237305",
      "cell_type": "code",
      "metadata": {
        "noteable": {
          "cell_type": "code",
          "output_collection_id": "656ed3f3-e387-4ef7-b1eb-23983560c735"
        },
        "ExecuteTime": {
          "end_time": "2023-09-03T02:46:17.027930+00:00",
          "start_time": "2023-09-03T02:46:16.497420+00:00"
        }
      },
      "execution_count": null,
      "source": "# Visualize the distribution of loan statuses\nplt.figure(figsize=(8, 6))\nsns.countplot(data=data, x='MIS_Status')\nplt.title('Distribution of Loan Statuses')\nplt.xlabel('Loan Status')\nplt.ylabel('Count')\nplt.show()",
      "outputs": []
    },
    {
      "id": "c296bd81-185a-43a5-8515-99133a750bb8",
      "cell_type": "code",
      "metadata": {
        "noteable": {
          "cell_type": "code",
          "output_collection_id": "cd1728a2-ce2b-413f-9869-4b4640c35ff5"
        },
        "ExecuteTime": {
          "end_time": "2023-09-03T02:46:33.638164+00:00",
          "start_time": "2023-09-03T02:46:32.890273+00:00"
        }
      },
      "execution_count": null,
      "source": "# Visualize the net impact of loans on job creation\nplt.figure(figsize=(10, 6))\nsns.histplot(data['Job Impact'], bins=50, kde=True)\nplt.title('Net Impact of Loans on Job Creation')\nplt.xlabel('Job Impact (Created - Retained)')\nplt.ylabel('Frequency')\nplt.show()",
      "outputs": []
    },
    {
      "id": "c8bce72d-4f0d-4393-adc3-49688f7191c4",
      "cell_type": "code",
      "metadata": {
        "noteable": {
          "cell_type": "code",
          "output_collection_id": "9a21d50d-8926-4069-8e9f-0569a5ab9f30"
        },
        "ExecuteTime": {
          "end_time": "2023-09-03T02:46:46.169732+00:00",
          "start_time": "2023-09-03T02:46:45.921991+00:00"
        }
      },
      "execution_count": null,
      "source": "# Inspect the first few rows of the 'Job Impact' feature\ndata[['Job Impact']].head()",
      "outputs": []
    },
    {
      "id": "86bab362-e8ec-4ac4-b008-e069f057f906",
      "cell_type": "code",
      "metadata": {
        "noteable": {
          "cell_type": "code",
          "output_collection_id": "4232a4c6-845e-4b67-8294-1176c27a8ace"
        },
        "ExecuteTime": {
          "end_time": "2023-09-03T02:47:06.469035+00:00",
          "start_time": "2023-09-03T02:47:02.449248+00:00"
        }
      },
      "execution_count": null,
      "source": "# Recreate 'Job Impact' feature\ndata['Job Impact'] = data['CreateJob'] - data['RetainedJob']\n\n# Visualize the net impact of loans on job creation\nplt.figure(figsize=(10, 6))\nsns.histplot(data['Job Impact'], bins=50, kde=True)\nplt.title('Net Impact of Loans on Job Creation')\nplt.xlabel('Job Impact (Created - Retained)')\nplt.ylabel('Frequency')\nplt.show()",
      "outputs": []
    },
    {
      "id": "bfd66ece-345e-42a4-9995-e8518658690d",
      "cell_type": "code",
      "metadata": {
        "noteable": {
          "cell_type": "code",
          "output_collection_id": "1c02e9a8-a319-437a-91ec-47f87e3de404"
        },
        "ExecuteTime": {
          "end_time": "2023-09-03T02:47:26.818582+00:00",
          "start_time": "2023-09-03T02:47:22.846556+00:00"
        }
      },
      "execution_count": null,
      "source": "# Visualize the loan duration\nplt.figure(figsize=(10, 6))\nsns.histplot(data['Loan Duration'], bins=50, kde=True)\nplt.title('Distribution of Loan Duration')\nplt.xlabel('Loan Duration (Days)')\nplt.ylabel('Frequency')\nplt.show()",
      "outputs": []
    },
    {
      "id": "209697ce-a1f1-4df7-af9e-4b544335d190",
      "cell_type": "markdown",
      "source": "### Model Building",
      "metadata": {
        "noteable": {
          "cell_type": "markdown"
        }
      }
    },
    {
      "id": "0f401ec6-ae74-4312-a2d5-34e83f754fcc",
      "cell_type": "code",
      "metadata": {
        "noteable": {
          "cell_type": "code",
          "output_collection_id": "8e230009-900b-49b9-a1dd-ed9845077c53"
        },
        "ExecuteTime": {
          "end_time": "2023-09-03T02:48:18.679569+00:00",
          "start_time": "2023-09-03T02:48:12.841800+00:00"
        }
      },
      "execution_count": null,
      "source": "from sklearn.preprocessing import LabelEncoder\nfrom sklearn.model_selection import train_test_split\nfrom sklearn.metrics import accuracy_score, classification_report\n\n# Encode categorical variables\nlabel_encoders = {}\ncategorical_columns = ['City', 'Name', 'State', 'Zip', 'Bank', 'BankState', 'NAICS', 'ApprovalFY', 'NewExist', 'FranchiseCode', 'UrbanRural', 'RevLineCr', 'LowDoc', 'MIS_Status']\nfor column in categorical_columns:\n    le = LabelEncoder()\n    data[column] = le.fit_transform(data[column].astype(str))\n    label_encoders[column] = le\n\n# Drop columns that are not needed for modeling\ndata_model = data.drop(columns=['LoanNr_ChkDgt', 'ApprovalDate', 'ChgOffDate', 'DisbursementDate'])\n\n# Split data into training and testing sets\nX = data_model.drop('MIS_Status', axis=1)\ny = data_model['MIS_Status']\nX_train, X_test, y_train, y_test = train_test_split(X, y, test_size=0.2, random_state=42)\n\nX_train.shape, X_test.shape",
      "outputs": []
    },
    {
      "id": "2f9c31b9-1ec0-407f-b1ef-b02d4ed12535",
      "cell_type": "code",
      "metadata": {
        "noteable": {
          "cell_type": "code",
          "output_collection_id": "1f89e65b-5f27-4d41-8f2b-62dae0f56747"
        },
        "ExecuteTime": {
          "end_time": "2023-09-03T02:48:40.852382+00:00",
          "start_time": "2023-09-03T02:48:39.932411+00:00"
        }
      },
      "execution_count": null,
      "source": "from sklearn.linear_model import LogisticRegression\n\n# Initialize and train a Logistic Regression model\nlogreg = LogisticRegression(max_iter=1000, random_state=42)\nlogreg.fit(X_train, y_train)\n\n# Predict on the test set\ny_pred_logreg = logreg.predict(X_test)\n\n# Evaluate the model's performance\naccuracy_logreg = accuracy_score(y_test, y_pred_logreg)\nclassification_report_logreg = classification_report(y_test, y_pred_logreg)\n\naccuracy_logreg, classification_report_logreg",
      "outputs": []
    },
    {
      "id": "2473deb1-ceaf-4d46-878c-4c6eb090a48a",
      "cell_type": "code",
      "metadata": {
        "noteable": {
          "cell_type": "code",
          "output_collection_id": "1ce3c916-0484-4054-aa9b-c38832988400"
        },
        "ExecuteTime": {
          "end_time": "2023-09-03T02:51:49.132169+00:00",
          "start_time": "2023-09-03T02:51:48.241320+00:00"
        }
      },
      "execution_count": null,
      "source": "from sklearn.linear_model import LogisticRegression\n\n# Initialize and train a Logistic Regression model\nlogreg = LogisticRegression(max_iter=1000, random_state=42)\nlogreg.fit(X_train, y_train)\n\n# Predict on the test set\ny_pred = logreg.predict(X_test)\n\n# Evaluate the model's performance\naccuracy = accuracy_score(y_test, y_pred)\nclassification_rep = classification_report(y_test, y_pred)\n\naccuracy, classification_rep",
      "outputs": []
    },
    {
      "id": "e0762928-af5a-4900-a065-4e364457942f",
      "cell_type": "code",
      "metadata": {
        "noteable": {
          "cell_type": "code",
          "output_collection_id": "5fb6b21c-13f7-4cfa-aaec-73be656afc5d"
        },
        "ExecuteTime": {
          "end_time": "2023-09-03T02:52:01.860226+00:00",
          "start_time": "2023-09-03T02:52:01.684526+00:00"
        }
      },
      "execution_count": null,
      "source": "# Identify columns with string data type\nstring_columns = X_train.select_dtypes(include=['object']).columns\nstring_columns",
      "outputs": []
    },
    {
      "id": "3fc1bdb9-655a-434e-825e-61b10cb1b905",
      "cell_type": "code",
      "metadata": {
        "noteable": {
          "cell_type": "code",
          "output_collection_id": "2e398dca-63fe-4b08-b097-da098175c8ad"
        },
        "ExecuteTime": {
          "end_time": "2023-09-03T02:55:44.832770+00:00",
          "start_time": "2023-09-03T02:52:18.803468+00:00"
        }
      },
      "execution_count": null,
      "source": "# Convert the identified columns to numeric data type\nfor column in string_columns:\n    X_train[column] = X_train[column].str.replace('[^\\d.]', '', regex=True).astype(float)\n    X_test[column] = X_test[column].str.replace('[^\\d.]', '', regex=True).astype(float)\n\n# Train the Logistic Regression model again\nlogreg.fit(X_train, y_train)\n\n# Predict on the test set\ny_pred = logreg.predict(X_test)\n\n# Evaluate the model's performance\naccuracy = accuracy_score(y_test, y_pred)\nclassification_rep = classification_report(y_test, y_pred)\n\naccuracy, classification_rep",
      "outputs": []
    },
    {
      "id": "cc5eb270-d864-45a7-a35c-4bdcafe5c181",
      "cell_type": "code",
      "metadata": {
        "noteable": {
          "cell_type": "code",
          "output_collection_id": "6692efc4-2d22-4d00-871a-5d6507b103aa"
        },
        "ExecuteTime": {
          "end_time": "2023-09-03T02:57:50.947939+00:00",
          "start_time": "2023-09-03T02:55:45.107445+00:00"
        }
      },
      "execution_count": null,
      "source": "from sklearn.ensemble import RandomForestClassifier\n\n# Initialize and train a Random Forest model\nrf = RandomForestClassifier(n_estimators=100, random_state=42)\nrf.fit(X_train, y_train)\n\n# Predict on the test set\ny_pred_rf = rf.predict(X_test)\n\n# Evaluate the model's performance\naccuracy_rf = accuracy_score(y_test, y_pred_rf)\nclassification_rep_rf = classification_report(y_test, y_pred_rf)\n\naccuracy_rf, classification_rep_rf",
      "outputs": []
    },
    {
      "id": "9158b411-e9a5-4ab4-a7f6-371e82a921bd",
      "cell_type": "code",
      "metadata": {
        "noteable": {
          "cell_type": "code",
          "output_collection_id": "c0f91f70-e6fe-4272-a69a-242beb15608e"
        },
        "ExecuteTime": {
          "end_time": "2023-09-03T02:57:51.125136+00:00",
          "start_time": "2023-09-03T02:57:50.953230+00:00"
        }
      },
      "execution_count": null,
      "source": "import shap\n\n# Initialize the SHAP explainer\nexplainer = shap.TreeExplainer(rf)\n\n# Compute SHAP values for a sample of the test set\nshap_values = explainer.shap_values(X_test.sample(1000, random_state=42))\n\n# Visualize the SHAP values for the Random Forest model\nshap.summary_plot(shap_values[1], X_test.sample(1000, random_state=42))",
      "outputs": []
    },
    {
      "id": "f1c87ec6-b911-49eb-9b50-92cf2fa4e2b4",
      "cell_type": "code",
      "metadata": {
        "noteable": {
          "cell_type": "code",
          "output_collection_id": "e98d6e98-d245-4643-ad73-4a617c9323ec"
        },
        "ExecuteTime": {
          "end_time": "2023-09-03T02:58:32.687819+00:00",
          "start_time": "2023-09-03T02:58:29.783480+00:00"
        }
      },
      "execution_count": null,
      "source": "!pip install -q shap",
      "outputs": []
    },
    {
      "id": "537d6199-bdb8-44b7-8a89-70080471c134",
      "cell_type": "code",
      "metadata": {
        "noteable": {
          "cell_type": "code",
          "output_collection_id": "6beb1e19-cb38-4b66-ae13-146a911cc649"
        },
        "ExecuteTime": {
          "end_time": "2023-09-03T03:53:52.933737+00:00",
          "start_time": "2023-09-03T03:47:49.041364+00:00"
        }
      },
      "execution_count": null,
      "source": "import shap\n\n# Initialize the SHAP explainer\nexplainer = shap.TreeExplainer(rf)\n\n# Compute SHAP values for a sample of the test set\nshap_values = explainer.shap_values(X_test.sample(1000, random_state=42))\n\n# Visualize the SHAP values for the Random Forest model\nshap.summary_plot(shap_values, X_test.sample(1000, random_state=42), plot_type=\"bar\")",
      "outputs": []
    }
  ]
}