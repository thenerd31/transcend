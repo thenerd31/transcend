{
  "nbformat": 4,
  "nbformat_minor": 5,
  "metadata": {
    "kernel_info": {
      "name": "python3"
    },
    "noteable": {
      "last_transaction_id": "45786955-9b31-4832-853c-deffdf92cac8"
    },
    "kernelspec": {
      "display_name": "Python 3.9",
      "language": "python",
      "name": "python3"
    },
    "selected_hardware_size": "large"
  },
  "cells": [
    {
      "id": "b0093742-bfee-4d72-891f-ae4d8150e817",
      "cell_type": "code",
      "metadata": {
        "noteable": {
          "cell_type": "code",
          "output_collection_id": "a542b4d7-d814-426b-a85d-a4e192823b0d"
        },
        "ExecuteTime": {
          "end_time": "2023-09-02T02:43:49.761447+00:00",
          "start_time": "2023-09-02T02:43:46.927762+00:00"
        }
      },
      "execution_count": null,
      "source": "import pandas as pd\n\n# Load the data files\nfile0 = pd.read_csv('file0.csv')\nfile1 = pd.read_csv('file1.csv')\nfile2 = pd.read_csv('file2.csv')\n\n# Concatenate the data files to form a single dataset\ndata = pd.concat([file0, file1, file2], ignore_index=True)\n\n# Display the shape of the concatenated dataset\ndata.shape",
      "outputs": []
    },
    {
      "id": "cee9b2ea-c2d3-4bc9-ac1c-1efe930a265d",
      "cell_type": "markdown",
      "source": "## Data Preprocessing",
      "metadata": {
        "noteable": {
          "cell_type": "markdown"
        }
      }
    },
    {
      "id": "a868bfab-7ebb-4f0f-a096-b55aa8136e92",
      "cell_type": "code",
      "metadata": {
        "noteable": {
          "cell_type": "code",
          "output_collection_id": "fd83dbf1-5191-48ce-a834-706d10181c94"
        },
        "ExecuteTime": {
          "end_time": "2023-09-02T02:43:57.668770+00:00",
          "start_time": "2023-09-02T02:43:49.766386+00:00"
        },
        "datalink": {
          "07b232b1-3096-4d75-973e-41239ea55859": {
            "applied_filters": [],
            "dataframe_info": {
              "default_index_used": false,
              "orig_num_cols": 2,
              "orig_num_rows": 27,
              "orig_size_bytes": 648,
              "truncated_num_cols": 2,
              "truncated_num_rows": 27,
              "truncated_size_bytes": 648,
              "truncated_string_columns": []
            },
            "display_id": "07b232b1-3096-4d75-973e-41239ea55859",
            "dx_settings": {
              "ALLOW_NOTEABLE_ATTRS": true,
              "COLUMN_SAMPLING_METHOD": "outer",
              "DB_LOCATION": ":memory:",
              "DEV_MODE": false,
              "DISPLAY_MAX_COLUMNS": 100,
              "DISPLAY_MAX_ROWS": 50000,
              "DISPLAY_MODE": "simple",
              "ENABLE_ASSIGNMENT": true,
              "ENABLE_DATALINK": true,
              "FLATTEN_COLUMN_VALUES": true,
              "FLATTEN_INDEX_VALUES": false,
              "GENERATE_DEX_METADATA": false,
              "HTML_TABLE_SCHEMA": false,
              "LOG_LEVEL": 30,
              "MAX_RENDER_SIZE_BYTES": 104857600,
              "MAX_STRING_LENGTH": 250,
              "NUM_PAST_SAMPLES_TRACKED": 3,
              "RANDOM_STATE": 12648430,
              "RESET_INDEX_VALUES": false,
              "ROW_SAMPLING_METHOD": "random",
              "SAMPLING_FACTOR": 0.1,
              "SAMPLING_METHOD": "random",
              "STRINGIFY_COLUMN_VALUES": true,
              "STRINGIFY_INDEX_VALUES": false
            },
            "sample_history": [],
            "sampling_time": "2023-09-02T02:25:15.349321",
            "user_variable_name": null,
            "variable_name": "unk_dataframe_04bfa455ba9d42249cb7446690664c54"
          },
          "171174d7-ed9c-4046-8a93-c4314a0ac27f": {
            "applied_filters": [],
            "dataframe_info": {
              "default_index_used": false,
              "orig_num_cols": 2,
              "orig_num_rows": 27,
              "orig_size_bytes": 648,
              "truncated_num_cols": 2,
              "truncated_num_rows": 27,
              "truncated_size_bytes": 648,
              "truncated_string_columns": []
            },
            "display_id": "171174d7-ed9c-4046-8a93-c4314a0ac27f",
            "dx_settings": {
              "ALLOW_NOTEABLE_ATTRS": true,
              "COLUMN_SAMPLING_METHOD": "outer",
              "DB_LOCATION": ":memory:",
              "DEV_MODE": false,
              "DISPLAY_MAX_COLUMNS": 100,
              "DISPLAY_MAX_ROWS": 50000,
              "DISPLAY_MODE": "simple",
              "ENABLE_ASSIGNMENT": true,
              "ENABLE_DATALINK": true,
              "FLATTEN_COLUMN_VALUES": true,
              "FLATTEN_INDEX_VALUES": false,
              "GENERATE_DEX_METADATA": false,
              "HTML_TABLE_SCHEMA": false,
              "LOG_LEVEL": 30,
              "MAX_RENDER_SIZE_BYTES": 104857600,
              "MAX_STRING_LENGTH": 250,
              "NUM_PAST_SAMPLES_TRACKED": 3,
              "RANDOM_STATE": 12648430,
              "RESET_INDEX_VALUES": false,
              "ROW_SAMPLING_METHOD": "random",
              "SAMPLING_FACTOR": 0.1,
              "SAMPLING_METHOD": "random",
              "STRINGIFY_COLUMN_VALUES": true,
              "STRINGIFY_INDEX_VALUES": false
            },
            "sample_history": [],
            "sampling_time": "2023-09-02T02:43:57.507811",
            "user_variable_name": null,
            "variable_name": "unk_dataframe_abc181250132446f9cf7fb007996f4d9"
          }
        }
      },
      "execution_count": null,
      "source": "# Check for missing values in the dataset\nmissing_values = data.isnull().sum()\nmissing_percentage = (data.isnull().sum() / len(data)) * 100\nmissing_data = pd.DataFrame({'Missing Values': missing_values, 'Percentage': missing_percentage})\nmissing_data.sort_values(by='Percentage', ascending=False)",
      "outputs": []
    },
    {
      "id": "42facd39-2316-46a2-9567-80ea53744984",
      "cell_type": "code",
      "metadata": {
        "noteable": {
          "cell_type": "code",
          "output_collection_id": "57f424de-e4be-41c4-8dc4-f0f4ee31a8f2"
        },
        "ExecuteTime": {
          "end_time": "2023-09-02T02:44:05.619226+00:00",
          "start_time": "2023-09-02T02:43:57.675918+00:00"
        },
        "datalink": {
          "2cde1e86-20ed-47ac-baf0-c707740a0e57": {
            "applied_filters": [],
            "dataframe_info": {
              "default_index_used": false,
              "orig_num_cols": 2,
              "orig_num_rows": 11,
              "orig_size_bytes": 264,
              "truncated_num_cols": 2,
              "truncated_num_rows": 11,
              "truncated_size_bytes": 264,
              "truncated_string_columns": []
            },
            "display_id": "2cde1e86-20ed-47ac-baf0-c707740a0e57",
            "dx_settings": {
              "ALLOW_NOTEABLE_ATTRS": true,
              "COLUMN_SAMPLING_METHOD": "outer",
              "DB_LOCATION": ":memory:",
              "DEV_MODE": false,
              "DISPLAY_MAX_COLUMNS": 100,
              "DISPLAY_MAX_ROWS": 50000,
              "DISPLAY_MODE": "simple",
              "ENABLE_ASSIGNMENT": true,
              "ENABLE_DATALINK": true,
              "FLATTEN_COLUMN_VALUES": true,
              "FLATTEN_INDEX_VALUES": false,
              "GENERATE_DEX_METADATA": false,
              "HTML_TABLE_SCHEMA": false,
              "LOG_LEVEL": 30,
              "MAX_RENDER_SIZE_BYTES": 104857600,
              "MAX_STRING_LENGTH": 250,
              "NUM_PAST_SAMPLES_TRACKED": 3,
              "RANDOM_STATE": 12648430,
              "RESET_INDEX_VALUES": false,
              "ROW_SAMPLING_METHOD": "random",
              "SAMPLING_FACTOR": 0.1,
              "SAMPLING_METHOD": "random",
              "STRINGIFY_COLUMN_VALUES": true,
              "STRINGIFY_INDEX_VALUES": false
            },
            "sample_history": [],
            "sampling_time": "2023-09-02T02:25:23.339208",
            "user_variable_name": null,
            "variable_name": "unk_dataframe_74b25b69b71248f9921cd17486d69b45"
          },
          "890b2948-1b65-4db0-8b0a-b603b909a9ba": {
            "applied_filters": [],
            "dataframe_info": {
              "default_index_used": false,
              "orig_num_cols": 2,
              "orig_num_rows": 11,
              "orig_size_bytes": 264,
              "truncated_num_cols": 2,
              "truncated_num_rows": 11,
              "truncated_size_bytes": 264,
              "truncated_string_columns": []
            },
            "display_id": "890b2948-1b65-4db0-8b0a-b603b909a9ba",
            "dx_settings": {
              "ALLOW_NOTEABLE_ATTRS": true,
              "COLUMN_SAMPLING_METHOD": "outer",
              "DB_LOCATION": ":memory:",
              "DEV_MODE": false,
              "DISPLAY_MAX_COLUMNS": 100,
              "DISPLAY_MAX_ROWS": 50000,
              "DISPLAY_MODE": "simple",
              "ENABLE_ASSIGNMENT": true,
              "ENABLE_DATALINK": true,
              "FLATTEN_COLUMN_VALUES": true,
              "FLATTEN_INDEX_VALUES": false,
              "GENERATE_DEX_METADATA": false,
              "HTML_TABLE_SCHEMA": false,
              "LOG_LEVEL": 30,
              "MAX_RENDER_SIZE_BYTES": 104857600,
              "MAX_STRING_LENGTH": 250,
              "NUM_PAST_SAMPLES_TRACKED": 3,
              "RANDOM_STATE": 12648430,
              "RESET_INDEX_VALUES": false,
              "ROW_SAMPLING_METHOD": "random",
              "SAMPLING_FACTOR": 0.1,
              "SAMPLING_METHOD": "random",
              "STRINGIFY_COLUMN_VALUES": true,
              "STRINGIFY_INDEX_VALUES": false
            },
            "sample_history": [],
            "sampling_time": "2023-09-02T02:44:05.461339",
            "user_variable_name": null,
            "variable_name": "unk_dataframe_1e3902ec226b4076a5c0fb0ce06f7243"
          }
        }
      },
      "execution_count": null,
      "source": "# Check for missing values in the dataset\nmissing_values = data.isnull().sum()\nmissing_percentage = (data.isnull().sum() / len(data)) * 100\n\n# Display columns with missing values and their percentage\nmissing_data = pd.DataFrame({'Missing Values': missing_values, 'Percentage (%)': missing_percentage})\nmissing_data[missing_data['Missing Values'] > 0].sort_values(by='Percentage (%)', ascending=False)",
      "outputs": []
    },
    {
      "id": "bc56240f-794f-4bf6-8209-0250c0ec4fd9",
      "cell_type": "code",
      "metadata": {
        "noteable": {
          "cell_type": "code",
          "output_collection_id": "d150d79e-6084-4ce2-a114-f815ff09c2f2"
        },
        "ExecuteTime": {
          "end_time": "2023-09-02T02:44:07.213605+00:00",
          "start_time": "2023-09-02T02:44:05.624587+00:00"
        }
      },
      "execution_count": null,
      "source": "# Handle missing values\ndata['ChgOffDate'].fillna('Not Written Off', inplace=True)\nmost_frequent_state = data['State'].mode()[0]\ndata['State'].fillna(most_frequent_state, inplace=True)\n\n# Verify if all missing values have been handled\ndata.isnull().sum().sum()",
      "outputs": []
    },
    {
      "id": "ad223fb8-c99e-4096-aafa-1bedae53dea8",
      "cell_type": "code",
      "metadata": {
        "noteable": {
          "cell_type": "code",
          "output_collection_id": "d064db16-15f3-4043-9abb-7f621f2ffdc1"
        },
        "ExecuteTime": {
          "end_time": "2023-09-02T02:44:13.957977+00:00",
          "start_time": "2023-09-02T02:44:07.220617+00:00"
        },
        "datalink": {
          "bfc5abfd-9034-4b74-9f4c-9a7ed02670b2": {
            "applied_filters": [],
            "dataframe_info": {
              "default_index_used": false,
              "orig_num_cols": 1,
              "orig_num_rows": 9,
              "orig_size_bytes": 144,
              "truncated_num_cols": 1,
              "truncated_num_rows": 9,
              "truncated_size_bytes": 144,
              "truncated_string_columns": []
            },
            "display_id": "bfc5abfd-9034-4b74-9f4c-9a7ed02670b2",
            "dx_settings": {
              "ALLOW_NOTEABLE_ATTRS": true,
              "COLUMN_SAMPLING_METHOD": "outer",
              "DB_LOCATION": ":memory:",
              "DEV_MODE": false,
              "DISPLAY_MAX_COLUMNS": 100,
              "DISPLAY_MAX_ROWS": 50000,
              "DISPLAY_MODE": "simple",
              "ENABLE_ASSIGNMENT": true,
              "ENABLE_DATALINK": true,
              "FLATTEN_COLUMN_VALUES": true,
              "FLATTEN_INDEX_VALUES": false,
              "GENERATE_DEX_METADATA": false,
              "HTML_TABLE_SCHEMA": false,
              "LOG_LEVEL": 30,
              "MAX_RENDER_SIZE_BYTES": 104857600,
              "MAX_STRING_LENGTH": 250,
              "NUM_PAST_SAMPLES_TRACKED": 3,
              "RANDOM_STATE": 12648430,
              "RESET_INDEX_VALUES": false,
              "ROW_SAMPLING_METHOD": "random",
              "SAMPLING_FACTOR": 0.1,
              "SAMPLING_METHOD": "random",
              "STRINGIFY_COLUMN_VALUES": true,
              "STRINGIFY_INDEX_VALUES": false
            },
            "sample_history": [],
            "sampling_time": "2023-09-02T02:25:52.806868",
            "user_variable_name": "missing_data_updated",
            "variable_name": "missing_data_updated"
          },
          "32222597-5b58-41bb-b0d8-6eb4fc3c2958": {
            "applied_filters": [],
            "dataframe_info": {
              "default_index_used": false,
              "orig_num_cols": 1,
              "orig_num_rows": 9,
              "orig_size_bytes": 144,
              "truncated_num_cols": 1,
              "truncated_num_rows": 9,
              "truncated_size_bytes": 144,
              "truncated_string_columns": []
            },
            "display_id": "32222597-5b58-41bb-b0d8-6eb4fc3c2958",
            "dx_settings": {
              "ALLOW_NOTEABLE_ATTRS": true,
              "COLUMN_SAMPLING_METHOD": "outer",
              "DB_LOCATION": ":memory:",
              "DEV_MODE": false,
              "DISPLAY_MAX_COLUMNS": 100,
              "DISPLAY_MAX_ROWS": 50000,
              "DISPLAY_MODE": "simple",
              "ENABLE_ASSIGNMENT": true,
              "ENABLE_DATALINK": true,
              "FLATTEN_COLUMN_VALUES": true,
              "FLATTEN_INDEX_VALUES": false,
              "GENERATE_DEX_METADATA": false,
              "HTML_TABLE_SCHEMA": false,
              "LOG_LEVEL": 30,
              "MAX_RENDER_SIZE_BYTES": 104857600,
              "MAX_STRING_LENGTH": 250,
              "NUM_PAST_SAMPLES_TRACKED": 3,
              "RANDOM_STATE": 12648430,
              "RESET_INDEX_VALUES": false,
              "ROW_SAMPLING_METHOD": "random",
              "SAMPLING_FACTOR": 0.1,
              "SAMPLING_METHOD": "random",
              "STRINGIFY_COLUMN_VALUES": true,
              "STRINGIFY_INDEX_VALUES": false
            },
            "sample_history": [],
            "sampling_time": "2023-09-02T02:44:13.799929",
            "user_variable_name": "missing_data_updated",
            "variable_name": "missing_data_updated"
          }
        }
      },
      "execution_count": null,
      "source": "# Check for columns with missing values again\nmissing_values_updated = data.isnull().sum()\nmissing_data_updated = missing_values_updated[missing_values_updated > 0]\nmissing_data_updated",
      "outputs": []
    },
    {
      "id": "e65bfaaf-4d93-4db1-83f6-24fd0012c987",
      "cell_type": "code",
      "metadata": {
        "noteable": {
          "cell_type": "code",
          "output_collection_id": "894d8651-047f-4fb6-9614-7cc1554bd158"
        },
        "ExecuteTime": {
          "end_time": "2023-09-02T02:44:34.280638+00:00",
          "start_time": "2023-09-02T02:44:32.209870+00:00"
        }
      },
      "execution_count": null,
      "source": "# Handle missing values\n\n# Fill 'ChgOffDate' with a placeholder\ndata['ChgOffDate'].fillna('Not Written Off', inplace=True)\n\n# Fill categorical columns with mode\ndata['RevLineCr'].fillna(data['RevLineCr'].mode()[0], inplace=True)\ndata['MIS_Status'].fillna(data['MIS_Status'].mode()[0], inplace=True)\n\n# Fill 'Name' with 'Unknown'\ndata['Name'].fillna('Unknown', inplace=True)\n\n# Convert 'DisbursementDate' to datetime format\ndata['DisbursementDate'] = pd.to_datetime(data['DisbursementDate'], errors='coerce')\n\n# Fill 'DisbursementDate' with median date\nmedian_date = data['DisbursementDate'].median()\ndata['DisbursementDate'].fillna(pd.Timestamp(median_date), inplace=True)\n\n# Check if there are any missing values left\ndata.isnull().sum().sum()",
      "outputs": []
    },
    {
      "id": "e7a4610f-e547-40a9-af33-7e3cdc8b4fc1",
      "cell_type": "code",
      "metadata": {
        "noteable": {
          "cell_type": "code",
          "output_collection_id": "8a5fd2d1-0a79-41bd-aa68-006ce9f41403"
        },
        "ExecuteTime": {
          "end_time": "2023-09-02T02:44:36.479745+00:00",
          "start_time": "2023-09-02T02:44:34.287649+00:00"
        }
      },
      "execution_count": null,
      "source": "# Handle missing values for the identified columns\ndata['BankState'].fillna(data['BankState'].mode()[0], inplace=True)\ndata['MIS_Status'].fillna(data['MIS_Status'].mode()[0], inplace=True)\ndata['City'].fillna(data['City'].mode()[0], inplace=True)\ndata['Name'].fillna(data['Name'].mode()[0], inplace=True)\ndata['DisbursementDate'].fillna('Unknown', inplace=True)\n\n# Verify if all missing values have been handled\ndata.isnull().sum().sum()",
      "outputs": []
    },
    {
      "id": "3cdd8634-648f-47b4-8412-d6a693fda5d8",
      "cell_type": "code",
      "metadata": {
        "noteable": {
          "cell_type": "code",
          "output_collection_id": "0ea93fae-f5d4-4627-924f-c8b452eef3a4"
        },
        "ExecuteTime": {
          "end_time": "2023-09-02T02:44:43.423424+00:00",
          "start_time": "2023-09-02T02:44:36.485733+00:00"
        },
        "datalink": {
          "a0d9b14d-19b0-44ef-9911-fa87b084da96": {
            "applied_filters": [],
            "dataframe_info": {
              "default_index_used": false,
              "orig_num_cols": 1,
              "orig_num_rows": 3,
              "orig_size_bytes": 48,
              "truncated_num_cols": 1,
              "truncated_num_rows": 3,
              "truncated_size_bytes": 48,
              "truncated_string_columns": []
            },
            "display_id": "a0d9b14d-19b0-44ef-9911-fa87b084da96",
            "dx_settings": {
              "ALLOW_NOTEABLE_ATTRS": true,
              "COLUMN_SAMPLING_METHOD": "outer",
              "DB_LOCATION": ":memory:",
              "DEV_MODE": false,
              "DISPLAY_MAX_COLUMNS": 100,
              "DISPLAY_MAX_ROWS": 50000,
              "DISPLAY_MODE": "simple",
              "ENABLE_ASSIGNMENT": true,
              "ENABLE_DATALINK": true,
              "FLATTEN_COLUMN_VALUES": true,
              "FLATTEN_INDEX_VALUES": false,
              "GENERATE_DEX_METADATA": false,
              "HTML_TABLE_SCHEMA": false,
              "LOG_LEVEL": 30,
              "MAX_RENDER_SIZE_BYTES": 104857600,
              "MAX_STRING_LENGTH": 250,
              "NUM_PAST_SAMPLES_TRACKED": 3,
              "RANDOM_STATE": 12648430,
              "RESET_INDEX_VALUES": false,
              "ROW_SAMPLING_METHOD": "random",
              "SAMPLING_FACTOR": 0.1,
              "SAMPLING_METHOD": "random",
              "STRINGIFY_COLUMN_VALUES": true,
              "STRINGIFY_INDEX_VALUES": false
            },
            "sample_history": [],
            "sampling_time": "2023-09-02T02:26:30.909971",
            "user_variable_name": "remaining_missing_data",
            "variable_name": "remaining_missing_data"
          },
          "5ca08472-0c0d-4b89-b659-3adeaf7627b0": {
            "applied_filters": [],
            "dataframe_info": {
              "default_index_used": false,
              "orig_num_cols": 1,
              "orig_num_rows": 3,
              "orig_size_bytes": 48,
              "truncated_num_cols": 1,
              "truncated_num_rows": 3,
              "truncated_size_bytes": 48,
              "truncated_string_columns": []
            },
            "display_id": "5ca08472-0c0d-4b89-b659-3adeaf7627b0",
            "dx_settings": {
              "ALLOW_NOTEABLE_ATTRS": true,
              "COLUMN_SAMPLING_METHOD": "outer",
              "DB_LOCATION": ":memory:",
              "DEV_MODE": false,
              "DISPLAY_MAX_COLUMNS": 100,
              "DISPLAY_MAX_ROWS": 50000,
              "DISPLAY_MODE": "simple",
              "ENABLE_ASSIGNMENT": true,
              "ENABLE_DATALINK": true,
              "FLATTEN_COLUMN_VALUES": true,
              "FLATTEN_INDEX_VALUES": false,
              "GENERATE_DEX_METADATA": false,
              "HTML_TABLE_SCHEMA": false,
              "LOG_LEVEL": 30,
              "MAX_RENDER_SIZE_BYTES": 104857600,
              "MAX_STRING_LENGTH": 250,
              "NUM_PAST_SAMPLES_TRACKED": 3,
              "RANDOM_STATE": 12648430,
              "RESET_INDEX_VALUES": false,
              "ROW_SAMPLING_METHOD": "random",
              "SAMPLING_FACTOR": 0.1,
              "SAMPLING_METHOD": "random",
              "STRINGIFY_COLUMN_VALUES": true,
              "STRINGIFY_INDEX_VALUES": false
            },
            "sample_history": [],
            "sampling_time": "2023-09-02T02:44:43.261486",
            "user_variable_name": "remaining_missing_data",
            "variable_name": "remaining_missing_data"
          }
        }
      },
      "execution_count": null,
      "source": "# Check for columns with missing values again\nremaining_missing_values = data.isnull().sum()\nremaining_missing_data = remaining_missing_values[remaining_missing_values > 0]\nremaining_missing_data",
      "outputs": []
    },
    {
      "id": "536a3442-d71e-4a9b-a904-76988c06dbe2",
      "cell_type": "code",
      "metadata": {
        "noteable": {
          "cell_type": "code",
          "output_collection_id": "3114fe72-6120-4725-a498-a4144edf0eab"
        },
        "ExecuteTime": {
          "end_time": "2023-09-02T02:44:50.405339+00:00",
          "start_time": "2023-09-02T02:44:43.432223+00:00"
        },
        "datalink": {
          "49613bd9-a97e-4460-9c6e-323f590a9c0e": {
            "applied_filters": [],
            "dataframe_info": {
              "default_index_used": false,
              "orig_num_cols": 1,
              "orig_num_rows": 3,
              "orig_size_bytes": 48,
              "truncated_num_cols": 1,
              "truncated_num_rows": 3,
              "truncated_size_bytes": 48,
              "truncated_string_columns": []
            },
            "display_id": "49613bd9-a97e-4460-9c6e-323f590a9c0e",
            "dx_settings": {
              "ALLOW_NOTEABLE_ATTRS": true,
              "COLUMN_SAMPLING_METHOD": "outer",
              "DB_LOCATION": ":memory:",
              "DEV_MODE": false,
              "DISPLAY_MAX_COLUMNS": 100,
              "DISPLAY_MAX_ROWS": 50000,
              "DISPLAY_MODE": "simple",
              "ENABLE_ASSIGNMENT": true,
              "ENABLE_DATALINK": true,
              "FLATTEN_COLUMN_VALUES": true,
              "FLATTEN_INDEX_VALUES": false,
              "GENERATE_DEX_METADATA": false,
              "HTML_TABLE_SCHEMA": false,
              "LOG_LEVEL": 30,
              "MAX_RENDER_SIZE_BYTES": 104857600,
              "MAX_STRING_LENGTH": 250,
              "NUM_PAST_SAMPLES_TRACKED": 3,
              "RANDOM_STATE": 12648430,
              "RESET_INDEX_VALUES": false,
              "ROW_SAMPLING_METHOD": "random",
              "SAMPLING_FACTOR": 0.1,
              "SAMPLING_METHOD": "random",
              "STRINGIFY_COLUMN_VALUES": true,
              "STRINGIFY_INDEX_VALUES": false
            },
            "sample_history": [],
            "sampling_time": "2023-09-02T02:26:51.799166",
            "user_variable_name": "remaining_missing_data",
            "variable_name": "remaining_missing_data"
          },
          "cf55ef3c-7175-461c-b8f5-1d7a2f42621b": {
            "applied_filters": [],
            "dataframe_info": {
              "default_index_used": false,
              "orig_num_cols": 1,
              "orig_num_rows": 3,
              "orig_size_bytes": 48,
              "truncated_num_cols": 1,
              "truncated_num_rows": 3,
              "truncated_size_bytes": 48,
              "truncated_string_columns": []
            },
            "display_id": "cf55ef3c-7175-461c-b8f5-1d7a2f42621b",
            "dx_settings": {
              "ALLOW_NOTEABLE_ATTRS": true,
              "COLUMN_SAMPLING_METHOD": "outer",
              "DB_LOCATION": ":memory:",
              "DEV_MODE": false,
              "DISPLAY_MAX_COLUMNS": 100,
              "DISPLAY_MAX_ROWS": 50000,
              "DISPLAY_MODE": "simple",
              "ENABLE_ASSIGNMENT": true,
              "ENABLE_DATALINK": true,
              "FLATTEN_COLUMN_VALUES": true,
              "FLATTEN_INDEX_VALUES": false,
              "GENERATE_DEX_METADATA": false,
              "HTML_TABLE_SCHEMA": false,
              "LOG_LEVEL": 30,
              "MAX_RENDER_SIZE_BYTES": 104857600,
              "MAX_STRING_LENGTH": 250,
              "NUM_PAST_SAMPLES_TRACKED": 3,
              "RANDOM_STATE": 12648430,
              "RESET_INDEX_VALUES": false,
              "ROW_SAMPLING_METHOD": "random",
              "SAMPLING_FACTOR": 0.1,
              "SAMPLING_METHOD": "random",
              "STRINGIFY_COLUMN_VALUES": true,
              "STRINGIFY_INDEX_VALUES": false
            },
            "sample_history": [],
            "sampling_time": "2023-09-02T02:44:50.243632",
            "user_variable_name": "remaining_missing_data",
            "variable_name": "remaining_missing_data"
          }
        }
      },
      "execution_count": null,
      "source": "# Check columns with the remaining missing values\nremaining_missing = data.isnull().sum()\nremaining_missing[remaining_missing > 0]",
      "outputs": []
    },
    {
      "id": "9beeb599-1b6e-4cb5-bb5e-7361df080836",
      "cell_type": "code",
      "metadata": {
        "noteable": {
          "cell_type": "code",
          "output_collection_id": "a712b83c-b615-43c3-883e-3b086cb86cbf"
        },
        "ExecuteTime": {
          "end_time": "2023-09-02T02:44:51.888280+00:00",
          "start_time": "2023-09-02T02:44:50.411760+00:00"
        }
      },
      "execution_count": null,
      "source": "# Handle missing values for the remaining columns\ndata['LowDoc'].fillna(data['LowDoc'].mode()[0], inplace=True)\ndata['Bank'].fillna(data['Bank'].mode()[0], inplace=True)\ndata['NewExist'].fillna(data['NewExist'].mode()[0], inplace=True)\n\n# Verify if all missing values have been handled\ndata.isnull().sum().sum()",
      "outputs": []
    },
    {
      "id": "ba2ef154-0366-46a4-a0d9-213056c7cef8",
      "cell_type": "code",
      "metadata": {
        "noteable": {
          "cell_type": "code",
          "output_collection_id": "9795e235-2aa9-4d68-a156-1e8be9888829"
        },
        "ExecuteTime": {
          "end_time": "2023-09-02T02:44:53.390976+00:00",
          "start_time": "2023-09-02T02:44:51.894124+00:00"
        }
      },
      "execution_count": null,
      "source": "# Handle the remaining missing values\n\n# Fill 'NewExist' and 'LowDoc' with mode\ndata['NewExist'].fillna(data['NewExist'].mode()[0], inplace=True)\ndata['LowDoc'].fillna(data['LowDoc'].mode()[0], inplace=True)\n\n# Fill 'Bank' with 'Unknown'\ndata['Bank'].fillna('Unknown', inplace=True)\n\n# Check if there are any missing values left\ndata.isnull().sum().sum()",
      "outputs": []
    },
    {
      "id": "804effae-a1c9-4f23-9324-f4064136a35b",
      "cell_type": "markdown",
      "source": "## Data Exploration and Visualization",
      "metadata": {
        "noteable": {
          "cell_type": "markdown"
        }
      }
    },
    {
      "id": "5aa4e1a8-2e7a-4ae7-8958-211d7bba462d",
      "cell_type": "code",
      "metadata": {
        "noteable": {
          "cell_type": "code",
          "output_collection_id": "92a223be-c2c6-43fe-9dbe-3b133a7f98e8"
        },
        "ExecuteTime": {
          "end_time": "2023-09-02T02:44:54.667526+00:00",
          "start_time": "2023-09-02T02:44:53.398121+00:00"
        }
      },
      "execution_count": null,
      "source": "import matplotlib.pyplot as plt\nimport seaborn as sns\n\n# Set the style of the visualization\nsns.set(style=\"whitegrid\")\n\n# Draw a bar plot of 'MIS_Status' value counts\nplt.figure(figsize=(10, 6))\nsns.countplot(y='MIS_Status', data=data, palette='pastel')\nplt.title('Distribution of Loan Status')\nplt.xlabel('Count')\nplt.ylabel('Loan Status')\nplt.show()",
      "outputs": []
    },
    {
      "id": "8a733153-55ab-40b7-91c7-444c1d8fe3c0",
      "cell_type": "code",
      "metadata": {
        "noteable": {
          "cell_type": "code",
          "output_collection_id": "cd6ee188-1f0e-41a0-ae5a-885a5fbe9a28"
        },
        "ExecuteTime": {
          "end_time": "2023-09-02T02:44:56.357976+00:00",
          "start_time": "2023-09-02T02:44:54.886202+00:00"
        }
      },
      "execution_count": null,
      "source": "# Handle the remaining missing values\n\n# Fill 'NewExist' with mode\ndata['NewExist'].fillna(data['NewExist'].mode()[0], inplace=True)\n\n# Fill 'Bank' with 'Unknown Bank'\ndata['Bank'].fillna('Unknown Bank', inplace=True)\n\n# Fill 'LowDoc' with mode\ndata['LowDoc'].fillna(data['LowDoc'].mode()[0], inplace=True)\n\n# Check if there are any missing values left\ndata.isnull().sum().sum()",
      "outputs": []
    },
    {
      "id": "4ce78054-d761-43b0-8b2c-61273fcd1e29",
      "cell_type": "code",
      "metadata": {
        "noteable": {
          "cell_type": "code",
          "output_collection_id": "955755cb-0f0c-424d-a452-d0e513746f52"
        },
        "ExecuteTime": {
          "end_time": "2023-09-02T02:45:02.404993+00:00",
          "start_time": "2023-09-02T02:44:56.365825+00:00"
        },
        "datalink": {
          "b66e5dcf-0ad5-4530-98bc-79edadccd299": {
            "applied_filters": [],
            "dataframe_info": {
              "default_index_used": true,
              "orig_num_cols": 27,
              "orig_num_rows": 5,
              "orig_size_bytes": 1120,
              "truncated_num_cols": 27,
              "truncated_num_rows": 5,
              "truncated_size_bytes": 1120,
              "truncated_string_columns": []
            },
            "display_id": "b66e5dcf-0ad5-4530-98bc-79edadccd299",
            "dx_settings": {
              "ALLOW_NOTEABLE_ATTRS": true,
              "COLUMN_SAMPLING_METHOD": "outer",
              "DB_LOCATION": ":memory:",
              "DEV_MODE": false,
              "DISPLAY_MAX_COLUMNS": 100,
              "DISPLAY_MAX_ROWS": 50000,
              "DISPLAY_MODE": "simple",
              "ENABLE_ASSIGNMENT": true,
              "ENABLE_DATALINK": true,
              "FLATTEN_COLUMN_VALUES": true,
              "FLATTEN_INDEX_VALUES": false,
              "GENERATE_DEX_METADATA": false,
              "HTML_TABLE_SCHEMA": false,
              "LOG_LEVEL": 30,
              "MAX_RENDER_SIZE_BYTES": 104857600,
              "MAX_STRING_LENGTH": 250,
              "NUM_PAST_SAMPLES_TRACKED": 3,
              "RANDOM_STATE": 12648430,
              "RESET_INDEX_VALUES": false,
              "ROW_SAMPLING_METHOD": "random",
              "SAMPLING_FACTOR": 0.1,
              "SAMPLING_METHOD": "random",
              "STRINGIFY_COLUMN_VALUES": true,
              "STRINGIFY_INDEX_VALUES": false
            },
            "sample_history": [],
            "sampling_time": "2023-09-02T02:30:01.031277",
            "user_variable_name": null,
            "variable_name": "unk_dataframe_380aaf36c6ca4a6294fe146f74ea6d92"
          },
          "d128b528-8287-4dbc-a9a7-46142583f4e0": {
            "applied_filters": [],
            "dataframe_info": {
              "default_index_used": true,
              "orig_num_cols": 27,
              "orig_num_rows": 5,
              "orig_size_bytes": 1120,
              "truncated_num_cols": 27,
              "truncated_num_rows": 5,
              "truncated_size_bytes": 1120,
              "truncated_string_columns": []
            },
            "display_id": "d128b528-8287-4dbc-a9a7-46142583f4e0",
            "dx_settings": {
              "ALLOW_NOTEABLE_ATTRS": true,
              "COLUMN_SAMPLING_METHOD": "outer",
              "DB_LOCATION": ":memory:",
              "DEV_MODE": false,
              "DISPLAY_MAX_COLUMNS": 100,
              "DISPLAY_MAX_ROWS": 50000,
              "DISPLAY_MODE": "simple",
              "ENABLE_ASSIGNMENT": true,
              "ENABLE_DATALINK": true,
              "FLATTEN_COLUMN_VALUES": true,
              "FLATTEN_INDEX_VALUES": false,
              "GENERATE_DEX_METADATA": false,
              "HTML_TABLE_SCHEMA": false,
              "LOG_LEVEL": 30,
              "MAX_RENDER_SIZE_BYTES": 104857600,
              "MAX_STRING_LENGTH": 250,
              "NUM_PAST_SAMPLES_TRACKED": 3,
              "RANDOM_STATE": 12648430,
              "RESET_INDEX_VALUES": false,
              "ROW_SAMPLING_METHOD": "random",
              "SAMPLING_FACTOR": 0.1,
              "SAMPLING_METHOD": "random",
              "STRINGIFY_COLUMN_VALUES": true,
              "STRINGIFY_INDEX_VALUES": false
            },
            "sample_history": [],
            "sampling_time": "2023-09-02T02:45:02.233557",
            "user_variable_name": null,
            "variable_name": "unk_dataframe_13c142ba5ff9425b99a98ab86136f902"
          }
        }
      },
      "execution_count": null,
      "source": "# Display the first few rows of the dataset to understand its structure\ndata.head()",
      "outputs": []
    },
    {
      "id": "b3484e29-c6f9-4f8d-ab33-106531736c93",
      "cell_type": "markdown",
      "source": "## Feature Engineering",
      "metadata": {
        "noteable": {
          "cell_type": "markdown"
        }
      }
    },
    {
      "id": "a709ca91-795c-4187-b557-b3b3d3e4077a",
      "cell_type": "code",
      "metadata": {
        "noteable": {
          "cell_type": "code",
          "output_collection_id": "6024a2f0-4ec3-4bf3-8fba-1146b1ca7629"
        },
        "ExecuteTime": {
          "end_time": "2023-09-02T02:45:05.238063+00:00",
          "start_time": "2023-09-02T02:45:02.410072+00:00"
        },
        "datalink": {
          "045a3e53-d195-4520-9bd5-9fe8a2c9263a": {
            "applied_filters": [],
            "dataframe_info": {
              "default_index_used": true,
              "orig_num_cols": 3,
              "orig_num_rows": 5,
              "orig_size_bytes": 160,
              "truncated_num_cols": 3,
              "truncated_num_rows": 5,
              "truncated_size_bytes": 160,
              "truncated_string_columns": []
            },
            "display_id": "045a3e53-d195-4520-9bd5-9fe8a2c9263a",
            "dx_settings": {
              "ALLOW_NOTEABLE_ATTRS": true,
              "COLUMN_SAMPLING_METHOD": "outer",
              "DB_LOCATION": ":memory:",
              "DEV_MODE": false,
              "DISPLAY_MAX_COLUMNS": 100,
              "DISPLAY_MAX_ROWS": 50000,
              "DISPLAY_MODE": "simple",
              "ENABLE_ASSIGNMENT": true,
              "ENABLE_DATALINK": true,
              "FLATTEN_COLUMN_VALUES": true,
              "FLATTEN_INDEX_VALUES": false,
              "GENERATE_DEX_METADATA": false,
              "HTML_TABLE_SCHEMA": false,
              "LOG_LEVEL": 30,
              "MAX_RENDER_SIZE_BYTES": 104857600,
              "MAX_STRING_LENGTH": 250,
              "NUM_PAST_SAMPLES_TRACKED": 3,
              "RANDOM_STATE": 12648430,
              "RESET_INDEX_VALUES": false,
              "ROW_SAMPLING_METHOD": "random",
              "SAMPLING_FACTOR": 0.1,
              "SAMPLING_METHOD": "random",
              "STRINGIFY_COLUMN_VALUES": true,
              "STRINGIFY_INDEX_VALUES": false
            },
            "sample_history": [],
            "sampling_time": "2023-09-02T02:31:23.822435",
            "user_variable_name": null,
            "variable_name": "unk_dataframe_f43bf97fc32c4f5da0ad1926100d0998"
          }
        }
      },
      "execution_count": null,
      "source": "# Convert 'GrAppv' to numeric format\ndata['GrAppv'] = data['GrAppv'].str.replace('$', '').str.replace(',', '').astype(float)\n\n# Create 'LoanDuration' feature\ndata['LoanDuration'] = (data['DisbursementDate'] - data['ApprovalDate']).dt.days\n\n# Create 'LoanAmountPerEmployee' feature\ndata['LoanAmountPerEmployee'] = data['GrAppv'] / data['NoEmp']\ndata['LoanAmountPerEmployee'].replace([float('inf'), -float('inf')], 0, inplace=True)  # Handle division by zero\n\n# Create 'JobImpact' feature\ndata['JobImpact'] = data['CreateJob'] - data['RetainedJob']\n\n# Display the first few rows of the dataset with the new features\ndata[['LoanDuration', 'LoanAmountPerEmployee', 'JobImpact']].head()",
      "outputs": []
    },
    {
      "id": "c6c5978a-ad09-453b-9a65-ef48b067e6e3",
      "cell_type": "markdown",
      "source": "## Data Visualization",
      "metadata": {
        "noteable": {
          "cell_type": "markdown"
        }
      }
    },
    {
      "id": "fcda7027-cac7-4103-98b5-b2b409bd0ae5",
      "cell_type": "code",
      "metadata": {
        "noteable": {
          "cell_type": "code",
          "output_collection_id": "93a3c38a-b9c6-4bed-a62e-1459ceb10951"
        },
        "ExecuteTime": {
          "end_time": "2023-09-02T02:45:15.757642+00:00",
          "start_time": "2023-09-02T02:45:11.837445+00:00"
        }
      },
      "execution_count": null,
      "source": "import matplotlib.pyplot as plt\nimport seaborn as sns\n\n# Set style for plots\nsns.set_style('whitegrid')\n\n# Distribution of Loan Amounts\nplt.figure(figsize=(10, 6))\nsns.histplot(data['GrAppv'], bins=50, color='blue', kde=True)\nplt.title('Distribution of Loan Amounts')\nplt.xlabel('Loan Amount')\nplt.ylabel('Frequency')\nplt.show()",
      "outputs": []
    },
    {
      "id": "3f761306-4f77-463a-8739-e2e83ee51333",
      "cell_type": "code",
      "metadata": {
        "noteable": {
          "cell_type": "code",
          "output_collection_id": "831dec92-d024-4964-91e7-6147c6e8fd64"
        },
        "ExecuteTime": {
          "end_time": "2023-09-02T02:45:16.590704+00:00",
          "start_time": "2023-09-02T02:45:15.998648+00:00"
        }
      },
      "execution_count": null,
      "source": "# Loan Status Distribution\nplt.figure(figsize=(8, 6))\nsns.countplot(x='MIS_Status', data=data, palette='viridis')\nplt.title('Loan Status Distribution')\nplt.xlabel('Loan Status')\nplt.ylabel('Count')\nplt.show()",
      "outputs": []
    },
    {
      "id": "b4185607-fd68-47d0-b5dd-c082b65b12c5",
      "cell_type": "code",
      "metadata": {
        "noteable": {
          "cell_type": "code",
          "output_collection_id": "232d40b5-63a9-47fb-aaed-e9e1009471d6"
        },
        "ExecuteTime": {
          "end_time": "2023-09-02T02:45:17.438563+00:00",
          "start_time": "2023-09-02T02:45:16.749802+00:00"
        }
      },
      "execution_count": null,
      "source": "# Loan Duration Distribution\nplt.figure(figsize=(10, 6))\nsns.histplot(data['LoanDuration'], bins=50, color='green', kde=True)\nplt.title('Distribution of Loan Durations')\nplt.xlabel('Loan Duration (days)')\nplt.ylabel('Frequency')\nplt.show()",
      "outputs": []
    },
    {
      "id": "0e6b30ed-dacc-4a00-a539-8ca650434ab7",
      "cell_type": "code",
      "metadata": {
        "noteable": {
          "cell_type": "code",
          "output_collection_id": "d6a11da5-639f-4466-b145-b61eb38e5d85"
        },
        "ExecuteTime": {
          "end_time": "2023-09-02T02:45:44.189012+00:00",
          "start_time": "2023-09-02T02:45:43.977643+00:00"
        }
      },
      "execution_count": null,
      "source": "# Job Impact Distribution\nplt.figure(figsize=(10, 6))\nsns.histplot(data['JobImpact'], bins=50, color='purple', kde=True)\nplt.title('Distribution of Job Impact')\nplt.xlabel('Job Impact (Jobs Created - Jobs Retained)')\nplt.ylabel('Frequency')\nplt.show()",
      "outputs": []
    },
    {
      "id": "7c9f033b-3213-42c4-bb2a-d7c755ec07a3",
      "cell_type": "code",
      "metadata": {
        "noteable": {
          "cell_type": "code",
          "output_collection_id": "e13eab19-d8fb-4f29-b1b0-323d637218f3"
        },
        "ExecuteTime": {
          "end_time": "2023-09-02T02:45:50.011694+00:00",
          "start_time": "2023-09-02T02:45:49.430332+00:00"
        }
      },
      "execution_count": null,
      "source": "# Loan Status Distribution\nplt.figure(figsize=(8, 6))\nsns.countplot(data=data, x='MIS_Status', palette='viridis')\nplt.title('Loan Status Distribution')\nplt.xlabel('Loan Status')\nplt.ylabel('Count')\nplt.show()",
      "outputs": []
    },
    {
      "id": "30f0b4f7-0ea1-40a7-b779-ab7539c5fe75",
      "cell_type": "code",
      "metadata": {
        "noteable": {
          "cell_type": "code",
          "output_collection_id": "96337d12-4a23-4c58-a020-f0fd1c12b2c1"
        },
        "ExecuteTime": {
          "end_time": "2023-09-02T02:45:52.848619+00:00",
          "start_time": "2023-09-02T02:45:52.621589+00:00"
        }
      },
      "execution_count": null,
      "source": "# Loan Duration Distribution\nplt.figure(figsize=(10, 6))\nsns.histplot(data['LoanDuration'], bins=50, color='green', kde=True)\nplt.title('Distribution of Loan Durations (Days between Approval and Disbursement)')\nplt.xlabel('Days')\nplt.ylabel('Frequency')\nplt.show()",
      "outputs": []
    },
    {
      "id": "a257e994-ccf0-42cb-991d-3b100257eb0a",
      "cell_type": "code",
      "metadata": {
        "noteable": {
          "cell_type": "code",
          "output_collection_id": "0a4a3ccc-a007-419b-9959-4fb04db4eff1"
        },
        "ExecuteTime": {
          "end_time": "2023-09-02T02:45:58.850060+00:00",
          "start_time": "2023-09-02T02:45:58.637314+00:00"
        }
      },
      "execution_count": null,
      "source": "# Job Impact Distribution\nplt.figure(figsize=(10, 6))\nsns.histplot(data['JobImpact'], bins=50, color='purple', kde=True)\nplt.title('Distribution of Job Impact (Difference between Jobs Created and Retained)')\nplt.xlabel('Job Impact')\nplt.ylabel('Frequency')\nplt.show()",
      "outputs": []
    },
    {
      "id": "80d4534a-5154-4fdc-ad6b-e70c3bf027e0",
      "cell_type": "markdown",
      "source": "## Model Building",
      "metadata": {
        "noteable": {
          "cell_type": "markdown"
        }
      }
    },
    {
      "id": "4c38f9b2-8e2f-4e24-8e8d-0c8286757414",
      "cell_type": "code",
      "metadata": {
        "noteable": {
          "cell_type": "code",
          "output_collection_id": "49334110-3dff-4621-906f-c93f92326688"
        },
        "ExecuteTime": {
          "end_time": "2023-09-02T02:46:47.751706+00:00",
          "start_time": "2023-09-02T02:46:37.436963+00:00"
        },
        "datalink": {
          "fbac0a47-f783-401c-8675-59956a9e450b": {
            "applied_filters": [],
            "dataframe_info": {
              "default_index_used": true,
              "orig_num_cols": 18,
              "orig_num_rows": 5,
              "orig_size_bytes": 760,
              "truncated_num_cols": 18,
              "truncated_num_rows": 5,
              "truncated_size_bytes": 760,
              "truncated_string_columns": []
            },
            "display_id": "fbac0a47-f783-401c-8675-59956a9e450b",
            "dx_settings": {
              "ALLOW_NOTEABLE_ATTRS": true,
              "COLUMN_SAMPLING_METHOD": "outer",
              "DB_LOCATION": ":memory:",
              "DEV_MODE": false,
              "DISPLAY_MAX_COLUMNS": 100,
              "DISPLAY_MAX_ROWS": 50000,
              "DISPLAY_MODE": "simple",
              "ENABLE_ASSIGNMENT": true,
              "ENABLE_DATALINK": true,
              "FLATTEN_COLUMN_VALUES": true,
              "FLATTEN_INDEX_VALUES": false,
              "GENERATE_DEX_METADATA": false,
              "HTML_TABLE_SCHEMA": false,
              "LOG_LEVEL": 30,
              "MAX_RENDER_SIZE_BYTES": 104857600,
              "MAX_STRING_LENGTH": 250,
              "NUM_PAST_SAMPLES_TRACKED": 3,
              "RANDOM_STATE": 12648430,
              "RESET_INDEX_VALUES": false,
              "ROW_SAMPLING_METHOD": "random",
              "SAMPLING_FACTOR": 0.1,
              "SAMPLING_METHOD": "random",
              "STRINGIFY_COLUMN_VALUES": true,
              "STRINGIFY_INDEX_VALUES": false
            },
            "sample_history": [],
            "sampling_time": "2023-09-02T02:36:17.802932",
            "user_variable_name": null,
            "variable_name": "unk_dataframe_02e1cdaadaf84f279a6621cccef021a4"
          },
          "dea3ef35-22ef-42a6-b45f-bef3e1c2f56e": {
            "applied_filters": [],
            "dataframe_info": {
              "default_index_used": true,
              "orig_num_cols": 15,
              "orig_num_rows": 5,
              "orig_size_bytes": 640,
              "truncated_num_cols": 15,
              "truncated_num_rows": 5,
              "truncated_size_bytes": 640,
              "truncated_string_columns": []
            },
            "display_id": "dea3ef35-22ef-42a6-b45f-bef3e1c2f56e",
            "dx_settings": {
              "ALLOW_NOTEABLE_ATTRS": true,
              "COLUMN_SAMPLING_METHOD": "outer",
              "DB_LOCATION": ":memory:",
              "DEV_MODE": false,
              "DISPLAY_MAX_COLUMNS": 100,
              "DISPLAY_MAX_ROWS": 50000,
              "DISPLAY_MODE": "simple",
              "ENABLE_ASSIGNMENT": true,
              "ENABLE_DATALINK": true,
              "FLATTEN_COLUMN_VALUES": true,
              "FLATTEN_INDEX_VALUES": false,
              "GENERATE_DEX_METADATA": false,
              "HTML_TABLE_SCHEMA": false,
              "LOG_LEVEL": 30,
              "MAX_RENDER_SIZE_BYTES": 104857600,
              "MAX_STRING_LENGTH": 250,
              "NUM_PAST_SAMPLES_TRACKED": 3,
              "RANDOM_STATE": 12648430,
              "RESET_INDEX_VALUES": false,
              "ROW_SAMPLING_METHOD": "random",
              "SAMPLING_FACTOR": 0.1,
              "SAMPLING_METHOD": "random",
              "STRINGIFY_COLUMN_VALUES": true,
              "STRINGIFY_INDEX_VALUES": false
            },
            "sample_history": [],
            "sampling_time": "2023-09-02T02:46:47.590301",
            "user_variable_name": null,
            "variable_name": "unk_dataframe_08bfb0fa4053416196195c201b00aa17"
          }
        }
      },
      "execution_count": null,
      "source": "# Feature Selection\n\n# Drop columns that are not relevant for prediction\ndrop_columns = ['LoanNr_ChkDgt', 'Name', 'City', 'State', 'Zip', 'Bank', 'BankState', 'NAICS', 'ApprovalDate', 'DisbursementDate', 'ChgOffDate']\ndata_cleaned = data.drop(columns=drop_columns)\n\n# Target variable\ny = data_cleaned['MIS_Status']\nX = data_cleaned.drop(columns=['MIS_Status'])\n\n# Display the selected features\nX.head()",
      "outputs": []
    },
    {
      "id": "31326b13-e0a4-4736-a3da-c2d0ec66872e",
      "cell_type": "code",
      "metadata": {
        "noteable": {
          "cell_type": "code",
          "output_collection_id": "65cbb08b-e41b-4d79-b7c9-8b56aaac0900"
        },
        "ExecuteTime": {
          "end_time": "2023-09-02T02:46:56.919045+00:00",
          "start_time": "2023-09-02T02:46:56.358602+00:00"
        }
      },
      "execution_count": null,
      "source": "from sklearn.model_selection import train_test_split\nfrom sklearn.preprocessing import StandardScaler, LabelEncoder\n\n# Encode categorical variables\nlabel_encoders = {}\nfor column in X.select_dtypes(include=['object']).columns:\n    le = LabelEncoder()\n    X[column] = le.fit_transform(X[column])\n    label_encoders[column] = le\n\n# Split the data into training and testing sets\nX_train, X_test, y_train, y_test = train_test_split(X, y, test_size=0.2, random_state=42)\n\n# Scale the features\nscaler = StandardScaler()\nX_train = scaler.fit_transform(X_train)\nX_test = scaler.transform(X_test)\n\n# Display the shape of the training and testing sets\nX_train.shape, X_test.shape",
      "outputs": []
    },
    {
      "id": "6087db5e-dc82-4e0b-82cd-9f7a709a3271",
      "cell_type": "code",
      "metadata": {
        "noteable": {
          "cell_type": "code",
          "output_collection_id": "c61be6aa-5ec6-4716-8230-506e0b3443bf"
        },
        "ExecuteTime": {
          "end_time": "2023-09-02T02:47:03.168044+00:00",
          "start_time": "2023-09-02T02:46:59.761504+00:00"
        }
      },
      "execution_count": null,
      "source": "# Identify columns with mixed data types\nmixed_type_columns = [col for col in X.columns if len(X[col].apply(type).value_counts()) > 1]\n\n# Convert these columns to string type\nfor col in mixed_type_columns:\n    X[col] = X[col].astype(str)\n\n# Encode categorical variables again\nfor column in X.select_dtypes(include=['object']).columns:\n    le = LabelEncoder()\n    X[column] = le.fit_transform(X[column])\n    label_encoders[column] = le\n\n# Split the data into training and testing sets\nX_train, X_test, y_train, y_test = train_test_split(X, y, test_size=0.2, random_state=42)\n\n# Scale the features\nscaler = StandardScaler()\nX_train = scaler.fit_transform(X_train)\nX_test = scaler.transform(X_test)\n\n# Display the shape of the training and testing sets\nX_train.shape, X_test.shape",
      "outputs": []
    },
    {
      "id": "4699f7b2-d0c6-4cba-a000-f2ca02c7e820",
      "cell_type": "code",
      "metadata": {
        "noteable": {
          "cell_type": "code",
          "output_collection_id": "6425b6f0-974d-4a7e-8c63-7baa2aeea83f"
        },
        "ExecuteTime": {
          "end_time": "2023-09-02T02:47:27.162761+00:00",
          "start_time": "2023-09-02T02:47:14.818706+00:00"
        }
      },
      "execution_count": null,
      "source": "from sklearn.linear_model import LogisticRegression\nfrom sklearn.metrics import classification_report, accuracy_score\n\n# Initialize and train the Logistic Regression model\nlogreg = LogisticRegression(max_iter=1000, random_state=42)\nlogreg.fit(X_train, y_train)\n\n# Predict on the testing set\ny_pred_logreg = logreg.predict(X_test)\n\n# Evaluate the model\naccuracy_logreg = accuracy_score(y_test, y_pred_logreg)\nclassification_report_logreg = classification_report(y_test, y_pred_logreg)\n\naccuracy_logreg, classification_report_logreg",
      "outputs": []
    },
    {
      "id": "c5a82c14-bada-4f1d-9b46-08f42f376b97",
      "cell_type": "code",
      "metadata": {
        "noteable": {
          "cell_type": "code",
          "output_collection_id": "06cae857-dba6-4720-a906-1c4c4787a3b3"
        },
        "ExecuteTime": {
          "end_time": "2023-09-02T02:47:37.559354+00:00",
          "start_time": "2023-09-02T02:47:27.435145+00:00"
        }
      },
      "execution_count": null,
      "source": "# Reduce the size of the training dataset\nsample_size = int(0.1 * len(X_train))  # 10% of the training data\nX_train_sampled, _, y_train_sampled, _ = train_test_split(X_train, y_train, train_size=sample_size, random_state=42, stratify=y_train)\n\n# Initialize and train the Logistic Regression model on the reduced dataset\nlogreg_sampled = LogisticRegression(max_iter=1000, random_state=42)\nlogreg_sampled.fit(X_train_sampled, y_train_sampled)\n\n# Predict on the testing set\ny_pred_logreg_sampled = logreg_sampled.predict(X_test)\n\n# Evaluate the model\naccuracy_logreg_sampled = accuracy_score(y_test, y_pred_logreg_sampled)\nclassification_report_logreg_sampled = classification_report(y_test, y_pred_logreg_sampled)\n\naccuracy_logreg_sampled, classification_report_logreg_sampled",
      "outputs": []
    },
    {
      "id": "438642a9-578f-4a2e-ac20-473bd8dd9ad3",
      "cell_type": "code",
      "metadata": {
        "noteable": {
          "cell_type": "code",
          "output_collection_id": "610adf0b-4bb1-4dec-8b0f-9a0ba49c5d02"
        },
        "ExecuteTime": {
          "end_time": "2023-09-02T02:47:46.526402+00:00",
          "start_time": "2023-09-02T02:47:37.568021+00:00"
        }
      },
      "execution_count": null,
      "source": "from sklearn.ensemble import RandomForestClassifier\n\n# Initialize and train the Random Forest model\nrf = RandomForestClassifier(n_estimators=100, random_state=42, n_jobs=-1)\nrf.fit(X_train_sampled, y_train_sampled)\n\n# Predict on the testing set\ny_pred_rf = rf.predict(X_test)\n\n# Evaluate the model\naccuracy_rf = accuracy_score(y_test, y_pred_rf)\nclassification_report_rf = classification_report(y_test, y_pred_rf)\n\naccuracy_rf, classification_report_rf",
      "outputs": []
    },
    {
      "id": "0b1f2d12-d8f3-414c-9504-303878def052",
      "cell_type": "code",
      "metadata": {
        "noteable": {
          "cell_type": "code",
          "output_collection_id": "964778ac-0790-4776-8579-e28035d070b5"
        },
        "ExecuteTime": {
          "end_time": "2023-09-02T02:47:59.507493+00:00",
          "start_time": "2023-09-02T02:47:46.539864+00:00"
        }
      },
      "execution_count": null,
      "source": "from sklearn.linear_model import LogisticRegression\nfrom sklearn.metrics import classification_report, accuracy_score\n\n# Initialize and train the Logistic Regression model\nlogreg = LogisticRegression(max_iter=1000, random_state=42)\nlogreg.fit(X_train, y_train)\n\n# Predict on the testing set\ny_pred_logreg = logreg.predict(X_test)\n\n# Evaluate the model\naccuracy_logreg = accuracy_score(y_test, y_pred_logreg)\nclassification_report_logreg = classification_report(y_test, y_pred_logreg)\n\naccuracy_logreg, classification_report_logreg",
      "outputs": []
    },
    {
      "id": "5a9a290f-eb34-410b-81e9-843954888abf",
      "cell_type": "code",
      "metadata": {
        "noteable": {
          "cell_type": "code",
          "output_collection_id": "7cc18afd-ea5c-4e9b-a13b-8d271a7c0a47"
        },
        "ExecuteTime": {
          "end_time": "2023-09-02T02:48:31.964142+00:00",
          "start_time": "2023-09-02T02:48:01.940970+00:00"
        }
      },
      "execution_count": null,
      "source": "from sklearn.ensemble import RandomForestClassifier\n\n# Initialize and train the Random Forest model\nrf = RandomForestClassifier(n_estimators=100, random_state=42, n_jobs=-1)\nrf.fit(X_train, y_train)\n\n# Predict on the testing set\ny_pred_rf = rf.predict(X_test)\n\n# Evaluate the model\naccuracy_rf = accuracy_score(y_test, y_pred_rf)\nclassification_report_rf = classification_report(y_test, y_pred_rf)\n\naccuracy_rf, classification_report_rf",
      "outputs": []
    },
    {
      "id": "26247c67-0cdc-47d2-9b58-f99985137a50",
      "cell_type": "code",
      "metadata": {
        "noteable": {
          "cell_type": "code",
          "output_collection_id": "f27cb27a-f804-42b1-9325-d69f2671b1ab"
        },
        "ExecuteTime": {
          "end_time": "2023-09-02T02:50:38.155300+00:00",
          "start_time": "2023-09-02T02:48:42.641690+00:00"
        }
      },
      "execution_count": null,
      "source": "from sklearn.ensemble import GradientBoostingClassifier\n\n# Initialize and train the Gradient Boosting model\ngb = GradientBoostingClassifier(n_estimators=100, random_state=42)\ngb.fit(X_train, y_train)\n\n# Predict on the testing set\ny_pred_gb = gb.predict(X_test)\n\n# Evaluate the model\naccuracy_gb = accuracy_score(y_test, y_pred_gb)\nclassification_report_gb = classification_report(y_test, y_pred_gb)\n\naccuracy_gb, classification_report_gb",
      "outputs": []
    },
    {
      "id": "f54af16f-109c-44ca-8ab5-cf53c4896737",
      "cell_type": "code",
      "metadata": {
        "noteable": {
          "cell_type": "code",
          "output_collection_id": "31009ed8-a482-434a-ac1e-6d2a8297ca48"
        },
        "ExecuteTime": {
          "end_time": "2023-09-02T02:52:03.870186+00:00",
          "start_time": "2023-09-02T02:52:03.699092+00:00"
        }
      },
      "execution_count": null,
      "source": "import shap\n\n# Initialize the SHAP explainer\nexplainer = shap.TreeExplainer(rf)\n\n# Compute SHAP values for a sample of the test set (for computational efficiency)\nshap_values = explainer.shap_values(X_test[:1000])\n\n# Plot the SHAP values for the top features\nshap.summary_plot(shap_values[1], X_test[:1000], plot_type='bar')",
      "outputs": []
    },
    {
      "id": "cf27b025-b3b4-4a1c-aede-ca151a7934a2",
      "cell_type": "code",
      "metadata": {
        "noteable": {
          "cell_type": "code",
          "output_collection_id": "3f58dc3f-cdd6-4c52-9202-8f579c9b0f31"
        },
        "ExecuteTime": {
          "end_time": "2023-09-02T03:09:46.182600+00:00",
          "start_time": "2023-09-02T03:09:43.300614+00:00"
        }
      },
      "execution_count": null,
      "source": "!pip install shap",
      "outputs": []
    },
    {
      "id": "2f8b3a4d-27cc-4a6c-9adf-48d1a6f469dc",
      "cell_type": "code",
      "metadata": {
        "noteable": {
          "cell_type": "code",
          "output_collection_id": "f0783b9d-4c84-4bee-944c-e4839269d6de"
        },
        "ExecuteTime": {
          "end_time": "2023-09-02T03:17:57.147730+00:00",
          "start_time": "2023-09-02T03:10:43.056080+00:00"
        }
      },
      "execution_count": null,
      "source": "import shap\n# Initialize the SHAP explainer again\nexplainer = shap.TreeExplainer(rf)\n\n# Compute SHAP values for a sample of the test set (for computational efficiency)\nshap_values = explainer.shap_values(X_test[:1000])\n\n# Plot the SHAP values for the top features\nshap.summary_plot(shap_values[1], X_test[:1000], plot_type='bar')",
      "outputs": []
    },
    {
      "id": "1e128a4c-c3bf-4860-b330-86d8d87840b8",
      "cell_type": "code",
      "metadata": {
        "noteable": {
          "cell_type": "code",
          "output_collection_id": "40bb1648-247f-4b07-808f-7c9c3492a482"
        },
        "ExecuteTime": {
          "end_time": "2023-09-02T03:34:46.662504+00:00",
          "start_time": "2023-09-02T03:27:24.642205+00:00"
        }
      },
      "execution_count": null,
      "source": "# Compute SHAP values for a sample of the test set (for computational efficiency)\nshap_values = explainer.shap_values(X_test[:1000])\n\n# Plot the SHAP values with feature names\nshap.summary_plot(shap_values[1], X_test[:1000], feature_names=X.columns, plot_type='bar')",
      "outputs": []
    }
  ]
}