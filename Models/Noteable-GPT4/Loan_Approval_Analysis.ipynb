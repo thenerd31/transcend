{
  "cells": [
    {
      "cell_type": "code",
      "source": [],
      "outputs": [],
      "execution_count": null,
      "metadata": {
        "jupyter": {
          "outputs_hidden": false,
          "source_hidden": false
        },
        "noteable": {
          "cell_type": "code"
        }
      },
      "id": "b6f665ab-948b-47ec-840a-03a5fd784dd0"
    },
    {
      "cell_type": "markdown",
      "source": [
        "## Data Loading and Initial Exploration\n",
        "We'll start by loading the data files provided and taking a quick look at the first few rows of each file. This will help us understand the structure of the data and identify the key columns that we'll be working with."
      ],
      "metadata": {
        "noteable": {
          "cell_type": "markdown"
        }
      },
      "id": "3c0dfa69-b810-4d3e-9683-74a20ed3f5b2"
    },
    {
      "cell_type": "code",
      "source": [
        "import pandas as pd\n",
        "\n",
        "# Load the data files\n",
        "file0 = pd.read_csv('file0.csv')\n",
        "file1 = pd.read_csv('file1.csv')\n",
        "file2 = pd.read_csv('file2.csv')\n",
        "\n",
        "# Display the first few rows of each file\n",
        "file0.head(), file1.head(), file2.head()"
      ],
      "outputs": [
        {
          "output_type": "execute_result",
          "execution_count": null,
          "data": {
            "text/plain": "(   LoanNr_ChkDgt                           Name          City State    Zip  \\\n 0     1000014003                 ABC HOBBYCRAFT    EVANSVILLE    IN  47711   \n 1     1000024006    LANDMARK BAR & GRILLE (THE)     NEW PARIS    IN  46526   \n 2     1000034009          WHITLOCK DDS, TODD M.   BLOOMINGTON    IN  47401   \n 3     1000044001  BIG BUCKS PAWN & JEWELRY, LLC  BROKEN ARROW    OK  74012   \n 4     1000054004    ANASTASIA CONFECTIONS, INC.       ORLANDO    FL  32801   \n \n                             Bank BankState   NAICS ApprovalDate  ApprovalFY  \\\n 0               FIFTH THIRD BANK        OH  451120    28-Feb-97        1997   \n 1                1ST SOURCE BANK        IN  722410    28-Feb-97        1997   \n 2        GRANT COUNTY STATE BANK        IN  621210    28-Feb-97        1997   \n 3  1ST NATL BK & TR CO OF BROKEN        OK       0    28-Feb-97        1997   \n 4        FLORIDA BUS. DEVEL CORP        FL       0    28-Feb-97        1997   \n \n    Term  NoEmp  NewExist  CreateJob  RetainedJob  FranchiseCode  UrbanRural  \\\n 0    84      4       2.0          0            0              1           0   \n 1    60      2       2.0          0            0              1           0   \n 2   180      7       1.0          0            0              1           0   \n 3    60      2       1.0          0            0              1           0   \n 4   240     14       1.0          7            7              1           0   \n \n   RevLineCr LowDoc ChgOffDate DisbursementDate DisbursementGross BalanceGross  \\\n 0         N      Y        NaN        28-Feb-99       $60,000.00        $0.00    \n 1         N      Y        NaN        31-May-97       $40,000.00        $0.00    \n 2         N      N        NaN        31-Dec-97      $287,000.00        $0.00    \n 3         N      Y        NaN        30-Jun-97       $35,000.00        $0.00    \n 4         N      N        NaN        14-May-97      $229,000.00        $0.00    \n \n   MIS_Status ChgOffPrinGr        GrAppv      SBA_Appv  \n 0      P I F       $0.00    $60,000.00    $48,000.00   \n 1      P I F       $0.00    $40,000.00    $32,000.00   \n 2      P I F       $0.00   $287,000.00   $215,250.00   \n 3      P I F       $0.00    $35,000.00    $28,000.00   \n 4      P I F       $0.00   $229,000.00   $229,000.00   ,\n    LoanNr_ChkDgt                            Name         City State    Zip  \\\n 0     3855993002  MINER & MINER CONSULTING ENGIN      GREELEY    CO  80632   \n 1     3855994009                C&R MERCHANT INC  SOMERSWORTH    NH   3878   \n 2     3856004007                     HAIR WE ARE       HUDSON    NH   3051   \n 3     3856014010             BLOOM & COMPANY INC    WATERTOWN    MA   2172   \n 4     3856024002          RSL COMMUNICATIONS INC     NEW YORK    NY  10010   \n \n                             Bank BankState   NAICS ApprovalDate ApprovalFY  \\\n 0  GE CAP. SMALL BUS. FINAN CORP        TX  541330    13-Feb-90       1990   \n 1       CITIZENS BANK NATL ASSOC        NH       0    25-Jul-00       2000   \n 2       CITIZENS BANK NATL ASSOC        NH  812112    25-Jul-00       2000   \n 3       CITIZENS BANK NATL ASSOC        RI       0    25-Jul-00       2000   \n 4                 CITIBANK, N.A.        NY       0    25-Jul-00       2000   \n \n    Term  NoEmp  NewExist  CreateJob  RetainedJob  FranchiseCode  UrbanRural  \\\n 0    96     27       1.0          0            0              1           0   \n 1    84      6       1.0          0            6              1           2   \n 2    60     18       1.0          7           25              1           1   \n 3    60      4       1.0          0            4              1           1   \n 4    84      2       1.0          1            2              1           1   \n \n   RevLineCr LowDoc ChgOffDate DisbursementDate DisbursementGross BalanceGross  \\\n 0         N      N        NaN        30-Apr-90      $300,000.00        $0.00    \n 1         0      N        NaN        31-Aug-00       $45,000.00        $0.00    \n 2         0      N        NaN        31-Aug-00       $75,000.00        $0.00    \n 3         Y      N        NaN        31-Aug-00      $716,778.00        $0.00    \n 4         0      N        NaN        31-Aug-00       $71,500.00        $0.00    \n \n   MIS_Status ChgOffPrinGr        GrAppv      SBA_Appv  \n 0      P I F       $0.00   $300,000.00   $240,000.00   \n 1      P I F       $0.00    $50,000.00    $37,500.00   \n 2      P I F       $0.00    $75,000.00    $37,500.00   \n 3      P I F       $0.00   $150,000.00    $75,000.00   \n 4      P I F       $0.00    $71,500.00    $35,750.00   ,\n    LoanNr_ChkDgt                        Name        City State    Zip  \\\n 0     8562854001          NEW ADR INDUSTRIAL      DENTON    TX  76201   \n 1     8562864004  A-1 SWIMMING POOL TILE,INC   HENDERSON    NV  89052   \n 2     8562883003         SALCO MACHINE, INC.  LOUISVILLE    OH  44641   \n 3     8562884010           J AGUAIR TRUCKING  KURTISTOWN    HI  96771   \n 4     8562893006     BALTEC ASSOCIATES, INC.     BEDFORD    NY  10506   \n \n                             Bank BankState   NAICS ApprovalDate  ApprovalFY  \\\n 0        FIRST UNITED BK & TR CO        TX  325510     2-Feb-05        2005   \n 1              BANK OF LAS VEGAS        NV  423910     2-Feb-05        2005   \n 2   STARK DEVEL BOARD FINAN CORP        OH       0     3-Aug-95        1995   \n 3           HAWAII NATIONAL BANK        HI  484110     2-Feb-05        2005   \n 4  HUDSON VALLEY BANK NATL ASSOC        NY  541330     2-Aug-95        1995   \n \n    Term  NoEmp  NewExist  CreateJob  RetainedJob  FranchiseCode  UrbanRural  \\\n 0   120      3         2          0            0              1           1   \n 1    84     16         2          0            0              1           1   \n 2   120     17         1          5            0              1           0   \n 3    84      1         2          1            2              1           2   \n 4    36     16         1          0            0              1           0   \n \n   RevLineCr LowDoc ChgOffDate DisbursementDate DisbursementGross BalanceGross  \\\n 0         0      Y        NaN        31-May-06      $125,000.00        $0.00    \n 1         0      Y        NaN        28-Feb-05      $100,000.00        $0.00    \n 2         N      N        NaN        15-Nov-95      $134,000.00        $0.00    \n 3         0      N        NaN        31-Mar-05      $130,000.00        $0.00    \n 4         N      N        NaN        31-Oct-95       $57,074.00        $0.00    \n \n   MIS_Status ChgOffPrinGr        GrAppv      SBA_Appv  \n 0      P I F       $0.00   $125,000.00   $106,250.00   \n 1      P I F       $0.00   $100,000.00    $85,000.00   \n 2      P I F       $0.00   $134,000.00   $134,000.00   \n 3      P I F       $0.00   $130,000.00   $110,500.00   \n 4      P I F       $0.00    $57,074.00    $51,366.00   )"
          },
          "metadata": {}
        }
      ],
      "execution_count": null,
      "metadata": {
        "noteable": {
          "cell_type": "code"
        },
        "ExecuteTime": {
          "start_time": "2023-08-08T19:00:49.113969+00:00",
          "end_time": "2023-08-08T19:00:53.654929+00:00"
        }
      },
      "id": "4d459a79-dee4-442b-876e-18fa38a33701"
    },
    {
      "cell_type": "markdown",
      "source": [
        "## Data Preprocessing\n",
        "In this section, we'll combine the three files into a single dataset and perform some basic preprocessing steps. This includes handling missing values, converting data types, and understanding the distribution of key variables. These steps are essential to ensure that the data is clean and ready for analysis."
      ],
      "metadata": {
        "noteable": {
          "cell_type": "markdown"
        }
      },
      "id": "ef90808b-f6a1-437b-9790-eaa188519f73"
    },
    {
      "cell_type": "code",
      "source": [
        "# Combine the three files into a single DataFrame\n",
        "data = pd.concat([file0, file1, file2], ignore_index=True)\n",
        "\n",
        "# Check the shape of the combined data\n",
        "data.shape"
      ],
      "outputs": [
        {
          "output_type": "execute_result",
          "execution_count": null,
          "data": {
            "text/plain": "(899164, 27)"
          },
          "metadata": {}
        }
      ],
      "execution_count": null,
      "metadata": {
        "noteable": {
          "cell_type": "code"
        },
        "ExecuteTime": {
          "start_time": "2023-08-08T19:00:53.665966+00:00",
          "end_time": "2023-08-08T19:00:54.121792+00:00"
        }
      },
      "id": "f80a3bcb-bd12-4e62-902c-572fa6ba6013"
    },
    {
      "cell_type": "code",
      "source": [
        "# Check the data types of each column\n",
        "data.dtypes"
      ],
      "outputs": [
        {
          "output_type": "display_data",
          "data": {
            "application/vnd.dataresource+json": {
              "schema": {
                "fields": [
                  {
                    "name": "index",
                    "type": "string"
                  },
                  {
                    "name": "0",
                    "type": "string"
                  }
                ],
                "primaryKey": [
                  "index"
                ],
                "pandas_version": "1.4.0"
              },
              "data": [
                {
                  "0": "int64",
                  "index": "LoanNr_ChkDgt"
                },
                {
                  "0": "object",
                  "index": "Name"
                },
                {
                  "0": "object",
                  "index": "City"
                },
                {
                  "0": "object",
                  "index": "State"
                },
                {
                  "0": "int64",
                  "index": "Zip"
                },
                {
                  "0": "object",
                  "index": "Bank"
                },
                {
                  "0": "object",
                  "index": "BankState"
                },
                {
                  "0": "int64",
                  "index": "NAICS"
                },
                {
                  "0": "object",
                  "index": "ApprovalDate"
                },
                {
                  "0": "object",
                  "index": "ApprovalFY"
                },
                {
                  "0": "int64",
                  "index": "Term"
                },
                {
                  "0": "int64",
                  "index": "NoEmp"
                },
                {
                  "0": "float64",
                  "index": "NewExist"
                },
                {
                  "0": "int64",
                  "index": "CreateJob"
                },
                {
                  "0": "int64",
                  "index": "RetainedJob"
                },
                {
                  "0": "int64",
                  "index": "FranchiseCode"
                },
                {
                  "0": "int64",
                  "index": "UrbanRural"
                },
                {
                  "0": "object",
                  "index": "RevLineCr"
                },
                {
                  "0": "object",
                  "index": "LowDoc"
                },
                {
                  "0": "object",
                  "index": "ChgOffDate"
                },
                {
                  "0": "object",
                  "index": "DisbursementDate"
                },
                {
                  "0": "object",
                  "index": "DisbursementGross"
                },
                {
                  "0": "object",
                  "index": "BalanceGross"
                },
                {
                  "0": "object",
                  "index": "MIS_Status"
                },
                {
                  "0": "object",
                  "index": "ChgOffPrinGr"
                },
                {
                  "0": "object",
                  "index": "GrAppv"
                },
                {
                  "0": "object",
                  "index": "SBA_Appv"
                }
              ],
              "datalink": {
                "display_id": "17384914-5be7-42cc-b885-a602a8d10668"
              }
            }
          },
          "metadata": {
            "application/vnd.dataresource+json": {
              "datalink": {
                "dataframe_info": {
                  "default_index_used": false,
                  "orig_size_bytes": 432,
                  "orig_num_rows": 27,
                  "orig_num_cols": 1,
                  "truncated_string_columns": [],
                  "truncated_size_bytes": 432,
                  "truncated_num_rows": 27,
                  "truncated_num_cols": 1
                },
                "dx_settings": {
                  "NUM_PAST_SAMPLES_TRACKED": 3,
                  "ENABLE_DATALINK": true,
                  "DISPLAY_MODE": "simple",
                  "GENERATE_DEX_METADATA": false,
                  "STRINGIFY_INDEX_VALUES": false,
                  "ALLOW_NOTEABLE_ATTRS": true,
                  "DISPLAY_MAX_COLUMNS": 100,
                  "HTML_TABLE_SCHEMA": false,
                  "SAMPLING_FACTOR": 0.1,
                  "LOG_LEVEL": 30,
                  "ENABLE_ASSIGNMENT": true,
                  "FLATTEN_INDEX_VALUES": false,
                  "DEV_MODE": false,
                  "COLUMN_SAMPLING_METHOD": "outer",
                  "FLATTEN_COLUMN_VALUES": true,
                  "DISPLAY_MAX_ROWS": 50000,
                  "ROW_SAMPLING_METHOD": "random",
                  "RANDOM_STATE": 12648430,
                  "DB_LOCATION": ":memory:",
                  "STRINGIFY_COLUMN_VALUES": true,
                  "SAMPLING_METHOD": "random",
                  "MAX_STRING_LENGTH": 250,
                  "MAX_RENDER_SIZE_BYTES": 104857600,
                  "RESET_INDEX_VALUES": false
                },
                "display_id": "17384914-5be7-42cc-b885-a602a8d10668",
                "applied_filters": [],
                "sample_history": [],
                "sampling_time": "2023-08-08T19:00:54.181176",
                "variable_name": "unk_dataframe_610e3f9924214f4b8c451a83e53b03b1",
                "user_variable_name": null
              },
              "display_id": "17384914-5be7-42cc-b885-a602a8d10668"
            }
          }
        }
      ],
      "execution_count": null,
      "metadata": {
        "noteable": {
          "cell_type": "code"
        },
        "ExecuteTime": {
          "start_time": "2023-08-08T19:00:54.140558+00:00",
          "end_time": "2023-08-08T19:00:54.338810+00:00"
        },
        "datalink": {
          "570b6b9c-534b-4321-933f-6efc2bb33481": {
            "applied_filters": [],
            "dataframe_info": {
              "default_index_used": false,
              "orig_num_cols": 1,
              "orig_num_rows": 27,
              "orig_size_bytes": 432,
              "truncated_num_cols": 1,
              "truncated_num_rows": 27,
              "truncated_size_bytes": 432,
              "truncated_string_columns": []
            },
            "display_id": "570b6b9c-534b-4321-933f-6efc2bb33481",
            "dx_settings": {
              "ALLOW_NOTEABLE_ATTRS": true,
              "COLUMN_SAMPLING_METHOD": "outer",
              "DB_LOCATION": ":memory:",
              "DEV_MODE": false,
              "DISPLAY_MAX_COLUMNS": 100,
              "DISPLAY_MAX_ROWS": 50000,
              "DISPLAY_MODE": "simple",
              "ENABLE_ASSIGNMENT": true,
              "ENABLE_DATALINK": true,
              "FLATTEN_COLUMN_VALUES": true,
              "FLATTEN_INDEX_VALUES": false,
              "GENERATE_DEX_METADATA": false,
              "HTML_TABLE_SCHEMA": false,
              "LOG_LEVEL": 30,
              "MAX_RENDER_SIZE_BYTES": 104857600,
              "MAX_STRING_LENGTH": 250,
              "NUM_PAST_SAMPLES_TRACKED": 3,
              "RANDOM_STATE": 12648430,
              "RESET_INDEX_VALUES": false,
              "ROW_SAMPLING_METHOD": "random",
              "SAMPLING_FACTOR": 0.1,
              "SAMPLING_METHOD": "random",
              "STRINGIFY_COLUMN_VALUES": true,
              "STRINGIFY_INDEX_VALUES": false
            },
            "sample_history": [],
            "sampling_time": "2023-08-07T20:37:45.259110",
            "user_variable_name": null,
            "variable_name": "unk_dataframe_585426c812574a1db7b706100cd72a0b"
          },
          "1a507a01-e94b-4113-b3a9-12d87ade0921": {
            "applied_filters": [],
            "dataframe_info": {
              "default_index_used": false,
              "orig_num_cols": 1,
              "orig_num_rows": 27,
              "orig_size_bytes": 432,
              "truncated_num_cols": 1,
              "truncated_num_rows": 27,
              "truncated_size_bytes": 432,
              "truncated_string_columns": []
            },
            "display_id": "1a507a01-e94b-4113-b3a9-12d87ade0921",
            "dx_settings": {
              "ALLOW_NOTEABLE_ATTRS": true,
              "COLUMN_SAMPLING_METHOD": "outer",
              "DB_LOCATION": ":memory:",
              "DEV_MODE": false,
              "DISPLAY_MAX_COLUMNS": 100,
              "DISPLAY_MAX_ROWS": 50000,
              "DISPLAY_MODE": "simple",
              "ENABLE_ASSIGNMENT": true,
              "ENABLE_DATALINK": true,
              "FLATTEN_COLUMN_VALUES": true,
              "FLATTEN_INDEX_VALUES": false,
              "GENERATE_DEX_METADATA": false,
              "HTML_TABLE_SCHEMA": false,
              "LOG_LEVEL": 30,
              "MAX_RENDER_SIZE_BYTES": 104857600,
              "MAX_STRING_LENGTH": 250,
              "NUM_PAST_SAMPLES_TRACKED": 3,
              "RANDOM_STATE": 12648430,
              "RESET_INDEX_VALUES": false,
              "ROW_SAMPLING_METHOD": "random",
              "SAMPLING_FACTOR": 0.1,
              "SAMPLING_METHOD": "random",
              "STRINGIFY_COLUMN_VALUES": true,
              "STRINGIFY_INDEX_VALUES": false
            },
            "sample_history": [],
            "sampling_time": "2023-08-07T21:03:46.917931",
            "user_variable_name": null,
            "variable_name": "unk_dataframe_4020598e23e842189055bfbfb3d40635"
          },
          "e72439b8-9a5b-4753-8dbb-3a0a62e801d6": {
            "applied_filters": [],
            "dataframe_info": {
              "default_index_used": false,
              "orig_num_cols": 1,
              "orig_num_rows": 27,
              "orig_size_bytes": 432,
              "truncated_num_cols": 1,
              "truncated_num_rows": 27,
              "truncated_size_bytes": 432,
              "truncated_string_columns": []
            },
            "display_id": "e72439b8-9a5b-4753-8dbb-3a0a62e801d6",
            "dx_settings": {
              "ALLOW_NOTEABLE_ATTRS": true,
              "COLUMN_SAMPLING_METHOD": "outer",
              "DB_LOCATION": ":memory:",
              "DEV_MODE": false,
              "DISPLAY_MAX_COLUMNS": 100,
              "DISPLAY_MAX_ROWS": 50000,
              "DISPLAY_MODE": "simple",
              "ENABLE_ASSIGNMENT": true,
              "ENABLE_DATALINK": true,
              "FLATTEN_COLUMN_VALUES": true,
              "FLATTEN_INDEX_VALUES": false,
              "GENERATE_DEX_METADATA": false,
              "HTML_TABLE_SCHEMA": false,
              "LOG_LEVEL": 30,
              "MAX_RENDER_SIZE_BYTES": 104857600,
              "MAX_STRING_LENGTH": 250,
              "NUM_PAST_SAMPLES_TRACKED": 3,
              "RANDOM_STATE": 12648430,
              "RESET_INDEX_VALUES": false,
              "ROW_SAMPLING_METHOD": "random",
              "SAMPLING_FACTOR": 0.1,
              "SAMPLING_METHOD": "random",
              "STRINGIFY_COLUMN_VALUES": true,
              "STRINGIFY_INDEX_VALUES": false
            },
            "sample_history": [],
            "sampling_time": "2023-08-07T21:06:04.968631",
            "user_variable_name": null,
            "variable_name": "unk_dataframe_d989f9d9c96044818cd170d0d0031881"
          },
          "5d0b358a-d61b-408d-a188-be228cda6c2d": {
            "applied_filters": [],
            "dataframe_info": {
              "default_index_used": false,
              "orig_num_cols": 1,
              "orig_num_rows": 27,
              "orig_size_bytes": 432,
              "truncated_num_cols": 1,
              "truncated_num_rows": 27,
              "truncated_size_bytes": 432,
              "truncated_string_columns": []
            },
            "display_id": "5d0b358a-d61b-408d-a188-be228cda6c2d",
            "dx_settings": {
              "ALLOW_NOTEABLE_ATTRS": true,
              "COLUMN_SAMPLING_METHOD": "outer",
              "DB_LOCATION": ":memory:",
              "DEV_MODE": false,
              "DISPLAY_MAX_COLUMNS": 100,
              "DISPLAY_MAX_ROWS": 50000,
              "DISPLAY_MODE": "simple",
              "ENABLE_ASSIGNMENT": true,
              "ENABLE_DATALINK": true,
              "FLATTEN_COLUMN_VALUES": true,
              "FLATTEN_INDEX_VALUES": false,
              "GENERATE_DEX_METADATA": false,
              "HTML_TABLE_SCHEMA": false,
              "LOG_LEVEL": 30,
              "MAX_RENDER_SIZE_BYTES": 104857600,
              "MAX_STRING_LENGTH": 250,
              "NUM_PAST_SAMPLES_TRACKED": 3,
              "RANDOM_STATE": 12648430,
              "RESET_INDEX_VALUES": false,
              "ROW_SAMPLING_METHOD": "random",
              "SAMPLING_FACTOR": 0.1,
              "SAMPLING_METHOD": "random",
              "STRINGIFY_COLUMN_VALUES": true,
              "STRINGIFY_INDEX_VALUES": false
            },
            "sample_history": [],
            "sampling_time": "2023-08-07T21:24:01.260451",
            "user_variable_name": null,
            "variable_name": "unk_dataframe_12b72489289e45a99ead1be4571608df"
          },
          "bde3f41b-1400-4025-9b0b-74be6c3252a7": {
            "applied_filters": [],
            "dataframe_info": {
              "default_index_used": false,
              "orig_num_cols": 1,
              "orig_num_rows": 27,
              "orig_size_bytes": 432,
              "truncated_num_cols": 1,
              "truncated_num_rows": 27,
              "truncated_size_bytes": 432,
              "truncated_string_columns": []
            },
            "display_id": "bde3f41b-1400-4025-9b0b-74be6c3252a7",
            "dx_settings": {
              "ALLOW_NOTEABLE_ATTRS": true,
              "COLUMN_SAMPLING_METHOD": "outer",
              "DB_LOCATION": ":memory:",
              "DEV_MODE": false,
              "DISPLAY_MAX_COLUMNS": 100,
              "DISPLAY_MAX_ROWS": 50000,
              "DISPLAY_MODE": "simple",
              "ENABLE_ASSIGNMENT": true,
              "ENABLE_DATALINK": true,
              "FLATTEN_COLUMN_VALUES": true,
              "FLATTEN_INDEX_VALUES": false,
              "GENERATE_DEX_METADATA": false,
              "HTML_TABLE_SCHEMA": false,
              "LOG_LEVEL": 30,
              "MAX_RENDER_SIZE_BYTES": 104857600,
              "MAX_STRING_LENGTH": 250,
              "NUM_PAST_SAMPLES_TRACKED": 3,
              "RANDOM_STATE": 12648430,
              "RESET_INDEX_VALUES": false,
              "ROW_SAMPLING_METHOD": "random",
              "SAMPLING_FACTOR": 0.1,
              "SAMPLING_METHOD": "random",
              "STRINGIFY_COLUMN_VALUES": true,
              "STRINGIFY_INDEX_VALUES": false
            },
            "sample_history": [],
            "sampling_time": "2023-08-07T21:30:38.867802",
            "user_variable_name": null,
            "variable_name": "unk_dataframe_cd0deaa263e042eea9ae24b15e4ad2b8"
          },
          "a27f9e0d-e951-4d5b-a225-5c0dc8fbd447": {
            "applied_filters": [],
            "dataframe_info": {
              "default_index_used": false,
              "orig_num_cols": 1,
              "orig_num_rows": 27,
              "orig_size_bytes": 432,
              "truncated_num_cols": 1,
              "truncated_num_rows": 27,
              "truncated_size_bytes": 432,
              "truncated_string_columns": []
            },
            "display_id": "a27f9e0d-e951-4d5b-a225-5c0dc8fbd447",
            "dx_settings": {
              "ALLOW_NOTEABLE_ATTRS": true,
              "COLUMN_SAMPLING_METHOD": "outer",
              "DB_LOCATION": ":memory:",
              "DEV_MODE": false,
              "DISPLAY_MAX_COLUMNS": 100,
              "DISPLAY_MAX_ROWS": 50000,
              "DISPLAY_MODE": "simple",
              "ENABLE_ASSIGNMENT": true,
              "ENABLE_DATALINK": true,
              "FLATTEN_COLUMN_VALUES": true,
              "FLATTEN_INDEX_VALUES": false,
              "GENERATE_DEX_METADATA": false,
              "HTML_TABLE_SCHEMA": false,
              "LOG_LEVEL": 30,
              "MAX_RENDER_SIZE_BYTES": 104857600,
              "MAX_STRING_LENGTH": 250,
              "NUM_PAST_SAMPLES_TRACKED": 3,
              "RANDOM_STATE": 12648430,
              "RESET_INDEX_VALUES": false,
              "ROW_SAMPLING_METHOD": "random",
              "SAMPLING_FACTOR": 0.1,
              "SAMPLING_METHOD": "random",
              "STRINGIFY_COLUMN_VALUES": true,
              "STRINGIFY_INDEX_VALUES": false
            },
            "sample_history": [],
            "sampling_time": "2023-08-07T21:34:11.584873",
            "user_variable_name": null,
            "variable_name": "unk_dataframe_3a1d46620ea34e22a2d5dab2063587d3"
          },
          "1eeab4cb-6143-4b5e-aa0a-54e8b55fd352": {
            "applied_filters": [],
            "dataframe_info": {
              "default_index_used": false,
              "orig_num_cols": 1,
              "orig_num_rows": 27,
              "orig_size_bytes": 432,
              "truncated_num_cols": 1,
              "truncated_num_rows": 27,
              "truncated_size_bytes": 432,
              "truncated_string_columns": []
            },
            "display_id": "1eeab4cb-6143-4b5e-aa0a-54e8b55fd352",
            "dx_settings": {
              "ALLOW_NOTEABLE_ATTRS": true,
              "COLUMN_SAMPLING_METHOD": "outer",
              "DB_LOCATION": ":memory:",
              "DEV_MODE": false,
              "DISPLAY_MAX_COLUMNS": 100,
              "DISPLAY_MAX_ROWS": 50000,
              "DISPLAY_MODE": "simple",
              "ENABLE_ASSIGNMENT": true,
              "ENABLE_DATALINK": true,
              "FLATTEN_COLUMN_VALUES": true,
              "FLATTEN_INDEX_VALUES": false,
              "GENERATE_DEX_METADATA": false,
              "HTML_TABLE_SCHEMA": false,
              "LOG_LEVEL": 30,
              "MAX_RENDER_SIZE_BYTES": 104857600,
              "MAX_STRING_LENGTH": 250,
              "NUM_PAST_SAMPLES_TRACKED": 3,
              "RANDOM_STATE": 12648430,
              "RESET_INDEX_VALUES": false,
              "ROW_SAMPLING_METHOD": "random",
              "SAMPLING_FACTOR": 0.1,
              "SAMPLING_METHOD": "random",
              "STRINGIFY_COLUMN_VALUES": true,
              "STRINGIFY_INDEX_VALUES": false
            },
            "sample_history": [],
            "sampling_time": "2023-08-08T01:40:33.542374",
            "user_variable_name": null,
            "variable_name": "unk_dataframe_f09502e023f74bdfbaa2844aa06491f2"
          },
          "745f6d47-a7b3-4c89-97c9-93e4e35f218a": {
            "applied_filters": [],
            "dataframe_info": {
              "default_index_used": false,
              "orig_num_cols": 1,
              "orig_num_rows": 27,
              "orig_size_bytes": 432,
              "truncated_num_cols": 1,
              "truncated_num_rows": 27,
              "truncated_size_bytes": 432,
              "truncated_string_columns": []
            },
            "display_id": "745f6d47-a7b3-4c89-97c9-93e4e35f218a",
            "dx_settings": {
              "ALLOW_NOTEABLE_ATTRS": true,
              "COLUMN_SAMPLING_METHOD": "outer",
              "DB_LOCATION": ":memory:",
              "DEV_MODE": false,
              "DISPLAY_MAX_COLUMNS": 100,
              "DISPLAY_MAX_ROWS": 50000,
              "DISPLAY_MODE": "simple",
              "ENABLE_ASSIGNMENT": true,
              "ENABLE_DATALINK": true,
              "FLATTEN_COLUMN_VALUES": true,
              "FLATTEN_INDEX_VALUES": false,
              "GENERATE_DEX_METADATA": false,
              "HTML_TABLE_SCHEMA": false,
              "LOG_LEVEL": 30,
              "MAX_RENDER_SIZE_BYTES": 104857600,
              "MAX_STRING_LENGTH": 250,
              "NUM_PAST_SAMPLES_TRACKED": 3,
              "RANDOM_STATE": 12648430,
              "RESET_INDEX_VALUES": false,
              "ROW_SAMPLING_METHOD": "random",
              "SAMPLING_FACTOR": 0.1,
              "SAMPLING_METHOD": "random",
              "STRINGIFY_COLUMN_VALUES": true,
              "STRINGIFY_INDEX_VALUES": false
            },
            "sample_history": [],
            "sampling_time": "2023-08-08T01:46:55.264549",
            "user_variable_name": null,
            "variable_name": "unk_dataframe_63f5a6a57fdd46e09bb8946f5028f35b"
          },
          "98a586c9-52c8-41c9-8907-059808d3184b": {
            "applied_filters": [],
            "dataframe_info": {
              "default_index_used": false,
              "orig_num_cols": 1,
              "orig_num_rows": 27,
              "orig_size_bytes": 432,
              "truncated_num_cols": 1,
              "truncated_num_rows": 27,
              "truncated_size_bytes": 432,
              "truncated_string_columns": []
            },
            "display_id": "98a586c9-52c8-41c9-8907-059808d3184b",
            "dx_settings": {
              "ALLOW_NOTEABLE_ATTRS": true,
              "COLUMN_SAMPLING_METHOD": "outer",
              "DB_LOCATION": ":memory:",
              "DEV_MODE": false,
              "DISPLAY_MAX_COLUMNS": 100,
              "DISPLAY_MAX_ROWS": 50000,
              "DISPLAY_MODE": "simple",
              "ENABLE_ASSIGNMENT": true,
              "ENABLE_DATALINK": true,
              "FLATTEN_COLUMN_VALUES": true,
              "FLATTEN_INDEX_VALUES": false,
              "GENERATE_DEX_METADATA": false,
              "HTML_TABLE_SCHEMA": false,
              "LOG_LEVEL": 30,
              "MAX_RENDER_SIZE_BYTES": 104857600,
              "MAX_STRING_LENGTH": 250,
              "NUM_PAST_SAMPLES_TRACKED": 3,
              "RANDOM_STATE": 12648430,
              "RESET_INDEX_VALUES": false,
              "ROW_SAMPLING_METHOD": "random",
              "SAMPLING_FACTOR": 0.1,
              "SAMPLING_METHOD": "random",
              "STRINGIFY_COLUMN_VALUES": true,
              "STRINGIFY_INDEX_VALUES": false
            },
            "sample_history": [],
            "sampling_time": "2023-08-08T04:04:53.462770",
            "user_variable_name": null,
            "variable_name": "unk_dataframe_8f3b48634e604e328bd1ecb9cbe7f79f"
          },
          "55a0d4d3-25ea-48c4-99da-78438e4d556f": {
            "applied_filters": [],
            "dataframe_info": {
              "default_index_used": false,
              "orig_num_cols": 1,
              "orig_num_rows": 27,
              "orig_size_bytes": 432,
              "truncated_num_cols": 1,
              "truncated_num_rows": 27,
              "truncated_size_bytes": 432,
              "truncated_string_columns": []
            },
            "display_id": "55a0d4d3-25ea-48c4-99da-78438e4d556f",
            "dx_settings": {
              "ALLOW_NOTEABLE_ATTRS": true,
              "COLUMN_SAMPLING_METHOD": "outer",
              "DB_LOCATION": ":memory:",
              "DEV_MODE": false,
              "DISPLAY_MAX_COLUMNS": 100,
              "DISPLAY_MAX_ROWS": 50000,
              "DISPLAY_MODE": "simple",
              "ENABLE_ASSIGNMENT": true,
              "ENABLE_DATALINK": true,
              "FLATTEN_COLUMN_VALUES": true,
              "FLATTEN_INDEX_VALUES": false,
              "GENERATE_DEX_METADATA": false,
              "HTML_TABLE_SCHEMA": false,
              "LOG_LEVEL": 30,
              "MAX_RENDER_SIZE_BYTES": 104857600,
              "MAX_STRING_LENGTH": 250,
              "NUM_PAST_SAMPLES_TRACKED": 3,
              "RANDOM_STATE": 12648430,
              "RESET_INDEX_VALUES": false,
              "ROW_SAMPLING_METHOD": "random",
              "SAMPLING_FACTOR": 0.1,
              "SAMPLING_METHOD": "random",
              "STRINGIFY_COLUMN_VALUES": true,
              "STRINGIFY_INDEX_VALUES": false
            },
            "sample_history": [],
            "sampling_time": "2023-08-08T16:48:53.961197",
            "user_variable_name": null,
            "variable_name": "unk_dataframe_7a6e048775cb4d7ab5e7465d22166be5"
          },
          "17384914-5be7-42cc-b885-a602a8d10668": {
            "dataframe_info": {
              "default_index_used": false,
              "orig_size_bytes": 432,
              "orig_num_rows": 27,
              "orig_num_cols": 1,
              "truncated_string_columns": [],
              "truncated_size_bytes": 432,
              "truncated_num_rows": 27,
              "truncated_num_cols": 1
            },
            "dx_settings": {
              "LOG_LEVEL": 30,
              "DEV_MODE": false,
              "DISPLAY_MAX_ROWS": 50000,
              "DISPLAY_MAX_COLUMNS": 100,
              "HTML_TABLE_SCHEMA": false,
              "MAX_RENDER_SIZE_BYTES": 104857600,
              "MAX_STRING_LENGTH": 250,
              "SAMPLING_FACTOR": 0.1,
              "DISPLAY_MODE": "simple",
              "SAMPLING_METHOD": "random",
              "COLUMN_SAMPLING_METHOD": "outer",
              "ROW_SAMPLING_METHOD": "random",
              "RANDOM_STATE": 12648430,
              "RESET_INDEX_VALUES": false,
              "FLATTEN_INDEX_VALUES": false,
              "FLATTEN_COLUMN_VALUES": true,
              "STRINGIFY_INDEX_VALUES": false,
              "STRINGIFY_COLUMN_VALUES": true,
              "ENABLE_DATALINK": true,
              "ENABLE_ASSIGNMENT": true,
              "NUM_PAST_SAMPLES_TRACKED": 3,
              "DB_LOCATION": ":memory:",
              "GENERATE_DEX_METADATA": false,
              "ALLOW_NOTEABLE_ATTRS": true
            },
            "display_id": "17384914-5be7-42cc-b885-a602a8d10668",
            "applied_filters": [],
            "sample_history": [],
            "sampling_time": "2023-08-08T19:00:54.181176",
            "variable_name": "unk_dataframe_610e3f9924214f4b8c451a83e53b03b1",
            "user_variable_name": null
          }
        }
      },
      "id": "24e67ffb-8bf5-4bd7-b797-41276ac8360d"
    },
    {
      "cell_type": "code",
      "source": [
        "# Check for missing values in each column\n",
        "missing_values = data.isnull().sum()\n",
        "missing_values[missing_values > 0]"
      ],
      "outputs": [
        {
          "output_type": "display_data",
          "data": {
            "application/vnd.dataresource+json": {
              "schema": {
                "fields": [
                  {
                    "name": "index",
                    "type": "string"
                  },
                  {
                    "name": "0",
                    "type": "integer"
                  }
                ],
                "primaryKey": [
                  "index"
                ],
                "pandas_version": "1.4.0"
              },
              "data": [
                {
                  "0": 14,
                  "index": "Name"
                },
                {
                  "0": 30,
                  "index": "City"
                },
                {
                  "0": 14,
                  "index": "State"
                },
                {
                  "0": 1559,
                  "index": "Bank"
                },
                {
                  "0": 1566,
                  "index": "BankState"
                },
                {
                  "0": 136,
                  "index": "NewExist"
                },
                {
                  "0": 4528,
                  "index": "RevLineCr"
                },
                {
                  "0": 2582,
                  "index": "LowDoc"
                },
                {
                  "0": 736465,
                  "index": "ChgOffDate"
                },
                {
                  "0": 2368,
                  "index": "DisbursementDate"
                },
                {
                  "0": 1997,
                  "index": "MIS_Status"
                }
              ],
              "datalink": {
                "display_id": "1399d3b4-75ec-452c-8583-09048ff7fed7"
              }
            }
          },
          "metadata": {
            "application/vnd.dataresource+json": {
              "datalink": {
                "dataframe_info": {
                  "default_index_used": false,
                  "orig_size_bytes": 176,
                  "orig_num_rows": 11,
                  "orig_num_cols": 1,
                  "truncated_string_columns": [],
                  "truncated_size_bytes": 176,
                  "truncated_num_rows": 11,
                  "truncated_num_cols": 1
                },
                "dx_settings": {
                  "NUM_PAST_SAMPLES_TRACKED": 3,
                  "ENABLE_DATALINK": true,
                  "DISPLAY_MODE": "simple",
                  "GENERATE_DEX_METADATA": false,
                  "STRINGIFY_INDEX_VALUES": false,
                  "ALLOW_NOTEABLE_ATTRS": true,
                  "DISPLAY_MAX_COLUMNS": 100,
                  "HTML_TABLE_SCHEMA": false,
                  "SAMPLING_FACTOR": 0.1,
                  "LOG_LEVEL": 30,
                  "ENABLE_ASSIGNMENT": true,
                  "FLATTEN_INDEX_VALUES": false,
                  "DEV_MODE": false,
                  "COLUMN_SAMPLING_METHOD": "outer",
                  "FLATTEN_COLUMN_VALUES": true,
                  "DISPLAY_MAX_ROWS": 50000,
                  "ROW_SAMPLING_METHOD": "random",
                  "RANDOM_STATE": 12648430,
                  "DB_LOCATION": ":memory:",
                  "STRINGIFY_COLUMN_VALUES": true,
                  "SAMPLING_METHOD": "random",
                  "MAX_STRING_LENGTH": 250,
                  "MAX_RENDER_SIZE_BYTES": 104857600,
                  "RESET_INDEX_VALUES": false
                },
                "display_id": "1399d3b4-75ec-452c-8583-09048ff7fed7",
                "applied_filters": [],
                "sample_history": [],
                "sampling_time": "2023-08-08T19:00:57.112413",
                "variable_name": "unk_dataframe_b4ce8a0fa3c8451d91847820d0368d32",
                "user_variable_name": null
              },
              "display_id": "1399d3b4-75ec-452c-8583-09048ff7fed7"
            }
          }
        }
      ],
      "execution_count": null,
      "metadata": {
        "noteable": {
          "cell_type": "code"
        },
        "ExecuteTime": {
          "start_time": "2023-08-08T19:00:54.363549+00:00",
          "end_time": "2023-08-08T19:00:57.268432+00:00"
        },
        "datalink": {
          "853d4e01-c654-4c3b-a21b-b84bca5b071a": {
            "applied_filters": [],
            "dataframe_info": {
              "default_index_used": false,
              "orig_num_cols": 1,
              "orig_num_rows": 11,
              "orig_size_bytes": 176,
              "truncated_num_cols": 1,
              "truncated_num_rows": 11,
              "truncated_size_bytes": 176,
              "truncated_string_columns": []
            },
            "display_id": "853d4e01-c654-4c3b-a21b-b84bca5b071a",
            "dx_settings": {
              "ALLOW_NOTEABLE_ATTRS": true,
              "COLUMN_SAMPLING_METHOD": "outer",
              "DB_LOCATION": ":memory:",
              "DEV_MODE": false,
              "DISPLAY_MAX_COLUMNS": 100,
              "DISPLAY_MAX_ROWS": 50000,
              "DISPLAY_MODE": "simple",
              "ENABLE_ASSIGNMENT": true,
              "ENABLE_DATALINK": true,
              "FLATTEN_COLUMN_VALUES": true,
              "FLATTEN_INDEX_VALUES": false,
              "GENERATE_DEX_METADATA": false,
              "HTML_TABLE_SCHEMA": false,
              "LOG_LEVEL": 30,
              "MAX_RENDER_SIZE_BYTES": 104857600,
              "MAX_STRING_LENGTH": 250,
              "NUM_PAST_SAMPLES_TRACKED": 3,
              "RANDOM_STATE": 12648430,
              "RESET_INDEX_VALUES": false,
              "ROW_SAMPLING_METHOD": "random",
              "SAMPLING_FACTOR": 0.1,
              "SAMPLING_METHOD": "random",
              "STRINGIFY_COLUMN_VALUES": true,
              "STRINGIFY_INDEX_VALUES": false
            },
            "sample_history": [],
            "sampling_time": "2023-08-07T20:38:11.727968",
            "user_variable_name": null,
            "variable_name": "unk_dataframe_cc7931842348478f885995f23d74e72b"
          },
          "f4cdb331-9c28-42d8-85f9-9a34a6e96322": {
            "applied_filters": [],
            "dataframe_info": {
              "default_index_used": false,
              "orig_num_cols": 1,
              "orig_num_rows": 11,
              "orig_size_bytes": 176,
              "truncated_num_cols": 1,
              "truncated_num_rows": 11,
              "truncated_size_bytes": 176,
              "truncated_string_columns": []
            },
            "display_id": "f4cdb331-9c28-42d8-85f9-9a34a6e96322",
            "dx_settings": {
              "ALLOW_NOTEABLE_ATTRS": true,
              "COLUMN_SAMPLING_METHOD": "outer",
              "DB_LOCATION": ":memory:",
              "DEV_MODE": false,
              "DISPLAY_MAX_COLUMNS": 100,
              "DISPLAY_MAX_ROWS": 50000,
              "DISPLAY_MODE": "simple",
              "ENABLE_ASSIGNMENT": true,
              "ENABLE_DATALINK": true,
              "FLATTEN_COLUMN_VALUES": true,
              "FLATTEN_INDEX_VALUES": false,
              "GENERATE_DEX_METADATA": false,
              "HTML_TABLE_SCHEMA": false,
              "LOG_LEVEL": 30,
              "MAX_RENDER_SIZE_BYTES": 104857600,
              "MAX_STRING_LENGTH": 250,
              "NUM_PAST_SAMPLES_TRACKED": 3,
              "RANDOM_STATE": 12648430,
              "RESET_INDEX_VALUES": false,
              "ROW_SAMPLING_METHOD": "random",
              "SAMPLING_FACTOR": 0.1,
              "SAMPLING_METHOD": "random",
              "STRINGIFY_COLUMN_VALUES": true,
              "STRINGIFY_INDEX_VALUES": false
            },
            "sample_history": [],
            "sampling_time": "2023-08-07T21:03:49.648332",
            "user_variable_name": null,
            "variable_name": "unk_dataframe_0583d31ff04f4d63ab38a38c0b422491"
          },
          "2f073f8f-b9ca-4d6a-b7a3-4dacf70f4a52": {
            "applied_filters": [],
            "dataframe_info": {
              "default_index_used": false,
              "orig_num_cols": 1,
              "orig_num_rows": 11,
              "orig_size_bytes": 176,
              "truncated_num_cols": 1,
              "truncated_num_rows": 11,
              "truncated_size_bytes": 176,
              "truncated_string_columns": []
            },
            "display_id": "2f073f8f-b9ca-4d6a-b7a3-4dacf70f4a52",
            "dx_settings": {
              "ALLOW_NOTEABLE_ATTRS": true,
              "COLUMN_SAMPLING_METHOD": "outer",
              "DB_LOCATION": ":memory:",
              "DEV_MODE": false,
              "DISPLAY_MAX_COLUMNS": 100,
              "DISPLAY_MAX_ROWS": 50000,
              "DISPLAY_MODE": "simple",
              "ENABLE_ASSIGNMENT": true,
              "ENABLE_DATALINK": true,
              "FLATTEN_COLUMN_VALUES": true,
              "FLATTEN_INDEX_VALUES": false,
              "GENERATE_DEX_METADATA": false,
              "HTML_TABLE_SCHEMA": false,
              "LOG_LEVEL": 30,
              "MAX_RENDER_SIZE_BYTES": 104857600,
              "MAX_STRING_LENGTH": 250,
              "NUM_PAST_SAMPLES_TRACKED": 3,
              "RANDOM_STATE": 12648430,
              "RESET_INDEX_VALUES": false,
              "ROW_SAMPLING_METHOD": "random",
              "SAMPLING_FACTOR": 0.1,
              "SAMPLING_METHOD": "random",
              "STRINGIFY_COLUMN_VALUES": true,
              "STRINGIFY_INDEX_VALUES": false
            },
            "sample_history": [],
            "sampling_time": "2023-08-07T21:06:07.788502",
            "user_variable_name": null,
            "variable_name": "unk_dataframe_6c1c024150424acd97d41e986a7cfd18"
          },
          "a366e63e-6cc7-4d72-89ce-8431333592c7": {
            "applied_filters": [],
            "dataframe_info": {
              "default_index_used": false,
              "orig_num_cols": 1,
              "orig_num_rows": 11,
              "orig_size_bytes": 176,
              "truncated_num_cols": 1,
              "truncated_num_rows": 11,
              "truncated_size_bytes": 176,
              "truncated_string_columns": []
            },
            "display_id": "a366e63e-6cc7-4d72-89ce-8431333592c7",
            "dx_settings": {
              "ALLOW_NOTEABLE_ATTRS": true,
              "COLUMN_SAMPLING_METHOD": "outer",
              "DB_LOCATION": ":memory:",
              "DEV_MODE": false,
              "DISPLAY_MAX_COLUMNS": 100,
              "DISPLAY_MAX_ROWS": 50000,
              "DISPLAY_MODE": "simple",
              "ENABLE_ASSIGNMENT": true,
              "ENABLE_DATALINK": true,
              "FLATTEN_COLUMN_VALUES": true,
              "FLATTEN_INDEX_VALUES": false,
              "GENERATE_DEX_METADATA": false,
              "HTML_TABLE_SCHEMA": false,
              "LOG_LEVEL": 30,
              "MAX_RENDER_SIZE_BYTES": 104857600,
              "MAX_STRING_LENGTH": 250,
              "NUM_PAST_SAMPLES_TRACKED": 3,
              "RANDOM_STATE": 12648430,
              "RESET_INDEX_VALUES": false,
              "ROW_SAMPLING_METHOD": "random",
              "SAMPLING_FACTOR": 0.1,
              "SAMPLING_METHOD": "random",
              "STRINGIFY_COLUMN_VALUES": true,
              "STRINGIFY_INDEX_VALUES": false
            },
            "sample_history": [],
            "sampling_time": "2023-08-07T21:24:03.957692",
            "user_variable_name": null,
            "variable_name": "unk_dataframe_69ee880d9be44655be3c07d7fa055f65"
          },
          "925f706a-c8a9-497c-8be6-758726b1fa5e": {
            "applied_filters": [],
            "dataframe_info": {
              "default_index_used": false,
              "orig_num_cols": 1,
              "orig_num_rows": 11,
              "orig_size_bytes": 176,
              "truncated_num_cols": 1,
              "truncated_num_rows": 11,
              "truncated_size_bytes": 176,
              "truncated_string_columns": []
            },
            "display_id": "925f706a-c8a9-497c-8be6-758726b1fa5e",
            "dx_settings": {
              "ALLOW_NOTEABLE_ATTRS": true,
              "COLUMN_SAMPLING_METHOD": "outer",
              "DB_LOCATION": ":memory:",
              "DEV_MODE": false,
              "DISPLAY_MAX_COLUMNS": 100,
              "DISPLAY_MAX_ROWS": 50000,
              "DISPLAY_MODE": "simple",
              "ENABLE_ASSIGNMENT": true,
              "ENABLE_DATALINK": true,
              "FLATTEN_COLUMN_VALUES": true,
              "FLATTEN_INDEX_VALUES": false,
              "GENERATE_DEX_METADATA": false,
              "HTML_TABLE_SCHEMA": false,
              "LOG_LEVEL": 30,
              "MAX_RENDER_SIZE_BYTES": 104857600,
              "MAX_STRING_LENGTH": 250,
              "NUM_PAST_SAMPLES_TRACKED": 3,
              "RANDOM_STATE": 12648430,
              "RESET_INDEX_VALUES": false,
              "ROW_SAMPLING_METHOD": "random",
              "SAMPLING_FACTOR": 0.1,
              "SAMPLING_METHOD": "random",
              "STRINGIFY_COLUMN_VALUES": true,
              "STRINGIFY_INDEX_VALUES": false
            },
            "sample_history": [],
            "sampling_time": "2023-08-07T21:30:41.647001",
            "user_variable_name": null,
            "variable_name": "unk_dataframe_81cc819242394715bd6db2ccd8afa3a1"
          },
          "f07a61fb-784e-4f79-a41a-ed6336c8147c": {
            "applied_filters": [],
            "dataframe_info": {
              "default_index_used": false,
              "orig_num_cols": 1,
              "orig_num_rows": 11,
              "orig_size_bytes": 176,
              "truncated_num_cols": 1,
              "truncated_num_rows": 11,
              "truncated_size_bytes": 176,
              "truncated_string_columns": []
            },
            "display_id": "f07a61fb-784e-4f79-a41a-ed6336c8147c",
            "dx_settings": {
              "ALLOW_NOTEABLE_ATTRS": true,
              "COLUMN_SAMPLING_METHOD": "outer",
              "DB_LOCATION": ":memory:",
              "DEV_MODE": false,
              "DISPLAY_MAX_COLUMNS": 100,
              "DISPLAY_MAX_ROWS": 50000,
              "DISPLAY_MODE": "simple",
              "ENABLE_ASSIGNMENT": true,
              "ENABLE_DATALINK": true,
              "FLATTEN_COLUMN_VALUES": true,
              "FLATTEN_INDEX_VALUES": false,
              "GENERATE_DEX_METADATA": false,
              "HTML_TABLE_SCHEMA": false,
              "LOG_LEVEL": 30,
              "MAX_RENDER_SIZE_BYTES": 104857600,
              "MAX_STRING_LENGTH": 250,
              "NUM_PAST_SAMPLES_TRACKED": 3,
              "RANDOM_STATE": 12648430,
              "RESET_INDEX_VALUES": false,
              "ROW_SAMPLING_METHOD": "random",
              "SAMPLING_FACTOR": 0.1,
              "SAMPLING_METHOD": "random",
              "STRINGIFY_COLUMN_VALUES": true,
              "STRINGIFY_INDEX_VALUES": false
            },
            "sample_history": [],
            "sampling_time": "2023-08-07T21:34:14.199147",
            "user_variable_name": null,
            "variable_name": "unk_dataframe_013ea5930a3c416aad7ae691975de2d3"
          },
          "b7865b94-a2e7-4052-b991-37666752aae7": {
            "applied_filters": [],
            "dataframe_info": {
              "default_index_used": false,
              "orig_num_cols": 1,
              "orig_num_rows": 11,
              "orig_size_bytes": 176,
              "truncated_num_cols": 1,
              "truncated_num_rows": 11,
              "truncated_size_bytes": 176,
              "truncated_string_columns": []
            },
            "display_id": "b7865b94-a2e7-4052-b991-37666752aae7",
            "dx_settings": {
              "ALLOW_NOTEABLE_ATTRS": true,
              "COLUMN_SAMPLING_METHOD": "outer",
              "DB_LOCATION": ":memory:",
              "DEV_MODE": false,
              "DISPLAY_MAX_COLUMNS": 100,
              "DISPLAY_MAX_ROWS": 50000,
              "DISPLAY_MODE": "simple",
              "ENABLE_ASSIGNMENT": true,
              "ENABLE_DATALINK": true,
              "FLATTEN_COLUMN_VALUES": true,
              "FLATTEN_INDEX_VALUES": false,
              "GENERATE_DEX_METADATA": false,
              "HTML_TABLE_SCHEMA": false,
              "LOG_LEVEL": 30,
              "MAX_RENDER_SIZE_BYTES": 104857600,
              "MAX_STRING_LENGTH": 250,
              "NUM_PAST_SAMPLES_TRACKED": 3,
              "RANDOM_STATE": 12648430,
              "RESET_INDEX_VALUES": false,
              "ROW_SAMPLING_METHOD": "random",
              "SAMPLING_FACTOR": 0.1,
              "SAMPLING_METHOD": "random",
              "STRINGIFY_COLUMN_VALUES": true,
              "STRINGIFY_INDEX_VALUES": false
            },
            "sample_history": [],
            "sampling_time": "2023-08-08T01:40:41.710352",
            "user_variable_name": null,
            "variable_name": "unk_dataframe_5d8fca988b0a47d8a23eda70a3cbf638"
          },
          "fffe3ae6-812e-4199-a166-f5679a99a957": {
            "applied_filters": [],
            "dataframe_info": {
              "default_index_used": false,
              "orig_num_cols": 1,
              "orig_num_rows": 11,
              "orig_size_bytes": 176,
              "truncated_num_cols": 1,
              "truncated_num_rows": 11,
              "truncated_size_bytes": 176,
              "truncated_string_columns": []
            },
            "display_id": "fffe3ae6-812e-4199-a166-f5679a99a957",
            "dx_settings": {
              "ALLOW_NOTEABLE_ATTRS": true,
              "COLUMN_SAMPLING_METHOD": "outer",
              "DB_LOCATION": ":memory:",
              "DEV_MODE": false,
              "DISPLAY_MAX_COLUMNS": 100,
              "DISPLAY_MAX_ROWS": 50000,
              "DISPLAY_MODE": "simple",
              "ENABLE_ASSIGNMENT": true,
              "ENABLE_DATALINK": true,
              "FLATTEN_COLUMN_VALUES": true,
              "FLATTEN_INDEX_VALUES": false,
              "GENERATE_DEX_METADATA": false,
              "HTML_TABLE_SCHEMA": false,
              "LOG_LEVEL": 30,
              "MAX_RENDER_SIZE_BYTES": 104857600,
              "MAX_STRING_LENGTH": 250,
              "NUM_PAST_SAMPLES_TRACKED": 3,
              "RANDOM_STATE": 12648430,
              "RESET_INDEX_VALUES": false,
              "ROW_SAMPLING_METHOD": "random",
              "SAMPLING_FACTOR": 0.1,
              "SAMPLING_METHOD": "random",
              "STRINGIFY_COLUMN_VALUES": true,
              "STRINGIFY_INDEX_VALUES": false
            },
            "sample_history": [],
            "sampling_time": "2023-08-08T01:46:57.994287",
            "user_variable_name": null,
            "variable_name": "unk_dataframe_2698fa0b9c9c421588a798b151fe37ad"
          },
          "907fc660-fbc9-451e-9f22-831764783966": {
            "applied_filters": [],
            "dataframe_info": {
              "default_index_used": false,
              "orig_num_cols": 1,
              "orig_num_rows": 11,
              "orig_size_bytes": 176,
              "truncated_num_cols": 1,
              "truncated_num_rows": 11,
              "truncated_size_bytes": 176,
              "truncated_string_columns": []
            },
            "display_id": "907fc660-fbc9-451e-9f22-831764783966",
            "dx_settings": {
              "ALLOW_NOTEABLE_ATTRS": true,
              "COLUMN_SAMPLING_METHOD": "outer",
              "DB_LOCATION": ":memory:",
              "DEV_MODE": false,
              "DISPLAY_MAX_COLUMNS": 100,
              "DISPLAY_MAX_ROWS": 50000,
              "DISPLAY_MODE": "simple",
              "ENABLE_ASSIGNMENT": true,
              "ENABLE_DATALINK": true,
              "FLATTEN_COLUMN_VALUES": true,
              "FLATTEN_INDEX_VALUES": false,
              "GENERATE_DEX_METADATA": false,
              "HTML_TABLE_SCHEMA": false,
              "LOG_LEVEL": 30,
              "MAX_RENDER_SIZE_BYTES": 104857600,
              "MAX_STRING_LENGTH": 250,
              "NUM_PAST_SAMPLES_TRACKED": 3,
              "RANDOM_STATE": 12648430,
              "RESET_INDEX_VALUES": false,
              "ROW_SAMPLING_METHOD": "random",
              "SAMPLING_FACTOR": 0.1,
              "SAMPLING_METHOD": "random",
              "STRINGIFY_COLUMN_VALUES": true,
              "STRINGIFY_INDEX_VALUES": false
            },
            "sample_history": [],
            "sampling_time": "2023-08-08T04:04:59.941842",
            "user_variable_name": null,
            "variable_name": "unk_dataframe_1b55630e47fc4f0b9289bbac4e5925f7"
          },
          "1399d3b4-75ec-452c-8583-09048ff7fed7": {
            "dataframe_info": {
              "default_index_used": false,
              "orig_size_bytes": 176,
              "orig_num_rows": 11,
              "orig_num_cols": 1,
              "truncated_string_columns": [],
              "truncated_size_bytes": 176,
              "truncated_num_rows": 11,
              "truncated_num_cols": 1
            },
            "dx_settings": {
              "LOG_LEVEL": 30,
              "DEV_MODE": false,
              "DISPLAY_MAX_ROWS": 50000,
              "DISPLAY_MAX_COLUMNS": 100,
              "HTML_TABLE_SCHEMA": false,
              "MAX_RENDER_SIZE_BYTES": 104857600,
              "MAX_STRING_LENGTH": 250,
              "SAMPLING_FACTOR": 0.1,
              "DISPLAY_MODE": "simple",
              "SAMPLING_METHOD": "random",
              "COLUMN_SAMPLING_METHOD": "outer",
              "ROW_SAMPLING_METHOD": "random",
              "RANDOM_STATE": 12648430,
              "RESET_INDEX_VALUES": false,
              "FLATTEN_INDEX_VALUES": false,
              "FLATTEN_COLUMN_VALUES": true,
              "STRINGIFY_INDEX_VALUES": false,
              "STRINGIFY_COLUMN_VALUES": true,
              "ENABLE_DATALINK": true,
              "ENABLE_ASSIGNMENT": true,
              "NUM_PAST_SAMPLES_TRACKED": 3,
              "DB_LOCATION": ":memory:",
              "GENERATE_DEX_METADATA": false,
              "ALLOW_NOTEABLE_ATTRS": true
            },
            "display_id": "1399d3b4-75ec-452c-8583-09048ff7fed7",
            "applied_filters": [],
            "sample_history": [],
            "sampling_time": "2023-08-08T19:00:57.112413",
            "variable_name": "unk_dataframe_b4ce8a0fa3c8451d91847820d0368d32",
            "user_variable_name": null
          }
        }
      },
      "id": "30d1b0c8-53e9-4594-81f0-62bf564abc5e"
    },
    {
      "cell_type": "code",
      "source": [
        "# Fill missing values for categorical columns with a placeholder\n",
        "data['Name'].fillna('Unknown', inplace=True)\n",
        "data['City'].fillna('Unknown', inplace=True)\n",
        "data['State'].fillna('Unknown', inplace=True)\n",
        "data['Bank'].fillna('Unknown', inplace=True)\n",
        "data['BankState'].fillna('Unknown', inplace=True)\n",
        "data['RevLineCr'].fillna('Unknown', inplace=True)\n",
        "data['LowDoc'].fillna('Unknown', inplace=True)\n",
        "\n",
        "# Fill missing values for numerical columns with appropriate values\n",
        "data['NewExist'].fillna(0, inplace=True)\n",
        "\n",
        "# Convert date columns to datetime objects\n",
        "data['ApprovalDate'] = pd.to_datetime(data['ApprovalDate'])\n",
        "data['ChgOffDate'] = pd.to_datetime(data['ChgOffDate'])\n",
        "data['DisbursementDate'] = pd.to_datetime(data['DisbursementDate'])\n",
        "\n",
        "# Check if missing values are handled\n",
        "data.isnull().sum()[data.isnull().sum() > 0]"
      ],
      "outputs": [
        {
          "output_type": "display_data",
          "data": {
            "application/vnd.dataresource+json": {
              "schema": {
                "fields": [
                  {
                    "name": "index",
                    "type": "string"
                  },
                  {
                    "name": "0",
                    "type": "integer"
                  }
                ],
                "primaryKey": [
                  "index"
                ],
                "pandas_version": "1.4.0"
              },
              "data": [
                {
                  "0": 736465,
                  "index": "ChgOffDate"
                },
                {
                  "0": 2368,
                  "index": "DisbursementDate"
                },
                {
                  "0": 1997,
                  "index": "MIS_Status"
                }
              ],
              "datalink": {
                "display_id": "39d8b5c9-05c0-42bf-8f8e-9c06d34efe98"
              }
            }
          },
          "metadata": {
            "application/vnd.dataresource+json": {
              "datalink": {
                "dataframe_info": {
                  "default_index_used": false,
                  "orig_size_bytes": 48,
                  "orig_num_rows": 3,
                  "orig_num_cols": 1,
                  "truncated_string_columns": [],
                  "truncated_size_bytes": 48,
                  "truncated_num_rows": 3,
                  "truncated_num_cols": 1
                },
                "dx_settings": {
                  "NUM_PAST_SAMPLES_TRACKED": 3,
                  "ENABLE_DATALINK": true,
                  "DISPLAY_MODE": "simple",
                  "GENERATE_DEX_METADATA": false,
                  "STRINGIFY_INDEX_VALUES": false,
                  "ALLOW_NOTEABLE_ATTRS": true,
                  "DISPLAY_MAX_COLUMNS": 100,
                  "HTML_TABLE_SCHEMA": false,
                  "SAMPLING_FACTOR": 0.1,
                  "LOG_LEVEL": 30,
                  "ENABLE_ASSIGNMENT": true,
                  "FLATTEN_INDEX_VALUES": false,
                  "DEV_MODE": false,
                  "COLUMN_SAMPLING_METHOD": "outer",
                  "FLATTEN_COLUMN_VALUES": true,
                  "DISPLAY_MAX_ROWS": 50000,
                  "ROW_SAMPLING_METHOD": "random",
                  "RANDOM_STATE": 12648430,
                  "DB_LOCATION": ":memory:",
                  "STRINGIFY_COLUMN_VALUES": true,
                  "SAMPLING_METHOD": "random",
                  "MAX_STRING_LENGTH": 250,
                  "MAX_RENDER_SIZE_BYTES": 104857600,
                  "RESET_INDEX_VALUES": false
                },
                "display_id": "39d8b5c9-05c0-42bf-8f8e-9c06d34efe98",
                "applied_filters": [],
                "sample_history": [],
                "sampling_time": "2023-08-08T19:01:04.874740",
                "variable_name": "unk_dataframe_bc8e394b4f7247d0bf0382ef34e5a0dc",
                "user_variable_name": null
              },
              "display_id": "39d8b5c9-05c0-42bf-8f8e-9c06d34efe98"
            }
          }
        }
      ],
      "execution_count": null,
      "metadata": {
        "noteable": {
          "cell_type": "code"
        },
        "ExecuteTime": {
          "start_time": "2023-08-08T19:00:57.275570+00:00",
          "end_time": "2023-08-08T19:01:05.031788+00:00"
        },
        "datalink": {
          "a14bca82-fd88-4b4b-8cca-23b84649ff19": {
            "applied_filters": [],
            "dataframe_info": {
              "default_index_used": false,
              "orig_num_cols": 1,
              "orig_num_rows": 3,
              "orig_size_bytes": 48,
              "truncated_num_cols": 1,
              "truncated_num_rows": 3,
              "truncated_size_bytes": 48,
              "truncated_string_columns": []
            },
            "display_id": "a14bca82-fd88-4b4b-8cca-23b84649ff19",
            "dx_settings": {
              "ALLOW_NOTEABLE_ATTRS": true,
              "COLUMN_SAMPLING_METHOD": "outer",
              "DB_LOCATION": ":memory:",
              "DEV_MODE": false,
              "DISPLAY_MAX_COLUMNS": 100,
              "DISPLAY_MAX_ROWS": 50000,
              "DISPLAY_MODE": "simple",
              "ENABLE_ASSIGNMENT": true,
              "ENABLE_DATALINK": true,
              "FLATTEN_COLUMN_VALUES": true,
              "FLATTEN_INDEX_VALUES": false,
              "GENERATE_DEX_METADATA": false,
              "HTML_TABLE_SCHEMA": false,
              "LOG_LEVEL": 30,
              "MAX_RENDER_SIZE_BYTES": 104857600,
              "MAX_STRING_LENGTH": 250,
              "NUM_PAST_SAMPLES_TRACKED": 3,
              "RANDOM_STATE": 12648430,
              "RESET_INDEX_VALUES": false,
              "ROW_SAMPLING_METHOD": "random",
              "SAMPLING_FACTOR": 0.1,
              "SAMPLING_METHOD": "random",
              "STRINGIFY_COLUMN_VALUES": true,
              "STRINGIFY_INDEX_VALUES": false
            },
            "sample_history": [],
            "sampling_time": "2023-08-07T20:39:49.615828",
            "user_variable_name": null,
            "variable_name": "unk_dataframe_3433987778944d08bf11b52761c01a87"
          },
          "bdddec7f-460e-4daf-818d-5bb2ec107571": {
            "applied_filters": [],
            "dataframe_info": {
              "default_index_used": false,
              "orig_num_cols": 1,
              "orig_num_rows": 3,
              "orig_size_bytes": 48,
              "truncated_num_cols": 1,
              "truncated_num_rows": 3,
              "truncated_size_bytes": 48,
              "truncated_string_columns": []
            },
            "display_id": "bdddec7f-460e-4daf-818d-5bb2ec107571",
            "dx_settings": {
              "ALLOW_NOTEABLE_ATTRS": true,
              "COLUMN_SAMPLING_METHOD": "outer",
              "DB_LOCATION": ":memory:",
              "DEV_MODE": false,
              "DISPLAY_MAX_COLUMNS": 100,
              "DISPLAY_MAX_ROWS": 50000,
              "DISPLAY_MODE": "simple",
              "ENABLE_ASSIGNMENT": true,
              "ENABLE_DATALINK": true,
              "FLATTEN_COLUMN_VALUES": true,
              "FLATTEN_INDEX_VALUES": false,
              "GENERATE_DEX_METADATA": false,
              "HTML_TABLE_SCHEMA": false,
              "LOG_LEVEL": 30,
              "MAX_RENDER_SIZE_BYTES": 104857600,
              "MAX_STRING_LENGTH": 250,
              "NUM_PAST_SAMPLES_TRACKED": 3,
              "RANDOM_STATE": 12648430,
              "RESET_INDEX_VALUES": false,
              "ROW_SAMPLING_METHOD": "random",
              "SAMPLING_FACTOR": 0.1,
              "SAMPLING_METHOD": "random",
              "STRINGIFY_COLUMN_VALUES": true,
              "STRINGIFY_INDEX_VALUES": false
            },
            "sample_history": [],
            "sampling_time": "2023-08-07T21:03:56.798102",
            "user_variable_name": null,
            "variable_name": "unk_dataframe_ed60478a6c3648efab266db63dc9e3b4"
          },
          "3ad992be-eadc-4eb7-aad8-9b8ab025a9a1": {
            "applied_filters": [],
            "dataframe_info": {
              "default_index_used": false,
              "orig_num_cols": 1,
              "orig_num_rows": 3,
              "orig_size_bytes": 48,
              "truncated_num_cols": 1,
              "truncated_num_rows": 3,
              "truncated_size_bytes": 48,
              "truncated_string_columns": []
            },
            "display_id": "3ad992be-eadc-4eb7-aad8-9b8ab025a9a1",
            "dx_settings": {
              "ALLOW_NOTEABLE_ATTRS": true,
              "COLUMN_SAMPLING_METHOD": "outer",
              "DB_LOCATION": ":memory:",
              "DEV_MODE": false,
              "DISPLAY_MAX_COLUMNS": 100,
              "DISPLAY_MAX_ROWS": 50000,
              "DISPLAY_MODE": "simple",
              "ENABLE_ASSIGNMENT": true,
              "ENABLE_DATALINK": true,
              "FLATTEN_COLUMN_VALUES": true,
              "FLATTEN_INDEX_VALUES": false,
              "GENERATE_DEX_METADATA": false,
              "HTML_TABLE_SCHEMA": false,
              "LOG_LEVEL": 30,
              "MAX_RENDER_SIZE_BYTES": 104857600,
              "MAX_STRING_LENGTH": 250,
              "NUM_PAST_SAMPLES_TRACKED": 3,
              "RANDOM_STATE": 12648430,
              "RESET_INDEX_VALUES": false,
              "ROW_SAMPLING_METHOD": "random",
              "SAMPLING_FACTOR": 0.1,
              "SAMPLING_METHOD": "random",
              "STRINGIFY_COLUMN_VALUES": true,
              "STRINGIFY_INDEX_VALUES": false
            },
            "sample_history": [],
            "sampling_time": "2023-08-07T21:06:15.352285",
            "user_variable_name": null,
            "variable_name": "unk_dataframe_2af72030ac9c449c937cf5bc4376ed84"
          },
          "a92b6612-59c4-4550-8677-6b3c2555eab4": {
            "applied_filters": [],
            "dataframe_info": {
              "default_index_used": false,
              "orig_num_cols": 1,
              "orig_num_rows": 3,
              "orig_size_bytes": 48,
              "truncated_num_cols": 1,
              "truncated_num_rows": 3,
              "truncated_size_bytes": 48,
              "truncated_string_columns": []
            },
            "display_id": "a92b6612-59c4-4550-8677-6b3c2555eab4",
            "dx_settings": {
              "ALLOW_NOTEABLE_ATTRS": true,
              "COLUMN_SAMPLING_METHOD": "outer",
              "DB_LOCATION": ":memory:",
              "DEV_MODE": false,
              "DISPLAY_MAX_COLUMNS": 100,
              "DISPLAY_MAX_ROWS": 50000,
              "DISPLAY_MODE": "simple",
              "ENABLE_ASSIGNMENT": true,
              "ENABLE_DATALINK": true,
              "FLATTEN_COLUMN_VALUES": true,
              "FLATTEN_INDEX_VALUES": false,
              "GENERATE_DEX_METADATA": false,
              "HTML_TABLE_SCHEMA": false,
              "LOG_LEVEL": 30,
              "MAX_RENDER_SIZE_BYTES": 104857600,
              "MAX_STRING_LENGTH": 250,
              "NUM_PAST_SAMPLES_TRACKED": 3,
              "RANDOM_STATE": 12648430,
              "RESET_INDEX_VALUES": false,
              "ROW_SAMPLING_METHOD": "random",
              "SAMPLING_FACTOR": 0.1,
              "SAMPLING_METHOD": "random",
              "STRINGIFY_COLUMN_VALUES": true,
              "STRINGIFY_INDEX_VALUES": false
            },
            "sample_history": [],
            "sampling_time": "2023-08-07T21:24:11.147968",
            "user_variable_name": null,
            "variable_name": "unk_dataframe_790ab8b99f0d4798b760ea65f435b5a3"
          },
          "0d61a750-a3c3-4c9e-ad75-9ff46c652ebf": {
            "applied_filters": [],
            "dataframe_info": {
              "default_index_used": false,
              "orig_num_cols": 1,
              "orig_num_rows": 3,
              "orig_size_bytes": 48,
              "truncated_num_cols": 1,
              "truncated_num_rows": 3,
              "truncated_size_bytes": 48,
              "truncated_string_columns": []
            },
            "display_id": "0d61a750-a3c3-4c9e-ad75-9ff46c652ebf",
            "dx_settings": {
              "ALLOW_NOTEABLE_ATTRS": true,
              "COLUMN_SAMPLING_METHOD": "outer",
              "DB_LOCATION": ":memory:",
              "DEV_MODE": false,
              "DISPLAY_MAX_COLUMNS": 100,
              "DISPLAY_MAX_ROWS": 50000,
              "DISPLAY_MODE": "simple",
              "ENABLE_ASSIGNMENT": true,
              "ENABLE_DATALINK": true,
              "FLATTEN_COLUMN_VALUES": true,
              "FLATTEN_INDEX_VALUES": false,
              "GENERATE_DEX_METADATA": false,
              "HTML_TABLE_SCHEMA": false,
              "LOG_LEVEL": 30,
              "MAX_RENDER_SIZE_BYTES": 104857600,
              "MAX_STRING_LENGTH": 250,
              "NUM_PAST_SAMPLES_TRACKED": 3,
              "RANDOM_STATE": 12648430,
              "RESET_INDEX_VALUES": false,
              "ROW_SAMPLING_METHOD": "random",
              "SAMPLING_FACTOR": 0.1,
              "SAMPLING_METHOD": "random",
              "STRINGIFY_COLUMN_VALUES": true,
              "STRINGIFY_INDEX_VALUES": false
            },
            "sample_history": [],
            "sampling_time": "2023-08-07T21:30:48.922443",
            "user_variable_name": null,
            "variable_name": "unk_dataframe_cb944af5e3af4c5a99f9d280383a80b8"
          },
          "2231aa0d-9db1-4ea8-a108-f038cfc6d2e3": {
            "applied_filters": [],
            "dataframe_info": {
              "default_index_used": false,
              "orig_num_cols": 1,
              "orig_num_rows": 3,
              "orig_size_bytes": 48,
              "truncated_num_cols": 1,
              "truncated_num_rows": 3,
              "truncated_size_bytes": 48,
              "truncated_string_columns": []
            },
            "display_id": "2231aa0d-9db1-4ea8-a108-f038cfc6d2e3",
            "dx_settings": {
              "ALLOW_NOTEABLE_ATTRS": true,
              "COLUMN_SAMPLING_METHOD": "outer",
              "DB_LOCATION": ":memory:",
              "DEV_MODE": false,
              "DISPLAY_MAX_COLUMNS": 100,
              "DISPLAY_MAX_ROWS": 50000,
              "DISPLAY_MODE": "simple",
              "ENABLE_ASSIGNMENT": true,
              "ENABLE_DATALINK": true,
              "FLATTEN_COLUMN_VALUES": true,
              "FLATTEN_INDEX_VALUES": false,
              "GENERATE_DEX_METADATA": false,
              "HTML_TABLE_SCHEMA": false,
              "LOG_LEVEL": 30,
              "MAX_RENDER_SIZE_BYTES": 104857600,
              "MAX_STRING_LENGTH": 250,
              "NUM_PAST_SAMPLES_TRACKED": 3,
              "RANDOM_STATE": 12648430,
              "RESET_INDEX_VALUES": false,
              "ROW_SAMPLING_METHOD": "random",
              "SAMPLING_FACTOR": 0.1,
              "SAMPLING_METHOD": "random",
              "STRINGIFY_COLUMN_VALUES": true,
              "STRINGIFY_INDEX_VALUES": false
            },
            "sample_history": [],
            "sampling_time": "2023-08-07T21:34:21.408531",
            "user_variable_name": null,
            "variable_name": "unk_dataframe_8d8856199f58480d9d9a19bf77b7d088"
          },
          "edbca616-11f5-4b3b-a8b9-789288700059": {
            "applied_filters": [],
            "dataframe_info": {
              "default_index_used": false,
              "orig_num_cols": 1,
              "orig_num_rows": 3,
              "orig_size_bytes": 48,
              "truncated_num_cols": 1,
              "truncated_num_rows": 3,
              "truncated_size_bytes": 48,
              "truncated_string_columns": []
            },
            "display_id": "edbca616-11f5-4b3b-a8b9-789288700059",
            "dx_settings": {
              "ALLOW_NOTEABLE_ATTRS": true,
              "COLUMN_SAMPLING_METHOD": "outer",
              "DB_LOCATION": ":memory:",
              "DEV_MODE": false,
              "DISPLAY_MAX_COLUMNS": 100,
              "DISPLAY_MAX_ROWS": 50000,
              "DISPLAY_MODE": "simple",
              "ENABLE_ASSIGNMENT": true,
              "ENABLE_DATALINK": true,
              "FLATTEN_COLUMN_VALUES": true,
              "FLATTEN_INDEX_VALUES": false,
              "GENERATE_DEX_METADATA": false,
              "HTML_TABLE_SCHEMA": false,
              "LOG_LEVEL": 30,
              "MAX_RENDER_SIZE_BYTES": 104857600,
              "MAX_STRING_LENGTH": 250,
              "NUM_PAST_SAMPLES_TRACKED": 3,
              "RANDOM_STATE": 12648430,
              "RESET_INDEX_VALUES": false,
              "ROW_SAMPLING_METHOD": "random",
              "SAMPLING_FACTOR": 0.1,
              "SAMPLING_METHOD": "random",
              "STRINGIFY_COLUMN_VALUES": true,
              "STRINGIFY_INDEX_VALUES": false
            },
            "sample_history": [],
            "sampling_time": "2023-08-08T01:40:53.982818",
            "user_variable_name": null,
            "variable_name": "unk_dataframe_1e767078aa1a4890bc4af0c6072b09bd"
          },
          "e3dad4d0-a23c-4639-9921-e63c1eb3aee8": {
            "applied_filters": [],
            "dataframe_info": {
              "default_index_used": false,
              "orig_num_cols": 1,
              "orig_num_rows": 3,
              "orig_size_bytes": 48,
              "truncated_num_cols": 1,
              "truncated_num_rows": 3,
              "truncated_size_bytes": 48,
              "truncated_string_columns": []
            },
            "display_id": "e3dad4d0-a23c-4639-9921-e63c1eb3aee8",
            "dx_settings": {
              "ALLOW_NOTEABLE_ATTRS": true,
              "COLUMN_SAMPLING_METHOD": "outer",
              "DB_LOCATION": ":memory:",
              "DEV_MODE": false,
              "DISPLAY_MAX_COLUMNS": 100,
              "DISPLAY_MAX_ROWS": 50000,
              "DISPLAY_MODE": "simple",
              "ENABLE_ASSIGNMENT": true,
              "ENABLE_DATALINK": true,
              "FLATTEN_COLUMN_VALUES": true,
              "FLATTEN_INDEX_VALUES": false,
              "GENERATE_DEX_METADATA": false,
              "HTML_TABLE_SCHEMA": false,
              "LOG_LEVEL": 30,
              "MAX_RENDER_SIZE_BYTES": 104857600,
              "MAX_STRING_LENGTH": 250,
              "NUM_PAST_SAMPLES_TRACKED": 3,
              "RANDOM_STATE": 12648430,
              "RESET_INDEX_VALUES": false,
              "ROW_SAMPLING_METHOD": "random",
              "SAMPLING_FACTOR": 0.1,
              "SAMPLING_METHOD": "random",
              "STRINGIFY_COLUMN_VALUES": true,
              "STRINGIFY_INDEX_VALUES": false
            },
            "sample_history": [],
            "sampling_time": "2023-08-08T01:47:05.281890",
            "user_variable_name": null,
            "variable_name": "unk_dataframe_955b498eb993448c9b5ed32ca8a8f8fb"
          },
          "4f18535d-ddd0-4c63-96ff-f5c6f2e07704": {
            "applied_filters": [],
            "dataframe_info": {
              "default_index_used": false,
              "orig_num_cols": 1,
              "orig_num_rows": 3,
              "orig_size_bytes": 48,
              "truncated_num_cols": 1,
              "truncated_num_rows": 3,
              "truncated_size_bytes": 48,
              "truncated_string_columns": []
            },
            "display_id": "4f18535d-ddd0-4c63-96ff-f5c6f2e07704",
            "dx_settings": {
              "ALLOW_NOTEABLE_ATTRS": true,
              "COLUMN_SAMPLING_METHOD": "outer",
              "DB_LOCATION": ":memory:",
              "DEV_MODE": false,
              "DISPLAY_MAX_COLUMNS": 100,
              "DISPLAY_MAX_ROWS": 50000,
              "DISPLAY_MODE": "simple",
              "ENABLE_ASSIGNMENT": true,
              "ENABLE_DATALINK": true,
              "FLATTEN_COLUMN_VALUES": true,
              "FLATTEN_INDEX_VALUES": false,
              "GENERATE_DEX_METADATA": false,
              "HTML_TABLE_SCHEMA": false,
              "LOG_LEVEL": 30,
              "MAX_RENDER_SIZE_BYTES": 104857600,
              "MAX_STRING_LENGTH": 250,
              "NUM_PAST_SAMPLES_TRACKED": 3,
              "RANDOM_STATE": 12648430,
              "RESET_INDEX_VALUES": false,
              "ROW_SAMPLING_METHOD": "random",
              "SAMPLING_FACTOR": 0.1,
              "SAMPLING_METHOD": "random",
              "STRINGIFY_COLUMN_VALUES": true,
              "STRINGIFY_INDEX_VALUES": false
            },
            "sample_history": [],
            "sampling_time": "2023-08-08T04:05:07.071364",
            "user_variable_name": null,
            "variable_name": "unk_dataframe_ea2d8be09ea74255813a51cb56039594"
          },
          "241e06f7-ac34-44bc-a954-01d29925034e": {
            "applied_filters": [],
            "dataframe_info": {
              "default_index_used": false,
              "orig_num_cols": 1,
              "orig_num_rows": 3,
              "orig_size_bytes": 48,
              "truncated_num_cols": 1,
              "truncated_num_rows": 3,
              "truncated_size_bytes": 48,
              "truncated_string_columns": []
            },
            "display_id": "241e06f7-ac34-44bc-a954-01d29925034e",
            "dx_settings": {
              "ALLOW_NOTEABLE_ATTRS": true,
              "COLUMN_SAMPLING_METHOD": "outer",
              "DB_LOCATION": ":memory:",
              "DEV_MODE": false,
              "DISPLAY_MAX_COLUMNS": 100,
              "DISPLAY_MAX_ROWS": 50000,
              "DISPLAY_MODE": "simple",
              "ENABLE_ASSIGNMENT": true,
              "ENABLE_DATALINK": true,
              "FLATTEN_COLUMN_VALUES": true,
              "FLATTEN_INDEX_VALUES": false,
              "GENERATE_DEX_METADATA": false,
              "HTML_TABLE_SCHEMA": false,
              "LOG_LEVEL": 30,
              "MAX_RENDER_SIZE_BYTES": 104857600,
              "MAX_STRING_LENGTH": 250,
              "NUM_PAST_SAMPLES_TRACKED": 3,
              "RANDOM_STATE": 12648430,
              "RESET_INDEX_VALUES": false,
              "ROW_SAMPLING_METHOD": "random",
              "SAMPLING_FACTOR": 0.1,
              "SAMPLING_METHOD": "random",
              "STRINGIFY_COLUMN_VALUES": true,
              "STRINGIFY_INDEX_VALUES": false
            },
            "sample_history": [],
            "sampling_time": "2023-08-08T16:49:03.475231",
            "user_variable_name": null,
            "variable_name": "unk_dataframe_b354384b16ca4112b0a256212c23076d"
          },
          "39d8b5c9-05c0-42bf-8f8e-9c06d34efe98": {
            "dataframe_info": {
              "default_index_used": false,
              "orig_size_bytes": 48,
              "orig_num_rows": 3,
              "orig_num_cols": 1,
              "truncated_string_columns": [],
              "truncated_size_bytes": 48,
              "truncated_num_rows": 3,
              "truncated_num_cols": 1
            },
            "dx_settings": {
              "LOG_LEVEL": 30,
              "DEV_MODE": false,
              "DISPLAY_MAX_ROWS": 50000,
              "DISPLAY_MAX_COLUMNS": 100,
              "HTML_TABLE_SCHEMA": false,
              "MAX_RENDER_SIZE_BYTES": 104857600,
              "MAX_STRING_LENGTH": 250,
              "SAMPLING_FACTOR": 0.1,
              "DISPLAY_MODE": "simple",
              "SAMPLING_METHOD": "random",
              "COLUMN_SAMPLING_METHOD": "outer",
              "ROW_SAMPLING_METHOD": "random",
              "RANDOM_STATE": 12648430,
              "RESET_INDEX_VALUES": false,
              "FLATTEN_INDEX_VALUES": false,
              "FLATTEN_COLUMN_VALUES": true,
              "STRINGIFY_INDEX_VALUES": false,
              "STRINGIFY_COLUMN_VALUES": true,
              "ENABLE_DATALINK": true,
              "ENABLE_ASSIGNMENT": true,
              "NUM_PAST_SAMPLES_TRACKED": 3,
              "DB_LOCATION": ":memory:",
              "GENERATE_DEX_METADATA": false,
              "ALLOW_NOTEABLE_ATTRS": true
            },
            "display_id": "39d8b5c9-05c0-42bf-8f8e-9c06d34efe98",
            "applied_filters": [],
            "sample_history": [],
            "sampling_time": "2023-08-08T19:01:04.874740",
            "variable_name": "unk_dataframe_bc8e394b4f7247d0bf0382ef34e5a0dc",
            "user_variable_name": null
          }
        }
      },
      "id": "9b8772b4-ac90-45b5-8193-ebbf872bdbff"
    },
    {
      "cell_type": "code",
      "source": [
        "# Fill missing DisbursementDate with a placeholder date\n",
        "data['DisbursementDate'].fillna('1970-01-01', inplace=True)\n",
        "data['DisbursementDate'] = pd.to_datetime(data['DisbursementDate'])\n",
        "\n",
        "# Fill missing MIS_Status with a placeholder status\n",
        "data['MIS_Status'].fillna('Unknown', inplace=True)\n",
        "\n",
        "# Check if all missing values are handled\n",
        "data.isnull().sum()[data.isnull().sum() > 0]"
      ],
      "outputs": [
        {
          "output_type": "display_data",
          "data": {
            "application/vnd.dataresource+json": {
              "schema": {
                "fields": [
                  {
                    "name": "index",
                    "type": "string"
                  },
                  {
                    "name": "0",
                    "type": "integer"
                  }
                ],
                "primaryKey": [
                  "index"
                ],
                "pandas_version": "1.4.0"
              },
              "data": [
                {
                  "0": 736465,
                  "index": "ChgOffDate"
                }
              ],
              "datalink": {
                "display_id": "574f6252-a118-4b0e-b881-07ed44736163"
              }
            }
          },
          "metadata": {
            "application/vnd.dataresource+json": {
              "datalink": {
                "dataframe_info": {
                  "default_index_used": false,
                  "orig_size_bytes": 16,
                  "orig_num_rows": 1,
                  "orig_num_cols": 1,
                  "truncated_string_columns": [],
                  "truncated_size_bytes": 16,
                  "truncated_num_rows": 1,
                  "truncated_num_cols": 1
                },
                "dx_settings": {
                  "NUM_PAST_SAMPLES_TRACKED": 3,
                  "ENABLE_DATALINK": true,
                  "DISPLAY_MODE": "simple",
                  "GENERATE_DEX_METADATA": false,
                  "STRINGIFY_INDEX_VALUES": false,
                  "ALLOW_NOTEABLE_ATTRS": true,
                  "DISPLAY_MAX_COLUMNS": 100,
                  "HTML_TABLE_SCHEMA": false,
                  "SAMPLING_FACTOR": 0.1,
                  "LOG_LEVEL": 30,
                  "ENABLE_ASSIGNMENT": true,
                  "FLATTEN_INDEX_VALUES": false,
                  "DEV_MODE": false,
                  "COLUMN_SAMPLING_METHOD": "outer",
                  "FLATTEN_COLUMN_VALUES": true,
                  "DISPLAY_MAX_ROWS": 50000,
                  "ROW_SAMPLING_METHOD": "random",
                  "RANDOM_STATE": 12648430,
                  "DB_LOCATION": ":memory:",
                  "STRINGIFY_COLUMN_VALUES": true,
                  "SAMPLING_METHOD": "random",
                  "MAX_STRING_LENGTH": 250,
                  "MAX_RENDER_SIZE_BYTES": 104857600,
                  "RESET_INDEX_VALUES": false
                },
                "display_id": "574f6252-a118-4b0e-b881-07ed44736163",
                "applied_filters": [],
                "sample_history": [],
                "sampling_time": "2023-08-08T19:01:09.225245",
                "variable_name": "unk_dataframe_1b3d79cf9dbb4eb9b4eb1dccf1448c01",
                "user_variable_name": null
              },
              "display_id": "574f6252-a118-4b0e-b881-07ed44736163"
            }
          }
        }
      ],
      "execution_count": null,
      "metadata": {
        "noteable": {
          "cell_type": "code"
        },
        "ExecuteTime": {
          "start_time": "2023-08-08T19:01:05.046528+00:00",
          "end_time": "2023-08-08T19:01:09.381110+00:00"
        },
        "datalink": {
          "2db0b64e-5a6f-47db-865e-caf30997571b": {
            "applied_filters": [],
            "dataframe_info": {
              "default_index_used": false,
              "orig_num_cols": 1,
              "orig_num_rows": 1,
              "orig_size_bytes": 16,
              "truncated_num_cols": 1,
              "truncated_num_rows": 1,
              "truncated_size_bytes": 16,
              "truncated_string_columns": []
            },
            "display_id": "2db0b64e-5a6f-47db-865e-caf30997571b",
            "dx_settings": {
              "ALLOW_NOTEABLE_ATTRS": true,
              "COLUMN_SAMPLING_METHOD": "outer",
              "DB_LOCATION": ":memory:",
              "DEV_MODE": false,
              "DISPLAY_MAX_COLUMNS": 100,
              "DISPLAY_MAX_ROWS": 50000,
              "DISPLAY_MODE": "simple",
              "ENABLE_ASSIGNMENT": true,
              "ENABLE_DATALINK": true,
              "FLATTEN_COLUMN_VALUES": true,
              "FLATTEN_INDEX_VALUES": false,
              "GENERATE_DEX_METADATA": false,
              "HTML_TABLE_SCHEMA": false,
              "LOG_LEVEL": 30,
              "MAX_RENDER_SIZE_BYTES": 104857600,
              "MAX_STRING_LENGTH": 250,
              "NUM_PAST_SAMPLES_TRACKED": 3,
              "RANDOM_STATE": 12648430,
              "RESET_INDEX_VALUES": false,
              "ROW_SAMPLING_METHOD": "random",
              "SAMPLING_FACTOR": 0.1,
              "SAMPLING_METHOD": "random",
              "STRINGIFY_COLUMN_VALUES": true,
              "STRINGIFY_INDEX_VALUES": false
            },
            "sample_history": [],
            "sampling_time": "2023-08-07T20:40:29.376571",
            "user_variable_name": null,
            "variable_name": "unk_dataframe_327ed8f8e34f411594cb8ebc7f15e92d"
          },
          "c514c6fb-0073-4b1f-bddc-0bb3e2e4100d": {
            "applied_filters": [],
            "dataframe_info": {
              "default_index_used": false,
              "orig_num_cols": 1,
              "orig_num_rows": 1,
              "orig_size_bytes": 16,
              "truncated_num_cols": 1,
              "truncated_num_rows": 1,
              "truncated_size_bytes": 16,
              "truncated_string_columns": []
            },
            "display_id": "c514c6fb-0073-4b1f-bddc-0bb3e2e4100d",
            "dx_settings": {
              "ALLOW_NOTEABLE_ATTRS": true,
              "COLUMN_SAMPLING_METHOD": "outer",
              "DB_LOCATION": ":memory:",
              "DEV_MODE": false,
              "DISPLAY_MAX_COLUMNS": 100,
              "DISPLAY_MAX_ROWS": 50000,
              "DISPLAY_MODE": "simple",
              "ENABLE_ASSIGNMENT": true,
              "ENABLE_DATALINK": true,
              "FLATTEN_COLUMN_VALUES": true,
              "FLATTEN_INDEX_VALUES": false,
              "GENERATE_DEX_METADATA": false,
              "HTML_TABLE_SCHEMA": false,
              "LOG_LEVEL": 30,
              "MAX_RENDER_SIZE_BYTES": 104857600,
              "MAX_STRING_LENGTH": 250,
              "NUM_PAST_SAMPLES_TRACKED": 3,
              "RANDOM_STATE": 12648430,
              "RESET_INDEX_VALUES": false,
              "ROW_SAMPLING_METHOD": "random",
              "SAMPLING_FACTOR": 0.1,
              "SAMPLING_METHOD": "random",
              "STRINGIFY_COLUMN_VALUES": true,
              "STRINGIFY_INDEX_VALUES": false
            },
            "sample_history": [],
            "sampling_time": "2023-08-07T21:04:01.083844",
            "user_variable_name": null,
            "variable_name": "unk_dataframe_f41527f03fd845d48c01cf09ae4ce7e8"
          },
          "86fe7239-68a2-4edb-ba70-d2e13fe5349a": {
            "applied_filters": [],
            "dataframe_info": {
              "default_index_used": false,
              "orig_num_cols": 1,
              "orig_num_rows": 1,
              "orig_size_bytes": 16,
              "truncated_num_cols": 1,
              "truncated_num_rows": 1,
              "truncated_size_bytes": 16,
              "truncated_string_columns": []
            },
            "display_id": "86fe7239-68a2-4edb-ba70-d2e13fe5349a",
            "dx_settings": {
              "ALLOW_NOTEABLE_ATTRS": true,
              "COLUMN_SAMPLING_METHOD": "outer",
              "DB_LOCATION": ":memory:",
              "DEV_MODE": false,
              "DISPLAY_MAX_COLUMNS": 100,
              "DISPLAY_MAX_ROWS": 50000,
              "DISPLAY_MODE": "simple",
              "ENABLE_ASSIGNMENT": true,
              "ENABLE_DATALINK": true,
              "FLATTEN_COLUMN_VALUES": true,
              "FLATTEN_INDEX_VALUES": false,
              "GENERATE_DEX_METADATA": false,
              "HTML_TABLE_SCHEMA": false,
              "LOG_LEVEL": 30,
              "MAX_RENDER_SIZE_BYTES": 104857600,
              "MAX_STRING_LENGTH": 250,
              "NUM_PAST_SAMPLES_TRACKED": 3,
              "RANDOM_STATE": 12648430,
              "RESET_INDEX_VALUES": false,
              "ROW_SAMPLING_METHOD": "random",
              "SAMPLING_FACTOR": 0.1,
              "SAMPLING_METHOD": "random",
              "STRINGIFY_COLUMN_VALUES": true,
              "STRINGIFY_INDEX_VALUES": false
            },
            "sample_history": [],
            "sampling_time": "2023-08-07T21:06:20.101244",
            "user_variable_name": null,
            "variable_name": "unk_dataframe_df572a6dfc0348c09ad643eb9420beb6"
          },
          "9f99b736-833a-4691-9526-35bf00c0f4a7": {
            "applied_filters": [],
            "dataframe_info": {
              "default_index_used": false,
              "orig_num_cols": 1,
              "orig_num_rows": 1,
              "orig_size_bytes": 16,
              "truncated_num_cols": 1,
              "truncated_num_rows": 1,
              "truncated_size_bytes": 16,
              "truncated_string_columns": []
            },
            "display_id": "9f99b736-833a-4691-9526-35bf00c0f4a7",
            "dx_settings": {
              "ALLOW_NOTEABLE_ATTRS": true,
              "COLUMN_SAMPLING_METHOD": "outer",
              "DB_LOCATION": ":memory:",
              "DEV_MODE": false,
              "DISPLAY_MAX_COLUMNS": 100,
              "DISPLAY_MAX_ROWS": 50000,
              "DISPLAY_MODE": "simple",
              "ENABLE_ASSIGNMENT": true,
              "ENABLE_DATALINK": true,
              "FLATTEN_COLUMN_VALUES": true,
              "FLATTEN_INDEX_VALUES": false,
              "GENERATE_DEX_METADATA": false,
              "HTML_TABLE_SCHEMA": false,
              "LOG_LEVEL": 30,
              "MAX_RENDER_SIZE_BYTES": 104857600,
              "MAX_STRING_LENGTH": 250,
              "NUM_PAST_SAMPLES_TRACKED": 3,
              "RANDOM_STATE": 12648430,
              "RESET_INDEX_VALUES": false,
              "ROW_SAMPLING_METHOD": "random",
              "SAMPLING_FACTOR": 0.1,
              "SAMPLING_METHOD": "random",
              "STRINGIFY_COLUMN_VALUES": true,
              "STRINGIFY_INDEX_VALUES": false
            },
            "sample_history": [],
            "sampling_time": "2023-08-07T21:24:15.489389",
            "user_variable_name": null,
            "variable_name": "unk_dataframe_3c73bbc52a69420c93b21d635fb59c2a"
          },
          "3c640356-0fa5-4ab1-af70-5f9da5bc684c": {
            "applied_filters": [],
            "dataframe_info": {
              "default_index_used": false,
              "orig_num_cols": 1,
              "orig_num_rows": 1,
              "orig_size_bytes": 16,
              "truncated_num_cols": 1,
              "truncated_num_rows": 1,
              "truncated_size_bytes": 16,
              "truncated_string_columns": []
            },
            "display_id": "3c640356-0fa5-4ab1-af70-5f9da5bc684c",
            "dx_settings": {
              "ALLOW_NOTEABLE_ATTRS": true,
              "COLUMN_SAMPLING_METHOD": "outer",
              "DB_LOCATION": ":memory:",
              "DEV_MODE": false,
              "DISPLAY_MAX_COLUMNS": 100,
              "DISPLAY_MAX_ROWS": 50000,
              "DISPLAY_MODE": "simple",
              "ENABLE_ASSIGNMENT": true,
              "ENABLE_DATALINK": true,
              "FLATTEN_COLUMN_VALUES": true,
              "FLATTEN_INDEX_VALUES": false,
              "GENERATE_DEX_METADATA": false,
              "HTML_TABLE_SCHEMA": false,
              "LOG_LEVEL": 30,
              "MAX_RENDER_SIZE_BYTES": 104857600,
              "MAX_STRING_LENGTH": 250,
              "NUM_PAST_SAMPLES_TRACKED": 3,
              "RANDOM_STATE": 12648430,
              "RESET_INDEX_VALUES": false,
              "ROW_SAMPLING_METHOD": "random",
              "SAMPLING_FACTOR": 0.1,
              "SAMPLING_METHOD": "random",
              "STRINGIFY_COLUMN_VALUES": true,
              "STRINGIFY_INDEX_VALUES": false
            },
            "sample_history": [],
            "sampling_time": "2023-08-07T21:30:53.220321",
            "user_variable_name": null,
            "variable_name": "unk_dataframe_7ade9663ec4b4436b15fc2078d4f3b34"
          },
          "420f5e66-1d74-4f43-a428-30a344172de2": {
            "applied_filters": [],
            "dataframe_info": {
              "default_index_used": false,
              "orig_num_cols": 1,
              "orig_num_rows": 1,
              "orig_size_bytes": 16,
              "truncated_num_cols": 1,
              "truncated_num_rows": 1,
              "truncated_size_bytes": 16,
              "truncated_string_columns": []
            },
            "display_id": "420f5e66-1d74-4f43-a428-30a344172de2",
            "dx_settings": {
              "ALLOW_NOTEABLE_ATTRS": true,
              "COLUMN_SAMPLING_METHOD": "outer",
              "DB_LOCATION": ":memory:",
              "DEV_MODE": false,
              "DISPLAY_MAX_COLUMNS": 100,
              "DISPLAY_MAX_ROWS": 50000,
              "DISPLAY_MODE": "simple",
              "ENABLE_ASSIGNMENT": true,
              "ENABLE_DATALINK": true,
              "FLATTEN_COLUMN_VALUES": true,
              "FLATTEN_INDEX_VALUES": false,
              "GENERATE_DEX_METADATA": false,
              "HTML_TABLE_SCHEMA": false,
              "LOG_LEVEL": 30,
              "MAX_RENDER_SIZE_BYTES": 104857600,
              "MAX_STRING_LENGTH": 250,
              "NUM_PAST_SAMPLES_TRACKED": 3,
              "RANDOM_STATE": 12648430,
              "RESET_INDEX_VALUES": false,
              "ROW_SAMPLING_METHOD": "random",
              "SAMPLING_FACTOR": 0.1,
              "SAMPLING_METHOD": "random",
              "STRINGIFY_COLUMN_VALUES": true,
              "STRINGIFY_INDEX_VALUES": false
            },
            "sample_history": [],
            "sampling_time": "2023-08-07T21:34:25.893443",
            "user_variable_name": null,
            "variable_name": "unk_dataframe_5be0e0a2e2bc47189f7a4f0eefad9c7c"
          },
          "1510230a-c4f5-4d88-a5f3-cf481836a27e": {
            "applied_filters": [],
            "dataframe_info": {
              "default_index_used": false,
              "orig_num_cols": 1,
              "orig_num_rows": 1,
              "orig_size_bytes": 16,
              "truncated_num_cols": 1,
              "truncated_num_rows": 1,
              "truncated_size_bytes": 16,
              "truncated_string_columns": []
            },
            "display_id": "1510230a-c4f5-4d88-a5f3-cf481836a27e",
            "dx_settings": {
              "ALLOW_NOTEABLE_ATTRS": true,
              "COLUMN_SAMPLING_METHOD": "outer",
              "DB_LOCATION": ":memory:",
              "DEV_MODE": false,
              "DISPLAY_MAX_COLUMNS": 100,
              "DISPLAY_MAX_ROWS": 50000,
              "DISPLAY_MODE": "simple",
              "ENABLE_ASSIGNMENT": true,
              "ENABLE_DATALINK": true,
              "FLATTEN_COLUMN_VALUES": true,
              "FLATTEN_INDEX_VALUES": false,
              "GENERATE_DEX_METADATA": false,
              "HTML_TABLE_SCHEMA": false,
              "LOG_LEVEL": 30,
              "MAX_RENDER_SIZE_BYTES": 104857600,
              "MAX_STRING_LENGTH": 250,
              "NUM_PAST_SAMPLES_TRACKED": 3,
              "RANDOM_STATE": 12648430,
              "RESET_INDEX_VALUES": false,
              "ROW_SAMPLING_METHOD": "random",
              "SAMPLING_FACTOR": 0.1,
              "SAMPLING_METHOD": "random",
              "STRINGIFY_COLUMN_VALUES": true,
              "STRINGIFY_INDEX_VALUES": false
            },
            "sample_history": [],
            "sampling_time": "2023-08-08T01:40:58.218320",
            "user_variable_name": null,
            "variable_name": "unk_dataframe_224cab32e2dd43c18c7addf9c3827ebf"
          },
          "cd2b61f0-bc17-4df1-9af6-a97cd13a706f": {
            "applied_filters": [],
            "dataframe_info": {
              "default_index_used": false,
              "orig_num_cols": 1,
              "orig_num_rows": 1,
              "orig_size_bytes": 16,
              "truncated_num_cols": 1,
              "truncated_num_rows": 1,
              "truncated_size_bytes": 16,
              "truncated_string_columns": []
            },
            "display_id": "cd2b61f0-bc17-4df1-9af6-a97cd13a706f",
            "dx_settings": {
              "ALLOW_NOTEABLE_ATTRS": true,
              "COLUMN_SAMPLING_METHOD": "outer",
              "DB_LOCATION": ":memory:",
              "DEV_MODE": false,
              "DISPLAY_MAX_COLUMNS": 100,
              "DISPLAY_MAX_ROWS": 50000,
              "DISPLAY_MODE": "simple",
              "ENABLE_ASSIGNMENT": true,
              "ENABLE_DATALINK": true,
              "FLATTEN_COLUMN_VALUES": true,
              "FLATTEN_INDEX_VALUES": false,
              "GENERATE_DEX_METADATA": false,
              "HTML_TABLE_SCHEMA": false,
              "LOG_LEVEL": 30,
              "MAX_RENDER_SIZE_BYTES": 104857600,
              "MAX_STRING_LENGTH": 250,
              "NUM_PAST_SAMPLES_TRACKED": 3,
              "RANDOM_STATE": 12648430,
              "RESET_INDEX_VALUES": false,
              "ROW_SAMPLING_METHOD": "random",
              "SAMPLING_FACTOR": 0.1,
              "SAMPLING_METHOD": "random",
              "STRINGIFY_COLUMN_VALUES": true,
              "STRINGIFY_INDEX_VALUES": false
            },
            "sample_history": [],
            "sampling_time": "2023-08-08T01:47:09.531634",
            "user_variable_name": null,
            "variable_name": "unk_dataframe_fac64f3996644df9b0b2592600bdecb1"
          },
          "86c1ffc3-485a-4a4a-9cdf-a267f805b85f": {
            "applied_filters": [],
            "dataframe_info": {
              "default_index_used": false,
              "orig_num_cols": 1,
              "orig_num_rows": 1,
              "orig_size_bytes": 16,
              "truncated_num_cols": 1,
              "truncated_num_rows": 1,
              "truncated_size_bytes": 16,
              "truncated_string_columns": []
            },
            "display_id": "86c1ffc3-485a-4a4a-9cdf-a267f805b85f",
            "dx_settings": {
              "ALLOW_NOTEABLE_ATTRS": true,
              "COLUMN_SAMPLING_METHOD": "outer",
              "DB_LOCATION": ":memory:",
              "DEV_MODE": false,
              "DISPLAY_MAX_COLUMNS": 100,
              "DISPLAY_MAX_ROWS": 50000,
              "DISPLAY_MODE": "simple",
              "ENABLE_ASSIGNMENT": true,
              "ENABLE_DATALINK": true,
              "FLATTEN_COLUMN_VALUES": true,
              "FLATTEN_INDEX_VALUES": false,
              "GENERATE_DEX_METADATA": false,
              "HTML_TABLE_SCHEMA": false,
              "LOG_LEVEL": 30,
              "MAX_RENDER_SIZE_BYTES": 104857600,
              "MAX_STRING_LENGTH": 250,
              "NUM_PAST_SAMPLES_TRACKED": 3,
              "RANDOM_STATE": 12648430,
              "RESET_INDEX_VALUES": false,
              "ROW_SAMPLING_METHOD": "random",
              "SAMPLING_FACTOR": 0.1,
              "SAMPLING_METHOD": "random",
              "STRINGIFY_COLUMN_VALUES": true,
              "STRINGIFY_INDEX_VALUES": false
            },
            "sample_history": [],
            "sampling_time": "2023-08-08T04:05:11.550879",
            "user_variable_name": null,
            "variable_name": "unk_dataframe_f87a0abc2bbc45d292e21bf25875c0f6"
          },
          "30799d23-891a-4122-be2a-0c8e25631257": {
            "applied_filters": [],
            "dataframe_info": {
              "default_index_used": false,
              "orig_num_cols": 1,
              "orig_num_rows": 1,
              "orig_size_bytes": 16,
              "truncated_num_cols": 1,
              "truncated_num_rows": 1,
              "truncated_size_bytes": 16,
              "truncated_string_columns": []
            },
            "display_id": "30799d23-891a-4122-be2a-0c8e25631257",
            "dx_settings": {
              "ALLOW_NOTEABLE_ATTRS": true,
              "COLUMN_SAMPLING_METHOD": "outer",
              "DB_LOCATION": ":memory:",
              "DEV_MODE": false,
              "DISPLAY_MAX_COLUMNS": 100,
              "DISPLAY_MAX_ROWS": 50000,
              "DISPLAY_MODE": "simple",
              "ENABLE_ASSIGNMENT": true,
              "ENABLE_DATALINK": true,
              "FLATTEN_COLUMN_VALUES": true,
              "FLATTEN_INDEX_VALUES": false,
              "GENERATE_DEX_METADATA": false,
              "HTML_TABLE_SCHEMA": false,
              "LOG_LEVEL": 30,
              "MAX_RENDER_SIZE_BYTES": 104857600,
              "MAX_STRING_LENGTH": 250,
              "NUM_PAST_SAMPLES_TRACKED": 3,
              "RANDOM_STATE": 12648430,
              "RESET_INDEX_VALUES": false,
              "ROW_SAMPLING_METHOD": "random",
              "SAMPLING_FACTOR": 0.1,
              "SAMPLING_METHOD": "random",
              "STRINGIFY_COLUMN_VALUES": true,
              "STRINGIFY_INDEX_VALUES": false
            },
            "sample_history": [],
            "sampling_time": "2023-08-08T16:49:08.124956",
            "user_variable_name": null,
            "variable_name": "unk_dataframe_906362545ea94ab4b6351a0a05b2d94f"
          },
          "574f6252-a118-4b0e-b881-07ed44736163": {
            "dataframe_info": {
              "default_index_used": false,
              "orig_size_bytes": 16,
              "orig_num_rows": 1,
              "orig_num_cols": 1,
              "truncated_string_columns": [],
              "truncated_size_bytes": 16,
              "truncated_num_rows": 1,
              "truncated_num_cols": 1
            },
            "dx_settings": {
              "LOG_LEVEL": 30,
              "DEV_MODE": false,
              "DISPLAY_MAX_ROWS": 50000,
              "DISPLAY_MAX_COLUMNS": 100,
              "HTML_TABLE_SCHEMA": false,
              "MAX_RENDER_SIZE_BYTES": 104857600,
              "MAX_STRING_LENGTH": 250,
              "SAMPLING_FACTOR": 0.1,
              "DISPLAY_MODE": "simple",
              "SAMPLING_METHOD": "random",
              "COLUMN_SAMPLING_METHOD": "outer",
              "ROW_SAMPLING_METHOD": "random",
              "RANDOM_STATE": 12648430,
              "RESET_INDEX_VALUES": false,
              "FLATTEN_INDEX_VALUES": false,
              "FLATTEN_COLUMN_VALUES": true,
              "STRINGIFY_INDEX_VALUES": false,
              "STRINGIFY_COLUMN_VALUES": true,
              "ENABLE_DATALINK": true,
              "ENABLE_ASSIGNMENT": true,
              "NUM_PAST_SAMPLES_TRACKED": 3,
              "DB_LOCATION": ":memory:",
              "GENERATE_DEX_METADATA": false,
              "ALLOW_NOTEABLE_ATTRS": true
            },
            "display_id": "574f6252-a118-4b0e-b881-07ed44736163",
            "applied_filters": [],
            "sample_history": [],
            "sampling_time": "2023-08-08T19:01:09.225245",
            "variable_name": "unk_dataframe_1b3d79cf9dbb4eb9b4eb1dccf1448c01",
            "user_variable_name": null
          }
        }
      },
      "id": "101ab228-13da-4fd7-9ad0-92baad9646a0"
    },
    {
      "cell_type": "markdown",
      "source": [
        "## Feature Engineering and Data Exploration\n",
        "In this section, we'll create new features that may be relevant to our analysis and explore the data through visualizations. We'll analyze how small business loans are approved based on various factors and identify trends and anomalies. This will help us understand the story behind the data and guide our modeling process."
      ],
      "metadata": {
        "noteable": {
          "cell_type": "markdown"
        }
      },
      "id": "53ef2dc1-29ee-4f65-b2aa-3048d8546c50"
    },
    {
      "cell_type": "code",
      "source": [
        "# Extract the first two digits of the NAICS code to represent the industry sector\n",
        "data['Industry_Sector'] = data['NAICS'].apply(lambda x: str(x)[:2])\n",
        "\n",
        "# Extract the month from the ApprovalDate to analyze trends over time\n",
        "data['Approval_Month'] = data['ApprovalDate'].dt.month\n",
        "\n",
        "# Check the first few rows to see the new features\n",
        "data[['Industry_Sector', 'Approval_Month']].head()"
      ],
      "outputs": [
        {
          "output_type": "display_data",
          "data": {
            "application/vnd.dataresource+json": {
              "schema": {
                "fields": [
                  {
                    "name": "index",
                    "type": "integer"
                  },
                  {
                    "name": "Industry_Sector",
                    "type": "string"
                  },
                  {
                    "name": "Approval_Month",
                    "type": "integer"
                  }
                ],
                "primaryKey": [
                  "index"
                ],
                "pandas_version": "1.4.0"
              },
              "data": [
                {
                  "index": 0,
                  "Industry_Sector": "45",
                  "Approval_Month": 2
                },
                {
                  "index": 1,
                  "Industry_Sector": "72",
                  "Approval_Month": 2
                },
                {
                  "index": 2,
                  "Industry_Sector": "62",
                  "Approval_Month": 2
                },
                {
                  "index": 3,
                  "Industry_Sector": "0",
                  "Approval_Month": 2
                },
                {
                  "index": 4,
                  "Industry_Sector": "0",
                  "Approval_Month": 2
                }
              ],
              "datalink": {
                "display_id": "7fc87785-6c3b-4ee9-9c41-fc5543bd9d57"
              }
            }
          },
          "metadata": {
            "application/vnd.dataresource+json": {
              "datalink": {
                "dataframe_info": {
                  "default_index_used": true,
                  "orig_size_bytes": 120,
                  "orig_num_rows": 5,
                  "orig_num_cols": 2,
                  "truncated_string_columns": [],
                  "truncated_size_bytes": 120,
                  "truncated_num_rows": 5,
                  "truncated_num_cols": 2
                },
                "dx_settings": {
                  "NUM_PAST_SAMPLES_TRACKED": 3,
                  "ENABLE_DATALINK": true,
                  "DISPLAY_MODE": "simple",
                  "GENERATE_DEX_METADATA": false,
                  "STRINGIFY_INDEX_VALUES": false,
                  "ALLOW_NOTEABLE_ATTRS": true,
                  "DISPLAY_MAX_COLUMNS": 100,
                  "HTML_TABLE_SCHEMA": false,
                  "SAMPLING_FACTOR": 0.1,
                  "LOG_LEVEL": 30,
                  "ENABLE_ASSIGNMENT": true,
                  "FLATTEN_INDEX_VALUES": false,
                  "DEV_MODE": false,
                  "COLUMN_SAMPLING_METHOD": "outer",
                  "FLATTEN_COLUMN_VALUES": true,
                  "DISPLAY_MAX_ROWS": 50000,
                  "ROW_SAMPLING_METHOD": "random",
                  "RANDOM_STATE": 12648430,
                  "DB_LOCATION": ":memory:",
                  "STRINGIFY_COLUMN_VALUES": true,
                  "SAMPLING_METHOD": "random",
                  "MAX_STRING_LENGTH": 250,
                  "MAX_RENDER_SIZE_BYTES": 104857600,
                  "RESET_INDEX_VALUES": false
                },
                "display_id": "7fc87785-6c3b-4ee9-9c41-fc5543bd9d57",
                "applied_filters": [],
                "sample_history": [],
                "sampling_time": "2023-08-08T19:01:10.307184",
                "variable_name": "unk_dataframe_0ba328fd30f441f6b6dba113f2f5cf02",
                "user_variable_name": null
              },
              "display_id": "7fc87785-6c3b-4ee9-9c41-fc5543bd9d57"
            }
          }
        }
      ],
      "execution_count": null,
      "metadata": {
        "noteable": {
          "cell_type": "code"
        },
        "ExecuteTime": {
          "start_time": "2023-08-08T19:01:09.434937+00:00",
          "end_time": "2023-08-08T19:01:10.465072+00:00"
        },
        "datalink": {
          "ef7e2a7a-acac-4d6f-bc91-79f80fa74e5a": {
            "applied_filters": [],
            "dataframe_info": {
              "default_index_used": true,
              "orig_num_cols": 2,
              "orig_num_rows": 5,
              "orig_size_bytes": 120,
              "truncated_num_cols": 2,
              "truncated_num_rows": 5,
              "truncated_size_bytes": 120,
              "truncated_string_columns": []
            },
            "display_id": "ef7e2a7a-acac-4d6f-bc91-79f80fa74e5a",
            "dx_settings": {
              "ALLOW_NOTEABLE_ATTRS": true,
              "COLUMN_SAMPLING_METHOD": "outer",
              "DB_LOCATION": ":memory:",
              "DEV_MODE": false,
              "DISPLAY_MAX_COLUMNS": 100,
              "DISPLAY_MAX_ROWS": 50000,
              "DISPLAY_MODE": "simple",
              "ENABLE_ASSIGNMENT": true,
              "ENABLE_DATALINK": true,
              "FLATTEN_COLUMN_VALUES": true,
              "FLATTEN_INDEX_VALUES": false,
              "GENERATE_DEX_METADATA": false,
              "HTML_TABLE_SCHEMA": false,
              "LOG_LEVEL": 30,
              "MAX_RENDER_SIZE_BYTES": 104857600,
              "MAX_STRING_LENGTH": 250,
              "NUM_PAST_SAMPLES_TRACKED": 3,
              "RANDOM_STATE": 12648430,
              "RESET_INDEX_VALUES": false,
              "ROW_SAMPLING_METHOD": "random",
              "SAMPLING_FACTOR": 0.1,
              "SAMPLING_METHOD": "random",
              "STRINGIFY_COLUMN_VALUES": true,
              "STRINGIFY_INDEX_VALUES": false
            },
            "sample_history": [],
            "sampling_time": "2023-08-07T20:41:20.101820",
            "user_variable_name": null,
            "variable_name": "unk_dataframe_19fe4210bd4441ec9935653980437f29"
          },
          "2e037beb-b88c-44a5-9484-e5a7e484cdbd": {
            "applied_filters": [],
            "dataframe_info": {
              "default_index_used": true,
              "orig_num_cols": 2,
              "orig_num_rows": 5,
              "orig_size_bytes": 120,
              "truncated_num_cols": 2,
              "truncated_num_rows": 5,
              "truncated_size_bytes": 120,
              "truncated_string_columns": []
            },
            "display_id": "2e037beb-b88c-44a5-9484-e5a7e484cdbd",
            "dx_settings": {
              "ALLOW_NOTEABLE_ATTRS": true,
              "COLUMN_SAMPLING_METHOD": "outer",
              "DB_LOCATION": ":memory:",
              "DEV_MODE": false,
              "DISPLAY_MAX_COLUMNS": 100,
              "DISPLAY_MAX_ROWS": 50000,
              "DISPLAY_MODE": "simple",
              "ENABLE_ASSIGNMENT": true,
              "ENABLE_DATALINK": true,
              "FLATTEN_COLUMN_VALUES": true,
              "FLATTEN_INDEX_VALUES": false,
              "GENERATE_DEX_METADATA": false,
              "HTML_TABLE_SCHEMA": false,
              "LOG_LEVEL": 30,
              "MAX_RENDER_SIZE_BYTES": 104857600,
              "MAX_STRING_LENGTH": 250,
              "NUM_PAST_SAMPLES_TRACKED": 3,
              "RANDOM_STATE": 12648430,
              "RESET_INDEX_VALUES": false,
              "ROW_SAMPLING_METHOD": "random",
              "SAMPLING_FACTOR": 0.1,
              "SAMPLING_METHOD": "random",
              "STRINGIFY_COLUMN_VALUES": true,
              "STRINGIFY_INDEX_VALUES": false
            },
            "sample_history": [],
            "sampling_time": "2023-08-07T21:04:02.134770",
            "user_variable_name": null,
            "variable_name": "unk_dataframe_733c6e34a6684d6993fbb7c98713511e"
          },
          "001850bf-8853-458a-8606-d5daeeb595af": {
            "applied_filters": [],
            "dataframe_info": {
              "default_index_used": true,
              "orig_num_cols": 2,
              "orig_num_rows": 5,
              "orig_size_bytes": 120,
              "truncated_num_cols": 2,
              "truncated_num_rows": 5,
              "truncated_size_bytes": 120,
              "truncated_string_columns": []
            },
            "display_id": "001850bf-8853-458a-8606-d5daeeb595af",
            "dx_settings": {
              "ALLOW_NOTEABLE_ATTRS": true,
              "COLUMN_SAMPLING_METHOD": "outer",
              "DB_LOCATION": ":memory:",
              "DEV_MODE": false,
              "DISPLAY_MAX_COLUMNS": 100,
              "DISPLAY_MAX_ROWS": 50000,
              "DISPLAY_MODE": "simple",
              "ENABLE_ASSIGNMENT": true,
              "ENABLE_DATALINK": true,
              "FLATTEN_COLUMN_VALUES": true,
              "FLATTEN_INDEX_VALUES": false,
              "GENERATE_DEX_METADATA": false,
              "HTML_TABLE_SCHEMA": false,
              "LOG_LEVEL": 30,
              "MAX_RENDER_SIZE_BYTES": 104857600,
              "MAX_STRING_LENGTH": 250,
              "NUM_PAST_SAMPLES_TRACKED": 3,
              "RANDOM_STATE": 12648430,
              "RESET_INDEX_VALUES": false,
              "ROW_SAMPLING_METHOD": "random",
              "SAMPLING_FACTOR": 0.1,
              "SAMPLING_METHOD": "random",
              "STRINGIFY_COLUMN_VALUES": true,
              "STRINGIFY_INDEX_VALUES": false
            },
            "sample_history": [],
            "sampling_time": "2023-08-07T21:06:21.224821",
            "user_variable_name": null,
            "variable_name": "unk_dataframe_0687b6f532a347bfbf8de2aa5850cf11"
          },
          "32ec0cf8-7078-43bd-96fe-1f55221e1c7a": {
            "applied_filters": [],
            "dataframe_info": {
              "default_index_used": true,
              "orig_num_cols": 2,
              "orig_num_rows": 5,
              "orig_size_bytes": 120,
              "truncated_num_cols": 2,
              "truncated_num_rows": 5,
              "truncated_size_bytes": 120,
              "truncated_string_columns": []
            },
            "display_id": "32ec0cf8-7078-43bd-96fe-1f55221e1c7a",
            "dx_settings": {
              "ALLOW_NOTEABLE_ATTRS": true,
              "COLUMN_SAMPLING_METHOD": "outer",
              "DB_LOCATION": ":memory:",
              "DEV_MODE": false,
              "DISPLAY_MAX_COLUMNS": 100,
              "DISPLAY_MAX_ROWS": 50000,
              "DISPLAY_MODE": "simple",
              "ENABLE_ASSIGNMENT": true,
              "ENABLE_DATALINK": true,
              "FLATTEN_COLUMN_VALUES": true,
              "FLATTEN_INDEX_VALUES": false,
              "GENERATE_DEX_METADATA": false,
              "HTML_TABLE_SCHEMA": false,
              "LOG_LEVEL": 30,
              "MAX_RENDER_SIZE_BYTES": 104857600,
              "MAX_STRING_LENGTH": 250,
              "NUM_PAST_SAMPLES_TRACKED": 3,
              "RANDOM_STATE": 12648430,
              "RESET_INDEX_VALUES": false,
              "ROW_SAMPLING_METHOD": "random",
              "SAMPLING_FACTOR": 0.1,
              "SAMPLING_METHOD": "random",
              "STRINGIFY_COLUMN_VALUES": true,
              "STRINGIFY_INDEX_VALUES": false
            },
            "sample_history": [],
            "sampling_time": "2023-08-07T21:24:16.718699",
            "user_variable_name": null,
            "variable_name": "unk_dataframe_4bbee8d0509d41798d536f6bafb02ad0"
          },
          "2faae855-6ad1-4fab-8753-2a6328af0cfc": {
            "applied_filters": [],
            "dataframe_info": {
              "default_index_used": true,
              "orig_num_cols": 2,
              "orig_num_rows": 5,
              "orig_size_bytes": 120,
              "truncated_num_cols": 2,
              "truncated_num_rows": 5,
              "truncated_size_bytes": 120,
              "truncated_string_columns": []
            },
            "display_id": "2faae855-6ad1-4fab-8753-2a6328af0cfc",
            "dx_settings": {
              "ALLOW_NOTEABLE_ATTRS": true,
              "COLUMN_SAMPLING_METHOD": "outer",
              "DB_LOCATION": ":memory:",
              "DEV_MODE": false,
              "DISPLAY_MAX_COLUMNS": 100,
              "DISPLAY_MAX_ROWS": 50000,
              "DISPLAY_MODE": "simple",
              "ENABLE_ASSIGNMENT": true,
              "ENABLE_DATALINK": true,
              "FLATTEN_COLUMN_VALUES": true,
              "FLATTEN_INDEX_VALUES": false,
              "GENERATE_DEX_METADATA": false,
              "HTML_TABLE_SCHEMA": false,
              "LOG_LEVEL": 30,
              "MAX_RENDER_SIZE_BYTES": 104857600,
              "MAX_STRING_LENGTH": 250,
              "NUM_PAST_SAMPLES_TRACKED": 3,
              "RANDOM_STATE": 12648430,
              "RESET_INDEX_VALUES": false,
              "ROW_SAMPLING_METHOD": "random",
              "SAMPLING_FACTOR": 0.1,
              "SAMPLING_METHOD": "random",
              "STRINGIFY_COLUMN_VALUES": true,
              "STRINGIFY_INDEX_VALUES": false
            },
            "sample_history": [],
            "sampling_time": "2023-08-07T21:30:54.305222",
            "user_variable_name": null,
            "variable_name": "unk_dataframe_99e9ec71a6664af68a8b9aebe06553cf"
          },
          "703de5cf-a0e7-4561-9f71-8b780c2d0ed9": {
            "applied_filters": [],
            "dataframe_info": {
              "default_index_used": true,
              "orig_num_cols": 2,
              "orig_num_rows": 5,
              "orig_size_bytes": 120,
              "truncated_num_cols": 2,
              "truncated_num_rows": 5,
              "truncated_size_bytes": 120,
              "truncated_string_columns": []
            },
            "display_id": "703de5cf-a0e7-4561-9f71-8b780c2d0ed9",
            "dx_settings": {
              "ALLOW_NOTEABLE_ATTRS": true,
              "COLUMN_SAMPLING_METHOD": "outer",
              "DB_LOCATION": ":memory:",
              "DEV_MODE": false,
              "DISPLAY_MAX_COLUMNS": 100,
              "DISPLAY_MAX_ROWS": 50000,
              "DISPLAY_MODE": "simple",
              "ENABLE_ASSIGNMENT": true,
              "ENABLE_DATALINK": true,
              "FLATTEN_COLUMN_VALUES": true,
              "FLATTEN_INDEX_VALUES": false,
              "GENERATE_DEX_METADATA": false,
              "HTML_TABLE_SCHEMA": false,
              "LOG_LEVEL": 30,
              "MAX_RENDER_SIZE_BYTES": 104857600,
              "MAX_STRING_LENGTH": 250,
              "NUM_PAST_SAMPLES_TRACKED": 3,
              "RANDOM_STATE": 12648430,
              "RESET_INDEX_VALUES": false,
              "ROW_SAMPLING_METHOD": "random",
              "SAMPLING_FACTOR": 0.1,
              "SAMPLING_METHOD": "random",
              "STRINGIFY_COLUMN_VALUES": true,
              "STRINGIFY_INDEX_VALUES": false
            },
            "sample_history": [],
            "sampling_time": "2023-08-07T21:34:27.068018",
            "user_variable_name": null,
            "variable_name": "unk_dataframe_3d8c14febc494f38b9092e6b3ebb9cbf"
          },
          "573c4d5e-d80c-48f5-98f9-9799b2502f4c": {
            "applied_filters": [],
            "dataframe_info": {
              "default_index_used": true,
              "orig_num_cols": 2,
              "orig_num_rows": 5,
              "orig_size_bytes": 120,
              "truncated_num_cols": 2,
              "truncated_num_rows": 5,
              "truncated_size_bytes": 120,
              "truncated_string_columns": []
            },
            "display_id": "573c4d5e-d80c-48f5-98f9-9799b2502f4c",
            "dx_settings": {
              "ALLOW_NOTEABLE_ATTRS": true,
              "COLUMN_SAMPLING_METHOD": "outer",
              "DB_LOCATION": ":memory:",
              "DEV_MODE": false,
              "DISPLAY_MAX_COLUMNS": 100,
              "DISPLAY_MAX_ROWS": 50000,
              "DISPLAY_MODE": "simple",
              "ENABLE_ASSIGNMENT": true,
              "ENABLE_DATALINK": true,
              "FLATTEN_COLUMN_VALUES": true,
              "FLATTEN_INDEX_VALUES": false,
              "GENERATE_DEX_METADATA": false,
              "HTML_TABLE_SCHEMA": false,
              "LOG_LEVEL": 30,
              "MAX_RENDER_SIZE_BYTES": 104857600,
              "MAX_STRING_LENGTH": 250,
              "NUM_PAST_SAMPLES_TRACKED": 3,
              "RANDOM_STATE": 12648430,
              "RESET_INDEX_VALUES": false,
              "ROW_SAMPLING_METHOD": "random",
              "SAMPLING_FACTOR": 0.1,
              "SAMPLING_METHOD": "random",
              "STRINGIFY_COLUMN_VALUES": true,
              "STRINGIFY_INDEX_VALUES": false
            },
            "sample_history": [],
            "sampling_time": "2023-08-08T01:41:02.313857",
            "user_variable_name": null,
            "variable_name": "unk_dataframe_dc45f298683a405a9cfc136647bd91cd"
          },
          "30dfbd7e-d017-40cc-a675-1c0993e09d2b": {
            "applied_filters": [],
            "dataframe_info": {
              "default_index_used": true,
              "orig_num_cols": 2,
              "orig_num_rows": 5,
              "orig_size_bytes": 120,
              "truncated_num_cols": 2,
              "truncated_num_rows": 5,
              "truncated_size_bytes": 120,
              "truncated_string_columns": []
            },
            "display_id": "30dfbd7e-d017-40cc-a675-1c0993e09d2b",
            "dx_settings": {
              "ALLOW_NOTEABLE_ATTRS": true,
              "COLUMN_SAMPLING_METHOD": "outer",
              "DB_LOCATION": ":memory:",
              "DEV_MODE": false,
              "DISPLAY_MAX_COLUMNS": 100,
              "DISPLAY_MAX_ROWS": 50000,
              "DISPLAY_MODE": "simple",
              "ENABLE_ASSIGNMENT": true,
              "ENABLE_DATALINK": true,
              "FLATTEN_COLUMN_VALUES": true,
              "FLATTEN_INDEX_VALUES": false,
              "GENERATE_DEX_METADATA": false,
              "HTML_TABLE_SCHEMA": false,
              "LOG_LEVEL": 30,
              "MAX_RENDER_SIZE_BYTES": 104857600,
              "MAX_STRING_LENGTH": 250,
              "NUM_PAST_SAMPLES_TRACKED": 3,
              "RANDOM_STATE": 12648430,
              "RESET_INDEX_VALUES": false,
              "ROW_SAMPLING_METHOD": "random",
              "SAMPLING_FACTOR": 0.1,
              "SAMPLING_METHOD": "random",
              "STRINGIFY_COLUMN_VALUES": true,
              "STRINGIFY_INDEX_VALUES": false
            },
            "sample_history": [],
            "sampling_time": "2023-08-08T01:47:10.613392",
            "user_variable_name": null,
            "variable_name": "unk_dataframe_d97474ce84394b6daa1e8ef735c38001"
          },
          "e1ad5ba3-bb46-4350-9f19-ea3e42fb275c": {
            "applied_filters": [],
            "dataframe_info": {
              "default_index_used": true,
              "orig_num_cols": 2,
              "orig_num_rows": 5,
              "orig_size_bytes": 120,
              "truncated_num_cols": 2,
              "truncated_num_rows": 5,
              "truncated_size_bytes": 120,
              "truncated_string_columns": []
            },
            "display_id": "e1ad5ba3-bb46-4350-9f19-ea3e42fb275c",
            "dx_settings": {
              "ALLOW_NOTEABLE_ATTRS": true,
              "COLUMN_SAMPLING_METHOD": "outer",
              "DB_LOCATION": ":memory:",
              "DEV_MODE": false,
              "DISPLAY_MAX_COLUMNS": 100,
              "DISPLAY_MAX_ROWS": 50000,
              "DISPLAY_MODE": "simple",
              "ENABLE_ASSIGNMENT": true,
              "ENABLE_DATALINK": true,
              "FLATTEN_COLUMN_VALUES": true,
              "FLATTEN_INDEX_VALUES": false,
              "GENERATE_DEX_METADATA": false,
              "HTML_TABLE_SCHEMA": false,
              "LOG_LEVEL": 30,
              "MAX_RENDER_SIZE_BYTES": 104857600,
              "MAX_STRING_LENGTH": 250,
              "NUM_PAST_SAMPLES_TRACKED": 3,
              "RANDOM_STATE": 12648430,
              "RESET_INDEX_VALUES": false,
              "ROW_SAMPLING_METHOD": "random",
              "SAMPLING_FACTOR": 0.1,
              "SAMPLING_METHOD": "random",
              "STRINGIFY_COLUMN_VALUES": true,
              "STRINGIFY_INDEX_VALUES": false
            },
            "sample_history": [],
            "sampling_time": "2023-08-08T04:05:15.871985",
            "user_variable_name": null,
            "variable_name": "unk_dataframe_b3c2604876e34284a351b598d672cb1e"
          },
          "458863e7-0482-44fd-9f3c-3b77000ee8ec": {
            "applied_filters": [],
            "dataframe_info": {
              "default_index_used": true,
              "orig_num_cols": 2,
              "orig_num_rows": 5,
              "orig_size_bytes": 120,
              "truncated_num_cols": 2,
              "truncated_num_rows": 5,
              "truncated_size_bytes": 120,
              "truncated_string_columns": []
            },
            "display_id": "458863e7-0482-44fd-9f3c-3b77000ee8ec",
            "dx_settings": {
              "ALLOW_NOTEABLE_ATTRS": true,
              "COLUMN_SAMPLING_METHOD": "outer",
              "DB_LOCATION": ":memory:",
              "DEV_MODE": false,
              "DISPLAY_MAX_COLUMNS": 100,
              "DISPLAY_MAX_ROWS": 50000,
              "DISPLAY_MODE": "simple",
              "ENABLE_ASSIGNMENT": true,
              "ENABLE_DATALINK": true,
              "FLATTEN_COLUMN_VALUES": true,
              "FLATTEN_INDEX_VALUES": false,
              "GENERATE_DEX_METADATA": false,
              "HTML_TABLE_SCHEMA": false,
              "LOG_LEVEL": 30,
              "MAX_RENDER_SIZE_BYTES": 104857600,
              "MAX_STRING_LENGTH": 250,
              "NUM_PAST_SAMPLES_TRACKED": 3,
              "RANDOM_STATE": 12648430,
              "RESET_INDEX_VALUES": false,
              "ROW_SAMPLING_METHOD": "random",
              "SAMPLING_FACTOR": 0.1,
              "SAMPLING_METHOD": "random",
              "STRINGIFY_COLUMN_VALUES": true,
              "STRINGIFY_INDEX_VALUES": false
            },
            "sample_history": [],
            "sampling_time": "2023-08-08T16:49:09.206038",
            "user_variable_name": null,
            "variable_name": "unk_dataframe_0fe6b6b78ac84cd7aca82ea092202dfc"
          },
          "7fc87785-6c3b-4ee9-9c41-fc5543bd9d57": {
            "dataframe_info": {
              "default_index_used": true,
              "orig_size_bytes": 120,
              "orig_num_rows": 5,
              "orig_num_cols": 2,
              "truncated_string_columns": [],
              "truncated_size_bytes": 120,
              "truncated_num_rows": 5,
              "truncated_num_cols": 2
            },
            "dx_settings": {
              "LOG_LEVEL": 30,
              "DEV_MODE": false,
              "DISPLAY_MAX_ROWS": 50000,
              "DISPLAY_MAX_COLUMNS": 100,
              "HTML_TABLE_SCHEMA": false,
              "MAX_RENDER_SIZE_BYTES": 104857600,
              "MAX_STRING_LENGTH": 250,
              "SAMPLING_FACTOR": 0.1,
              "DISPLAY_MODE": "simple",
              "SAMPLING_METHOD": "random",
              "COLUMN_SAMPLING_METHOD": "outer",
              "ROW_SAMPLING_METHOD": "random",
              "RANDOM_STATE": 12648430,
              "RESET_INDEX_VALUES": false,
              "FLATTEN_INDEX_VALUES": false,
              "FLATTEN_COLUMN_VALUES": true,
              "STRINGIFY_INDEX_VALUES": false,
              "STRINGIFY_COLUMN_VALUES": true,
              "ENABLE_DATALINK": true,
              "ENABLE_ASSIGNMENT": true,
              "NUM_PAST_SAMPLES_TRACKED": 3,
              "DB_LOCATION": ":memory:",
              "GENERATE_DEX_METADATA": false,
              "ALLOW_NOTEABLE_ATTRS": true
            },
            "display_id": "7fc87785-6c3b-4ee9-9c41-fc5543bd9d57",
            "applied_filters": [],
            "sample_history": [],
            "sampling_time": "2023-08-08T19:01:10.307184",
            "variable_name": "unk_dataframe_0ba328fd30f441f6b6dba113f2f5cf02",
            "user_variable_name": null
          }
        }
      },
      "id": "4499dd0c-d992-45a9-b580-f5206efe44b4"
    },
    {
      "cell_type": "code",
      "source": [
        "import matplotlib.pyplot as plt\n",
        "import seaborn as sns\n",
        "\n",
        "# Set the style of the visualization\n",
        "sns.set_style('whitegrid')\n",
        "\n",
        "# Plot the distribution of loan approvals by industry sector\n",
        "plt.figure(figsize=(12, 6))\n",
        "sns.countplot(x='Industry_Sector', data=data, order=data['Industry_Sector'].value_counts().index)\n",
        "plt.title('Distribution of Loan Approvals by Industry Sector')\n",
        "plt.xlabel('Industry Sector (First 2 digits of NAICS code)')\n",
        "plt.ylabel('Number of Loan Approvals')\n",
        "plt.show()\n",
        "\n",
        "# Plot the distribution of loan approvals by approval month\n",
        "plt.figure(figsize=(12, 6))\n",
        "sns.countplot(x='Approval_Month', data=data)\n",
        "plt.title('Distribution of Loan Approvals by Approval Month')\n",
        "plt.xlabel('Approval Month')\n",
        "plt.ylabel('Number of Loan Approvals')\n",
        "plt.show()"
      ],
      "outputs": [
        {
          "output_type": "display_data",
          "data": {
            "image/png": "[encoded data removed]"
          },
          "metadata": {}
        },
        {
          "output_type": "display_data",
          "data": {
            "image/png": "[encoded data removed]"
          },
          "metadata": {}
        }
      ],
      "execution_count": null,
      "metadata": {
        "noteable": {
          "cell_type": "code"
        },
        "ExecuteTime": {
          "start_time": "2023-08-08T19:01:10.474375+00:00",
          "end_time": "2023-08-08T19:01:13.165293+00:00"
        }
      },
      "id": "88ebc39f-1f82-4468-9d73-bf5f615224d6"
    },
    {
      "cell_type": "code",
      "source": [
        "# Plot the distribution of loan approvals by the number of employees (NoEmp)\n",
        "plt.figure(figsize=(12, 6))\n",
        "sns.histplot(data['NoEmp'], bins=50, kde=False)\n",
        "plt.title('Distribution of Loan Approvals by Number of Employees')\n",
        "plt.xlabel('Number of Employees')\n",
        "plt.ylabel('Number of Loan Approvals')\n",
        "plt.xlim(0, 100) # Limiting the x-axis to focus on the common range\n",
        "plt.show()\n",
        "\n",
        "# Plot the distribution of loan approvals by state\n",
        "plt.figure(figsize=(15, 6))\n",
        "sns.countplot(x='State', data=data, order=data['State'].value_counts().index)\n",
        "plt.title('Distribution of Loan Approvals by State')\n",
        "plt.xlabel('State')\n",
        "plt.ylabel('Number of Loan Approvals')\n",
        "plt.xticks(rotation=90) # Rotating the x-axis labels for better visibility\n",
        "plt.show()\n",
        "\n",
        "# Plot the distribution of loan approvals by urban or rural location (UrbanRural)\n",
        "plt.figure(figsize=(8, 6))\n",
        "sns.countplot(x='UrbanRural', data=data)\n",
        "plt.title('Distribution of Loan Approvals by Urban or Rural Location')\n",
        "plt.xlabel('Urban or Rural Location')\n",
        "plt.ylabel('Number of Loan Approvals')\n",
        "plt.show()"
      ],
      "outputs": [
        {
          "output_type": "display_data",
          "data": {
            "image/png": "[encoded data removed]"
          },
          "metadata": {}
        },
        {
          "output_type": "display_data",
          "data": {
            "image/png": "[encoded data removed]"
          },
          "metadata": {}
        },
        {
          "output_type": "display_data",
          "data": {
            "image/png": "[encoded data removed]"
          },
          "metadata": {}
        }
      ],
      "execution_count": null,
      "metadata": {
        "noteable": {
          "cell_type": "code"
        },
        "ExecuteTime": {
          "start_time": "2023-08-08T19:01:13.433350+00:00",
          "end_time": "2023-08-08T19:01:16.461181+00:00"
        }
      },
      "id": "750c770c-e596-4163-9dbf-8ff436b90f6f"
    },
    {
      "cell_type": "code",
      "source": [
        "from datetime import datetime\n",
        "\n",
        "# Converting 'SBA_Appv' and 'GrAppv' to numerical values\n",
        "data['SBA_Appv'] = data['SBA_Appv'].replace('[\\$,]', '', regex=True).astype(float)\n",
        "data['GrAppv'] = data['GrAppv'].replace('[\\$,]', '', regex=True).astype(float)\n",
        "\n",
        "# Creating a feature to categorize businesses as new or established\n",
        "data['Is_New_Business'] = data['NewExist'].apply(lambda x: 1 if x <= 2 else 0)\n",
        "\n",
        "# Creating a feature to identify loans backed by real estate\n",
        "data['RealEstate'] = data['Term'].apply(lambda x: 1 if x >= 240 else 0)\n",
        "\n",
        "# Creating a feature to identify loans active during the Great Recession (December 2007 to June 2009)\n",
        "start_recession = datetime.strptime('2007-12-01', '%Y-%m-%d')\n",
        "end_recession = datetime.strptime('2009-06-30', '%Y-%m-%d')\n",
        "data['Recession'] = data['DisbursementDate'].apply(lambda x: 1 if (x >= start_recession) & (x <= end_recession) else 0)\n",
        "\n",
        "# Calculating the portion of the loan guaranteed by SBA\n",
        "data['Portion'] = data['SBA_Appv'] / data['GrAppv']\n",
        "\n",
        "# Check the first few rows to see the new features\n",
        "data[['Is_New_Business', 'RealEstate', 'Recession', 'Portion']].head()"
      ],
      "outputs": [
        {
          "output_type": "display_data",
          "data": {
            "application/vnd.dataresource+json": {
              "schema": {
                "fields": [
                  {
                    "name": "index",
                    "type": "integer"
                  },
                  {
                    "name": "Is_New_Business",
                    "type": "integer"
                  },
                  {
                    "name": "RealEstate",
                    "type": "integer"
                  },
                  {
                    "name": "Recession",
                    "type": "integer"
                  },
                  {
                    "name": "Portion",
                    "type": "number"
                  }
                ],
                "primaryKey": [
                  "index"
                ],
                "pandas_version": "1.4.0"
              },
              "data": [
                {
                  "index": 0,
                  "Is_New_Business": 1,
                  "RealEstate": 0,
                  "Recession": 0,
                  "Portion": 0.8
                },
                {
                  "index": 1,
                  "Is_New_Business": 1,
                  "RealEstate": 0,
                  "Recession": 0,
                  "Portion": 0.8
                },
                {
                  "index": 2,
                  "Is_New_Business": 1,
                  "RealEstate": 0,
                  "Recession": 0,
                  "Portion": 0.75
                },
                {
                  "index": 3,
                  "Is_New_Business": 1,
                  "RealEstate": 0,
                  "Recession": 0,
                  "Portion": 0.8
                },
                {
                  "index": 4,
                  "Is_New_Business": 1,
                  "RealEstate": 1,
                  "Recession": 0,
                  "Portion": 1
                }
              ],
              "datalink": {
                "display_id": "dcbadd92-3aa6-4a6e-9d07-80b1aa725750"
              }
            }
          },
          "metadata": {
            "application/vnd.dataresource+json": {
              "datalink": {
                "dataframe_info": {
                  "default_index_used": true,
                  "orig_size_bytes": 200,
                  "orig_num_rows": 5,
                  "orig_num_cols": 4,
                  "truncated_string_columns": [],
                  "truncated_size_bytes": 200,
                  "truncated_num_rows": 5,
                  "truncated_num_cols": 4
                },
                "dx_settings": {
                  "NUM_PAST_SAMPLES_TRACKED": 3,
                  "ENABLE_DATALINK": true,
                  "DISPLAY_MODE": "simple",
                  "GENERATE_DEX_METADATA": false,
                  "STRINGIFY_INDEX_VALUES": false,
                  "ALLOW_NOTEABLE_ATTRS": true,
                  "DISPLAY_MAX_COLUMNS": 100,
                  "HTML_TABLE_SCHEMA": false,
                  "SAMPLING_FACTOR": 0.1,
                  "LOG_LEVEL": 30,
                  "ENABLE_ASSIGNMENT": true,
                  "FLATTEN_INDEX_VALUES": false,
                  "DEV_MODE": false,
                  "COLUMN_SAMPLING_METHOD": "outer",
                  "FLATTEN_COLUMN_VALUES": true,
                  "DISPLAY_MAX_ROWS": 50000,
                  "ROW_SAMPLING_METHOD": "random",
                  "RANDOM_STATE": 12648430,
                  "DB_LOCATION": ":memory:",
                  "STRINGIFY_COLUMN_VALUES": true,
                  "SAMPLING_METHOD": "random",
                  "MAX_STRING_LENGTH": 250,
                  "MAX_RENDER_SIZE_BYTES": 104857600,
                  "RESET_INDEX_VALUES": false
                },
                "display_id": "dcbadd92-3aa6-4a6e-9d07-80b1aa725750",
                "applied_filters": [],
                "sample_history": [],
                "sampling_time": "2023-08-08T19:01:26.558175",
                "variable_name": "unk_dataframe_99c16f20769e4a2eb95441bd18e2e16e",
                "user_variable_name": null
              },
              "display_id": "dcbadd92-3aa6-4a6e-9d07-80b1aa725750"
            }
          }
        }
      ],
      "execution_count": null,
      "metadata": {
        "noteable": {
          "cell_type": "code"
        },
        "ExecuteTime": {
          "start_time": "2023-08-08T19:01:17.008118+00:00",
          "end_time": "2023-08-08T19:01:26.715701+00:00"
        },
        "datalink": {
          "4d091f85-61ee-4e54-a26f-dbb55417eb39": {
            "applied_filters": [],
            "dataframe_info": {
              "default_index_used": true,
              "orig_num_cols": 4,
              "orig_num_rows": 5,
              "orig_size_bytes": 200,
              "truncated_num_cols": 4,
              "truncated_num_rows": 5,
              "truncated_size_bytes": 200,
              "truncated_string_columns": []
            },
            "display_id": "4d091f85-61ee-4e54-a26f-dbb55417eb39",
            "dx_settings": {
              "ALLOW_NOTEABLE_ATTRS": true,
              "COLUMN_SAMPLING_METHOD": "outer",
              "DB_LOCATION": ":memory:",
              "DEV_MODE": false,
              "DISPLAY_MAX_COLUMNS": 100,
              "DISPLAY_MAX_ROWS": 50000,
              "DISPLAY_MODE": "simple",
              "ENABLE_ASSIGNMENT": true,
              "ENABLE_DATALINK": true,
              "FLATTEN_COLUMN_VALUES": true,
              "FLATTEN_INDEX_VALUES": false,
              "GENERATE_DEX_METADATA": false,
              "HTML_TABLE_SCHEMA": false,
              "LOG_LEVEL": 30,
              "MAX_RENDER_SIZE_BYTES": 104857600,
              "MAX_STRING_LENGTH": 250,
              "NUM_PAST_SAMPLES_TRACKED": 3,
              "RANDOM_STATE": 12648430,
              "RESET_INDEX_VALUES": false,
              "ROW_SAMPLING_METHOD": "random",
              "SAMPLING_FACTOR": 0.1,
              "SAMPLING_METHOD": "random",
              "STRINGIFY_COLUMN_VALUES": true,
              "STRINGIFY_INDEX_VALUES": false
            },
            "sample_history": [],
            "sampling_time": "2023-08-07T20:56:44.419476",
            "user_variable_name": null,
            "variable_name": "unk_dataframe_104245335b0b48c0bb82c9afd4710b10"
          },
          "e0eea94f-c6ed-45e5-9517-9c7c80c3cb1a": {
            "applied_filters": [],
            "dataframe_info": {
              "default_index_used": true,
              "orig_num_cols": 4,
              "orig_num_rows": 5,
              "orig_size_bytes": 200,
              "truncated_num_cols": 4,
              "truncated_num_rows": 5,
              "truncated_size_bytes": 200,
              "truncated_string_columns": []
            },
            "display_id": "e0eea94f-c6ed-45e5-9517-9c7c80c3cb1a",
            "dx_settings": {
              "ALLOW_NOTEABLE_ATTRS": true,
              "COLUMN_SAMPLING_METHOD": "outer",
              "DB_LOCATION": ":memory:",
              "DEV_MODE": false,
              "DISPLAY_MAX_COLUMNS": 100,
              "DISPLAY_MAX_ROWS": 50000,
              "DISPLAY_MODE": "simple",
              "ENABLE_ASSIGNMENT": true,
              "ENABLE_DATALINK": true,
              "FLATTEN_COLUMN_VALUES": true,
              "FLATTEN_INDEX_VALUES": false,
              "GENERATE_DEX_METADATA": false,
              "HTML_TABLE_SCHEMA": false,
              "LOG_LEVEL": 30,
              "MAX_RENDER_SIZE_BYTES": 104857600,
              "MAX_STRING_LENGTH": 250,
              "NUM_PAST_SAMPLES_TRACKED": 3,
              "RANDOM_STATE": 12648430,
              "RESET_INDEX_VALUES": false,
              "ROW_SAMPLING_METHOD": "random",
              "SAMPLING_FACTOR": 0.1,
              "SAMPLING_METHOD": "random",
              "STRINGIFY_COLUMN_VALUES": true,
              "STRINGIFY_INDEX_VALUES": false
            },
            "sample_history": [],
            "sampling_time": "2023-08-07T21:31:55.870015",
            "user_variable_name": null,
            "variable_name": "unk_dataframe_cff5da0d40794b0192e62ae8495e9dc9"
          },
          "6b0c3156-bd3d-46bd-9324-dd36e09546f4": {
            "applied_filters": [],
            "dataframe_info": {
              "default_index_used": true,
              "orig_num_cols": 4,
              "orig_num_rows": 5,
              "orig_size_bytes": 200,
              "truncated_num_cols": 4,
              "truncated_num_rows": 5,
              "truncated_size_bytes": 200,
              "truncated_string_columns": []
            },
            "display_id": "6b0c3156-bd3d-46bd-9324-dd36e09546f4",
            "dx_settings": {
              "ALLOW_NOTEABLE_ATTRS": true,
              "COLUMN_SAMPLING_METHOD": "outer",
              "DB_LOCATION": ":memory:",
              "DEV_MODE": false,
              "DISPLAY_MAX_COLUMNS": 100,
              "DISPLAY_MAX_ROWS": 50000,
              "DISPLAY_MODE": "simple",
              "ENABLE_ASSIGNMENT": true,
              "ENABLE_DATALINK": true,
              "FLATTEN_COLUMN_VALUES": true,
              "FLATTEN_INDEX_VALUES": false,
              "GENERATE_DEX_METADATA": false,
              "HTML_TABLE_SCHEMA": false,
              "LOG_LEVEL": 30,
              "MAX_RENDER_SIZE_BYTES": 104857600,
              "MAX_STRING_LENGTH": 250,
              "NUM_PAST_SAMPLES_TRACKED": 3,
              "RANDOM_STATE": 12648430,
              "RESET_INDEX_VALUES": false,
              "ROW_SAMPLING_METHOD": "random",
              "SAMPLING_FACTOR": 0.1,
              "SAMPLING_METHOD": "random",
              "STRINGIFY_COLUMN_VALUES": true,
              "STRINGIFY_INDEX_VALUES": false
            },
            "sample_history": [],
            "sampling_time": "2023-08-07T21:35:20.104376",
            "user_variable_name": null,
            "variable_name": "unk_dataframe_886b4ea871ac445792002e791e277f9e"
          },
          "5dc0627f-f047-4641-9570-41395ffc6bc0": {
            "applied_filters": [],
            "dataframe_info": {
              "default_index_used": true,
              "orig_num_cols": 4,
              "orig_num_rows": 5,
              "orig_size_bytes": 200,
              "truncated_num_cols": 4,
              "truncated_num_rows": 5,
              "truncated_size_bytes": 200,
              "truncated_string_columns": []
            },
            "display_id": "5dc0627f-f047-4641-9570-41395ffc6bc0",
            "dx_settings": {
              "ALLOW_NOTEABLE_ATTRS": true,
              "COLUMN_SAMPLING_METHOD": "outer",
              "DB_LOCATION": ":memory:",
              "DEV_MODE": false,
              "DISPLAY_MAX_COLUMNS": 100,
              "DISPLAY_MAX_ROWS": 50000,
              "DISPLAY_MODE": "simple",
              "ENABLE_ASSIGNMENT": true,
              "ENABLE_DATALINK": true,
              "FLATTEN_COLUMN_VALUES": true,
              "FLATTEN_INDEX_VALUES": false,
              "GENERATE_DEX_METADATA": false,
              "HTML_TABLE_SCHEMA": false,
              "LOG_LEVEL": 30,
              "MAX_RENDER_SIZE_BYTES": 104857600,
              "MAX_STRING_LENGTH": 250,
              "NUM_PAST_SAMPLES_TRACKED": 3,
              "RANDOM_STATE": 12648430,
              "RESET_INDEX_VALUES": false,
              "ROW_SAMPLING_METHOD": "random",
              "SAMPLING_FACTOR": 0.1,
              "SAMPLING_METHOD": "random",
              "STRINGIFY_COLUMN_VALUES": true,
              "STRINGIFY_INDEX_VALUES": false
            },
            "sample_history": [],
            "sampling_time": "2023-08-08T01:41:36.066457",
            "user_variable_name": null,
            "variable_name": "unk_dataframe_62e5a15546ee48c1a88d4459a9bd2573"
          },
          "e4a60005-34db-4b88-86c1-3c28ff4779da": {
            "applied_filters": [],
            "dataframe_info": {
              "default_index_used": true,
              "orig_num_cols": 4,
              "orig_num_rows": 5,
              "orig_size_bytes": 200,
              "truncated_num_cols": 4,
              "truncated_num_rows": 5,
              "truncated_size_bytes": 200,
              "truncated_string_columns": []
            },
            "display_id": "e4a60005-34db-4b88-86c1-3c28ff4779da",
            "dx_settings": {
              "ALLOW_NOTEABLE_ATTRS": true,
              "COLUMN_SAMPLING_METHOD": "outer",
              "DB_LOCATION": ":memory:",
              "DEV_MODE": false,
              "DISPLAY_MAX_COLUMNS": 100,
              "DISPLAY_MAX_ROWS": 50000,
              "DISPLAY_MODE": "simple",
              "ENABLE_ASSIGNMENT": true,
              "ENABLE_DATALINK": true,
              "FLATTEN_COLUMN_VALUES": true,
              "FLATTEN_INDEX_VALUES": false,
              "GENERATE_DEX_METADATA": false,
              "HTML_TABLE_SCHEMA": false,
              "LOG_LEVEL": 30,
              "MAX_RENDER_SIZE_BYTES": 104857600,
              "MAX_STRING_LENGTH": 250,
              "NUM_PAST_SAMPLES_TRACKED": 3,
              "RANDOM_STATE": 12648430,
              "RESET_INDEX_VALUES": false,
              "ROW_SAMPLING_METHOD": "random",
              "SAMPLING_FACTOR": 0.1,
              "SAMPLING_METHOD": "random",
              "STRINGIFY_COLUMN_VALUES": true,
              "STRINGIFY_INDEX_VALUES": false
            },
            "sample_history": [],
            "sampling_time": "2023-08-08T04:07:28.476511",
            "user_variable_name": null,
            "variable_name": "unk_dataframe_321d6d0de5e24be1a12dd73f63cb3e83"
          },
          "827c050a-1c24-4122-b1fb-397e56bbbbd2": {
            "applied_filters": [],
            "dataframe_info": {
              "default_index_used": true,
              "orig_num_cols": 4,
              "orig_num_rows": 5,
              "orig_size_bytes": 200,
              "truncated_num_cols": 4,
              "truncated_num_rows": 5,
              "truncated_size_bytes": 200,
              "truncated_string_columns": []
            },
            "display_id": "827c050a-1c24-4122-b1fb-397e56bbbbd2",
            "dx_settings": {
              "ALLOW_NOTEABLE_ATTRS": true,
              "COLUMN_SAMPLING_METHOD": "outer",
              "DB_LOCATION": ":memory:",
              "DEV_MODE": false,
              "DISPLAY_MAX_COLUMNS": 100,
              "DISPLAY_MAX_ROWS": 50000,
              "DISPLAY_MODE": "simple",
              "ENABLE_ASSIGNMENT": true,
              "ENABLE_DATALINK": true,
              "FLATTEN_COLUMN_VALUES": true,
              "FLATTEN_INDEX_VALUES": false,
              "GENERATE_DEX_METADATA": false,
              "HTML_TABLE_SCHEMA": false,
              "LOG_LEVEL": 30,
              "MAX_RENDER_SIZE_BYTES": 104857600,
              "MAX_STRING_LENGTH": 250,
              "NUM_PAST_SAMPLES_TRACKED": 3,
              "RANDOM_STATE": 12648430,
              "RESET_INDEX_VALUES": false,
              "ROW_SAMPLING_METHOD": "random",
              "SAMPLING_FACTOR": 0.1,
              "SAMPLING_METHOD": "random",
              "STRINGIFY_COLUMN_VALUES": true,
              "STRINGIFY_INDEX_VALUES": false
            },
            "sample_history": [],
            "sampling_time": "2023-08-08T04:07:36.828131",
            "user_variable_name": null,
            "variable_name": "unk_dataframe_fbeb3aabacb44eb185acff33b6fdc1fe"
          },
          "b9c44264-725b-4f84-a431-b796086872ce": {
            "applied_filters": [],
            "dataframe_info": {
              "default_index_used": true,
              "orig_num_cols": 4,
              "orig_num_rows": 5,
              "orig_size_bytes": 200,
              "truncated_num_cols": 4,
              "truncated_num_rows": 5,
              "truncated_size_bytes": 200,
              "truncated_string_columns": []
            },
            "display_id": "b9c44264-725b-4f84-a431-b796086872ce",
            "dx_settings": {
              "ALLOW_NOTEABLE_ATTRS": true,
              "COLUMN_SAMPLING_METHOD": "outer",
              "DB_LOCATION": ":memory:",
              "DEV_MODE": false,
              "DISPLAY_MAX_COLUMNS": 100,
              "DISPLAY_MAX_ROWS": 50000,
              "DISPLAY_MODE": "simple",
              "ENABLE_ASSIGNMENT": true,
              "ENABLE_DATALINK": true,
              "FLATTEN_COLUMN_VALUES": true,
              "FLATTEN_INDEX_VALUES": false,
              "GENERATE_DEX_METADATA": false,
              "HTML_TABLE_SCHEMA": false,
              "LOG_LEVEL": 30,
              "MAX_RENDER_SIZE_BYTES": 104857600,
              "MAX_STRING_LENGTH": 250,
              "NUM_PAST_SAMPLES_TRACKED": 3,
              "RANDOM_STATE": 12648430,
              "RESET_INDEX_VALUES": false,
              "ROW_SAMPLING_METHOD": "random",
              "SAMPLING_FACTOR": 0.1,
              "SAMPLING_METHOD": "random",
              "STRINGIFY_COLUMN_VALUES": true,
              "STRINGIFY_INDEX_VALUES": false
            },
            "sample_history": [],
            "sampling_time": "2023-08-08T16:49:26.611205",
            "user_variable_name": null,
            "variable_name": "unk_dataframe_71bdcd16e28a416bb5f2675a9b44ecdb"
          },
          "dcbadd92-3aa6-4a6e-9d07-80b1aa725750": {
            "dataframe_info": {
              "default_index_used": true,
              "orig_size_bytes": 200,
              "orig_num_rows": 5,
              "orig_num_cols": 4,
              "truncated_string_columns": [],
              "truncated_size_bytes": 200,
              "truncated_num_rows": 5,
              "truncated_num_cols": 4
            },
            "dx_settings": {
              "LOG_LEVEL": 30,
              "DEV_MODE": false,
              "DISPLAY_MAX_ROWS": 50000,
              "DISPLAY_MAX_COLUMNS": 100,
              "HTML_TABLE_SCHEMA": false,
              "MAX_RENDER_SIZE_BYTES": 104857600,
              "MAX_STRING_LENGTH": 250,
              "SAMPLING_FACTOR": 0.1,
              "DISPLAY_MODE": "simple",
              "SAMPLING_METHOD": "random",
              "COLUMN_SAMPLING_METHOD": "outer",
              "ROW_SAMPLING_METHOD": "random",
              "RANDOM_STATE": 12648430,
              "RESET_INDEX_VALUES": false,
              "FLATTEN_INDEX_VALUES": false,
              "FLATTEN_COLUMN_VALUES": true,
              "STRINGIFY_INDEX_VALUES": false,
              "STRINGIFY_COLUMN_VALUES": true,
              "ENABLE_DATALINK": true,
              "ENABLE_ASSIGNMENT": true,
              "NUM_PAST_SAMPLES_TRACKED": 3,
              "DB_LOCATION": ":memory:",
              "GENERATE_DEX_METADATA": false,
              "ALLOW_NOTEABLE_ATTRS": true
            },
            "display_id": "dcbadd92-3aa6-4a6e-9d07-80b1aa725750",
            "applied_filters": [],
            "sample_history": [],
            "sampling_time": "2023-08-08T19:01:26.558175",
            "variable_name": "unk_dataframe_99c16f20769e4a2eb95441bd18e2e16e",
            "user_variable_name": null
          }
        }
      },
      "id": "e5787c7b-9e8c-47cd-a7fc-4255b232866f"
    },
    {
      "cell_type": "code",
      "source": [
        "# Creating a 'Default' column based on 'MIS_Status'\n",
        "data['Default'] = data['MIS_Status'].apply(lambda x: 1 if x == 'CHGOFF' else 0)\n",
        "\n"
      ],
      "outputs": [],
      "execution_count": null,
      "metadata": {
        "noteable": {
          "cell_type": "code"
        },
        "ExecuteTime": {
          "start_time": "2023-08-08T19:01:26.725582+00:00",
          "end_time": "2023-08-08T19:01:27.246340+00:00"
        }
      },
      "id": "7479619f-b78d-4cc9-8dfd-3027ce376294"
    },
    {
      "cell_type": "code",
      "source": [
        "# Selecting numerical variables for correlation analysis\n",
        "correlation_data = data[['Default', 'Term', 'NoEmp', 'DisbursementGross', 'Portion', 'Is_New_Business', 'RealEstate', 'Recession']]\n",
        "\n",
        "# Calculating the correlation matrix\n",
        "correlation_matrix = correlation_data.corr()\n",
        "\n",
        "# Plotting the correlation matrix as a heatmap\n",
        "plt.figure(figsize=(12, 8))\n",
        "sns.heatmap(correlation_matrix, annot=True, cmap='coolwarm')\n",
        "plt.title('Correlation Matrix')\n",
        "plt.show()"
      ],
      "outputs": [
        {
          "output_type": "display_data",
          "data": {
            "image/png": "[encoded data removed]"
          },
          "metadata": {}
        }
      ],
      "execution_count": null,
      "metadata": {
        "noteable": {
          "cell_type": "code"
        },
        "ExecuteTime": {
          "start_time": "2023-08-08T19:01:27.257269+00:00",
          "end_time": "2023-08-08T19:01:28.277528+00:00"
        }
      },
      "id": "854be9cc-19d8-47e7-905a-fa14ebf0e60e"
    },
    {
      "cell_type": "code",
      "source": [
        "# Selecting numerical variables for correlation analysis\n",
        "correlation_data = data[['Default', 'Term', 'NoEmp', 'DisbursementGross', 'Portion', 'Is_New_Business', 'RealEstate', 'Recession']]\n",
        "\n",
        "# Calculating the correlation matrix\n",
        "correlation_matrix = correlation_data.corr()\n",
        "\n",
        "# Plotting the correlation matrix as a heatmap\n",
        "plt.figure(figsize=(12, 8))\n",
        "sns.heatmap(correlation_matrix, annot=True, cmap='coolwarm')\n",
        "plt.title('Correlation Matrix')\n",
        "plt.show()"
      ],
      "outputs": [
        {
          "output_type": "display_data",
          "data": {
            "image/png": "[encoded data removed]"
          },
          "metadata": {}
        }
      ],
      "execution_count": null,
      "metadata": {
        "noteable": {
          "cell_type": "code"
        },
        "ExecuteTime": {
          "start_time": "2023-08-08T19:01:28.530852+00:00",
          "end_time": "2023-08-08T19:01:29.539408+00:00"
        }
      },
      "id": "9a9558b8-4524-452b-81de-c23423ced326"
    },
    {
      "cell_type": "code",
      "source": [
        "# Displaying the first few rows of the dataset to verify the current state\n",
        "data.head()"
      ],
      "outputs": [
        {
          "output_type": "display_data",
          "data": {
            "application/vnd.dataresource+json": {
              "schema": {
                "fields": [
                  {
                    "name": "index",
                    "type": "integer"
                  },
                  {
                    "name": "LoanNr_ChkDgt",
                    "type": "integer"
                  },
                  {
                    "name": "Name",
                    "type": "string"
                  },
                  {
                    "name": "City",
                    "type": "string"
                  },
                  {
                    "name": "State",
                    "type": "string"
                  },
                  {
                    "name": "Zip",
                    "type": "integer"
                  },
                  {
                    "name": "Bank",
                    "type": "string"
                  },
                  {
                    "name": "BankState",
                    "type": "string"
                  },
                  {
                    "name": "NAICS",
                    "type": "integer"
                  },
                  {
                    "name": "ApprovalDate",
                    "type": "datetime"
                  },
                  {
                    "name": "ApprovalFY",
                    "type": "string"
                  },
                  {
                    "name": "Term",
                    "type": "integer"
                  },
                  {
                    "name": "NoEmp",
                    "type": "integer"
                  },
                  {
                    "name": "NewExist",
                    "type": "number"
                  },
                  {
                    "name": "CreateJob",
                    "type": "integer"
                  },
                  {
                    "name": "RetainedJob",
                    "type": "integer"
                  },
                  {
                    "name": "FranchiseCode",
                    "type": "integer"
                  },
                  {
                    "name": "UrbanRural",
                    "type": "integer"
                  },
                  {
                    "name": "RevLineCr",
                    "type": "string"
                  },
                  {
                    "name": "LowDoc",
                    "type": "string"
                  },
                  {
                    "name": "ChgOffDate",
                    "type": "datetime"
                  },
                  {
                    "name": "DisbursementDate",
                    "type": "datetime"
                  },
                  {
                    "name": "DisbursementGross",
                    "type": "string"
                  },
                  {
                    "name": "BalanceGross",
                    "type": "string"
                  },
                  {
                    "name": "MIS_Status",
                    "type": "string"
                  },
                  {
                    "name": "ChgOffPrinGr",
                    "type": "string"
                  },
                  {
                    "name": "GrAppv",
                    "type": "number"
                  },
                  {
                    "name": "SBA_Appv",
                    "type": "number"
                  },
                  {
                    "name": "Industry_Sector",
                    "type": "string"
                  },
                  {
                    "name": "Approval_Month",
                    "type": "integer"
                  },
                  {
                    "name": "Is_New_Business",
                    "type": "integer"
                  },
                  {
                    "name": "RealEstate",
                    "type": "integer"
                  },
                  {
                    "name": "Recession",
                    "type": "integer"
                  },
                  {
                    "name": "Portion",
                    "type": "number"
                  },
                  {
                    "name": "Default",
                    "type": "integer"
                  }
                ],
                "primaryKey": [
                  "index"
                ],
                "pandas_version": "1.4.0"
              },
              "data": [
                {
                  "index": 0,
                  "LoanNr_ChkDgt": 1000014003,
                  "Name": "ABC HOBBYCRAFT",
                  "City": "EVANSVILLE",
                  "State": "IN",
                  "Zip": 47711,
                  "Bank": "FIFTH THIRD BANK",
                  "BankState": "OH",
                  "NAICS": 451120,
                  "ApprovalDate": "1997-02-28T00:00:00Z",
                  "ApprovalFY": 1997,
                  "Term": 84,
                  "NoEmp": 4,
                  "NewExist": 2,
                  "CreateJob": 0,
                  "RetainedJob": 0,
                  "FranchiseCode": 1,
                  "UrbanRural": 0,
                  "RevLineCr": "N",
                  "LowDoc": "Y",
                  "ChgOffDate": null,
                  "DisbursementDate": "1999-02-28T00:00:00Z",
                  "DisbursementGross": "$60,000.00 ",
                  "BalanceGross": "$0.00 ",
                  "MIS_Status": "P I F",
                  "ChgOffPrinGr": "$0.00 ",
                  "GrAppv": 60000,
                  "SBA_Appv": 48000,
                  "Industry_Sector": "45",
                  "Approval_Month": 2,
                  "Is_New_Business": 1,
                  "RealEstate": 0,
                  "Recession": 0,
                  "Portion": 0.8,
                  "Default": 0
                },
                {
                  "index": 1,
                  "LoanNr_ChkDgt": 1000024006,
                  "Name": "LANDMARK BAR & GRILLE (THE)",
                  "City": "NEW PARIS",
                  "State": "IN",
                  "Zip": 46526,
                  "Bank": "1ST SOURCE BANK",
                  "BankState": "IN",
                  "NAICS": 722410,
                  "ApprovalDate": "1997-02-28T00:00:00Z",
                  "ApprovalFY": 1997,
                  "Term": 60,
                  "NoEmp": 2,
                  "NewExist": 2,
                  "CreateJob": 0,
                  "RetainedJob": 0,
                  "FranchiseCode": 1,
                  "UrbanRural": 0,
                  "RevLineCr": "N",
                  "LowDoc": "Y",
                  "ChgOffDate": null,
                  "DisbursementDate": "1997-05-31T00:00:00Z",
                  "DisbursementGross": "$40,000.00 ",
                  "BalanceGross": "$0.00 ",
                  "MIS_Status": "P I F",
                  "ChgOffPrinGr": "$0.00 ",
                  "GrAppv": 40000,
                  "SBA_Appv": 32000,
                  "Industry_Sector": "72",
                  "Approval_Month": 2,
                  "Is_New_Business": 1,
                  "RealEstate": 0,
                  "Recession": 0,
                  "Portion": 0.8,
                  "Default": 0
                },
                {
                  "index": 2,
                  "LoanNr_ChkDgt": 1000034009,
                  "Name": "WHITLOCK DDS, TODD M.",
                  "City": "BLOOMINGTON",
                  "State": "IN",
                  "Zip": 47401,
                  "Bank": "GRANT COUNTY STATE BANK",
                  "BankState": "IN",
                  "NAICS": 621210,
                  "ApprovalDate": "1997-02-28T00:00:00Z",
                  "ApprovalFY": 1997,
                  "Term": 180,
                  "NoEmp": 7,
                  "NewExist": 1,
                  "CreateJob": 0,
                  "RetainedJob": 0,
                  "FranchiseCode": 1,
                  "UrbanRural": 0,
                  "RevLineCr": "N",
                  "LowDoc": "N",
                  "ChgOffDate": null,
                  "DisbursementDate": "1997-12-31T00:00:00Z",
                  "DisbursementGross": "$287,000.00 ",
                  "BalanceGross": "$0.00 ",
                  "MIS_Status": "P I F",
                  "ChgOffPrinGr": "$0.00 ",
                  "GrAppv": 287000,
                  "SBA_Appv": 215250,
                  "Industry_Sector": "62",
                  "Approval_Month": 2,
                  "Is_New_Business": 1,
                  "RealEstate": 0,
                  "Recession": 0,
                  "Portion": 0.75,
                  "Default": 0
                },
                {
                  "index": 3,
                  "LoanNr_ChkDgt": 1000044001,
                  "Name": "BIG BUCKS PAWN & JEWELRY, LLC",
                  "City": "BROKEN ARROW",
                  "State": "OK",
                  "Zip": 74012,
                  "Bank": "1ST NATL BK & TR CO OF BROKEN",
                  "BankState": "OK",
                  "NAICS": 0,
                  "ApprovalDate": "1997-02-28T00:00:00Z",
                  "ApprovalFY": 1997,
                  "Term": 60,
                  "NoEmp": 2,
                  "NewExist": 1,
                  "CreateJob": 0,
                  "RetainedJob": 0,
                  "FranchiseCode": 1,
                  "UrbanRural": 0,
                  "RevLineCr": "N",
                  "LowDoc": "Y",
                  "ChgOffDate": null,
                  "DisbursementDate": "1997-06-30T00:00:00Z",
                  "DisbursementGross": "$35,000.00 ",
                  "BalanceGross": "$0.00 ",
                  "MIS_Status": "P I F",
                  "ChgOffPrinGr": "$0.00 ",
                  "GrAppv": 35000,
                  "SBA_Appv": 28000,
                  "Industry_Sector": "0",
                  "Approval_Month": 2,
                  "Is_New_Business": 1,
                  "RealEstate": 0,
                  "Recession": 0,
                  "Portion": 0.8,
                  "Default": 0
                },
                {
                  "index": 4,
                  "LoanNr_ChkDgt": 1000054004,
                  "Name": "ANASTASIA CONFECTIONS, INC.",
                  "City": "ORLANDO",
                  "State": "FL",
                  "Zip": 32801,
                  "Bank": "FLORIDA BUS. DEVEL CORP",
                  "BankState": "FL",
                  "NAICS": 0,
                  "ApprovalDate": "1997-02-28T00:00:00Z",
                  "ApprovalFY": 1997,
                  "Term": 240,
                  "NoEmp": 14,
                  "NewExist": 1,
                  "CreateJob": 7,
                  "RetainedJob": 7,
                  "FranchiseCode": 1,
                  "UrbanRural": 0,
                  "RevLineCr": "N",
                  "LowDoc": "N",
                  "ChgOffDate": null,
                  "DisbursementDate": "1997-05-14T00:00:00Z",
                  "DisbursementGross": "$229,000.00 ",
                  "BalanceGross": "$0.00 ",
                  "MIS_Status": "P I F",
                  "ChgOffPrinGr": "$0.00 ",
                  "GrAppv": 229000,
                  "SBA_Appv": 229000,
                  "Industry_Sector": "0",
                  "Approval_Month": 2,
                  "Is_New_Business": 1,
                  "RealEstate": 1,
                  "Recession": 0,
                  "Portion": 1,
                  "Default": 0
                }
              ],
              "datalink": {
                "display_id": "58bbc41a-270d-42ad-ba15-a6449c963d73"
              }
            }
          },
          "metadata": {
            "application/vnd.dataresource+json": {
              "datalink": {
                "dataframe_info": {
                  "default_index_used": true,
                  "orig_size_bytes": 1400,
                  "orig_num_rows": 5,
                  "orig_num_cols": 34,
                  "truncated_string_columns": [],
                  "truncated_size_bytes": 1400,
                  "truncated_num_rows": 5,
                  "truncated_num_cols": 34
                },
                "dx_settings": {
                  "NUM_PAST_SAMPLES_TRACKED": 3,
                  "ENABLE_DATALINK": true,
                  "DISPLAY_MODE": "simple",
                  "GENERATE_DEX_METADATA": false,
                  "STRINGIFY_INDEX_VALUES": false,
                  "ALLOW_NOTEABLE_ATTRS": true,
                  "DISPLAY_MAX_COLUMNS": 100,
                  "HTML_TABLE_SCHEMA": false,
                  "SAMPLING_FACTOR": 0.1,
                  "LOG_LEVEL": 30,
                  "ENABLE_ASSIGNMENT": true,
                  "FLATTEN_INDEX_VALUES": false,
                  "DEV_MODE": false,
                  "COLUMN_SAMPLING_METHOD": "outer",
                  "FLATTEN_COLUMN_VALUES": true,
                  "DISPLAY_MAX_ROWS": 50000,
                  "ROW_SAMPLING_METHOD": "random",
                  "RANDOM_STATE": 12648430,
                  "DB_LOCATION": ":memory:",
                  "STRINGIFY_COLUMN_VALUES": true,
                  "SAMPLING_METHOD": "random",
                  "MAX_STRING_LENGTH": 250,
                  "MAX_RENDER_SIZE_BYTES": 104857600,
                  "RESET_INDEX_VALUES": false
                },
                "display_id": "58bbc41a-270d-42ad-ba15-a6449c963d73",
                "applied_filters": [],
                "sample_history": [],
                "sampling_time": "2023-08-08T19:01:29.988541",
                "variable_name": "unk_dataframe_bffba881c49641a68b36850af6849399",
                "user_variable_name": null
              },
              "display_id": "58bbc41a-270d-42ad-ba15-a6449c963d73"
            }
          }
        }
      ],
      "execution_count": null,
      "metadata": {
        "noteable": {
          "cell_type": "code"
        },
        "ExecuteTime": {
          "start_time": "2023-08-08T19:01:29.837466+00:00",
          "end_time": "2023-08-08T19:01:30.154941+00:00"
        },
        "datalink": {
          "0dc4daab-e66e-4ce6-8724-32ab9f4017c9": {
            "applied_filters": [],
            "dataframe_info": {
              "default_index_used": true,
              "orig_num_cols": 32,
              "orig_num_rows": 5,
              "orig_size_bytes": 1320,
              "truncated_num_cols": 32,
              "truncated_num_rows": 5,
              "truncated_size_bytes": 1320,
              "truncated_string_columns": []
            },
            "display_id": "0dc4daab-e66e-4ce6-8724-32ab9f4017c9",
            "dx_settings": {
              "ALLOW_NOTEABLE_ATTRS": true,
              "COLUMN_SAMPLING_METHOD": "outer",
              "DB_LOCATION": ":memory:",
              "DEV_MODE": false,
              "DISPLAY_MAX_COLUMNS": 100,
              "DISPLAY_MAX_ROWS": 50000,
              "DISPLAY_MODE": "simple",
              "ENABLE_ASSIGNMENT": true,
              "ENABLE_DATALINK": true,
              "FLATTEN_COLUMN_VALUES": true,
              "FLATTEN_INDEX_VALUES": false,
              "GENERATE_DEX_METADATA": false,
              "HTML_TABLE_SCHEMA": false,
              "LOG_LEVEL": 30,
              "MAX_RENDER_SIZE_BYTES": 104857600,
              "MAX_STRING_LENGTH": 250,
              "NUM_PAST_SAMPLES_TRACKED": 3,
              "RANDOM_STATE": 12648430,
              "RESET_INDEX_VALUES": false,
              "ROW_SAMPLING_METHOD": "random",
              "SAMPLING_FACTOR": 0.1,
              "SAMPLING_METHOD": "random",
              "STRINGIFY_COLUMN_VALUES": true,
              "STRINGIFY_INDEX_VALUES": false
            },
            "sample_history": [],
            "sampling_time": "2023-08-07T21:08:57.266726",
            "user_variable_name": null,
            "variable_name": "unk_dataframe_bea7a2d7842443b0a28ac5d353285dbc"
          },
          "68e3e975-6fd6-4ed3-9c5d-c714ba79b892": {
            "applied_filters": [],
            "dataframe_info": {
              "default_index_used": true,
              "orig_num_cols": 34,
              "orig_num_rows": 5,
              "orig_size_bytes": 1400,
              "truncated_num_cols": 34,
              "truncated_num_rows": 5,
              "truncated_size_bytes": 1400,
              "truncated_string_columns": []
            },
            "display_id": "68e3e975-6fd6-4ed3-9c5d-c714ba79b892",
            "dx_settings": {
              "ALLOW_NOTEABLE_ATTRS": true,
              "COLUMN_SAMPLING_METHOD": "outer",
              "DB_LOCATION": ":memory:",
              "DEV_MODE": false,
              "DISPLAY_MAX_COLUMNS": 100,
              "DISPLAY_MAX_ROWS": 50000,
              "DISPLAY_MODE": "simple",
              "ENABLE_ASSIGNMENT": true,
              "ENABLE_DATALINK": true,
              "FLATTEN_COLUMN_VALUES": true,
              "FLATTEN_INDEX_VALUES": false,
              "GENERATE_DEX_METADATA": false,
              "HTML_TABLE_SCHEMA": false,
              "LOG_LEVEL": 30,
              "MAX_RENDER_SIZE_BYTES": 104857600,
              "MAX_STRING_LENGTH": 250,
              "NUM_PAST_SAMPLES_TRACKED": 3,
              "RANDOM_STATE": 12648430,
              "RESET_INDEX_VALUES": false,
              "ROW_SAMPLING_METHOD": "random",
              "SAMPLING_FACTOR": 0.1,
              "SAMPLING_METHOD": "random",
              "STRINGIFY_COLUMN_VALUES": true,
              "STRINGIFY_INDEX_VALUES": false
            },
            "sample_history": [],
            "sampling_time": "2023-08-07T21:35:23.555496",
            "user_variable_name": null,
            "variable_name": "unk_dataframe_5fd39f647d67439d85a3a10df7802774"
          },
          "e74cf18a-f793-4aac-9028-d65878bc6d7a": {
            "applied_filters": [],
            "dataframe_info": {
              "default_index_used": true,
              "orig_num_cols": 34,
              "orig_num_rows": 5,
              "orig_size_bytes": 1400,
              "truncated_num_cols": 34,
              "truncated_num_rows": 5,
              "truncated_size_bytes": 1400,
              "truncated_string_columns": []
            },
            "display_id": "e74cf18a-f793-4aac-9028-d65878bc6d7a",
            "dx_settings": {
              "ALLOW_NOTEABLE_ATTRS": true,
              "COLUMN_SAMPLING_METHOD": "outer",
              "DB_LOCATION": ":memory:",
              "DEV_MODE": false,
              "DISPLAY_MAX_COLUMNS": 100,
              "DISPLAY_MAX_ROWS": 50000,
              "DISPLAY_MODE": "simple",
              "ENABLE_ASSIGNMENT": true,
              "ENABLE_DATALINK": true,
              "FLATTEN_COLUMN_VALUES": true,
              "FLATTEN_INDEX_VALUES": false,
              "GENERATE_DEX_METADATA": false,
              "HTML_TABLE_SCHEMA": false,
              "LOG_LEVEL": 30,
              "MAX_RENDER_SIZE_BYTES": 104857600,
              "MAX_STRING_LENGTH": 250,
              "NUM_PAST_SAMPLES_TRACKED": 3,
              "RANDOM_STATE": 12648430,
              "RESET_INDEX_VALUES": false,
              "ROW_SAMPLING_METHOD": "random",
              "SAMPLING_FACTOR": 0.1,
              "SAMPLING_METHOD": "random",
              "STRINGIFY_COLUMN_VALUES": true,
              "STRINGIFY_INDEX_VALUES": false
            },
            "sample_history": [],
            "sampling_time": "2023-08-08T01:41:43.493062",
            "user_variable_name": null,
            "variable_name": "unk_dataframe_e9b81ab38e52464cae47f4fe76a263df"
          },
          "3135d333-5612-41f8-84fd-998013a2bde4": {
            "applied_filters": [],
            "dataframe_info": {
              "default_index_used": true,
              "orig_num_cols": 34,
              "orig_num_rows": 5,
              "orig_size_bytes": 1400,
              "truncated_num_cols": 34,
              "truncated_num_rows": 5,
              "truncated_size_bytes": 1400,
              "truncated_string_columns": []
            },
            "display_id": "3135d333-5612-41f8-84fd-998013a2bde4",
            "dx_settings": {
              "ALLOW_NOTEABLE_ATTRS": true,
              "COLUMN_SAMPLING_METHOD": "outer",
              "DB_LOCATION": ":memory:",
              "DEV_MODE": false,
              "DISPLAY_MAX_COLUMNS": 100,
              "DISPLAY_MAX_ROWS": 50000,
              "DISPLAY_MODE": "simple",
              "ENABLE_ASSIGNMENT": true,
              "ENABLE_DATALINK": true,
              "FLATTEN_COLUMN_VALUES": true,
              "FLATTEN_INDEX_VALUES": false,
              "GENERATE_DEX_METADATA": false,
              "HTML_TABLE_SCHEMA": false,
              "LOG_LEVEL": 30,
              "MAX_RENDER_SIZE_BYTES": 104857600,
              "MAX_STRING_LENGTH": 250,
              "NUM_PAST_SAMPLES_TRACKED": 3,
              "RANDOM_STATE": 12648430,
              "RESET_INDEX_VALUES": false,
              "ROW_SAMPLING_METHOD": "random",
              "SAMPLING_FACTOR": 0.1,
              "SAMPLING_METHOD": "random",
              "STRINGIFY_COLUMN_VALUES": true,
              "STRINGIFY_INDEX_VALUES": false
            },
            "sample_history": [],
            "sampling_time": "2023-08-08T04:07:47.955293",
            "user_variable_name": null,
            "variable_name": "unk_dataframe_01f8b76696454f1bb32cad163d27f44d"
          },
          "fe16e70e-6df1-4258-b378-b439c99d7ae4": {
            "applied_filters": [],
            "dataframe_info": {
              "default_index_used": true,
              "orig_num_cols": 34,
              "orig_num_rows": 5,
              "orig_size_bytes": 1400,
              "truncated_num_cols": 34,
              "truncated_num_rows": 5,
              "truncated_size_bytes": 1400,
              "truncated_string_columns": []
            },
            "display_id": "fe16e70e-6df1-4258-b378-b439c99d7ae4",
            "dx_settings": {
              "ALLOW_NOTEABLE_ATTRS": true,
              "COLUMN_SAMPLING_METHOD": "outer",
              "DB_LOCATION": ":memory:",
              "DEV_MODE": false,
              "DISPLAY_MAX_COLUMNS": 100,
              "DISPLAY_MAX_ROWS": 50000,
              "DISPLAY_MODE": "simple",
              "ENABLE_ASSIGNMENT": true,
              "ENABLE_DATALINK": true,
              "FLATTEN_COLUMN_VALUES": true,
              "FLATTEN_INDEX_VALUES": false,
              "GENERATE_DEX_METADATA": false,
              "HTML_TABLE_SCHEMA": false,
              "LOG_LEVEL": 30,
              "MAX_RENDER_SIZE_BYTES": 104857600,
              "MAX_STRING_LENGTH": 250,
              "NUM_PAST_SAMPLES_TRACKED": 3,
              "RANDOM_STATE": 12648430,
              "RESET_INDEX_VALUES": false,
              "ROW_SAMPLING_METHOD": "random",
              "SAMPLING_FACTOR": 0.1,
              "SAMPLING_METHOD": "random",
              "STRINGIFY_COLUMN_VALUES": true,
              "STRINGIFY_INDEX_VALUES": false
            },
            "sample_history": [],
            "sampling_time": "2023-08-08T16:49:30.747339",
            "user_variable_name": null,
            "variable_name": "unk_dataframe_a1f7e9c7f99c41daaabb15623b59e03c"
          },
          "58bbc41a-270d-42ad-ba15-a6449c963d73": {
            "dataframe_info": {
              "default_index_used": true,
              "orig_size_bytes": 1400,
              "orig_num_rows": 5,
              "orig_num_cols": 34,
              "truncated_string_columns": [],
              "truncated_size_bytes": 1400,
              "truncated_num_rows": 5,
              "truncated_num_cols": 34
            },
            "dx_settings": {
              "LOG_LEVEL": 30,
              "DEV_MODE": false,
              "DISPLAY_MAX_ROWS": 50000,
              "DISPLAY_MAX_COLUMNS": 100,
              "HTML_TABLE_SCHEMA": false,
              "MAX_RENDER_SIZE_BYTES": 104857600,
              "MAX_STRING_LENGTH": 250,
              "SAMPLING_FACTOR": 0.1,
              "DISPLAY_MODE": "simple",
              "SAMPLING_METHOD": "random",
              "COLUMN_SAMPLING_METHOD": "outer",
              "ROW_SAMPLING_METHOD": "random",
              "RANDOM_STATE": 12648430,
              "RESET_INDEX_VALUES": false,
              "FLATTEN_INDEX_VALUES": false,
              "FLATTEN_COLUMN_VALUES": true,
              "STRINGIFY_INDEX_VALUES": false,
              "STRINGIFY_COLUMN_VALUES": true,
              "ENABLE_DATALINK": true,
              "ENABLE_ASSIGNMENT": true,
              "NUM_PAST_SAMPLES_TRACKED": 3,
              "DB_LOCATION": ":memory:",
              "GENERATE_DEX_METADATA": false,
              "ALLOW_NOTEABLE_ATTRS": true
            },
            "display_id": "58bbc41a-270d-42ad-ba15-a6449c963d73",
            "applied_filters": [],
            "sample_history": [],
            "sampling_time": "2023-08-08T19:01:29.988541",
            "variable_name": "unk_dataframe_bffba881c49641a68b36850af6849399",
            "user_variable_name": null
          }
        }
      },
      "id": "e5daa31d-6619-42dc-b6cd-c792d8edc5d2"
    },
    {
      "cell_type": "code",
      "source": [
        "# Converting 'SBA_Appv' and 'GrAppv' to numerical values\n",
        "data['SBA_Appv'] = data['SBA_Appv'].replace('[\\$,]', '', regex=True).astype(float)\n",
        "data['GrAppv'] = data['GrAppv'].replace('[\\$,]', '', regex=True).astype(float)\n",
        "\n",
        "# Creating a feature to categorize businesses as new or established\n",
        "data['Is_New_Business'] = data['NewExist'].apply(lambda x: 1 if x <= 2 else 0)\n",
        "\n",
        "# Creating a feature to identify loans backed by real estate\n",
        "data['RealEstate'] = data['Term'].apply(lambda x: 1 if x >= 240 else 0)\n",
        "\n",
        "# Creating a feature to identify loans active during the Great Recession (December 2007 to June 2009)\n",
        "start_recession = datetime.strptime('2007-12-01', '%Y-%m-%d')\n",
        "end_recession = datetime.strptime('2009-06-30', '%Y-%m-%d')\n",
        "data['Recession'] = data['DisbursementDate'].apply(lambda x: 1 if (x >= start_recession) & (x <= end_recession) else 0)\n",
        "\n",
        "# Calculating the portion of the loan guaranteed by SBA\n",
        "data['Portion'] = data['SBA_Appv'] / data['GrAppv']\n",
        "\n",
        "# Creating a 'Default' column based on 'MIS_Status'\n",
        "data['Default'] = data['MIS_Status'].apply(lambda x: 1 if x == 'CHGOFF' else 0)\n",
        "\n",
        "# Check the first few rows to see the new features\n",
        "data[['Is_New_Business', 'RealEstate', 'Recession', 'Portion', 'Default']].head()"
      ],
      "outputs": [
        {
          "output_type": "display_data",
          "data": {
            "application/vnd.dataresource+json": {
              "schema": {
                "fields": [
                  {
                    "name": "index",
                    "type": "integer"
                  },
                  {
                    "name": "Is_New_Business",
                    "type": "integer"
                  },
                  {
                    "name": "RealEstate",
                    "type": "integer"
                  },
                  {
                    "name": "Recession",
                    "type": "integer"
                  },
                  {
                    "name": "Portion",
                    "type": "number"
                  },
                  {
                    "name": "Default",
                    "type": "integer"
                  }
                ],
                "primaryKey": [
                  "index"
                ],
                "pandas_version": "1.4.0"
              },
              "data": [
                {
                  "index": 0,
                  "Is_New_Business": 1,
                  "RealEstate": 0,
                  "Recession": 0,
                  "Portion": 0.8,
                  "Default": 0
                },
                {
                  "index": 1,
                  "Is_New_Business": 1,
                  "RealEstate": 0,
                  "Recession": 0,
                  "Portion": 0.8,
                  "Default": 0
                },
                {
                  "index": 2,
                  "Is_New_Business": 1,
                  "RealEstate": 0,
                  "Recession": 0,
                  "Portion": 0.75,
                  "Default": 0
                },
                {
                  "index": 3,
                  "Is_New_Business": 1,
                  "RealEstate": 0,
                  "Recession": 0,
                  "Portion": 0.8,
                  "Default": 0
                },
                {
                  "index": 4,
                  "Is_New_Business": 1,
                  "RealEstate": 1,
                  "Recession": 0,
                  "Portion": 1,
                  "Default": 0
                }
              ],
              "datalink": {
                "display_id": "596f5274-a9f3-4b6a-a5b2-c1945ead9fde"
              }
            }
          },
          "metadata": {
            "application/vnd.dataresource+json": {
              "datalink": {
                "dataframe_info": {
                  "default_index_used": true,
                  "orig_size_bytes": 240,
                  "orig_num_rows": 5,
                  "orig_num_cols": 5,
                  "truncated_string_columns": [],
                  "truncated_size_bytes": 240,
                  "truncated_num_rows": 5,
                  "truncated_num_cols": 5
                },
                "dx_settings": {
                  "NUM_PAST_SAMPLES_TRACKED": 3,
                  "ENABLE_DATALINK": true,
                  "DISPLAY_MODE": "simple",
                  "GENERATE_DEX_METADATA": false,
                  "STRINGIFY_INDEX_VALUES": false,
                  "ALLOW_NOTEABLE_ATTRS": true,
                  "DISPLAY_MAX_COLUMNS": 100,
                  "HTML_TABLE_SCHEMA": false,
                  "SAMPLING_FACTOR": 0.1,
                  "LOG_LEVEL": 30,
                  "ENABLE_ASSIGNMENT": true,
                  "FLATTEN_INDEX_VALUES": false,
                  "DEV_MODE": false,
                  "COLUMN_SAMPLING_METHOD": "outer",
                  "FLATTEN_COLUMN_VALUES": true,
                  "DISPLAY_MAX_ROWS": 50000,
                  "ROW_SAMPLING_METHOD": "random",
                  "RANDOM_STATE": 12648430,
                  "DB_LOCATION": ":memory:",
                  "STRINGIFY_COLUMN_VALUES": true,
                  "SAMPLING_METHOD": "random",
                  "MAX_STRING_LENGTH": 250,
                  "MAX_RENDER_SIZE_BYTES": 104857600,
                  "RESET_INDEX_VALUES": false
                },
                "display_id": "596f5274-a9f3-4b6a-a5b2-c1945ead9fde",
                "applied_filters": [],
                "sample_history": [],
                "sampling_time": "2023-08-08T19:01:35.302933",
                "variable_name": "unk_dataframe_6822ac1b974a41dba6ea8c62325bd76a",
                "user_variable_name": null
              },
              "display_id": "596f5274-a9f3-4b6a-a5b2-c1945ead9fde"
            }
          }
        }
      ],
      "execution_count": null,
      "metadata": {
        "noteable": {
          "cell_type": "code"
        },
        "ExecuteTime": {
          "start_time": "2023-08-08T19:01:30.172872+00:00",
          "end_time": "2023-08-08T19:01:35.459637+00:00"
        },
        "datalink": {
          "fb40d57c-0e2b-40d5-afc6-c29af516143f": {
            "applied_filters": [],
            "dataframe_info": {
              "default_index_used": true,
              "orig_num_cols": 5,
              "orig_num_rows": 5,
              "orig_size_bytes": 240,
              "truncated_num_cols": 5,
              "truncated_num_rows": 5,
              "truncated_size_bytes": 240,
              "truncated_string_columns": []
            },
            "display_id": "fb40d57c-0e2b-40d5-afc6-c29af516143f",
            "dx_settings": {
              "ALLOW_NOTEABLE_ATTRS": true,
              "COLUMN_SAMPLING_METHOD": "outer",
              "DB_LOCATION": ":memory:",
              "DEV_MODE": false,
              "DISPLAY_MAX_COLUMNS": 100,
              "DISPLAY_MAX_ROWS": 50000,
              "DISPLAY_MODE": "simple",
              "ENABLE_ASSIGNMENT": true,
              "ENABLE_DATALINK": true,
              "FLATTEN_COLUMN_VALUES": true,
              "FLATTEN_INDEX_VALUES": false,
              "GENERATE_DEX_METADATA": false,
              "HTML_TABLE_SCHEMA": false,
              "LOG_LEVEL": 30,
              "MAX_RENDER_SIZE_BYTES": 104857600,
              "MAX_STRING_LENGTH": 250,
              "NUM_PAST_SAMPLES_TRACKED": 3,
              "RANDOM_STATE": 12648430,
              "RESET_INDEX_VALUES": false,
              "ROW_SAMPLING_METHOD": "random",
              "SAMPLING_FACTOR": 0.1,
              "SAMPLING_METHOD": "random",
              "STRINGIFY_COLUMN_VALUES": true,
              "STRINGIFY_INDEX_VALUES": false
            },
            "sample_history": [],
            "sampling_time": "2023-08-07T21:11:23.339070",
            "user_variable_name": null,
            "variable_name": "unk_dataframe_1857abd14b9344e08b9bda2ff47693df"
          },
          "b71bc9d6-3a67-4e86-ab47-bb7b077ea049": {
            "applied_filters": [],
            "dataframe_info": {
              "default_index_used": true,
              "orig_num_cols": 5,
              "orig_num_rows": 5,
              "orig_size_bytes": 240,
              "truncated_num_cols": 5,
              "truncated_num_rows": 5,
              "truncated_size_bytes": 240,
              "truncated_string_columns": []
            },
            "display_id": "b71bc9d6-3a67-4e86-ab47-bb7b077ea049",
            "dx_settings": {
              "ALLOW_NOTEABLE_ATTRS": true,
              "COLUMN_SAMPLING_METHOD": "outer",
              "DB_LOCATION": ":memory:",
              "DEV_MODE": false,
              "DISPLAY_MAX_COLUMNS": 100,
              "DISPLAY_MAX_ROWS": 50000,
              "DISPLAY_MODE": "simple",
              "ENABLE_ASSIGNMENT": true,
              "ENABLE_DATALINK": true,
              "FLATTEN_COLUMN_VALUES": true,
              "FLATTEN_INDEX_VALUES": false,
              "GENERATE_DEX_METADATA": false,
              "HTML_TABLE_SCHEMA": false,
              "LOG_LEVEL": 30,
              "MAX_RENDER_SIZE_BYTES": 104857600,
              "MAX_STRING_LENGTH": 250,
              "NUM_PAST_SAMPLES_TRACKED": 3,
              "RANDOM_STATE": 12648430,
              "RESET_INDEX_VALUES": false,
              "ROW_SAMPLING_METHOD": "random",
              "SAMPLING_FACTOR": 0.1,
              "SAMPLING_METHOD": "random",
              "STRINGIFY_COLUMN_VALUES": true,
              "STRINGIFY_INDEX_VALUES": false
            },
            "sample_history": [],
            "sampling_time": "2023-08-07T21:35:28.488048",
            "user_variable_name": null,
            "variable_name": "unk_dataframe_6fb9a1937b524790ac678190b9e8f245"
          },
          "209923bf-f495-4a38-91a0-2ac785e3f2c0": {
            "applied_filters": [],
            "dataframe_info": {
              "default_index_used": true,
              "orig_num_cols": 5,
              "orig_num_rows": 5,
              "orig_size_bytes": 240,
              "truncated_num_cols": 5,
              "truncated_num_rows": 5,
              "truncated_size_bytes": 240,
              "truncated_string_columns": []
            },
            "display_id": "209923bf-f495-4a38-91a0-2ac785e3f2c0",
            "dx_settings": {
              "ALLOW_NOTEABLE_ATTRS": true,
              "COLUMN_SAMPLING_METHOD": "outer",
              "DB_LOCATION": ":memory:",
              "DEV_MODE": false,
              "DISPLAY_MAX_COLUMNS": 100,
              "DISPLAY_MAX_ROWS": 50000,
              "DISPLAY_MODE": "simple",
              "ENABLE_ASSIGNMENT": true,
              "ENABLE_DATALINK": true,
              "FLATTEN_COLUMN_VALUES": true,
              "FLATTEN_INDEX_VALUES": false,
              "GENERATE_DEX_METADATA": false,
              "HTML_TABLE_SCHEMA": false,
              "LOG_LEVEL": 30,
              "MAX_RENDER_SIZE_BYTES": 104857600,
              "MAX_STRING_LENGTH": 250,
              "NUM_PAST_SAMPLES_TRACKED": 3,
              "RANDOM_STATE": 12648430,
              "RESET_INDEX_VALUES": false,
              "ROW_SAMPLING_METHOD": "random",
              "SAMPLING_FACTOR": 0.1,
              "SAMPLING_METHOD": "random",
              "STRINGIFY_COLUMN_VALUES": true,
              "STRINGIFY_INDEX_VALUES": false
            },
            "sample_history": [],
            "sampling_time": "2023-08-08T01:41:49.656335",
            "user_variable_name": null,
            "variable_name": "unk_dataframe_d496dab3a5c7438a8feb284a073cca8d"
          },
          "8c8fa9a1-be6e-47c8-a117-5469a79df495": {
            "applied_filters": [],
            "dataframe_info": {
              "default_index_used": true,
              "orig_num_cols": 5,
              "orig_num_rows": 5,
              "orig_size_bytes": 240,
              "truncated_num_cols": 5,
              "truncated_num_rows": 5,
              "truncated_size_bytes": 240,
              "truncated_string_columns": []
            },
            "display_id": "8c8fa9a1-be6e-47c8-a117-5469a79df495",
            "dx_settings": {
              "ALLOW_NOTEABLE_ATTRS": true,
              "COLUMN_SAMPLING_METHOD": "outer",
              "DB_LOCATION": ":memory:",
              "DEV_MODE": false,
              "DISPLAY_MAX_COLUMNS": 100,
              "DISPLAY_MAX_ROWS": 50000,
              "DISPLAY_MODE": "simple",
              "ENABLE_ASSIGNMENT": true,
              "ENABLE_DATALINK": true,
              "FLATTEN_COLUMN_VALUES": true,
              "FLATTEN_INDEX_VALUES": false,
              "GENERATE_DEX_METADATA": false,
              "HTML_TABLE_SCHEMA": false,
              "LOG_LEVEL": 30,
              "MAX_RENDER_SIZE_BYTES": 104857600,
              "MAX_STRING_LENGTH": 250,
              "NUM_PAST_SAMPLES_TRACKED": 3,
              "RANDOM_STATE": 12648430,
              "RESET_INDEX_VALUES": false,
              "ROW_SAMPLING_METHOD": "random",
              "SAMPLING_FACTOR": 0.1,
              "SAMPLING_METHOD": "random",
              "STRINGIFY_COLUMN_VALUES": true,
              "STRINGIFY_INDEX_VALUES": false
            },
            "sample_history": [],
            "sampling_time": "2023-08-08T04:08:08.548721",
            "user_variable_name": null,
            "variable_name": "unk_dataframe_89b3c11d0dd347b49d80f516e2b36df7"
          },
          "18dc5d46-abd8-4c5a-b404-5009a1f9f379": {
            "applied_filters": [],
            "dataframe_info": {
              "default_index_used": true,
              "orig_num_cols": 5,
              "orig_num_rows": 5,
              "orig_size_bytes": 240,
              "truncated_num_cols": 5,
              "truncated_num_rows": 5,
              "truncated_size_bytes": 240,
              "truncated_string_columns": []
            },
            "display_id": "18dc5d46-abd8-4c5a-b404-5009a1f9f379",
            "dx_settings": {
              "ALLOW_NOTEABLE_ATTRS": true,
              "COLUMN_SAMPLING_METHOD": "outer",
              "DB_LOCATION": ":memory:",
              "DEV_MODE": false,
              "DISPLAY_MAX_COLUMNS": 100,
              "DISPLAY_MAX_ROWS": 50000,
              "DISPLAY_MODE": "simple",
              "ENABLE_ASSIGNMENT": true,
              "ENABLE_DATALINK": true,
              "FLATTEN_COLUMN_VALUES": true,
              "FLATTEN_INDEX_VALUES": false,
              "GENERATE_DEX_METADATA": false,
              "HTML_TABLE_SCHEMA": false,
              "LOG_LEVEL": 30,
              "MAX_RENDER_SIZE_BYTES": 104857600,
              "MAX_STRING_LENGTH": 250,
              "NUM_PAST_SAMPLES_TRACKED": 3,
              "RANDOM_STATE": 12648430,
              "RESET_INDEX_VALUES": false,
              "ROW_SAMPLING_METHOD": "random",
              "SAMPLING_FACTOR": 0.1,
              "SAMPLING_METHOD": "random",
              "STRINGIFY_COLUMN_VALUES": true,
              "STRINGIFY_INDEX_VALUES": false
            },
            "sample_history": [],
            "sampling_time": "2023-08-08T16:49:36.127093",
            "user_variable_name": null,
            "variable_name": "unk_dataframe_95d214a645a74a648f8585fc85c65823"
          },
          "596f5274-a9f3-4b6a-a5b2-c1945ead9fde": {
            "dataframe_info": {
              "default_index_used": true,
              "orig_size_bytes": 240,
              "orig_num_rows": 5,
              "orig_num_cols": 5,
              "truncated_string_columns": [],
              "truncated_size_bytes": 240,
              "truncated_num_rows": 5,
              "truncated_num_cols": 5
            },
            "dx_settings": {
              "LOG_LEVEL": 30,
              "DEV_MODE": false,
              "DISPLAY_MAX_ROWS": 50000,
              "DISPLAY_MAX_COLUMNS": 100,
              "HTML_TABLE_SCHEMA": false,
              "MAX_RENDER_SIZE_BYTES": 104857600,
              "MAX_STRING_LENGTH": 250,
              "SAMPLING_FACTOR": 0.1,
              "DISPLAY_MODE": "simple",
              "SAMPLING_METHOD": "random",
              "COLUMN_SAMPLING_METHOD": "outer",
              "ROW_SAMPLING_METHOD": "random",
              "RANDOM_STATE": 12648430,
              "RESET_INDEX_VALUES": false,
              "FLATTEN_INDEX_VALUES": false,
              "FLATTEN_COLUMN_VALUES": true,
              "STRINGIFY_INDEX_VALUES": false,
              "STRINGIFY_COLUMN_VALUES": true,
              "ENABLE_DATALINK": true,
              "ENABLE_ASSIGNMENT": true,
              "NUM_PAST_SAMPLES_TRACKED": 3,
              "DB_LOCATION": ":memory:",
              "GENERATE_DEX_METADATA": false,
              "ALLOW_NOTEABLE_ATTRS": true
            },
            "display_id": "596f5274-a9f3-4b6a-a5b2-c1945ead9fde",
            "applied_filters": [],
            "sample_history": [],
            "sampling_time": "2023-08-08T19:01:35.302933",
            "variable_name": "unk_dataframe_6822ac1b974a41dba6ea8c62325bd76a",
            "user_variable_name": null
          }
        }
      },
      "id": "4cb9a721-1a2e-4904-a5d2-1540732797af"
    },
    {
      "cell_type": "code",
      "source": [
        "# Selecting numerical variables for correlation analysis\n",
        "correlation_data = data[['Default', 'Term', 'NoEmp', 'DisbursementGross', 'Portion', 'Is_New_Business', 'RealEstate', 'Recession']]\n",
        "\n",
        "# Calculating the correlation matrix\n",
        "correlation_matrix = correlation_data.corr()\n",
        "\n",
        "# Plotting the correlation matrix as a heatmap\n",
        "plt.figure(figsize=(12, 8))\n",
        "sns.heatmap(correlation_matrix, annot=True, cmap='coolwarm')\n",
        "plt.title('Correlation Matrix')\n",
        "plt.show()"
      ],
      "outputs": [
        {
          "output_type": "display_data",
          "data": {
            "image/png": "[encoded data removed]"
          },
          "metadata": {}
        }
      ],
      "execution_count": null,
      "metadata": {
        "noteable": {
          "cell_type": "code"
        },
        "ExecuteTime": {
          "start_time": "2023-08-08T19:01:35.467995+00:00",
          "end_time": "2023-08-08T19:01:36.360099+00:00"
        }
      },
      "id": "66bcb506-5668-4c0a-9fd8-b1eca2a84ad5"
    },
    {
      "cell_type": "code",
      "source": [
        "# Calculating default rates by state\n",
        "state_default_rates = data.groupby('State')['Default'].mean().sort_values(ascending=False)\n",
        "\n",
        "# Plotting default rates by state\n",
        "plt.figure(figsize=(15, 6))\n",
        "state_default_rates.plot(kind='bar')\n",
        "plt.title('Default Rates by State')\n",
        "plt.ylabel('Default Rate')\n",
        "plt.xlabel('State')\n",
        "plt.xticks(rotation=90)\n",
        "plt.show()"
      ],
      "outputs": [
        {
          "output_type": "display_data",
          "data": {
            "image/png": "[encoded data removed]"
          },
          "metadata": {}
        }
      ],
      "execution_count": null,
      "metadata": {
        "noteable": {
          "cell_type": "code"
        },
        "ExecuteTime": {
          "start_time": "2023-08-08T19:01:36.767482+00:00",
          "end_time": "2023-08-08T19:01:37.987103+00:00"
        }
      },
      "id": "fa0a36cb-754e-44ef-a2d6-44b5e0d75b5c"
    },
    {
      "cell_type": "code",
      "source": [
        "# Calculating default rates by industry\n",
        "industry_default_rates = data.groupby('NAICS')['Default'].mean().sort_values(ascending=False)\n",
        "\n",
        "# Plotting default rates by industry\n",
        "plt.figure(figsize=(15, 6))\n",
        "industry_default_rates.plot(kind='bar')\n",
        "plt.title('Default Rates by Industry (NAICS Code)')\n",
        "plt.ylabel('Default Rate')\n",
        "plt.xlabel('Industry (NAICS Code)')\n",
        "plt.xticks(rotation=90)\n",
        "plt.show()"
      ],
      "outputs": [
        {
          "output_type": "display_data",
          "data": {
            "image/png": "[encoded data removed]"
          },
          "metadata": {}
        }
      ],
      "execution_count": null,
      "metadata": {
        "noteable": {
          "cell_type": "code"
        },
        "ExecuteTime": {
          "start_time": "2023-08-08T19:01:38.264705+00:00",
          "end_time": "2023-08-08T19:01:56.521717+00:00"
        }
      },
      "id": "e5ce55a9-a8d9-4a86-bf5a-ef3eb64c60fb"
    },
    {
      "cell_type": "code",
      "source": [
        "# Extracting the first two digits of the NAICS code to represent the general industry sector\n",
        "data['Industry_Sector'] = data['NAICS'].apply(lambda x: str(x)[:2])\n",
        "\n",
        "# Calculating default rates by general industry sector\n",
        "industry_sector_default_rates = data.groupby('Industry_Sector')['Default'].mean().sort_values(ascending=False)\n",
        "\n",
        "# Plotting default rates by general industry sector\n",
        "plt.figure(figsize=(15, 6))\n",
        "industry_sector_default_rates.plot(kind='bar')\n",
        "plt.title('Default Rates by General Industry Sector')\n",
        "plt.ylabel('Default Rate')\n",
        "plt.xlabel('Industry Sector (First 2 digits of NAICS Code)')\n",
        "plt.xticks(rotation=90)\n",
        "plt.show()"
      ],
      "outputs": [
        {
          "output_type": "display_data",
          "data": {
            "image/png": "[encoded data removed]"
          },
          "metadata": {}
        }
      ],
      "execution_count": null,
      "metadata": {
        "noteable": {
          "cell_type": "code"
        },
        "ExecuteTime": {
          "start_time": "2023-08-08T19:01:56.943013+00:00",
          "end_time": "2023-08-08T19:01:58.283343+00:00"
        }
      },
      "id": "6dac6e43-56ae-41d9-a38f-76d0a365985c"
    },
    {
      "cell_type": "code",
      "source": [
        "# Calculating default rates by urban/rural location\n",
        "urban_rural_default_rates = data.groupby('UrbanRural')['Default'].mean().sort_values(ascending=False)\n",
        "urban_rural_default_rates.index = ['Unknown', 'Urban', 'Rural']\n",
        "\n",
        "# Plotting default rates by urban/rural location\n",
        "plt.figure(figsize=(8, 5))\n",
        "urban_rural_default_rates.plot(kind='bar')\n",
        "plt.title('Default Rates by Urban/Rural Location')\n",
        "plt.ylabel('Default Rate')\n",
        "plt.xlabel('Location Type')\n",
        "plt.xticks(rotation=0)\n",
        "plt.show()"
      ],
      "outputs": [
        {
          "output_type": "display_data",
          "data": {
            "image/png": "[encoded data removed]"
          },
          "metadata": {}
        }
      ],
      "execution_count": null,
      "metadata": {
        "noteable": {
          "cell_type": "code"
        },
        "ExecuteTime": {
          "start_time": "2023-08-08T19:01:58.637415+00:00",
          "end_time": "2023-08-08T19:01:59.090569+00:00"
        }
      },
      "id": "0fc7db5e-6221-401c-a504-47aff2070ceb"
    },
    {
      "cell_type": "code",
      "source": [
        "# Calculating default rates by revolving line of credit\n",
        "revline_default_rates = data.groupby('RevLineCr')['Default'].mean().sort_values(ascending=False)\n",
        "\n",
        "# Plotting default rates by revolving line of credit\n",
        "plt.figure(figsize=(15, 6))\n",
        "revline_default_rates.plot(kind='bar')\n",
        "plt.title('Default Rates by Revolving Line of Credit')\n",
        "plt.ylabel('Default Rate')\n",
        "plt.xlabel('Revolving Line of Credit (Y/N)')\n",
        "plt.xticks(rotation=0)\n",
        "plt.show()"
      ],
      "outputs": [
        {
          "output_type": "display_data",
          "data": {
            "image/png": "[encoded data removed]"
          },
          "metadata": {}
        }
      ],
      "execution_count": null,
      "metadata": {
        "noteable": {
          "cell_type": "code"
        },
        "ExecuteTime": {
          "start_time": "2023-08-08T19:01:59.376037+00:00",
          "end_time": "2023-08-08T19:02:00.127094+00:00"
        }
      },
      "id": "f8d36995-05c0-4f4b-a7c0-a6fdca4ed62d"
    },
    {
      "cell_type": "code",
      "source": [
        "# Calculating default rates by low-documentation loans\n",
        "lowdoc_default_rates = data.groupby('LowDoc')['Default'].mean().sort_values(ascending=False)\n",
        "\n",
        "# Plotting default rates by low-documentation loans\n",
        "plt.figure(figsize=(8, 5))\n",
        "lowdoc_default_rates.plot(kind='bar')\n",
        "plt.title('Default Rates by Low-Documentation Loans')\n",
        "plt.ylabel('Default Rate')\n",
        "plt.xlabel('Low-Documentation Loan (Y/N)')\n",
        "plt.xticks(rotation=0)\n",
        "plt.show()"
      ],
      "outputs": [
        {
          "output_type": "display_data",
          "data": {
            "image/png": "[encoded data removed]"
          },
          "metadata": {}
        }
      ],
      "execution_count": null,
      "metadata": {
        "noteable": {
          "cell_type": "code"
        },
        "ExecuteTime": {
          "start_time": "2023-08-08T19:02:00.375115+00:00",
          "end_time": "2023-08-08T19:02:00.979954+00:00"
        }
      },
      "id": "591de824-3f98-4a13-8e1a-50c3b047b276"
    },
    {
      "cell_type": "markdown",
      "source": [
        "## Modeling Phase\n",
        "Now that we have preprocessed the data and performed an extensive exploratory data analysis, we are ready to move on to the modeling phase. We will start by preparing the data for modeling, including splitting it into training and testing sets. Then, we will apply various machine learning models to predict loan default and evaluate their performance."
      ],
      "metadata": {
        "noteable": {
          "cell_type": "markdown"
        }
      },
      "id": "10526daa-6493-474c-93b7-f156a4aaa3e4"
    },
    {
      "cell_type": "code",
      "source": [
        "# Defining the features (X) and target (y) variables\n",
        "X = data.drop(columns=['Default'])\n",
        "y = data['Default']\n",
        "\n",
        "# Splitting the data into training and testing sets (80% training, 20% testing)\n",
        "from sklearn.model_selection import train_test_split\n",
        "X_train, X_test, y_train, y_test = train_test_split(X, y, test_size=0.2, random_state=42)\n",
        "\n",
        "# Checking the shape of the training and testing sets\n",
        "X_train.shape, X_test.shape, y_train.shape, y_test.shape"
      ],
      "outputs": [
        {
          "output_type": "execute_result",
          "execution_count": null,
          "data": {
            "text/plain": "((719331, 33), (179833, 33), (719331,), (179833,))"
          },
          "metadata": {}
        }
      ],
      "execution_count": null,
      "metadata": {
        "noteable": {
          "cell_type": "code"
        },
        "ExecuteTime": {
          "start_time": "2023-08-08T19:02:01.433003+00:00",
          "end_time": "2023-08-08T19:02:03.379421+00:00"
        }
      },
      "id": "e85141c5-e6d2-4924-8823-3b890e581fc2"
    },
    {
      "cell_type": "code",
      "source": [
        "# Selecting relevant features for modeling\n",
        "features = ['Term', 'NoEmp', 'NewExist', 'CreateJob', 'RetainedJob', 'UrbanRural', 'DisbursementGross',\n",
        "            'Is_New_Business', 'RealEstate', 'Recession', 'Portion']\n",
        "X = data[features]\n",
        "y = data['Default']\n",
        "\n",
        "# Splitting the data into training and testing sets (80% training, 20% testing)\n",
        "X_train, X_test, y_train, y_test = train_test_split(X, y, test_size=0.2, random_state=42)\n",
        "\n",
        "# Checking the shape of the training and testing sets\n",
        "X_train.shape, X_test.shape, y_train.shape, y_test.shape"
      ],
      "outputs": [
        {
          "output_type": "execute_result",
          "execution_count": null,
          "data": {
            "text/plain": "((719331, 11), (179833, 11), (719331,), (179833,))"
          },
          "metadata": {}
        }
      ],
      "execution_count": null,
      "metadata": {
        "noteable": {
          "cell_type": "code"
        },
        "ExecuteTime": {
          "start_time": "2023-08-08T19:02:03.391259+00:00",
          "end_time": "2023-08-08T19:02:04.317897+00:00"
        }
      },
      "id": "83fc3e11-e481-45ff-806c-6af87b9ed7db"
    },
    {
      "cell_type": "code",
      "source": [
        "# Converting 'DisbursementGross' column to numerical by removing the currency symbol and commas\n",
        "data['DisbursementGross'] = data['DisbursementGross'].replace('[\\$,]', '', regex=True).astype(float)\n",
        "\n",
        "# Selecting relevant features for modeling again\n",
        "X = data[features]\n",
        "y = data['Default']\n",
        "\n",
        "# Splitting the data into training and testing sets (80% training, 20% testing)\n",
        "X_train, X_test, y_train, y_test = train_test_split(X, y, test_size=0.2, random_state=42)\n",
        "\n",
        "# Checking the data types of the features\n",
        "X_train.dtypes"
      ],
      "outputs": [
        {
          "output_type": "display_data",
          "data": {
            "application/vnd.dataresource+json": {
              "schema": {
                "fields": [
                  {
                    "name": "index",
                    "type": "string"
                  },
                  {
                    "name": "0",
                    "type": "string"
                  }
                ],
                "primaryKey": [
                  "index"
                ],
                "pandas_version": "1.4.0"
              },
              "data": [
                {
                  "0": "int64",
                  "index": "Term"
                },
                {
                  "0": "int64",
                  "index": "NoEmp"
                },
                {
                  "0": "float64",
                  "index": "NewExist"
                },
                {
                  "0": "int64",
                  "index": "CreateJob"
                },
                {
                  "0": "int64",
                  "index": "RetainedJob"
                },
                {
                  "0": "int64",
                  "index": "UrbanRural"
                },
                {
                  "0": "float64",
                  "index": "DisbursementGross"
                },
                {
                  "0": "int64",
                  "index": "Is_New_Business"
                },
                {
                  "0": "int64",
                  "index": "RealEstate"
                },
                {
                  "0": "int64",
                  "index": "Recession"
                },
                {
                  "0": "float64",
                  "index": "Portion"
                }
              ],
              "datalink": {
                "display_id": "5d0d863b-7bbc-4269-9717-e3f9fd9b12d1"
              }
            }
          },
          "metadata": {
            "application/vnd.dataresource+json": {
              "datalink": {
                "dataframe_info": {
                  "default_index_used": false,
                  "orig_size_bytes": 176,
                  "orig_num_rows": 11,
                  "orig_num_cols": 1,
                  "truncated_string_columns": [],
                  "truncated_size_bytes": 176,
                  "truncated_num_rows": 11,
                  "truncated_num_cols": 1
                },
                "dx_settings": {
                  "NUM_PAST_SAMPLES_TRACKED": 3,
                  "ENABLE_DATALINK": true,
                  "DISPLAY_MODE": "simple",
                  "GENERATE_DEX_METADATA": false,
                  "STRINGIFY_INDEX_VALUES": false,
                  "ALLOW_NOTEABLE_ATTRS": true,
                  "DISPLAY_MAX_COLUMNS": 100,
                  "HTML_TABLE_SCHEMA": false,
                  "SAMPLING_FACTOR": 0.1,
                  "LOG_LEVEL": 30,
                  "ENABLE_ASSIGNMENT": true,
                  "FLATTEN_INDEX_VALUES": false,
                  "DEV_MODE": false,
                  "COLUMN_SAMPLING_METHOD": "outer",
                  "FLATTEN_COLUMN_VALUES": true,
                  "DISPLAY_MAX_ROWS": 50000,
                  "ROW_SAMPLING_METHOD": "random",
                  "RANDOM_STATE": 12648430,
                  "DB_LOCATION": ":memory:",
                  "STRINGIFY_COLUMN_VALUES": true,
                  "SAMPLING_METHOD": "random",
                  "MAX_STRING_LENGTH": 250,
                  "MAX_RENDER_SIZE_BYTES": 104857600,
                  "RESET_INDEX_VALUES": false
                },
                "display_id": "5d0d863b-7bbc-4269-9717-e3f9fd9b12d1",
                "applied_filters": [],
                "sample_history": [],
                "sampling_time": "2023-08-08T19:02:07.039520",
                "variable_name": "unk_dataframe_c84ffffd535e49ea922b60902c418384",
                "user_variable_name": null
              },
              "display_id": "5d0d863b-7bbc-4269-9717-e3f9fd9b12d1"
            }
          }
        }
      ],
      "execution_count": null,
      "metadata": {
        "noteable": {
          "cell_type": "code"
        },
        "ExecuteTime": {
          "start_time": "2023-08-08T19:02:04.334606+00:00",
          "end_time": "2023-08-08T19:02:07.198165+00:00"
        },
        "datalink": {
          "bbb50332-84d1-4d3b-93d0-38bc5cd22aab": {
            "applied_filters": [],
            "dataframe_info": {
              "default_index_used": false,
              "orig_num_cols": 1,
              "orig_num_rows": 11,
              "orig_size_bytes": 176,
              "truncated_num_cols": 1,
              "truncated_num_rows": 11,
              "truncated_size_bytes": 176,
              "truncated_string_columns": []
            },
            "display_id": "bbb50332-84d1-4d3b-93d0-38bc5cd22aab",
            "dx_settings": {
              "ALLOW_NOTEABLE_ATTRS": true,
              "COLUMN_SAMPLING_METHOD": "outer",
              "DB_LOCATION": ":memory:",
              "DEV_MODE": false,
              "DISPLAY_MAX_COLUMNS": 100,
              "DISPLAY_MAX_ROWS": 50000,
              "DISPLAY_MODE": "simple",
              "ENABLE_ASSIGNMENT": true,
              "ENABLE_DATALINK": true,
              "FLATTEN_COLUMN_VALUES": true,
              "FLATTEN_INDEX_VALUES": false,
              "GENERATE_DEX_METADATA": false,
              "HTML_TABLE_SCHEMA": false,
              "LOG_LEVEL": 30,
              "MAX_RENDER_SIZE_BYTES": 104857600,
              "MAX_STRING_LENGTH": 250,
              "NUM_PAST_SAMPLES_TRACKED": 3,
              "RANDOM_STATE": 12648430,
              "RESET_INDEX_VALUES": false,
              "ROW_SAMPLING_METHOD": "random",
              "SAMPLING_FACTOR": 0.1,
              "SAMPLING_METHOD": "random",
              "STRINGIFY_COLUMN_VALUES": true,
              "STRINGIFY_INDEX_VALUES": false
            },
            "sample_history": [],
            "sampling_time": "2023-08-07T21:41:49.654146",
            "user_variable_name": null,
            "variable_name": "unk_dataframe_3f8a37b3a80249beb58de29c90f50e41"
          },
          "e67b000a-5cdc-478e-a2ba-e8dc7961e9dc": {
            "applied_filters": [],
            "dataframe_info": {
              "default_index_used": false,
              "orig_num_cols": 1,
              "orig_num_rows": 11,
              "orig_size_bytes": 176,
              "truncated_num_cols": 1,
              "truncated_num_rows": 11,
              "truncated_size_bytes": 176,
              "truncated_string_columns": []
            },
            "display_id": "e67b000a-5cdc-478e-a2ba-e8dc7961e9dc",
            "dx_settings": {
              "ALLOW_NOTEABLE_ATTRS": true,
              "COLUMN_SAMPLING_METHOD": "outer",
              "DB_LOCATION": ":memory:",
              "DEV_MODE": false,
              "DISPLAY_MAX_COLUMNS": 100,
              "DISPLAY_MAX_ROWS": 50000,
              "DISPLAY_MODE": "simple",
              "ENABLE_ASSIGNMENT": true,
              "ENABLE_DATALINK": true,
              "FLATTEN_COLUMN_VALUES": true,
              "FLATTEN_INDEX_VALUES": false,
              "GENERATE_DEX_METADATA": false,
              "HTML_TABLE_SCHEMA": false,
              "LOG_LEVEL": 30,
              "MAX_RENDER_SIZE_BYTES": 104857600,
              "MAX_STRING_LENGTH": 250,
              "NUM_PAST_SAMPLES_TRACKED": 3,
              "RANDOM_STATE": 12648430,
              "RESET_INDEX_VALUES": false,
              "ROW_SAMPLING_METHOD": "random",
              "SAMPLING_FACTOR": 0.1,
              "SAMPLING_METHOD": "random",
              "STRINGIFY_COLUMN_VALUES": true,
              "STRINGIFY_INDEX_VALUES": false
            },
            "sample_history": [],
            "sampling_time": "2023-08-08T01:42:38.419807",
            "user_variable_name": null,
            "variable_name": "unk_dataframe_c0300e73690040dc8d787396fe37bcaa"
          },
          "019388bb-fa8d-41e5-8b22-d638be52385e": {
            "applied_filters": [],
            "dataframe_info": {
              "default_index_used": false,
              "orig_num_cols": 1,
              "orig_num_rows": 11,
              "orig_size_bytes": 176,
              "truncated_num_cols": 1,
              "truncated_num_rows": 11,
              "truncated_size_bytes": 176,
              "truncated_string_columns": []
            },
            "display_id": "019388bb-fa8d-41e5-8b22-d638be52385e",
            "dx_settings": {
              "ALLOW_NOTEABLE_ATTRS": true,
              "COLUMN_SAMPLING_METHOD": "outer",
              "DB_LOCATION": ":memory:",
              "DEV_MODE": false,
              "DISPLAY_MAX_COLUMNS": 100,
              "DISPLAY_MAX_ROWS": 50000,
              "DISPLAY_MODE": "simple",
              "ENABLE_ASSIGNMENT": true,
              "ENABLE_DATALINK": true,
              "FLATTEN_COLUMN_VALUES": true,
              "FLATTEN_INDEX_VALUES": false,
              "GENERATE_DEX_METADATA": false,
              "HTML_TABLE_SCHEMA": false,
              "LOG_LEVEL": 30,
              "MAX_RENDER_SIZE_BYTES": 104857600,
              "MAX_STRING_LENGTH": 250,
              "NUM_PAST_SAMPLES_TRACKED": 3,
              "RANDOM_STATE": 12648430,
              "RESET_INDEX_VALUES": false,
              "ROW_SAMPLING_METHOD": "random",
              "SAMPLING_FACTOR": 0.1,
              "SAMPLING_METHOD": "random",
              "STRINGIFY_COLUMN_VALUES": true,
              "STRINGIFY_INDEX_VALUES": false
            },
            "sample_history": [],
            "sampling_time": "2023-08-08T04:08:59.966486",
            "user_variable_name": null,
            "variable_name": "unk_dataframe_996b2245b3584ca7bc2b8192ca342f8b"
          },
          "7873e9cc-3c7c-451b-bb2e-bd328fb8495a": {
            "applied_filters": [],
            "dataframe_info": {
              "default_index_used": false,
              "orig_num_cols": 1,
              "orig_num_rows": 11,
              "orig_size_bytes": 176,
              "truncated_num_cols": 1,
              "truncated_num_rows": 11,
              "truncated_size_bytes": 176,
              "truncated_string_columns": []
            },
            "display_id": "7873e9cc-3c7c-451b-bb2e-bd328fb8495a",
            "dx_settings": {
              "ALLOW_NOTEABLE_ATTRS": true,
              "COLUMN_SAMPLING_METHOD": "outer",
              "DB_LOCATION": ":memory:",
              "DEV_MODE": false,
              "DISPLAY_MAX_COLUMNS": 100,
              "DISPLAY_MAX_ROWS": 50000,
              "DISPLAY_MODE": "simple",
              "ENABLE_ASSIGNMENT": true,
              "ENABLE_DATALINK": true,
              "FLATTEN_COLUMN_VALUES": true,
              "FLATTEN_INDEX_VALUES": false,
              "GENERATE_DEX_METADATA": false,
              "HTML_TABLE_SCHEMA": false,
              "LOG_LEVEL": 30,
              "MAX_RENDER_SIZE_BYTES": 104857600,
              "MAX_STRING_LENGTH": 250,
              "NUM_PAST_SAMPLES_TRACKED": 3,
              "RANDOM_STATE": 12648430,
              "RESET_INDEX_VALUES": false,
              "ROW_SAMPLING_METHOD": "random",
              "SAMPLING_FACTOR": 0.1,
              "SAMPLING_METHOD": "random",
              "STRINGIFY_COLUMN_VALUES": true,
              "STRINGIFY_INDEX_VALUES": false
            },
            "sample_history": [],
            "sampling_time": "2023-08-08T16:50:10.033221",
            "user_variable_name": null,
            "variable_name": "unk_dataframe_9521658f1c66415d87df3aba1aac1f4a"
          },
          "5d0d863b-7bbc-4269-9717-e3f9fd9b12d1": {
            "dataframe_info": {
              "default_index_used": false,
              "orig_size_bytes": 176,
              "orig_num_rows": 11,
              "orig_num_cols": 1,
              "truncated_string_columns": [],
              "truncated_size_bytes": 176,
              "truncated_num_rows": 11,
              "truncated_num_cols": 1
            },
            "dx_settings": {
              "LOG_LEVEL": 30,
              "DEV_MODE": false,
              "DISPLAY_MAX_ROWS": 50000,
              "DISPLAY_MAX_COLUMNS": 100,
              "HTML_TABLE_SCHEMA": false,
              "MAX_RENDER_SIZE_BYTES": 104857600,
              "MAX_STRING_LENGTH": 250,
              "SAMPLING_FACTOR": 0.1,
              "DISPLAY_MODE": "simple",
              "SAMPLING_METHOD": "random",
              "COLUMN_SAMPLING_METHOD": "outer",
              "ROW_SAMPLING_METHOD": "random",
              "RANDOM_STATE": 12648430,
              "RESET_INDEX_VALUES": false,
              "FLATTEN_INDEX_VALUES": false,
              "FLATTEN_COLUMN_VALUES": true,
              "STRINGIFY_INDEX_VALUES": false,
              "STRINGIFY_COLUMN_VALUES": true,
              "ENABLE_DATALINK": true,
              "ENABLE_ASSIGNMENT": true,
              "NUM_PAST_SAMPLES_TRACKED": 3,
              "DB_LOCATION": ":memory:",
              "GENERATE_DEX_METADATA": false,
              "ALLOW_NOTEABLE_ATTRS": true
            },
            "display_id": "5d0d863b-7bbc-4269-9717-e3f9fd9b12d1",
            "applied_filters": [],
            "sample_history": [],
            "sampling_time": "2023-08-08T19:02:07.039520",
            "variable_name": "unk_dataframe_c84ffffd535e49ea922b60902c418384",
            "user_variable_name": null
          }
        }
      },
      "id": "9902557f-2876-4be8-b808-e6758ac2c155"
    },
    {
      "cell_type": "code",
      "source": [
        "from sklearn.linear_model import LogisticRegression\n",
        "from sklearn.metrics import accuracy_score, classification_report, confusion_matrix\n",
        "\n",
        "\n",
        "# Creating a logistic regression model\n",
        "logistic_model = LogisticRegression(random_state=42)\n",
        "\n",
        "# Fitting the model to the training data\n",
        "logistic_model.fit(X_train, y_train)\n",
        "\n",
        "# Predicting the target variable on the test data\n",
        "y_pred = logistic_model.predict(X_test)\n",
        "\n",
        "# Evaluating the model\n",
        "accuracy = accuracy_score(y_test, y_pred)\n",
        "classification_rep = classification_report(y_test, y_pred)\n",
        "confusion_mat = confusion_matrix(y_test, y_pred)\n",
        "\n",
        "accuracy, classification_rep, confusion_mat"
      ],
      "outputs": [
        {
          "output_type": "execute_result",
          "execution_count": null,
          "data": {
            "text/plain": "(0.8248263666846463,\n '              precision    recall  f1-score   support\\n\\n           0       0.83      1.00      0.90    148458\\n           1       0.45      0.02      0.03     31375\\n\\n    accuracy                           0.82    179833\\n   macro avg       0.64      0.51      0.47    179833\\nweighted avg       0.76      0.82      0.75    179833\\n',\n array([[147783,    675],\n        [ 30827,    548]]))"
          },
          "metadata": {}
        }
      ],
      "execution_count": null,
      "metadata": {
        "noteable": {
          "cell_type": "code"
        },
        "ExecuteTime": {
          "start_time": "2023-08-08T19:02:07.236953+00:00",
          "end_time": "2023-08-08T19:02:27.802367+00:00"
        }
      },
      "id": "ecf6c4a8-478f-4307-a115-f25910e4ecdf"
    },
    {
      "cell_type": "code",
      "source": [
        "from sklearn.ensemble import RandomForestClassifier\n",
        "\n",
        "# Creating a Random Forest model\n",
        "random_forest_model = RandomForestClassifier(random_state=42)\n",
        "\n",
        "# Fitting the model to the training data\n",
        "random_forest_model.fit(X_train, y_train)\n",
        "\n",
        "# Predicting the target variable on the test data\n",
        "y_pred_rf = random_forest_model.predict(X_test)\n",
        "\n",
        "# Evaluating the model\n",
        "accuracy_rf = accuracy_score(y_test, y_pred_rf)\n",
        "classification_rep_rf = classification_report(y_test, y_pred_rf)\n",
        "confusion_mat_rf = confusion_matrix(y_test, y_pred_rf)\n",
        "\n",
        "accuracy_rf, classification_rep_rf, confusion_mat_rf"
      ],
      "outputs": [
        {
          "output_type": "execute_result",
          "execution_count": null,
          "data": {
            "text/plain": "(0.9260146914081397,\n '              precision    recall  f1-score   support\\n\\n           0       0.95      0.96      0.96    148458\\n           1       0.81      0.75      0.78     31375\\n\\n    accuracy                           0.93    179833\\n   macro avg       0.88      0.86      0.87    179833\\nweighted avg       0.92      0.93      0.92    179833\\n',\n array([[143082,   5376],\n        [  7929,  23446]]))"
          },
          "metadata": {}
        }
      ],
      "execution_count": null,
      "metadata": {
        "noteable": {
          "cell_type": "code"
        },
        "ExecuteTime": {
          "start_time": "2023-08-08T19:02:27.809507+00:00",
          "end_time": "2023-08-08T19:04:46.543611+00:00"
        }
      },
      "id": "962addf9-7968-4408-b6ed-9c1ffe90a1c5"
    },
    {
      "cell_type": "code",
      "source": [
        "from sklearn.ensemble import GradientBoostingClassifier\n",
        "\n",
        "# Creating a Gradient Boosting model\n",
        "gradient_boosting_model = GradientBoostingClassifier(random_state=42)\n",
        "\n",
        "# Fitting the model to the training data\n",
        "gradient_boosting_model.fit(X_train, y_train)\n",
        "\n",
        "# Predicting the target variable on the test data\n",
        "y_pred_gb = gradient_boosting_model.predict(X_test)\n",
        "\n",
        "# Evaluating the model\n",
        "accuracy_gb = accuracy_score(y_test, y_pred_gb)\n",
        "classification_rep_gb = classification_report(y_test, y_pred_gb)\n",
        "confusion_mat_gb = confusion_matrix(y_test, y_pred_gb)\n",
        "\n",
        "accuracy_gb, classification_rep_gb, confusion_mat_gb"
      ],
      "outputs": [
        {
          "output_type": "execute_result",
          "execution_count": null,
          "data": {
            "text/plain": "(0.925580955664422,\n '              precision    recall  f1-score   support\\n\\n           0       0.94      0.97      0.96    148458\\n           1       0.84      0.71      0.77     31375\\n\\n    accuracy                           0.93    179833\\n   macro avg       0.89      0.84      0.86    179833\\nweighted avg       0.92      0.93      0.92    179833\\n',\n array([[144063,   4395],\n        [  8988,  22387]]))"
          },
          "metadata": {}
        }
      ],
      "execution_count": null,
      "metadata": {
        "noteable": {
          "cell_type": "code"
        },
        "ExecuteTime": {
          "start_time": "2023-08-08T19:04:46.552658+00:00",
          "end_time": "2023-08-08T19:06:48.486667+00:00"
        }
      },
      "id": "37ebb561-64f0-4a3f-bbca-d4a865462c99"
    },
    {
      "cell_type": "code",
      "source": [
        "from sklearn.neighbors import KNeighborsClassifier\n",
        "\n",
        "# Creating a K-Nearest Neighbors model\n",
        "knn_model = KNeighborsClassifier()\n",
        "\n",
        "# Fitting the model to the training data\n",
        "knn_model.fit(X_train, y_train)\n",
        "\n",
        "# Predicting the target variable on the test data\n",
        "y_pred_knn = knn_model.predict(X_test)\n",
        "\n",
        "# Evaluating the model\n",
        "accuracy_knn = accuracy_score(y_test, y_pred_knn)\n",
        "classification_rep_knn = classification_report(y_test, y_pred_knn)\n",
        "confusion_mat_knn = confusion_matrix(y_test, y_pred_knn)\n",
        "\n",
        "accuracy_knn, classification_rep_knn, confusion_mat_knn"
      ],
      "outputs": [
        {
          "output_type": "execute_result",
          "execution_count": null,
          "data": {
            "text/plain": "(0.8832527956492968,\n '              precision    recall  f1-score   support\\n\\n           0       0.91      0.95      0.93    148458\\n           1       0.71      0.56      0.63     31375\\n\\n    accuracy                           0.88    179833\\n   macro avg       0.81      0.76      0.78    179833\\nweighted avg       0.88      0.88      0.88    179833\\n',\n array([[141234,   7224],\n        [ 13771,  17604]]))"
          },
          "metadata": {}
        }
      ],
      "execution_count": null,
      "metadata": {
        "noteable": {
          "cell_type": "code"
        },
        "ExecuteTime": {
          "start_time": "2023-08-08T19:06:48.495910+00:00",
          "end_time": "2023-08-08T19:07:18.209533+00:00"
        }
      },
      "id": "aadb1a89-e855-41a6-90d7-125c00dc0d03"
    },
    {
      "cell_type": "code",
      "source": [
        "import matplotlib.pyplot as plt\n",
        "\n",
        "# Creating a dictionary to store the accuracy of each model\n",
        "model_accuracies = {\n",
        "    'Logistic Regression': accuracy,\n",
        "    'Random Forest': accuracy_rf,\n",
        "    'Gradient Boosting': accuracy_gb,\n",
        "    'KNN': accuracy_knn\n",
        "}\n",
        "\n",
        "# Converting the dictionary to a DataFrame for better visualization\n",
        "accuracy_df = pd.DataFrame(list(model_accuracies.items()), columns=['Model', 'Accuracy'])\n",
        "\n",
        "# Plotting the accuracies\n",
        "plt.figure(figsize=(10, 6))\n",
        "plt.bar(accuracy_df['Model'], accuracy_df['Accuracy'], color='skyblue')\n",
        "plt.xlabel('Model')\n",
        "plt.ylabel('Accuracy')\n",
        "plt.title('Model Accuracy Comparison')\n",
        "plt.xticks(rotation=45)\n",
        "plt.ylim(0.5, 1)\n",
        "plt.show()\n",
        "\n",
        "# Displaying the accuracy DataFrame\n",
        "accuracy_df"
      ],
      "outputs": [
        {
          "output_type": "display_data",
          "data": {
            "image/png": "[encoded data removed]"
          },
          "metadata": {}
        },
        {
          "output_type": "display_data",
          "data": {
            "application/vnd.dataresource+json": {
              "schema": {
                "fields": [
                  {
                    "name": "index",
                    "type": "integer"
                  },
                  {
                    "name": "Model",
                    "type": "string"
                  },
                  {
                    "name": "Accuracy",
                    "type": "number"
                  }
                ],
                "primaryKey": [
                  "index"
                ],
                "pandas_version": "1.4.0"
              },
              "data": [
                {
                  "index": 0,
                  "Model": "Logistic Regression",
                  "Accuracy": 0.8248263666846463
                },
                {
                  "index": 1,
                  "Model": "Random Forest",
                  "Accuracy": 0.9260146914081397
                },
                {
                  "index": 2,
                  "Model": "Gradient Boosting",
                  "Accuracy": 0.925580955664422
                },
                {
                  "index": 3,
                  "Model": "KNN",
                  "Accuracy": 0.8832527956492968
                }
              ],
              "datalink": {
                "display_id": "5c4dcad1-d9a9-4dcf-963c-c2464faffa6d"
              }
            }
          },
          "metadata": {
            "application/vnd.dataresource+json": {
              "datalink": {
                "dataframe_info": {
                  "default_index_used": true,
                  "orig_size_bytes": 96,
                  "orig_num_rows": 4,
                  "orig_num_cols": 2,
                  "truncated_string_columns": [],
                  "truncated_size_bytes": 96,
                  "truncated_num_rows": 4,
                  "truncated_num_cols": 2
                },
                "dx_settings": {
                  "NUM_PAST_SAMPLES_TRACKED": 3,
                  "ENABLE_DATALINK": true,
                  "DISPLAY_MODE": "simple",
                  "GENERATE_DEX_METADATA": false,
                  "STRINGIFY_INDEX_VALUES": false,
                  "ALLOW_NOTEABLE_ATTRS": true,
                  "DISPLAY_MAX_COLUMNS": 100,
                  "HTML_TABLE_SCHEMA": false,
                  "SAMPLING_FACTOR": 0.1,
                  "LOG_LEVEL": 30,
                  "ENABLE_ASSIGNMENT": true,
                  "FLATTEN_INDEX_VALUES": false,
                  "DEV_MODE": false,
                  "COLUMN_SAMPLING_METHOD": "outer",
                  "FLATTEN_COLUMN_VALUES": true,
                  "DISPLAY_MAX_ROWS": 50000,
                  "ROW_SAMPLING_METHOD": "random",
                  "RANDOM_STATE": 12648430,
                  "DB_LOCATION": ":memory:",
                  "STRINGIFY_COLUMN_VALUES": true,
                  "SAMPLING_METHOD": "random",
                  "MAX_STRING_LENGTH": 250,
                  "MAX_RENDER_SIZE_BYTES": 104857600,
                  "RESET_INDEX_VALUES": false
                },
                "display_id": "5c4dcad1-d9a9-4dcf-963c-c2464faffa6d",
                "applied_filters": [],
                "sample_history": [],
                "sampling_time": "2023-08-08T19:07:43.219207",
                "variable_name": "accuracy_df",
                "user_variable_name": "accuracy_df"
              },
              "display_id": "5c4dcad1-d9a9-4dcf-963c-c2464faffa6d"
            }
          }
        }
      ],
      "execution_count": null,
      "metadata": {
        "noteable": {
          "cell_type": "code"
        },
        "ExecuteTime": {
          "start_time": "2023-08-08T19:07:42.812933+00:00",
          "end_time": "2023-08-08T19:07:43.378493+00:00"
        },
        "datalink": {
          "5c4dcad1-d9a9-4dcf-963c-c2464faffa6d": {
            "dataframe_info": {
              "default_index_used": true,
              "orig_size_bytes": 96,
              "orig_num_rows": 4,
              "orig_num_cols": 2,
              "truncated_string_columns": [],
              "truncated_size_bytes": 96,
              "truncated_num_rows": 4,
              "truncated_num_cols": 2
            },
            "dx_settings": {
              "LOG_LEVEL": 30,
              "DEV_MODE": false,
              "DISPLAY_MAX_ROWS": 50000,
              "DISPLAY_MAX_COLUMNS": 100,
              "HTML_TABLE_SCHEMA": false,
              "MAX_RENDER_SIZE_BYTES": 104857600,
              "MAX_STRING_LENGTH": 250,
              "SAMPLING_FACTOR": 0.1,
              "DISPLAY_MODE": "simple",
              "SAMPLING_METHOD": "random",
              "COLUMN_SAMPLING_METHOD": "outer",
              "ROW_SAMPLING_METHOD": "random",
              "RANDOM_STATE": 12648430,
              "RESET_INDEX_VALUES": false,
              "FLATTEN_INDEX_VALUES": false,
              "FLATTEN_COLUMN_VALUES": true,
              "STRINGIFY_INDEX_VALUES": false,
              "STRINGIFY_COLUMN_VALUES": true,
              "ENABLE_DATALINK": true,
              "ENABLE_ASSIGNMENT": true,
              "NUM_PAST_SAMPLES_TRACKED": 3,
              "DB_LOCATION": ":memory:",
              "GENERATE_DEX_METADATA": false,
              "ALLOW_NOTEABLE_ATTRS": true
            },
            "display_id": "5c4dcad1-d9a9-4dcf-963c-c2464faffa6d",
            "applied_filters": [],
            "sample_history": [],
            "sampling_time": "2023-08-08T19:07:43.219207",
            "variable_name": "accuracy_df",
            "user_variable_name": "accuracy_df"
          }
        }
      },
      "id": "caa7884e-f353-4a5e-8155-93e571d5a77f"
    },
    {
      "cell_type": "code",
      "source": [
        "!pip install shap\n",
        "import shap\n",
        "\n",
        "# Create a SHAP explainer object with the Random Forest model\n",
        "explainer_rf = shap.Explainer(random_forest_model)\n",
        "\n",
        "\n",
        "\n",
        "# Calculate SHAP values for the test data\n",
        "shap_values_rf = explainer_rf(X_test)\n",
        "\n",
        "\n",
        "# Plot the summary plot for SHAP values\n",
        "shap.summary_plot(shap_values_rf, X_test)\n"
      ],
      "outputs": [
        {
          "output_type": "display_data",
          "data": {
            "text/html": "<div class='bp3-callout bp3-intent-warning'><h6 class='bp3-heading'>Warning</h6><p>The connection to your kernel was interrupted. This could have happened because:</p>\n        <ul>\n            <li>Your kernel ran out of memory.</li>\n            <li>You attempted to output more than 100MB of data.</li>\n            <li>Your kernel experienced an unexpected shutdown.</li>\n        </ul>\n        </div>"
          },
          "metadata": {}
        }
      ],
      "execution_count": null,
      "metadata": {
        "noteable": {
          "cell_type": "code"
        },
        "ExecuteTime": null
      },
      "id": "bc6da870-e999-4a6d-b6a9-c58db6418fed"
    }
  ],
  "metadata": {
    "noteable-chatgpt": {
      "create_notebook": {
        "openai_conversation_id": "167c82f0-3e71-5bd0-9bae-e64accec91c6",
        "openai_ephemeral_user_id": "5b2e53cb-d689-5297-8826-e80cd415e933",
        "openai_subdivision1_iso_code": "US-CA"
      }
    },
    "kernel_info": {
      "name": "python3"
    },
    "noteable": {
      "last_transaction_id": "9def0baf-4adf-48f0-9b5f-0b67b6aeb2f4",
      "last_delta_id": "2f3a62eb-4c3e-4034-a6c1-bdaca379b484"
    },
    "kernelspec": {
      "display_name": "Python 3.9",
      "language": "python",
      "name": "python3"
    },
    "selected_hardware_size": "small",
    "display_mode": "default",
    "nteract": {
      "version": "noteable@2.9.0"
    }
  },
  "nbformat": 4,
  "nbformat_minor": 5
}