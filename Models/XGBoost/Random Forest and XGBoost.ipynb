{
 "cells": [
  {
   "cell_type": "code",
   "execution_count": 1,
   "id": "506715dc",
   "metadata": {
    "ExecuteTime": {
     "end_time": "2023-08-06T23:11:18.493186Z",
     "start_time": "2023-08-06T23:11:13.633424Z"
    }
   },
   "outputs": [],
   "source": [
    "import numpy as np\n",
    "import pandas as pd\n",
    "import matplotlib.pyplot as plt\n",
    "import seaborn as sns"
   ]
  },
  {
   "cell_type": "markdown",
   "id": "8d4b4f9a",
   "metadata": {},
   "source": [
    "# Data Preprocessing"
   ]
  },
  {
   "cell_type": "markdown",
   "id": "eec93c0e",
   "metadata": {},
   "source": [
    "### Custom Data Converters"
   ]
  },
  {
   "cell_type": "markdown",
   "id": "222f80de",
   "metadata": {},
   "source": [
    "The data within the csv files have certain prefixes such as dollar signs that we don't want included in the pandas dataframe. Thus, when reading from specific columns, we can tell pandas to follow a pipeline that converts the cell data into data within a desirable form."
   ]
  },
  {
   "cell_type": "code",
   "execution_count": 2,
   "id": "e8c287ce",
   "metadata": {
    "ExecuteTime": {
     "end_time": "2023-08-06T23:11:18.502702Z",
     "start_time": "2023-08-06T23:11:18.497071Z"
    }
   },
   "outputs": [],
   "source": [
    "# Removes the dollar signs and commas\n",
    "def custom_dollar_converter(dollar_str):\n",
    "    if '#' in dollar_str:\n",
    "        return np.nan\n",
    "    else:\n",
    "        dollar_str = dollar_str.replace('$', '').replace(',', '')\n",
    "        return float(dollar_str)"
   ]
  },
  {
   "cell_type": "code",
   "execution_count": 3,
   "id": "27e5e9c7",
   "metadata": {
    "ExecuteTime": {
     "end_time": "2023-08-06T23:11:18.530021Z",
     "start_time": "2023-08-06T23:11:18.511061Z"
    }
   },
   "outputs": [],
   "source": [
    "# Determines whether a business is a franchise or not\n",
    "# If the value is 0 or 1, the business is not a franchise\n",
    "def custom_franchise_converter(franchise_str):\n",
    "    if franchise_str.strip() == '0' or franchise_str.strip() == '1':\n",
    "        return 0\n",
    "    else:\n",
    "        return 1"
   ]
  },
  {
   "cell_type": "code",
   "execution_count": 4,
   "id": "a90047e0",
   "metadata": {
    "ExecuteTime": {
     "end_time": "2023-08-06T23:11:18.559341Z",
     "start_time": "2023-08-06T23:11:18.547269Z"
    }
   },
   "outputs": [],
   "source": [
    "# Trims zip codes to the first two numbers\n",
    "def zip_trimmer(zip_str):\n",
    "    return zip_str[:2]"
   ]
  },
  {
   "cell_type": "markdown",
   "id": "2a5b9e56",
   "metadata": {},
   "source": [
    "The `NAICS` is a code used by the US government to identify individual industries. This is useful to see if certain industries get loans more often. The first 2 digits of the NAICS code can give information about the type of business.\n",
    "\n",
    "| Sector | Description |\n",
    "| --- | --- |\n",
    "| 11 | Agriculture, forestry, fishing and hunting |\n",
    "| 21 | Mining, quarrying, and oil and gas extraction |\n",
    "| 22 | Utilities |\n",
    "| 23 | Construction |\n",
    "| 31–33 | Manufacturing |\n",
    "| 42 | Wholesale trade |\n",
    "| 44–45 | Retail trade |\n",
    "| 48–49 | Transportation and warehousing |\n",
    "| 51 | Information |\n",
    "| 52 | Finance and insurance |\n",
    "| 53 | Real estate and rental and leasing |\n",
    "| 54 | Professional, scientific, and technical services |\n",
    "| 55 | Management of companies and enterprises |\n",
    "| 56 | Administrative and support and waste management and remediation services |\n",
    "| 61 | Educational services |\n",
    "| 62 | Health care and social assistance |\n",
    "| 71 | Arts, entertainment, and recreation |\n",
    "| 72 | Accommodation and food services |\n",
    "| 81 | Other services (except public administration) 92 Public administration |"
   ]
  },
  {
   "cell_type": "code",
   "execution_count": 5,
   "id": "80fbc86f",
   "metadata": {
    "ExecuteTime": {
     "end_time": "2023-08-06T23:11:18.579056Z",
     "start_time": "2023-08-06T23:11:18.563781Z"
    }
   },
   "outputs": [],
   "source": [
    "# Returns the first two digits of a NAICS value\n",
    "def naics_trimmer(naics_str):\n",
    "    return naics_str[:2]"
   ]
  },
  {
   "cell_type": "markdown",
   "id": "d30077d1",
   "metadata": {},
   "source": [
    "### Reading in Data"
   ]
  },
  {
   "cell_type": "markdown",
   "id": "51365e4d",
   "metadata": {},
   "source": [
    "The specific converters deifned above can be listed in a dictionary, with the columns matched to their specific converter. Pandas will account these when reading data. Additionally, the csv file contains datetime information; we can specify which columns contain datetime information for pandas to automatically read them in as datetime information."
   ]
  },
  {
   "cell_type": "code",
   "execution_count": 6,
   "id": "ece10a6f",
   "metadata": {
    "ExecuteTime": {
     "end_time": "2023-08-06T23:11:41.687810Z",
     "start_time": "2023-08-06T23:11:18.594448Z"
    }
   },
   "outputs": [
    {
     "name": "stderr",
     "output_type": "stream",
     "text": [
      "/usr/local/lib/python3.9/site-packages/IPython/core/interactiveshell.py:3418: DtypeWarning: Columns (9) have mixed types.Specify dtype option on import or set low_memory=False.\n",
      "  exec(code_obj, self.user_global_ns, self.user_ns)\n"
     ]
    },
    {
     "data": {
      "text/html": [
       "<div>\n",
       "<style scoped>\n",
       "    .dataframe tbody tr th:only-of-type {\n",
       "        vertical-align: middle;\n",
       "    }\n",
       "\n",
       "    .dataframe tbody tr th {\n",
       "        vertical-align: top;\n",
       "    }\n",
       "\n",
       "    .dataframe thead th {\n",
       "        text-align: right;\n",
       "    }\n",
       "</style>\n",
       "<table border=\"1\" class=\"dataframe\">\n",
       "  <thead>\n",
       "    <tr style=\"text-align: right;\">\n",
       "      <th></th>\n",
       "      <th>LoanNr_ChkDgt</th>\n",
       "      <th>Name</th>\n",
       "      <th>City</th>\n",
       "      <th>State</th>\n",
       "      <th>Zip</th>\n",
       "      <th>Bank</th>\n",
       "      <th>BankState</th>\n",
       "      <th>NAICS</th>\n",
       "      <th>ApprovalDate</th>\n",
       "      <th>ApprovalFY</th>\n",
       "      <th>...</th>\n",
       "      <th>RevLineCr</th>\n",
       "      <th>LowDoc</th>\n",
       "      <th>ChgOffDate</th>\n",
       "      <th>DisbursementDate</th>\n",
       "      <th>DisbursementGross</th>\n",
       "      <th>BalanceGross</th>\n",
       "      <th>MIS_Status</th>\n",
       "      <th>ChgOffPrinGr</th>\n",
       "      <th>GrAppv</th>\n",
       "      <th>SBA_Appv</th>\n",
       "    </tr>\n",
       "  </thead>\n",
       "  <tbody>\n",
       "    <tr>\n",
       "      <th>0</th>\n",
       "      <td>1000014003</td>\n",
       "      <td>ABC HOBBYCRAFT</td>\n",
       "      <td>EVANSVILLE</td>\n",
       "      <td>IN</td>\n",
       "      <td>47</td>\n",
       "      <td>FIFTH THIRD BANK</td>\n",
       "      <td>OH</td>\n",
       "      <td>451120</td>\n",
       "      <td>1997-02-28</td>\n",
       "      <td>1997</td>\n",
       "      <td>...</td>\n",
       "      <td>N</td>\n",
       "      <td>Y</td>\n",
       "      <td>NaT</td>\n",
       "      <td>1999-02-28</td>\n",
       "      <td>60000.0</td>\n",
       "      <td>0.0</td>\n",
       "      <td>P I F</td>\n",
       "      <td>0.0</td>\n",
       "      <td>60000.0</td>\n",
       "      <td>48000.0</td>\n",
       "    </tr>\n",
       "    <tr>\n",
       "      <th>1</th>\n",
       "      <td>1000024006</td>\n",
       "      <td>LANDMARK BAR &amp; GRILLE (THE)</td>\n",
       "      <td>NEW PARIS</td>\n",
       "      <td>IN</td>\n",
       "      <td>46</td>\n",
       "      <td>1ST SOURCE BANK</td>\n",
       "      <td>IN</td>\n",
       "      <td>722410</td>\n",
       "      <td>1997-02-28</td>\n",
       "      <td>1997</td>\n",
       "      <td>...</td>\n",
       "      <td>N</td>\n",
       "      <td>Y</td>\n",
       "      <td>NaT</td>\n",
       "      <td>1997-05-31</td>\n",
       "      <td>40000.0</td>\n",
       "      <td>0.0</td>\n",
       "      <td>P I F</td>\n",
       "      <td>0.0</td>\n",
       "      <td>40000.0</td>\n",
       "      <td>32000.0</td>\n",
       "    </tr>\n",
       "    <tr>\n",
       "      <th>2</th>\n",
       "      <td>1000034009</td>\n",
       "      <td>WHITLOCK DDS, TODD M.</td>\n",
       "      <td>BLOOMINGTON</td>\n",
       "      <td>IN</td>\n",
       "      <td>47</td>\n",
       "      <td>GRANT COUNTY STATE BANK</td>\n",
       "      <td>IN</td>\n",
       "      <td>621210</td>\n",
       "      <td>1997-02-28</td>\n",
       "      <td>1997</td>\n",
       "      <td>...</td>\n",
       "      <td>N</td>\n",
       "      <td>N</td>\n",
       "      <td>NaT</td>\n",
       "      <td>1997-12-31</td>\n",
       "      <td>287000.0</td>\n",
       "      <td>0.0</td>\n",
       "      <td>P I F</td>\n",
       "      <td>0.0</td>\n",
       "      <td>287000.0</td>\n",
       "      <td>215250.0</td>\n",
       "    </tr>\n",
       "    <tr>\n",
       "      <th>3</th>\n",
       "      <td>1000044001</td>\n",
       "      <td>BIG BUCKS PAWN &amp; JEWELRY, LLC</td>\n",
       "      <td>BROKEN ARROW</td>\n",
       "      <td>OK</td>\n",
       "      <td>74</td>\n",
       "      <td>1ST NATL BK &amp; TR CO OF BROKEN</td>\n",
       "      <td>OK</td>\n",
       "      <td>0</td>\n",
       "      <td>1997-02-28</td>\n",
       "      <td>1997</td>\n",
       "      <td>...</td>\n",
       "      <td>N</td>\n",
       "      <td>Y</td>\n",
       "      <td>NaT</td>\n",
       "      <td>1997-06-30</td>\n",
       "      <td>35000.0</td>\n",
       "      <td>0.0</td>\n",
       "      <td>P I F</td>\n",
       "      <td>0.0</td>\n",
       "      <td>35000.0</td>\n",
       "      <td>28000.0</td>\n",
       "    </tr>\n",
       "    <tr>\n",
       "      <th>4</th>\n",
       "      <td>1000054004</td>\n",
       "      <td>ANASTASIA CONFECTIONS, INC.</td>\n",
       "      <td>ORLANDO</td>\n",
       "      <td>FL</td>\n",
       "      <td>32</td>\n",
       "      <td>FLORIDA BUS. DEVEL CORP</td>\n",
       "      <td>FL</td>\n",
       "      <td>0</td>\n",
       "      <td>1997-02-28</td>\n",
       "      <td>1997</td>\n",
       "      <td>...</td>\n",
       "      <td>N</td>\n",
       "      <td>N</td>\n",
       "      <td>NaT</td>\n",
       "      <td>1997-05-14</td>\n",
       "      <td>229000.0</td>\n",
       "      <td>0.0</td>\n",
       "      <td>P I F</td>\n",
       "      <td>0.0</td>\n",
       "      <td>229000.0</td>\n",
       "      <td>229000.0</td>\n",
       "    </tr>\n",
       "  </tbody>\n",
       "</table>\n",
       "<p>5 rows × 27 columns</p>\n",
       "</div>"
      ],
      "text/plain": [
       "   LoanNr_ChkDgt                           Name          City State Zip  \\\n",
       "0     1000014003                 ABC HOBBYCRAFT    EVANSVILLE    IN  47   \n",
       "1     1000024006    LANDMARK BAR & GRILLE (THE)     NEW PARIS    IN  46   \n",
       "2     1000034009          WHITLOCK DDS, TODD M.   BLOOMINGTON    IN  47   \n",
       "3     1000044001  BIG BUCKS PAWN & JEWELRY, LLC  BROKEN ARROW    OK  74   \n",
       "4     1000054004    ANASTASIA CONFECTIONS, INC.       ORLANDO    FL  32   \n",
       "\n",
       "                            Bank BankState   NAICS ApprovalDate ApprovalFY  \\\n",
       "0               FIFTH THIRD BANK        OH  451120   1997-02-28       1997   \n",
       "1                1ST SOURCE BANK        IN  722410   1997-02-28       1997   \n",
       "2        GRANT COUNTY STATE BANK        IN  621210   1997-02-28       1997   \n",
       "3  1ST NATL BK & TR CO OF BROKEN        OK       0   1997-02-28       1997   \n",
       "4        FLORIDA BUS. DEVEL CORP        FL       0   1997-02-28       1997   \n",
       "\n",
       "   ...  RevLineCr  LowDoc  ChgOffDate  DisbursementDate  DisbursementGross  \\\n",
       "0  ...          N       Y         NaT        1999-02-28            60000.0   \n",
       "1  ...          N       Y         NaT        1997-05-31            40000.0   \n",
       "2  ...          N       N         NaT        1997-12-31           287000.0   \n",
       "3  ...          N       Y         NaT        1997-06-30            35000.0   \n",
       "4  ...          N       N         NaT        1997-05-14           229000.0   \n",
       "\n",
       "   BalanceGross  MIS_Status ChgOffPrinGr    GrAppv  SBA_Appv  \n",
       "0           0.0       P I F          0.0   60000.0   48000.0  \n",
       "1           0.0       P I F          0.0   40000.0   32000.0  \n",
       "2           0.0       P I F          0.0  287000.0  215250.0  \n",
       "3           0.0       P I F          0.0   35000.0   28000.0  \n",
       "4           0.0       P I F          0.0  229000.0  229000.0  \n",
       "\n",
       "[5 rows x 27 columns]"
      ]
     },
     "execution_count": 6,
     "metadata": {},
     "output_type": "execute_result"
    }
   ],
   "source": [
    "bank_converters = {\n",
    "    'DisbursementGross': custom_dollar_converter,\n",
    "    'BalanceGross': custom_dollar_converter,\n",
    "    'ChgOffPrinGr': custom_dollar_converter,\n",
    "    'GrAppv': custom_dollar_converter,\n",
    "    'SBA_Appv': custom_dollar_converter,\n",
    "    'FranchiseCode': custom_franchise_converter,\n",
    "    'Zip': zip_trimmer,\n",
    "#     'NAICS': naics_trimmer, # not using b/c so many samples have null value\n",
    "}\n",
    "\n",
    "bank_parse_dates = [ 'ApprovalDate', 'ChgOffDate', 'DisbursementDate' ]\n",
    "\n",
    "df = pd.read_csv(\n",
    "    'SBAnational.csv',\n",
    "    converters=bank_converters,\n",
    "    parse_dates=bank_parse_dates,\n",
    "    date_parser=pd.to_datetime,\n",
    ")\n",
    "df.head()"
   ]
  },
  {
   "cell_type": "code",
   "execution_count": 7,
   "id": "bba76df7",
   "metadata": {
    "ExecuteTime": {
     "end_time": "2023-08-06T23:11:41.706500Z",
     "start_time": "2023-08-06T23:11:41.693471Z"
    }
   },
   "outputs": [
    {
     "data": {
      "text/plain": [
       "(899164, 27)"
      ]
     },
     "execution_count": 7,
     "metadata": {},
     "output_type": "execute_result"
    }
   ],
   "source": [
    "df.shape"
   ]
  },
  {
   "cell_type": "markdown",
   "id": "be981408",
   "metadata": {},
   "source": [
    "The dataframe contains `27` columns, or **features**, and `899164` rows, or **samples**. The features that the dataset contains are listed below."
   ]
  },
  {
   "cell_type": "code",
   "execution_count": 8,
   "id": "0bb179ac",
   "metadata": {
    "ExecuteTime": {
     "end_time": "2023-08-06T23:11:41.730122Z",
     "start_time": "2023-08-06T23:11:41.720668Z"
    }
   },
   "outputs": [
    {
     "name": "stdout",
     "output_type": "stream",
     "text": [
      "Index(['LoanNr_ChkDgt', 'Name', 'City', 'State', 'Zip', 'Bank', 'BankState',\n",
      "       'NAICS', 'ApprovalDate', 'ApprovalFY', 'Term', 'NoEmp', 'NewExist',\n",
      "       'CreateJob', 'RetainedJob', 'FranchiseCode', 'UrbanRural', 'RevLineCr',\n",
      "       'LowDoc', 'ChgOffDate', 'DisbursementDate', 'DisbursementGross',\n",
      "       'BalanceGross', 'MIS_Status', 'ChgOffPrinGr', 'GrAppv', 'SBA_Appv'],\n",
      "      dtype='object')\n"
     ]
    }
   ],
   "source": [
    "print(df.columns)"
   ]
  },
  {
   "cell_type": "markdown",
   "id": "5d341a88",
   "metadata": {},
   "source": [
    "### Handling Null Values"
   ]
  },
  {
   "cell_type": "markdown",
   "id": "7916237c",
   "metadata": {},
   "source": [
    "Null values pose a problem because if they were passed in to the machine learning model, it wouldn't have enough information to go off of and would produce many inconsistencies. Since the dataframe has a huge amount of samples, it wouldn't hurt to just remove the columns with any null values."
   ]
  },
  {
   "cell_type": "code",
   "execution_count": 9,
   "id": "b0ffb79b",
   "metadata": {
    "ExecuteTime": {
     "end_time": "2023-08-06T23:11:42.732132Z",
     "start_time": "2023-08-06T23:11:41.746982Z"
    }
   },
   "outputs": [
    {
     "data": {
      "text/plain": [
       "Name                True\n",
       "City                True\n",
       "State               True\n",
       "Bank                True\n",
       "BankState           True\n",
       "NewExist            True\n",
       "RevLineCr           True\n",
       "LowDoc              True\n",
       "ChgOffDate          True\n",
       "DisbursementDate    True\n",
       "MIS_Status          True\n",
       "dtype: bool"
      ]
     },
     "execution_count": 9,
     "metadata": {},
     "output_type": "execute_result"
    }
   ],
   "source": [
    "df.isna().any().loc[df.isna().any()]  # outputs all columns with null values"
   ]
  },
  {
   "cell_type": "markdown",
   "id": "71da687a",
   "metadata": {},
   "source": [
    "Before deleting the samples with null values in any row, we can figure out which columns are unimportant and therefore can be dropped.\n",
    "The columns that are unimportant from the ones that have null values are:\n",
    "* `Name`\n",
    "* `ChgOffDate`\n",
    "* `DisbursementDate` *(subject to change)*\n",
    "\n",
    "\n",
    "The columns that are unimportant even though they don't have null values are:\n",
    "* `LoanNr_ChkDgt`\n",
    "* `City` *(subject to change)*\n",
    "* `Bank`\n",
    "* `NAICS` *(subject to change)*\n",
    "* `CreateJob` *(subject to change)*\n",
    "* `RetainedJob` *(subject to change)*\n",
    "* `ChgOffPrinGr`\n",
    "* `RevLineCr` *(data was bad)*\n",
    "* `LowDoc` *(didn't include `RevLineCr`)*"
   ]
  },
  {
   "cell_type": "code",
   "execution_count": 10,
   "id": "bce6705c",
   "metadata": {
    "ExecuteTime": {
     "end_time": "2023-08-06T23:11:42.870985Z",
     "start_time": "2023-08-06T23:11:42.736231Z"
    }
   },
   "outputs": [],
   "source": [
    "# This cell removes the unwanted columns described above\n",
    "\n",
    "drop_columns = [\n",
    "    'Name', 'City', 'ChgOffDate', 'DisbursementDate',\n",
    "    'LoanNr_ChkDgt', 'Bank', 'NAICS',\n",
    "    'CreateJob', 'RetainedJob', 'ChgOffPrinGr',\n",
    "    'RevLineCr', 'LowDoc',\n",
    "]\n",
    "working_df = df.drop(columns=drop_columns)"
   ]
  },
  {
   "cell_type": "code",
   "execution_count": 11,
   "id": "9b49da7e",
   "metadata": {
    "ExecuteTime": {
     "end_time": "2023-08-06T23:11:42.914227Z",
     "start_time": "2023-08-06T23:11:42.874204Z"
    }
   },
   "outputs": [],
   "source": [
    "# makes the NewExist variable more intuitive\n",
    "# a value of 1 means the business is new\n",
    "# a value of 0 means the business is not new\n",
    "working_df['NewExist'] = working_df['NewExist'].replace({ 2:1, 1:0 })"
   ]
  },
  {
   "cell_type": "code",
   "execution_count": 12,
   "id": "73b00f48",
   "metadata": {
    "ExecuteTime": {
     "end_time": "2023-08-06T23:11:42.936110Z",
     "start_time": "2023-08-06T23:11:42.926873Z"
    }
   },
   "outputs": [
    {
     "data": {
      "text/plain": [
       "(899164, 15)"
      ]
     },
     "execution_count": 12,
     "metadata": {},
     "output_type": "execute_result"
    }
   ],
   "source": [
    "working_df.shape"
   ]
  },
  {
   "cell_type": "markdown",
   "id": "45eec643",
   "metadata": {},
   "source": [
    "With the unwanted columns removed, it is now possible to remove any sample with any null values included, while still retaining the largest number of samples possible."
   ]
  },
  {
   "cell_type": "code",
   "execution_count": 13,
   "id": "ed6fe1e8",
   "metadata": {
    "ExecuteTime": {
     "end_time": "2023-08-06T23:11:50.676734Z",
     "start_time": "2023-08-06T23:11:42.946362Z"
    }
   },
   "outputs": [
    {
     "name": "stdout",
     "output_type": "stream",
     "text": [
      "Removed null values from: State\n",
      "Removed null values from: Zip\n",
      "Removed null values from: BankState\n",
      "Removed null values from: ApprovalDate\n",
      "Removed null values from: ApprovalFY\n",
      "Removed null values from: Term\n",
      "Removed null values from: NoEmp\n",
      "Removed null values from: NewExist\n",
      "Removed null values from: FranchiseCode\n",
      "Removed null values from: UrbanRural\n",
      "Removed null values from: DisbursementGross\n",
      "Removed null values from: BalanceGross\n",
      "Removed null values from: MIS_Status\n",
      "Removed null values from: GrAppv\n",
      "Removed null values from: SBA_Appv\n"
     ]
    }
   ],
   "source": [
    "cols = list(working_df.columns)\n",
    "\n",
    "for col in cols:\n",
    "    rows_to_remove = []\n",
    "    nulled_col = list(working_df[col].isnull())\n",
    "    for i in range(len(nulled_col)):\n",
    "        if nulled_col[i] == True:\n",
    "            rows_to_remove.append(i)\n",
    "    rows_to_remove.sort(reverse=True)\n",
    "\n",
    "    working_df = working_df.drop(rows_to_remove)\n",
    "    working_df = working_df.reset_index(drop=True)\n",
    "\n",
    "    print('Removed null values from:', col)"
   ]
  },
  {
   "cell_type": "code",
   "execution_count": 14,
   "id": "87bc9034",
   "metadata": {
    "ExecuteTime": {
     "end_time": "2023-08-06T23:11:50.692493Z",
     "start_time": "2023-08-06T23:11:50.682227Z"
    }
   },
   "outputs": [
    {
     "data": {
      "text/plain": [
       "(895507, 15)"
      ]
     },
     "execution_count": 14,
     "metadata": {},
     "output_type": "execute_result"
    }
   ],
   "source": [
    "working_df.shape"
   ]
  },
  {
   "cell_type": "markdown",
   "id": "67a52a52",
   "metadata": {},
   "source": [
    "With no more null values remaining in the dataset, we still retain a large number of samples. The dataset is now trimmed to `895507` samples and `15` features, which is more than enough data."
   ]
  },
  {
   "cell_type": "markdown",
   "id": "5ff67185",
   "metadata": {},
   "source": [
    "### Prepping Data for Training"
   ]
  },
  {
   "cell_type": "markdown",
   "id": "34ea824b",
   "metadata": {},
   "source": [
    "Categorical variables, or variables that don't depend on a numerical value, can be label encoded such that all the different types of entries possible correspond to a numerical value."
   ]
  },
  {
   "cell_type": "code",
   "execution_count": 15,
   "id": "eb97b0b4",
   "metadata": {
    "ExecuteTime": {
     "end_time": "2023-08-06T23:11:50.910019Z",
     "start_time": "2023-08-06T23:11:50.700171Z"
    }
   },
   "outputs": [],
   "source": [
    "from sklearn.preprocessing import LabelEncoder"
   ]
  },
  {
   "cell_type": "markdown",
   "id": "41d6da39",
   "metadata": {},
   "source": [
    "The **MIS_Status** column has two values: `PIF` or `CHGOFF`, and label encoding can make each correspond to either a `0` or a `1`."
   ]
  },
  {
   "cell_type": "code",
   "execution_count": 16,
   "id": "65f3db5c",
   "metadata": {
    "ExecuteTime": {
     "end_time": "2023-08-06T23:11:51.193860Z",
     "start_time": "2023-08-06T23:11:50.916124Z"
    }
   },
   "outputs": [
    {
     "data": {
      "text/plain": [
       "array([1, 1, 1, ..., 1, 0, 1])"
      ]
     },
     "execution_count": 16,
     "metadata": {},
     "output_type": "execute_result"
    }
   ],
   "source": [
    "mis_label_encoder = LabelEncoder()\n",
    "mis_encoded = mis_label_encoder.fit_transform(working_df['MIS_Status'])\n",
    "mis_encoded"
   ]
  },
  {
   "cell_type": "code",
   "execution_count": 17,
   "id": "7a133806",
   "metadata": {
    "ExecuteTime": {
     "end_time": "2023-08-06T23:11:51.259122Z",
     "start_time": "2023-08-06T23:11:51.201635Z"
    }
   },
   "outputs": [
    {
     "data": {
      "text/plain": [
       "array(['P I F', 'P I F', 'P I F', ..., 'P I F', 'CHGOFF', 'P I F'],\n",
       "      dtype=object)"
      ]
     },
     "execution_count": 17,
     "metadata": {},
     "output_type": "execute_result"
    }
   ],
   "source": [
    "mis_label_encoder.inverse_transform(mis_encoded)"
   ]
  },
  {
   "cell_type": "code",
   "execution_count": 18,
   "id": "c1e96d5c",
   "metadata": {
    "ExecuteTime": {
     "end_time": "2023-08-06T23:11:51.343108Z",
     "start_time": "2023-08-06T23:11:51.265282Z"
    }
   },
   "outputs": [],
   "source": [
    "working_df['MIS_Status'] = mis_encoded"
   ]
  },
  {
   "cell_type": "code",
   "execution_count": 19,
   "id": "c7f6a249",
   "metadata": {
    "ExecuteTime": {
     "end_time": "2023-08-06T23:11:51.382657Z",
     "start_time": "2023-08-06T23:11:51.349351Z"
    }
   },
   "outputs": [
    {
     "data": {
      "text/html": [
       "<div>\n",
       "<style scoped>\n",
       "    .dataframe tbody tr th:only-of-type {\n",
       "        vertical-align: middle;\n",
       "    }\n",
       "\n",
       "    .dataframe tbody tr th {\n",
       "        vertical-align: top;\n",
       "    }\n",
       "\n",
       "    .dataframe thead th {\n",
       "        text-align: right;\n",
       "    }\n",
       "</style>\n",
       "<table border=\"1\" class=\"dataframe\">\n",
       "  <thead>\n",
       "    <tr style=\"text-align: right;\">\n",
       "      <th></th>\n",
       "      <th>State</th>\n",
       "      <th>Zip</th>\n",
       "      <th>BankState</th>\n",
       "      <th>ApprovalDate</th>\n",
       "      <th>ApprovalFY</th>\n",
       "      <th>Term</th>\n",
       "      <th>NoEmp</th>\n",
       "      <th>NewExist</th>\n",
       "      <th>FranchiseCode</th>\n",
       "      <th>UrbanRural</th>\n",
       "      <th>DisbursementGross</th>\n",
       "      <th>BalanceGross</th>\n",
       "      <th>MIS_Status</th>\n",
       "      <th>GrAppv</th>\n",
       "      <th>SBA_Appv</th>\n",
       "    </tr>\n",
       "  </thead>\n",
       "  <tbody>\n",
       "    <tr>\n",
       "      <th>0</th>\n",
       "      <td>IN</td>\n",
       "      <td>47</td>\n",
       "      <td>OH</td>\n",
       "      <td>1997-02-28</td>\n",
       "      <td>1997</td>\n",
       "      <td>84</td>\n",
       "      <td>4</td>\n",
       "      <td>1.0</td>\n",
       "      <td>0</td>\n",
       "      <td>0</td>\n",
       "      <td>60000.0</td>\n",
       "      <td>0.0</td>\n",
       "      <td>1</td>\n",
       "      <td>60000.0</td>\n",
       "      <td>48000.0</td>\n",
       "    </tr>\n",
       "    <tr>\n",
       "      <th>1</th>\n",
       "      <td>IN</td>\n",
       "      <td>46</td>\n",
       "      <td>IN</td>\n",
       "      <td>1997-02-28</td>\n",
       "      <td>1997</td>\n",
       "      <td>60</td>\n",
       "      <td>2</td>\n",
       "      <td>1.0</td>\n",
       "      <td>0</td>\n",
       "      <td>0</td>\n",
       "      <td>40000.0</td>\n",
       "      <td>0.0</td>\n",
       "      <td>1</td>\n",
       "      <td>40000.0</td>\n",
       "      <td>32000.0</td>\n",
       "    </tr>\n",
       "    <tr>\n",
       "      <th>2</th>\n",
       "      <td>IN</td>\n",
       "      <td>47</td>\n",
       "      <td>IN</td>\n",
       "      <td>1997-02-28</td>\n",
       "      <td>1997</td>\n",
       "      <td>180</td>\n",
       "      <td>7</td>\n",
       "      <td>0.0</td>\n",
       "      <td>0</td>\n",
       "      <td>0</td>\n",
       "      <td>287000.0</td>\n",
       "      <td>0.0</td>\n",
       "      <td>1</td>\n",
       "      <td>287000.0</td>\n",
       "      <td>215250.0</td>\n",
       "    </tr>\n",
       "    <tr>\n",
       "      <th>3</th>\n",
       "      <td>OK</td>\n",
       "      <td>74</td>\n",
       "      <td>OK</td>\n",
       "      <td>1997-02-28</td>\n",
       "      <td>1997</td>\n",
       "      <td>60</td>\n",
       "      <td>2</td>\n",
       "      <td>0.0</td>\n",
       "      <td>0</td>\n",
       "      <td>0</td>\n",
       "      <td>35000.0</td>\n",
       "      <td>0.0</td>\n",
       "      <td>1</td>\n",
       "      <td>35000.0</td>\n",
       "      <td>28000.0</td>\n",
       "    </tr>\n",
       "    <tr>\n",
       "      <th>4</th>\n",
       "      <td>FL</td>\n",
       "      <td>32</td>\n",
       "      <td>FL</td>\n",
       "      <td>1997-02-28</td>\n",
       "      <td>1997</td>\n",
       "      <td>240</td>\n",
       "      <td>14</td>\n",
       "      <td>0.0</td>\n",
       "      <td>0</td>\n",
       "      <td>0</td>\n",
       "      <td>229000.0</td>\n",
       "      <td>0.0</td>\n",
       "      <td>1</td>\n",
       "      <td>229000.0</td>\n",
       "      <td>229000.0</td>\n",
       "    </tr>\n",
       "  </tbody>\n",
       "</table>\n",
       "</div>"
      ],
      "text/plain": [
       "  State Zip BankState ApprovalDate ApprovalFY  Term  NoEmp  NewExist  \\\n",
       "0    IN  47        OH   1997-02-28       1997    84      4       1.0   \n",
       "1    IN  46        IN   1997-02-28       1997    60      2       1.0   \n",
       "2    IN  47        IN   1997-02-28       1997   180      7       0.0   \n",
       "3    OK  74        OK   1997-02-28       1997    60      2       0.0   \n",
       "4    FL  32        FL   1997-02-28       1997   240     14       0.0   \n",
       "\n",
       "   FranchiseCode  UrbanRural  DisbursementGross  BalanceGross  MIS_Status  \\\n",
       "0              0           0            60000.0           0.0           1   \n",
       "1              0           0            40000.0           0.0           1   \n",
       "2              0           0           287000.0           0.0           1   \n",
       "3              0           0            35000.0           0.0           1   \n",
       "4              0           0           229000.0           0.0           1   \n",
       "\n",
       "     GrAppv  SBA_Appv  \n",
       "0   60000.0   48000.0  \n",
       "1   40000.0   32000.0  \n",
       "2  287000.0  215250.0  \n",
       "3   35000.0   28000.0  \n",
       "4  229000.0  229000.0  "
      ]
     },
     "execution_count": 19,
     "metadata": {},
     "output_type": "execute_result"
    }
   ],
   "source": [
    "working_df.head()"
   ]
  },
  {
   "cell_type": "markdown",
   "id": "4953202e",
   "metadata": {},
   "source": [
    "The **NewExist** column can be **one-hot encoded**. This means that out of the NewExist column, we get two columns, each containing binary information of `True` or `False`. For the **NewExistTrue** column, it will contain the value of `True` when a business is new and a value of `False` when it isn't. The **NewExistFalse** column is essentially the inverse."
   ]
  },
  {
   "cell_type": "code",
   "execution_count": 20,
   "id": "9d593234",
   "metadata": {
    "ExecuteTime": {
     "end_time": "2023-08-06T23:11:51.405001Z",
     "start_time": "2023-08-06T23:11:51.386234Z"
    }
   },
   "outputs": [],
   "source": [
    "new_exist_true = working_df['NewExist'] == 1\n",
    "new_exist_false = working_df['NewExist'] == 0"
   ]
  },
  {
   "cell_type": "code",
   "execution_count": 21,
   "id": "5f3722a8",
   "metadata": {
    "ExecuteTime": {
     "end_time": "2023-08-06T23:11:51.555933Z",
     "start_time": "2023-08-06T23:11:51.410034Z"
    }
   },
   "outputs": [
    {
     "data": {
      "text/html": [
       "<div>\n",
       "<style scoped>\n",
       "    .dataframe tbody tr th:only-of-type {\n",
       "        vertical-align: middle;\n",
       "    }\n",
       "\n",
       "    .dataframe tbody tr th {\n",
       "        vertical-align: top;\n",
       "    }\n",
       "\n",
       "    .dataframe thead th {\n",
       "        text-align: right;\n",
       "    }\n",
       "</style>\n",
       "<table border=\"1\" class=\"dataframe\">\n",
       "  <thead>\n",
       "    <tr style=\"text-align: right;\">\n",
       "      <th></th>\n",
       "      <th>State</th>\n",
       "      <th>Zip</th>\n",
       "      <th>BankState</th>\n",
       "      <th>ApprovalDate</th>\n",
       "      <th>ApprovalFY</th>\n",
       "      <th>Term</th>\n",
       "      <th>NoEmp</th>\n",
       "      <th>FranchiseCode</th>\n",
       "      <th>UrbanRural</th>\n",
       "      <th>DisbursementGross</th>\n",
       "      <th>BalanceGross</th>\n",
       "      <th>MIS_Status</th>\n",
       "      <th>GrAppv</th>\n",
       "      <th>SBA_Appv</th>\n",
       "      <th>NewExistTrue</th>\n",
       "      <th>NewExistFalse</th>\n",
       "    </tr>\n",
       "  </thead>\n",
       "  <tbody>\n",
       "    <tr>\n",
       "      <th>0</th>\n",
       "      <td>IN</td>\n",
       "      <td>47</td>\n",
       "      <td>OH</td>\n",
       "      <td>1997-02-28</td>\n",
       "      <td>1997</td>\n",
       "      <td>84</td>\n",
       "      <td>4</td>\n",
       "      <td>0</td>\n",
       "      <td>0</td>\n",
       "      <td>60000.0</td>\n",
       "      <td>0.0</td>\n",
       "      <td>1</td>\n",
       "      <td>60000.0</td>\n",
       "      <td>48000.0</td>\n",
       "      <td>True</td>\n",
       "      <td>False</td>\n",
       "    </tr>\n",
       "    <tr>\n",
       "      <th>1</th>\n",
       "      <td>IN</td>\n",
       "      <td>46</td>\n",
       "      <td>IN</td>\n",
       "      <td>1997-02-28</td>\n",
       "      <td>1997</td>\n",
       "      <td>60</td>\n",
       "      <td>2</td>\n",
       "      <td>0</td>\n",
       "      <td>0</td>\n",
       "      <td>40000.0</td>\n",
       "      <td>0.0</td>\n",
       "      <td>1</td>\n",
       "      <td>40000.0</td>\n",
       "      <td>32000.0</td>\n",
       "      <td>True</td>\n",
       "      <td>False</td>\n",
       "    </tr>\n",
       "    <tr>\n",
       "      <th>2</th>\n",
       "      <td>IN</td>\n",
       "      <td>47</td>\n",
       "      <td>IN</td>\n",
       "      <td>1997-02-28</td>\n",
       "      <td>1997</td>\n",
       "      <td>180</td>\n",
       "      <td>7</td>\n",
       "      <td>0</td>\n",
       "      <td>0</td>\n",
       "      <td>287000.0</td>\n",
       "      <td>0.0</td>\n",
       "      <td>1</td>\n",
       "      <td>287000.0</td>\n",
       "      <td>215250.0</td>\n",
       "      <td>False</td>\n",
       "      <td>True</td>\n",
       "    </tr>\n",
       "    <tr>\n",
       "      <th>3</th>\n",
       "      <td>OK</td>\n",
       "      <td>74</td>\n",
       "      <td>OK</td>\n",
       "      <td>1997-02-28</td>\n",
       "      <td>1997</td>\n",
       "      <td>60</td>\n",
       "      <td>2</td>\n",
       "      <td>0</td>\n",
       "      <td>0</td>\n",
       "      <td>35000.0</td>\n",
       "      <td>0.0</td>\n",
       "      <td>1</td>\n",
       "      <td>35000.0</td>\n",
       "      <td>28000.0</td>\n",
       "      <td>False</td>\n",
       "      <td>True</td>\n",
       "    </tr>\n",
       "    <tr>\n",
       "      <th>4</th>\n",
       "      <td>FL</td>\n",
       "      <td>32</td>\n",
       "      <td>FL</td>\n",
       "      <td>1997-02-28</td>\n",
       "      <td>1997</td>\n",
       "      <td>240</td>\n",
       "      <td>14</td>\n",
       "      <td>0</td>\n",
       "      <td>0</td>\n",
       "      <td>229000.0</td>\n",
       "      <td>0.0</td>\n",
       "      <td>1</td>\n",
       "      <td>229000.0</td>\n",
       "      <td>229000.0</td>\n",
       "      <td>False</td>\n",
       "      <td>True</td>\n",
       "    </tr>\n",
       "  </tbody>\n",
       "</table>\n",
       "</div>"
      ],
      "text/plain": [
       "  State Zip BankState ApprovalDate ApprovalFY  Term  NoEmp  FranchiseCode  \\\n",
       "0    IN  47        OH   1997-02-28       1997    84      4              0   \n",
       "1    IN  46        IN   1997-02-28       1997    60      2              0   \n",
       "2    IN  47        IN   1997-02-28       1997   180      7              0   \n",
       "3    OK  74        OK   1997-02-28       1997    60      2              0   \n",
       "4    FL  32        FL   1997-02-28       1997   240     14              0   \n",
       "\n",
       "   UrbanRural  DisbursementGross  BalanceGross  MIS_Status    GrAppv  \\\n",
       "0           0            60000.0           0.0           1   60000.0   \n",
       "1           0            40000.0           0.0           1   40000.0   \n",
       "2           0           287000.0           0.0           1  287000.0   \n",
       "3           0            35000.0           0.0           1   35000.0   \n",
       "4           0           229000.0           0.0           1  229000.0   \n",
       "\n",
       "   SBA_Appv  NewExistTrue  NewExistFalse  \n",
       "0   48000.0          True          False  \n",
       "1   32000.0          True          False  \n",
       "2  215250.0         False           True  \n",
       "3   28000.0         False           True  \n",
       "4  229000.0         False           True  "
      ]
     },
     "execution_count": 21,
     "metadata": {},
     "output_type": "execute_result"
    }
   ],
   "source": [
    "working_df['NewExistTrue'] = new_exist_true\n",
    "working_df['NewExistFalse'] = new_exist_false\n",
    "working_df = working_df.drop(columns=['NewExist'])\n",
    "working_df.head()"
   ]
  },
  {
   "cell_type": "markdown",
   "id": "9ed321c9",
   "metadata": {},
   "source": [
    "We can separate the date information within **ApprovalData** into separate columns, one for the month, one for the year, and one for the day."
   ]
  },
  {
   "cell_type": "code",
   "execution_count": 22,
   "id": "4ea8e550",
   "metadata": {
    "ExecuteTime": {
     "end_time": "2023-08-06T23:11:51.681384Z",
     "start_time": "2023-08-06T23:11:51.559930Z"
    }
   },
   "outputs": [],
   "source": [
    "approval_date_months = working_df['ApprovalDate'].dt.month\n",
    "approval_date_days = working_df['ApprovalDate'].dt.day"
   ]
  },
  {
   "cell_type": "code",
   "execution_count": 23,
   "id": "01ae86e9",
   "metadata": {
    "ExecuteTime": {
     "end_time": "2023-08-06T23:11:51.889887Z",
     "start_time": "2023-08-06T23:11:51.693036Z"
    }
   },
   "outputs": [],
   "source": [
    "working_df['ApprovalMonth'] = approval_date_months\n",
    "working_df['ApprovalDay'] = approval_date_days\n",
    "working_df = working_df.drop(columns=['ApprovalDate'])"
   ]
  },
  {
   "cell_type": "markdown",
   "id": "c50b3a92",
   "metadata": {},
   "source": [
    "The following piece of code is a fix for a problem within the dataset. One of the entries for the year is `1976A` instead of `1976`. This just fixes that."
   ]
  },
  {
   "cell_type": "code",
   "execution_count": 24,
   "id": "bfa5c251",
   "metadata": {
    "ExecuteTime": {
     "end_time": "2023-08-06T23:11:52.417391Z",
     "start_time": "2023-08-06T23:11:51.898827Z"
    }
   },
   "outputs": [],
   "source": [
    "approval_years = []\n",
    "for date in working_df['ApprovalFY']:\n",
    "    if date == '1976A':\n",
    "        approval_years.append(1976)\n",
    "    else:\n",
    "        approval_years.append(int(date))\n",
    "\n",
    "working_df['ApprovalFY'] = np.array(approval_years).astype(np.int64)"
   ]
  },
  {
   "cell_type": "markdown",
   "id": "573da509",
   "metadata": {},
   "source": [
    "Since the **State** and **BankState** column both have textual information that have 51 possibilities, they have to be encoded in a numerical value and this is the perfect use case for label encoding. It maps each of the 51 states/territories to a specific number."
   ]
  },
  {
   "cell_type": "code",
   "execution_count": 25,
   "id": "d1e255cc",
   "metadata": {
    "ExecuteTime": {
     "end_time": "2023-08-06T23:11:52.636048Z",
     "start_time": "2023-08-06T23:11:52.420266Z"
    }
   },
   "outputs": [
    {
     "data": {
      "text/plain": [
       "51"
      ]
     },
     "execution_count": 25,
     "metadata": {},
     "output_type": "execute_result"
    }
   ],
   "source": [
    "len(working_df.State.unique())"
   ]
  },
  {
   "cell_type": "code",
   "execution_count": 26,
   "id": "4229cc0e",
   "metadata": {
    "ExecuteTime": {
     "end_time": "2023-08-06T23:11:53.211480Z",
     "start_time": "2023-08-06T23:11:52.644233Z"
    }
   },
   "outputs": [],
   "source": [
    "state_label_encoder = LabelEncoder()\n",
    "state_encoded = state_label_encoder.fit_transform(working_df['State'])\n",
    "bank_state_encoded = state_label_encoder.fit_transform(working_df['BankState'])"
   ]
  },
  {
   "cell_type": "code",
   "execution_count": 27,
   "id": "a44b9db9",
   "metadata": {
    "ExecuteTime": {
     "end_time": "2023-08-06T23:11:53.301778Z",
     "start_time": "2023-08-06T23:11:53.214525Z"
    }
   },
   "outputs": [],
   "source": [
    "working_df['State'] = state_encoded\n",
    "working_df['BankState'] = bank_state_encoded"
   ]
  },
  {
   "cell_type": "markdown",
   "id": "558133f4",
   "metadata": {},
   "source": [
    "The **Zip** column contains numeric data in a string format. For the model to actually understand the data, it is imperative that the string format is converted to a numerical format."
   ]
  },
  {
   "cell_type": "code",
   "execution_count": 28,
   "id": "1a623afa",
   "metadata": {
    "ExecuteTime": {
     "end_time": "2023-08-06T23:11:54.100994Z",
     "start_time": "2023-08-06T23:11:53.304830Z"
    }
   },
   "outputs": [],
   "source": [
    "working_df['Zip'] = pd.to_numeric(working_df['Zip'])"
   ]
  },
  {
   "cell_type": "code",
   "execution_count": 29,
   "id": "afbb3e5a",
   "metadata": {
    "ExecuteTime": {
     "end_time": "2023-08-06T23:11:54.184933Z",
     "start_time": "2023-08-06T23:11:54.111743Z"
    }
   },
   "outputs": [
    {
     "data": {
      "text/html": [
       "<div>\n",
       "<style scoped>\n",
       "    .dataframe tbody tr th:only-of-type {\n",
       "        vertical-align: middle;\n",
       "    }\n",
       "\n",
       "    .dataframe tbody tr th {\n",
       "        vertical-align: top;\n",
       "    }\n",
       "\n",
       "    .dataframe thead th {\n",
       "        text-align: right;\n",
       "    }\n",
       "</style>\n",
       "<table border=\"1\" class=\"dataframe\">\n",
       "  <thead>\n",
       "    <tr style=\"text-align: right;\">\n",
       "      <th></th>\n",
       "      <th>State</th>\n",
       "      <th>Zip</th>\n",
       "      <th>BankState</th>\n",
       "      <th>ApprovalFY</th>\n",
       "      <th>Term</th>\n",
       "      <th>NoEmp</th>\n",
       "      <th>FranchiseCode</th>\n",
       "      <th>UrbanRural</th>\n",
       "      <th>DisbursementGross</th>\n",
       "      <th>BalanceGross</th>\n",
       "      <th>MIS_Status</th>\n",
       "      <th>GrAppv</th>\n",
       "      <th>SBA_Appv</th>\n",
       "      <th>NewExistTrue</th>\n",
       "      <th>NewExistFalse</th>\n",
       "      <th>ApprovalMonth</th>\n",
       "      <th>ApprovalDay</th>\n",
       "    </tr>\n",
       "  </thead>\n",
       "  <tbody>\n",
       "    <tr>\n",
       "      <th>0</th>\n",
       "      <td>15</td>\n",
       "      <td>47</td>\n",
       "      <td>38</td>\n",
       "      <td>1997</td>\n",
       "      <td>84</td>\n",
       "      <td>4</td>\n",
       "      <td>0</td>\n",
       "      <td>0</td>\n",
       "      <td>60000.0</td>\n",
       "      <td>0.0</td>\n",
       "      <td>1</td>\n",
       "      <td>60000.0</td>\n",
       "      <td>48000.0</td>\n",
       "      <td>True</td>\n",
       "      <td>False</td>\n",
       "      <td>2</td>\n",
       "      <td>28</td>\n",
       "    </tr>\n",
       "    <tr>\n",
       "      <th>1</th>\n",
       "      <td>15</td>\n",
       "      <td>46</td>\n",
       "      <td>18</td>\n",
       "      <td>1997</td>\n",
       "      <td>60</td>\n",
       "      <td>2</td>\n",
       "      <td>0</td>\n",
       "      <td>0</td>\n",
       "      <td>40000.0</td>\n",
       "      <td>0.0</td>\n",
       "      <td>1</td>\n",
       "      <td>40000.0</td>\n",
       "      <td>32000.0</td>\n",
       "      <td>True</td>\n",
       "      <td>False</td>\n",
       "      <td>2</td>\n",
       "      <td>28</td>\n",
       "    </tr>\n",
       "    <tr>\n",
       "      <th>2</th>\n",
       "      <td>15</td>\n",
       "      <td>47</td>\n",
       "      <td>18</td>\n",
       "      <td>1997</td>\n",
       "      <td>180</td>\n",
       "      <td>7</td>\n",
       "      <td>0</td>\n",
       "      <td>0</td>\n",
       "      <td>287000.0</td>\n",
       "      <td>0.0</td>\n",
       "      <td>1</td>\n",
       "      <td>287000.0</td>\n",
       "      <td>215250.0</td>\n",
       "      <td>False</td>\n",
       "      <td>True</td>\n",
       "      <td>2</td>\n",
       "      <td>28</td>\n",
       "    </tr>\n",
       "    <tr>\n",
       "      <th>3</th>\n",
       "      <td>36</td>\n",
       "      <td>74</td>\n",
       "      <td>39</td>\n",
       "      <td>1997</td>\n",
       "      <td>60</td>\n",
       "      <td>2</td>\n",
       "      <td>0</td>\n",
       "      <td>0</td>\n",
       "      <td>35000.0</td>\n",
       "      <td>0.0</td>\n",
       "      <td>1</td>\n",
       "      <td>35000.0</td>\n",
       "      <td>28000.0</td>\n",
       "      <td>False</td>\n",
       "      <td>True</td>\n",
       "      <td>2</td>\n",
       "      <td>28</td>\n",
       "    </tr>\n",
       "    <tr>\n",
       "      <th>4</th>\n",
       "      <td>9</td>\n",
       "      <td>32</td>\n",
       "      <td>11</td>\n",
       "      <td>1997</td>\n",
       "      <td>240</td>\n",
       "      <td>14</td>\n",
       "      <td>0</td>\n",
       "      <td>0</td>\n",
       "      <td>229000.0</td>\n",
       "      <td>0.0</td>\n",
       "      <td>1</td>\n",
       "      <td>229000.0</td>\n",
       "      <td>229000.0</td>\n",
       "      <td>False</td>\n",
       "      <td>True</td>\n",
       "      <td>2</td>\n",
       "      <td>28</td>\n",
       "    </tr>\n",
       "    <tr>\n",
       "      <th>...</th>\n",
       "      <td>...</td>\n",
       "      <td>...</td>\n",
       "      <td>...</td>\n",
       "      <td>...</td>\n",
       "      <td>...</td>\n",
       "      <td>...</td>\n",
       "      <td>...</td>\n",
       "      <td>...</td>\n",
       "      <td>...</td>\n",
       "      <td>...</td>\n",
       "      <td>...</td>\n",
       "      <td>...</td>\n",
       "      <td>...</td>\n",
       "      <td>...</td>\n",
       "      <td>...</td>\n",
       "      <td>...</td>\n",
       "      <td>...</td>\n",
       "    </tr>\n",
       "    <tr>\n",
       "      <th>895502</th>\n",
       "      <td>35</td>\n",
       "      <td>43</td>\n",
       "      <td>17</td>\n",
       "      <td>1997</td>\n",
       "      <td>60</td>\n",
       "      <td>6</td>\n",
       "      <td>0</td>\n",
       "      <td>0</td>\n",
       "      <td>70000.0</td>\n",
       "      <td>0.0</td>\n",
       "      <td>1</td>\n",
       "      <td>70000.0</td>\n",
       "      <td>56000.0</td>\n",
       "      <td>False</td>\n",
       "      <td>True</td>\n",
       "      <td>2</td>\n",
       "      <td>27</td>\n",
       "    </tr>\n",
       "    <tr>\n",
       "      <th>895503</th>\n",
       "      <td>35</td>\n",
       "      <td>43</td>\n",
       "      <td>17</td>\n",
       "      <td>1997</td>\n",
       "      <td>60</td>\n",
       "      <td>6</td>\n",
       "      <td>0</td>\n",
       "      <td>0</td>\n",
       "      <td>85000.0</td>\n",
       "      <td>0.0</td>\n",
       "      <td>1</td>\n",
       "      <td>85000.0</td>\n",
       "      <td>42500.0</td>\n",
       "      <td>False</td>\n",
       "      <td>True</td>\n",
       "      <td>2</td>\n",
       "      <td>27</td>\n",
       "    </tr>\n",
       "    <tr>\n",
       "      <th>895504</th>\n",
       "      <td>4</td>\n",
       "      <td>93</td>\n",
       "      <td>5</td>\n",
       "      <td>1997</td>\n",
       "      <td>108</td>\n",
       "      <td>26</td>\n",
       "      <td>0</td>\n",
       "      <td>0</td>\n",
       "      <td>300000.0</td>\n",
       "      <td>0.0</td>\n",
       "      <td>1</td>\n",
       "      <td>300000.0</td>\n",
       "      <td>225000.0</td>\n",
       "      <td>False</td>\n",
       "      <td>True</td>\n",
       "      <td>2</td>\n",
       "      <td>27</td>\n",
       "    </tr>\n",
       "    <tr>\n",
       "      <th>895505</th>\n",
       "      <td>11</td>\n",
       "      <td>96</td>\n",
       "      <td>14</td>\n",
       "      <td>1997</td>\n",
       "      <td>60</td>\n",
       "      <td>6</td>\n",
       "      <td>0</td>\n",
       "      <td>0</td>\n",
       "      <td>75000.0</td>\n",
       "      <td>0.0</td>\n",
       "      <td>0</td>\n",
       "      <td>75000.0</td>\n",
       "      <td>60000.0</td>\n",
       "      <td>False</td>\n",
       "      <td>True</td>\n",
       "      <td>2</td>\n",
       "      <td>27</td>\n",
       "    </tr>\n",
       "    <tr>\n",
       "      <th>895506</th>\n",
       "      <td>11</td>\n",
       "      <td>96</td>\n",
       "      <td>14</td>\n",
       "      <td>1997</td>\n",
       "      <td>48</td>\n",
       "      <td>1</td>\n",
       "      <td>0</td>\n",
       "      <td>0</td>\n",
       "      <td>30000.0</td>\n",
       "      <td>0.0</td>\n",
       "      <td>1</td>\n",
       "      <td>30000.0</td>\n",
       "      <td>24000.0</td>\n",
       "      <td>True</td>\n",
       "      <td>False</td>\n",
       "      <td>2</td>\n",
       "      <td>27</td>\n",
       "    </tr>\n",
       "  </tbody>\n",
       "</table>\n",
       "<p>895507 rows × 17 columns</p>\n",
       "</div>"
      ],
      "text/plain": [
       "        State  Zip  BankState  ApprovalFY  Term  NoEmp  FranchiseCode  \\\n",
       "0          15   47         38        1997    84      4              0   \n",
       "1          15   46         18        1997    60      2              0   \n",
       "2          15   47         18        1997   180      7              0   \n",
       "3          36   74         39        1997    60      2              0   \n",
       "4           9   32         11        1997   240     14              0   \n",
       "...       ...  ...        ...         ...   ...    ...            ...   \n",
       "895502     35   43         17        1997    60      6              0   \n",
       "895503     35   43         17        1997    60      6              0   \n",
       "895504      4   93          5        1997   108     26              0   \n",
       "895505     11   96         14        1997    60      6              0   \n",
       "895506     11   96         14        1997    48      1              0   \n",
       "\n",
       "        UrbanRural  DisbursementGross  BalanceGross  MIS_Status    GrAppv  \\\n",
       "0                0            60000.0           0.0           1   60000.0   \n",
       "1                0            40000.0           0.0           1   40000.0   \n",
       "2                0           287000.0           0.0           1  287000.0   \n",
       "3                0            35000.0           0.0           1   35000.0   \n",
       "4                0           229000.0           0.0           1  229000.0   \n",
       "...            ...                ...           ...         ...       ...   \n",
       "895502           0            70000.0           0.0           1   70000.0   \n",
       "895503           0            85000.0           0.0           1   85000.0   \n",
       "895504           0           300000.0           0.0           1  300000.0   \n",
       "895505           0            75000.0           0.0           0   75000.0   \n",
       "895506           0            30000.0           0.0           1   30000.0   \n",
       "\n",
       "        SBA_Appv  NewExistTrue  NewExistFalse  ApprovalMonth  ApprovalDay  \n",
       "0        48000.0          True          False              2           28  \n",
       "1        32000.0          True          False              2           28  \n",
       "2       215250.0         False           True              2           28  \n",
       "3        28000.0         False           True              2           28  \n",
       "4       229000.0         False           True              2           28  \n",
       "...          ...           ...            ...            ...          ...  \n",
       "895502   56000.0         False           True              2           27  \n",
       "895503   42500.0         False           True              2           27  \n",
       "895504  225000.0         False           True              2           27  \n",
       "895505   60000.0         False           True              2           27  \n",
       "895506   24000.0          True          False              2           27  \n",
       "\n",
       "[895507 rows x 17 columns]"
      ]
     },
     "execution_count": 29,
     "metadata": {},
     "output_type": "execute_result"
    }
   ],
   "source": [
    "working_df"
   ]
  },
  {
   "cell_type": "markdown",
   "id": "b844b5cf",
   "metadata": {},
   "source": [
    "The final version of the dataset with all the tweaks is shown above. It accounts for null values, string data label encoded."
   ]
  },
  {
   "cell_type": "markdown",
   "id": "081cc084",
   "metadata": {},
   "source": [
    "### Data Split"
   ]
  },
  {
   "cell_type": "markdown",
   "id": "69f50f43",
   "metadata": {},
   "source": [
    "In order to train the machine learning model, it is important to have both training data and testing data, so that you know your model has not just memorized the training data. We can use the **sklearn** module's `train_test_split` function to create a split with ease."
   ]
  },
  {
   "cell_type": "code",
   "execution_count": 30,
   "id": "3ac09045",
   "metadata": {
    "ExecuteTime": {
     "end_time": "2023-08-06T23:11:54.283040Z",
     "start_time": "2023-08-06T23:11:54.193574Z"
    }
   },
   "outputs": [],
   "source": [
    "from sklearn.model_selection import train_test_split"
   ]
  },
  {
   "cell_type": "markdown",
   "id": "c115c564",
   "metadata": {},
   "source": [
    "First we separate the training features and the target column into the variables `X` and `y`, respectively."
   ]
  },
  {
   "cell_type": "code",
   "execution_count": 31,
   "id": "f3ad3a9a",
   "metadata": {
    "ExecuteTime": {
     "end_time": "2023-08-06T23:11:54.687725Z",
     "start_time": "2023-08-06T23:11:54.286593Z"
    }
   },
   "outputs": [],
   "source": [
    "X = working_df.drop(columns=['MIS_Status'])\n",
    "y = working_df['MIS_Status']"
   ]
  },
  {
   "cell_type": "code",
   "execution_count": 32,
   "id": "88929ff5",
   "metadata": {
    "ExecuteTime": {
     "end_time": "2023-08-06T23:11:55.343075Z",
     "start_time": "2023-08-06T23:11:54.691617Z"
    }
   },
   "outputs": [],
   "source": [
    "X_train, X_test, y_train, y_test = train_test_split(X, y, test_size=0.2, random_state=42)"
   ]
  },
  {
   "cell_type": "code",
   "execution_count": 33,
   "id": "9fa6b828",
   "metadata": {
    "ExecuteTime": {
     "end_time": "2023-08-06T23:11:56.675193Z",
     "start_time": "2023-08-06T23:11:55.345978Z"
    }
   },
   "outputs": [],
   "source": [
    "# Converting the data to arrays makes the final models easier to use for predictions.\n",
    "X_train = np.array(X_train)\n",
    "X_test = np.array(X_test)\n",
    "y_train = np.array(y_train)\n",
    "y_test = np.array(y_test)"
   ]
  },
  {
   "cell_type": "markdown",
   "id": "1b042d76",
   "metadata": {},
   "source": [
    "# Training Models"
   ]
  },
  {
   "cell_type": "markdown",
   "id": "6a4532de",
   "metadata": {},
   "source": [
    "### Random Forest"
   ]
  },
  {
   "cell_type": "code",
   "execution_count": 34,
   "id": "fa14625a",
   "metadata": {
    "ExecuteTime": {
     "end_time": "2023-08-06T23:11:57.286683Z",
     "start_time": "2023-08-06T23:11:56.731619Z"
    }
   },
   "outputs": [],
   "source": [
    "from sklearn.ensemble import RandomForestClassifier"
   ]
  },
  {
   "cell_type": "code",
   "execution_count": 35,
   "id": "819bfe13",
   "metadata": {
    "ExecuteTime": {
     "end_time": "2023-08-06T23:14:48.444380Z",
     "start_time": "2023-08-06T23:11:57.290142Z"
    }
   },
   "outputs": [
    {
     "name": "stderr",
     "output_type": "stream",
     "text": [
      "[Parallel(n_jobs=-1)]: Using backend ThreadingBackend with 4 concurrent workers.\n"
     ]
    },
    {
     "name": "stdout",
     "output_type": "stream",
     "text": [
      "building tree 1 of 100building tree 2 of 100\n",
      "building tree 3 of 100\n",
      "building tree 4 of 100\n",
      "\n",
      "building tree 5 of 100\n",
      "building tree 6 of 100\n",
      "building tree 7 of 100\n",
      "building tree 8 of 100\n",
      "building tree 9 of 100\n",
      "building tree 10 of 100\n",
      "building tree 11 of 100\n",
      "building tree 12 of 100\n",
      "building tree 13 of 100\n",
      "building tree 14 of 100\n",
      "building tree 15 of 100\n",
      "building tree 16 of 100\n",
      "building tree 17 of 100\n",
      "building tree 18 of 100\n",
      "building tree 19 of 100\n",
      "building tree 20 of 100\n",
      "building tree 21 of 100\n",
      "building tree 22 of 100\n",
      "building tree 23 of 100\n",
      "building tree 24 of 100\n",
      "building tree 25 of 100\n",
      "building tree 26 of 100\n",
      "building tree 27 of 100\n",
      "building tree 28 of 100\n",
      "building tree 29 of 100\n",
      "building tree 30 of 100\n",
      "building tree 31 of 100\n",
      "building tree 32 of 100\n",
      "building tree 33 of 100\n",
      "building tree 34 of 100\n",
      "building tree 35 of 100\n",
      "building tree 36 of 100\n"
     ]
    },
    {
     "name": "stderr",
     "output_type": "stream",
     "text": [
      "[Parallel(n_jobs=-1)]: Done  33 tasks      | elapsed:  1.0min\n"
     ]
    },
    {
     "name": "stdout",
     "output_type": "stream",
     "text": [
      "building tree 37 of 100\n",
      "building tree 38 of 100\n",
      "building tree 39 of 100\n",
      "building tree 40 of 100\n",
      "building tree 41 of 100\n",
      "building tree 42 of 100\n",
      "building tree 43 of 100\n",
      "building tree 44 of 100\n",
      "building tree 45 of 100\n",
      "building tree 46 of 100\n",
      "building tree 47 of 100\n",
      "building tree 48 of 100\n",
      "building tree 49 of 100\n",
      "building tree 50 of 100\n",
      "building tree 51 of 100\n",
      "building tree 52 of 100\n",
      "building tree 53 of 100\n",
      "building tree 54 of 100\n",
      "building tree 55 of 100\n",
      "building tree 56 of 100\n",
      "building tree 57 of 100\n",
      "building tree 58 of 100\n",
      "building tree 59 of 100\n",
      "building tree 60 of 100\n",
      "building tree 61 of 100\n",
      "building tree 62 of 100\n",
      "building tree 63 of 100\n",
      "building tree 64 of 100\n",
      "building tree 65 of 100\n",
      "building tree 66 of 100\n",
      "building tree 67 of 100\n",
      "building tree 68 of 100\n",
      "building tree 69 of 100building tree 70 of 100\n",
      "\n",
      "building tree 71 of 100\n",
      "building tree 72 of 100\n",
      "building tree 73 of 100\n",
      "building tree 74 of 100\n",
      "building tree 75 of 100\n",
      "building tree 76 of 100\n",
      "building tree 77 of 100\n",
      "building tree 78 of 100\n",
      "building tree 79 of 100\n",
      "building tree 80 of 100\n",
      "building tree 81 of 100\n",
      "building tree 82 of 100\n",
      "building tree 83 of 100\n",
      "building tree 84 of 100\n",
      "building tree 85 of 100\n",
      "building tree 86 of 100\n",
      "building tree 87 of 100\n",
      "building tree 88 of 100\n",
      "building tree 89 of 100\n",
      "building tree 90 of 100\n",
      "building tree 91 of 100\n",
      "building tree 92 of 100\n",
      "building tree 93 of 100\n",
      "building tree 94 of 100\n",
      "building tree 95 of 100\n",
      "building tree 96 of 100\n",
      "building tree 97 of 100\n",
      "building tree 98 of 100\n",
      "building tree 99 of 100\n",
      "building tree 100 of 100\n"
     ]
    },
    {
     "name": "stderr",
     "output_type": "stream",
     "text": [
      "[Parallel(n_jobs=-1)]: Done 100 out of 100 | elapsed:  2.8min finished\n"
     ]
    },
    {
     "data": {
      "text/html": [
       "<style>#sk-container-id-1 {color: black;background-color: white;}#sk-container-id-1 pre{padding: 0;}#sk-container-id-1 div.sk-toggleable {background-color: white;}#sk-container-id-1 label.sk-toggleable__label {cursor: pointer;display: block;width: 100%;margin-bottom: 0;padding: 0.3em;box-sizing: border-box;text-align: center;}#sk-container-id-1 label.sk-toggleable__label-arrow:before {content: \"▸\";float: left;margin-right: 0.25em;color: #696969;}#sk-container-id-1 label.sk-toggleable__label-arrow:hover:before {color: black;}#sk-container-id-1 div.sk-estimator:hover label.sk-toggleable__label-arrow:before {color: black;}#sk-container-id-1 div.sk-toggleable__content {max-height: 0;max-width: 0;overflow: hidden;text-align: left;background-color: #f0f8ff;}#sk-container-id-1 div.sk-toggleable__content pre {margin: 0.2em;color: black;border-radius: 0.25em;background-color: #f0f8ff;}#sk-container-id-1 input.sk-toggleable__control:checked~div.sk-toggleable__content {max-height: 200px;max-width: 100%;overflow: auto;}#sk-container-id-1 input.sk-toggleable__control:checked~label.sk-toggleable__label-arrow:before {content: \"▾\";}#sk-container-id-1 div.sk-estimator input.sk-toggleable__control:checked~label.sk-toggleable__label {background-color: #d4ebff;}#sk-container-id-1 div.sk-label input.sk-toggleable__control:checked~label.sk-toggleable__label {background-color: #d4ebff;}#sk-container-id-1 input.sk-hidden--visually {border: 0;clip: rect(1px 1px 1px 1px);clip: rect(1px, 1px, 1px, 1px);height: 1px;margin: -1px;overflow: hidden;padding: 0;position: absolute;width: 1px;}#sk-container-id-1 div.sk-estimator {font-family: monospace;background-color: #f0f8ff;border: 1px dotted black;border-radius: 0.25em;box-sizing: border-box;margin-bottom: 0.5em;}#sk-container-id-1 div.sk-estimator:hover {background-color: #d4ebff;}#sk-container-id-1 div.sk-parallel-item::after {content: \"\";width: 100%;border-bottom: 1px solid gray;flex-grow: 1;}#sk-container-id-1 div.sk-label:hover label.sk-toggleable__label {background-color: #d4ebff;}#sk-container-id-1 div.sk-serial::before {content: \"\";position: absolute;border-left: 1px solid gray;box-sizing: border-box;top: 0;bottom: 0;left: 50%;z-index: 0;}#sk-container-id-1 div.sk-serial {display: flex;flex-direction: column;align-items: center;background-color: white;padding-right: 0.2em;padding-left: 0.2em;position: relative;}#sk-container-id-1 div.sk-item {position: relative;z-index: 1;}#sk-container-id-1 div.sk-parallel {display: flex;align-items: stretch;justify-content: center;background-color: white;position: relative;}#sk-container-id-1 div.sk-item::before, #sk-container-id-1 div.sk-parallel-item::before {content: \"\";position: absolute;border-left: 1px solid gray;box-sizing: border-box;top: 0;bottom: 0;left: 50%;z-index: -1;}#sk-container-id-1 div.sk-parallel-item {display: flex;flex-direction: column;z-index: 1;position: relative;background-color: white;}#sk-container-id-1 div.sk-parallel-item:first-child::after {align-self: flex-end;width: 50%;}#sk-container-id-1 div.sk-parallel-item:last-child::after {align-self: flex-start;width: 50%;}#sk-container-id-1 div.sk-parallel-item:only-child::after {width: 0;}#sk-container-id-1 div.sk-dashed-wrapped {border: 1px dashed gray;margin: 0 0.4em 0.5em 0.4em;box-sizing: border-box;padding-bottom: 0.4em;background-color: white;}#sk-container-id-1 div.sk-label label {font-family: monospace;font-weight: bold;display: inline-block;line-height: 1.2em;}#sk-container-id-1 div.sk-label-container {text-align: center;}#sk-container-id-1 div.sk-container {/* jupyter's `normalize.less` sets `[hidden] { display: none; }` but bootstrap.min.css set `[hidden] { display: none !important; }` so we also need the `!important` here to be able to override the default hidden behavior on the sphinx rendered scikit-learn.org. See: https://github.com/scikit-learn/scikit-learn/issues/21755 */display: inline-block !important;position: relative;}#sk-container-id-1 div.sk-text-repr-fallback {display: none;}</style><div id=\"sk-container-id-1\" class=\"sk-top-container\"><div class=\"sk-text-repr-fallback\"><pre>RandomForestClassifier(n_jobs=-1, random_state=0, verbose=2)</pre><b>In a Jupyter environment, please rerun this cell to show the HTML representation or trust the notebook. <br />On GitHub, the HTML representation is unable to render, please try loading this page with nbviewer.org.</b></div><div class=\"sk-container\" hidden><div class=\"sk-item\"><div class=\"sk-estimator sk-toggleable\"><input class=\"sk-toggleable__control sk-hidden--visually\" id=\"sk-estimator-id-1\" type=\"checkbox\" checked><label for=\"sk-estimator-id-1\" class=\"sk-toggleable__label sk-toggleable__label-arrow\">RandomForestClassifier</label><div class=\"sk-toggleable__content\"><pre>RandomForestClassifier(n_jobs=-1, random_state=0, verbose=2)</pre></div></div></div></div></div>"
      ],
      "text/plain": [
       "RandomForestClassifier(n_jobs=-1, random_state=0, verbose=2)"
      ]
     },
     "execution_count": 35,
     "metadata": {},
     "output_type": "execute_result"
    }
   ],
   "source": [
    "clf = RandomForestClassifier(n_estimators=100, verbose=2, n_jobs=-1, random_state=0)\n",
    "clf.fit(X_train, y_train)"
   ]
  },
  {
   "cell_type": "markdown",
   "id": "871f9154",
   "metadata": {},
   "source": [
    "### XGBOOST"
   ]
  },
  {
   "cell_type": "code",
   "execution_count": 36,
   "id": "d2b1433c",
   "metadata": {
    "ExecuteTime": {
     "end_time": "2023-08-06T23:14:48.577826Z",
     "start_time": "2023-08-06T23:14:48.460617Z"
    }
   },
   "outputs": [],
   "source": [
    "import xgboost as xgb"
   ]
  },
  {
   "cell_type": "code",
   "execution_count": 37,
   "id": "7940e2ea",
   "metadata": {
    "ExecuteTime": {
     "end_time": "2023-08-06T23:16:33.899984Z",
     "start_time": "2023-08-06T23:14:48.581084Z"
    }
   },
   "outputs": [
    {
     "data": {
      "text/html": [
       "<style>#sk-container-id-2 {color: black;background-color: white;}#sk-container-id-2 pre{padding: 0;}#sk-container-id-2 div.sk-toggleable {background-color: white;}#sk-container-id-2 label.sk-toggleable__label {cursor: pointer;display: block;width: 100%;margin-bottom: 0;padding: 0.3em;box-sizing: border-box;text-align: center;}#sk-container-id-2 label.sk-toggleable__label-arrow:before {content: \"▸\";float: left;margin-right: 0.25em;color: #696969;}#sk-container-id-2 label.sk-toggleable__label-arrow:hover:before {color: black;}#sk-container-id-2 div.sk-estimator:hover label.sk-toggleable__label-arrow:before {color: black;}#sk-container-id-2 div.sk-toggleable__content {max-height: 0;max-width: 0;overflow: hidden;text-align: left;background-color: #f0f8ff;}#sk-container-id-2 div.sk-toggleable__content pre {margin: 0.2em;color: black;border-radius: 0.25em;background-color: #f0f8ff;}#sk-container-id-2 input.sk-toggleable__control:checked~div.sk-toggleable__content {max-height: 200px;max-width: 100%;overflow: auto;}#sk-container-id-2 input.sk-toggleable__control:checked~label.sk-toggleable__label-arrow:before {content: \"▾\";}#sk-container-id-2 div.sk-estimator input.sk-toggleable__control:checked~label.sk-toggleable__label {background-color: #d4ebff;}#sk-container-id-2 div.sk-label input.sk-toggleable__control:checked~label.sk-toggleable__label {background-color: #d4ebff;}#sk-container-id-2 input.sk-hidden--visually {border: 0;clip: rect(1px 1px 1px 1px);clip: rect(1px, 1px, 1px, 1px);height: 1px;margin: -1px;overflow: hidden;padding: 0;position: absolute;width: 1px;}#sk-container-id-2 div.sk-estimator {font-family: monospace;background-color: #f0f8ff;border: 1px dotted black;border-radius: 0.25em;box-sizing: border-box;margin-bottom: 0.5em;}#sk-container-id-2 div.sk-estimator:hover {background-color: #d4ebff;}#sk-container-id-2 div.sk-parallel-item::after {content: \"\";width: 100%;border-bottom: 1px solid gray;flex-grow: 1;}#sk-container-id-2 div.sk-label:hover label.sk-toggleable__label {background-color: #d4ebff;}#sk-container-id-2 div.sk-serial::before {content: \"\";position: absolute;border-left: 1px solid gray;box-sizing: border-box;top: 0;bottom: 0;left: 50%;z-index: 0;}#sk-container-id-2 div.sk-serial {display: flex;flex-direction: column;align-items: center;background-color: white;padding-right: 0.2em;padding-left: 0.2em;position: relative;}#sk-container-id-2 div.sk-item {position: relative;z-index: 1;}#sk-container-id-2 div.sk-parallel {display: flex;align-items: stretch;justify-content: center;background-color: white;position: relative;}#sk-container-id-2 div.sk-item::before, #sk-container-id-2 div.sk-parallel-item::before {content: \"\";position: absolute;border-left: 1px solid gray;box-sizing: border-box;top: 0;bottom: 0;left: 50%;z-index: -1;}#sk-container-id-2 div.sk-parallel-item {display: flex;flex-direction: column;z-index: 1;position: relative;background-color: white;}#sk-container-id-2 div.sk-parallel-item:first-child::after {align-self: flex-end;width: 50%;}#sk-container-id-2 div.sk-parallel-item:last-child::after {align-self: flex-start;width: 50%;}#sk-container-id-2 div.sk-parallel-item:only-child::after {width: 0;}#sk-container-id-2 div.sk-dashed-wrapped {border: 1px dashed gray;margin: 0 0.4em 0.5em 0.4em;box-sizing: border-box;padding-bottom: 0.4em;background-color: white;}#sk-container-id-2 div.sk-label label {font-family: monospace;font-weight: bold;display: inline-block;line-height: 1.2em;}#sk-container-id-2 div.sk-label-container {text-align: center;}#sk-container-id-2 div.sk-container {/* jupyter's `normalize.less` sets `[hidden] { display: none; }` but bootstrap.min.css set `[hidden] { display: none !important; }` so we also need the `!important` here to be able to override the default hidden behavior on the sphinx rendered scikit-learn.org. See: https://github.com/scikit-learn/scikit-learn/issues/21755 */display: inline-block !important;position: relative;}#sk-container-id-2 div.sk-text-repr-fallback {display: none;}</style><div id=\"sk-container-id-2\" class=\"sk-top-container\"><div class=\"sk-text-repr-fallback\"><pre>XGBClassifier(base_score=None, booster=None, callbacks=None,\n",
       "              colsample_bylevel=None, colsample_bynode=None,\n",
       "              colsample_bytree=None, early_stopping_rounds=None,\n",
       "              enable_categorical=False, eval_metric=None, feature_types=None,\n",
       "              gamma=None, gpu_id=None, grow_policy=None, importance_type=None,\n",
       "              interaction_constraints=None, learning_rate=None, max_bin=None,\n",
       "              max_cat_threshold=None, max_cat_to_onehot=None,\n",
       "              max_delta_step=None, max_depth=None, max_leaves=None,\n",
       "              min_child_weight=None, missing=nan, monotone_constraints=None,\n",
       "              n_estimators=100, n_jobs=-1, num_parallel_tree=None,\n",
       "              predictor=None, random_state=0, ...)</pre><b>In a Jupyter environment, please rerun this cell to show the HTML representation or trust the notebook. <br />On GitHub, the HTML representation is unable to render, please try loading this page with nbviewer.org.</b></div><div class=\"sk-container\" hidden><div class=\"sk-item\"><div class=\"sk-estimator sk-toggleable\"><input class=\"sk-toggleable__control sk-hidden--visually\" id=\"sk-estimator-id-2\" type=\"checkbox\" checked><label for=\"sk-estimator-id-2\" class=\"sk-toggleable__label sk-toggleable__label-arrow\">XGBClassifier</label><div class=\"sk-toggleable__content\"><pre>XGBClassifier(base_score=None, booster=None, callbacks=None,\n",
       "              colsample_bylevel=None, colsample_bynode=None,\n",
       "              colsample_bytree=None, early_stopping_rounds=None,\n",
       "              enable_categorical=False, eval_metric=None, feature_types=None,\n",
       "              gamma=None, gpu_id=None, grow_policy=None, importance_type=None,\n",
       "              interaction_constraints=None, learning_rate=None, max_bin=None,\n",
       "              max_cat_threshold=None, max_cat_to_onehot=None,\n",
       "              max_delta_step=None, max_depth=None, max_leaves=None,\n",
       "              min_child_weight=None, missing=nan, monotone_constraints=None,\n",
       "              n_estimators=100, n_jobs=-1, num_parallel_tree=None,\n",
       "              predictor=None, random_state=0, ...)</pre></div></div></div></div></div>"
      ],
      "text/plain": [
       "XGBClassifier(base_score=None, booster=None, callbacks=None,\n",
       "              colsample_bylevel=None, colsample_bynode=None,\n",
       "              colsample_bytree=None, early_stopping_rounds=None,\n",
       "              enable_categorical=False, eval_metric=None, feature_types=None,\n",
       "              gamma=None, gpu_id=None, grow_policy=None, importance_type=None,\n",
       "              interaction_constraints=None, learning_rate=None, max_bin=None,\n",
       "              max_cat_threshold=None, max_cat_to_onehot=None,\n",
       "              max_delta_step=None, max_depth=None, max_leaves=None,\n",
       "              min_child_weight=None, missing=nan, monotone_constraints=None,\n",
       "              n_estimators=100, n_jobs=-1, num_parallel_tree=None,\n",
       "              predictor=None, random_state=0, ...)"
      ]
     },
     "execution_count": 37,
     "metadata": {},
     "output_type": "execute_result"
    }
   ],
   "source": [
    "xgb_model = xgb.XGBClassifier(n_estimators=100, n_jobs=-1, random_state=0)\n",
    "xgb_model.fit(X_train, y_train)"
   ]
  },
  {
   "cell_type": "markdown",
   "id": "99fcd982",
   "metadata": {},
   "source": [
    "# Testing Model Accuracy"
   ]
  },
  {
   "cell_type": "code",
   "execution_count": 38,
   "id": "7d2daaa9",
   "metadata": {
    "ExecuteTime": {
     "end_time": "2023-08-06T23:16:33.917377Z",
     "start_time": "2023-08-06T23:16:33.904452Z"
    }
   },
   "outputs": [],
   "source": [
    "from sklearn.metrics import accuracy_score\n",
    "from sklearn.metrics import classification_report"
   ]
  },
  {
   "cell_type": "markdown",
   "id": "73d358a4",
   "metadata": {},
   "source": [
    "### Random Forest"
   ]
  },
  {
   "cell_type": "code",
   "execution_count": 39,
   "id": "80d0101a",
   "metadata": {
    "ExecuteTime": {
     "end_time": "2023-08-06T23:16:37.750287Z",
     "start_time": "2023-08-06T23:16:33.924377Z"
    }
   },
   "outputs": [
    {
     "name": "stderr",
     "output_type": "stream",
     "text": [
      "[Parallel(n_jobs=4)]: Using backend ThreadingBackend with 4 concurrent workers.\n",
      "[Parallel(n_jobs=4)]: Done  33 tasks      | elapsed:    1.4s\n",
      "[Parallel(n_jobs=4)]: Done 100 out of 100 | elapsed:    3.6s finished\n"
     ]
    }
   ],
   "source": [
    "preds = clf.predict(X_test)"
   ]
  },
  {
   "cell_type": "code",
   "execution_count": 40,
   "id": "cf5204fd",
   "metadata": {
    "ExecuteTime": {
     "end_time": "2023-08-06T23:16:41.329380Z",
     "start_time": "2023-08-06T23:16:37.754413Z"
    }
   },
   "outputs": [
    {
     "name": "stderr",
     "output_type": "stream",
     "text": [
      "[Parallel(n_jobs=4)]: Using backend ThreadingBackend with 4 concurrent workers.\n",
      "[Parallel(n_jobs=4)]: Done  33 tasks      | elapsed:    1.1s\n",
      "[Parallel(n_jobs=4)]: Done 100 out of 100 | elapsed:    3.4s finished\n"
     ]
    },
    {
     "data": {
      "text/plain": [
       "0.9478509452714096"
      ]
     },
     "execution_count": 40,
     "metadata": {},
     "output_type": "execute_result"
    }
   ],
   "source": [
    "clf.score(X_test, y_test)"
   ]
  },
  {
   "cell_type": "code",
   "execution_count": 41,
   "id": "64e28250",
   "metadata": {
    "ExecuteTime": {
     "end_time": "2023-08-06T23:16:41.689334Z",
     "start_time": "2023-08-06T23:16:41.333714Z"
    }
   },
   "outputs": [
    {
     "name": "stdout",
     "output_type": "stream",
     "text": [
      "              precision    recall  f1-score   support\n",
      "\n",
      "           0       0.89      0.80      0.84     31470\n",
      "           1       0.96      0.98      0.97    147632\n",
      "\n",
      "    accuracy                           0.95    179102\n",
      "   macro avg       0.93      0.89      0.91    179102\n",
      "weighted avg       0.95      0.95      0.95    179102\n",
      "\n"
     ]
    }
   ],
   "source": [
    "print(classification_report(y_test, preds))"
   ]
  },
  {
   "cell_type": "markdown",
   "id": "9d82a86b",
   "metadata": {},
   "source": [
    "### XGBOOST"
   ]
  },
  {
   "cell_type": "code",
   "execution_count": 43,
   "id": "6e7120f7",
   "metadata": {
    "ExecuteTime": {
     "end_time": "2023-08-06T23:16:42.498655Z",
     "start_time": "2023-08-06T23:16:41.736894Z"
    }
   },
   "outputs": [],
   "source": [
    "preds = xgb_model.predict(X_test)"
   ]
  },
  {
   "cell_type": "code",
   "execution_count": 44,
   "id": "810cb72a",
   "metadata": {
    "ExecuteTime": {
     "end_time": "2023-08-06T23:16:43.515284Z",
     "start_time": "2023-08-06T23:16:42.502600Z"
    }
   },
   "outputs": [
    {
     "data": {
      "text/plain": [
       "0.9516420810487879"
      ]
     },
     "execution_count": 44,
     "metadata": {},
     "output_type": "execute_result"
    }
   ],
   "source": [
    "xgb_model.score(X_test, y_test)"
   ]
  },
  {
   "cell_type": "code",
   "execution_count": 45,
   "id": "054f7e08",
   "metadata": {
    "ExecuteTime": {
     "end_time": "2023-08-06T23:16:44.304170Z",
     "start_time": "2023-08-06T23:16:43.519708Z"
    }
   },
   "outputs": [
    {
     "name": "stdout",
     "output_type": "stream",
     "text": [
      "              precision    recall  f1-score   support\n",
      "\n",
      "           0       0.88      0.84      0.86     31470\n",
      "           1       0.97      0.98      0.97    147632\n",
      "\n",
      "    accuracy                           0.95    179102\n",
      "   macro avg       0.92      0.91      0.92    179102\n",
      "weighted avg       0.95      0.95      0.95    179102\n",
      "\n"
     ]
    }
   ],
   "source": [
    "print(classification_report(y_test, preds))"
   ]
  },
  {
   "cell_type": "markdown",
   "id": "68c6dc74",
   "metadata": {},
   "source": [
    "# SHAP values"
   ]
  },
  {
   "cell_type": "code",
   "execution_count": 48,
   "id": "5d22f720",
   "metadata": {
    "ExecuteTime": {
     "end_time": "2023-08-06T23:22:45.374475Z",
     "start_time": "2023-08-06T23:22:28.585898Z"
    }
   },
   "outputs": [],
   "source": [
    "import shap"
   ]
  },
  {
   "cell_type": "code",
   "execution_count": 53,
   "id": "0e2d0699",
   "metadata": {
    "ExecuteTime": {
     "end_time": "2023-08-06T23:27:50.760514Z",
     "start_time": "2023-08-06T23:27:50.204283Z"
    }
   },
   "outputs": [],
   "source": [
    "X_train_1, X_test_1, y_train_1, y_test_1 = train_test_split(X, y, test_size=0.2, random_state=42)"
   ]
  },
  {
   "cell_type": "markdown",
   "id": "c16250c6",
   "metadata": {},
   "source": [
    "### Random Forest"
   ]
  },
  {
   "cell_type": "code",
   "execution_count": 50,
   "id": "6162f07e",
   "metadata": {
    "ExecuteTime": {
     "end_time": "2023-08-06T23:23:00.773686Z",
     "start_time": "2023-08-06T23:22:55.632615Z"
    }
   },
   "outputs": [],
   "source": [
    "explainer = shap.Explainer(clf)"
   ]
  },
  {
   "cell_type": "code",
   "execution_count": 51,
   "id": "0cd65ee5",
   "metadata": {
    "ExecuteTime": {
     "end_time": "2023-08-06T23:26:39.323621Z",
     "start_time": "2023-08-06T23:23:18.714663Z"
    }
   },
   "outputs": [],
   "source": [
    "shap_values = explainer.shap_values(X_test[:50])"
   ]
  },
  {
   "cell_type": "code",
   "execution_count": 63,
   "id": "ffb6abf0",
   "metadata": {
    "ExecuteTime": {
     "end_time": "2023-08-06T23:51:17.885424Z",
     "start_time": "2023-08-06T23:51:17.467315Z"
    }
   },
   "outputs": [
    {
     "data": {
      "image/png": "[encoded data removed]",
      "text/plain": [
       "<Figure size 576x568.8 with 1 Axes>"
      ]
     },
     "metadata": {
      "needs_background": "light"
     },
     "output_type": "display_data"
    }
   ],
   "source": [
    "shap.summary_plot(\n",
    "    shap_values,\n",
    "    feature_names=X_train_1.columns,\n",
    ")"
   ]
  },
  {
   "cell_type": "markdown",
   "id": "1d848a0b",
   "metadata": {},
   "source": [
    "### XGBOOST"
   ]
  },
  {
   "cell_type": "code",
   "execution_count": 64,
   "id": "2e3364d2",
   "metadata": {
    "ExecuteTime": {
     "end_time": "2023-08-06T23:52:51.466824Z",
     "start_time": "2023-08-06T23:52:50.842199Z"
    }
   },
   "outputs": [],
   "source": [
    "explainer = shap.Explainer(xgb_model)"
   ]
  },
  {
   "cell_type": "code",
   "execution_count": 65,
   "id": "52af04cc",
   "metadata": {
    "ExecuteTime": {
     "end_time": "2023-08-06T23:52:51.543926Z",
     "start_time": "2023-08-06T23:52:51.470160Z"
    }
   },
   "outputs": [],
   "source": [
    "shap_values = explainer.shap_values(X_test[:50])"
   ]
  },
  {
   "cell_type": "code",
   "execution_count": 66,
   "id": "6ef69571",
   "metadata": {
    "ExecuteTime": {
     "end_time": "2023-08-06T23:52:52.262743Z",
     "start_time": "2023-08-06T23:52:51.670564Z"
    }
   },
   "outputs": [
    {
     "data": {
      "image/png": "[encoded data removed]",
      "text/plain": [
       "<Figure size 576x568.8 with 1 Axes>"
      ]
     },
     "metadata": {
      "needs_background": "light"
     },
     "output_type": "display_data"
    }
   ],
   "source": [
    "shap.summary_plot(\n",
    "    shap_values,\n",
    "    feature_names=X_train_1.columns,\n",
    ")"
   ]
  },
  {
   "cell_type": "code",
   "execution_count": null,
   "id": "0460f04d",
   "metadata": {},
   "outputs": [],
   "source": []
  }
 ],
 "metadata": {
  "kernelspec": {
   "display_name": "Python 3",
   "language": "python",
   "name": "python3"
  },
  "language_info": {
   "codemirror_mode": {
    "name": "ipython",
    "version": 3
   },
   "file_extension": ".py",
   "mimetype": "text/x-python",
   "name": "python",
   "nbconvert_exporter": "python",
   "pygments_lexer": "ipython3",
   "version": "3.9.13"
  }
 },
 "nbformat": 4,
 "nbformat_minor": 5
}
