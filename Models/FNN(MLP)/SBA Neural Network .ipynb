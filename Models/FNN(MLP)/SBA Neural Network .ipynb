{
 "cells": [
  {
   "cell_type": "code",
   "execution_count": 2,
   "id": "09ae3003",
   "metadata": {},
   "outputs": [],
   "source": [
    "# Imports\n",
    "import numpy as np\n",
    "import pandas as pd\n",
    "import tensorflow as tf"
   ]
  },
  {
   "cell_type": "code",
   "execution_count": 3,
   "id": "23ffd316",
   "metadata": {},
   "outputs": [
    {
     "data": {
      "text/html": [
       "<div>\n",
       "<style scoped>\n",
       "    .dataframe tbody tr th:only-of-type {\n",
       "        vertical-align: middle;\n",
       "    }\n",
       "\n",
       "    .dataframe tbody tr th {\n",
       "        vertical-align: top;\n",
       "    }\n",
       "\n",
       "    .dataframe thead th {\n",
       "        text-align: right;\n",
       "    }\n",
       "</style>\n",
       "<table border=\"1\" class=\"dataframe\">\n",
       "  <thead>\n",
       "    <tr style=\"text-align: right;\">\n",
       "      <th></th>\n",
       "      <th>LoanNr_ChkDgt</th>\n",
       "      <th>Name</th>\n",
       "      <th>City</th>\n",
       "      <th>State</th>\n",
       "      <th>Bank</th>\n",
       "      <th>...</th>\n",
       "      <th>DisbursementGross</th>\n",
       "      <th>BalanceGross</th>\n",
       "      <th>ApprovalDate</th>\n",
       "      <th>Zip</th>\n",
       "      <th>Term</th>\n",
       "    </tr>\n",
       "  </thead>\n",
       "  <tbody>\n",
       "    <tr>\n",
       "      <th>0</th>\n",
       "      <td>1000014003</td>\n",
       "      <td>ABC HOBBYCRAFT</td>\n",
       "      <td>EVANSVILLE</td>\n",
       "      <td>IN</td>\n",
       "      <td>FIFTH THIRD BANK</td>\n",
       "      <td>...</td>\n",
       "      <td>$60,000.00</td>\n",
       "      <td>$0.00</td>\n",
       "      <td>28-Feb-97</td>\n",
       "      <td>47711</td>\n",
       "      <td>84</td>\n",
       "    </tr>\n",
       "    <tr>\n",
       "      <th>1</th>\n",
       "      <td>1000024006</td>\n",
       "      <td>LANDMARK BAR &amp; GRILLE (THE)</td>\n",
       "      <td>NEW PARIS</td>\n",
       "      <td>IN</td>\n",
       "      <td>1ST SOURCE BANK</td>\n",
       "      <td>...</td>\n",
       "      <td>$40,000.00</td>\n",
       "      <td>$0.00</td>\n",
       "      <td>28-Feb-97</td>\n",
       "      <td>46526</td>\n",
       "      <td>60</td>\n",
       "    </tr>\n",
       "    <tr>\n",
       "      <th>2</th>\n",
       "      <td>1000034009</td>\n",
       "      <td>WHITLOCK DDS, TODD M.</td>\n",
       "      <td>BLOOMINGTON</td>\n",
       "      <td>IN</td>\n",
       "      <td>GRANT COUNTY STATE BANK</td>\n",
       "      <td>...</td>\n",
       "      <td>$287,000.00</td>\n",
       "      <td>$0.00</td>\n",
       "      <td>28-Feb-97</td>\n",
       "      <td>47401</td>\n",
       "      <td>180</td>\n",
       "    </tr>\n",
       "  </tbody>\n",
       "</table>\n",
       "<p>3 rows × 26 columns</p>\n",
       "</div>"
      ],
      "text/plain": [
       "   LoanNr_ChkDgt                         Name         City State  \\\n",
       "0     1000014003               ABC HOBBYCRAFT   EVANSVILLE    IN   \n",
       "1     1000024006  LANDMARK BAR & GRILLE (THE)    NEW PARIS    IN   \n",
       "2     1000034009        WHITLOCK DDS, TODD M.  BLOOMINGTON    IN   \n",
       "\n",
       "                      Bank  ... DisbursementGross  BalanceGross  ApprovalDate  \\\n",
       "0         FIFTH THIRD BANK  ...       $60,000.00         $0.00      28-Feb-97   \n",
       "1          1ST SOURCE BANK  ...       $40,000.00         $0.00      28-Feb-97   \n",
       "2  GRANT COUNTY STATE BANK  ...      $287,000.00         $0.00      28-Feb-97   \n",
       "\n",
       "     Zip  Term  \n",
       "0  47711    84  \n",
       "1  46526    60  \n",
       "2  47401   180  \n",
       "\n",
       "[3 rows x 26 columns]"
      ]
     },
     "execution_count": 3,
     "metadata": {},
     "output_type": "execute_result"
    }
   ],
   "source": [
    "ds = pd.read_csv('SBA Dataset.csv')\n",
    "X = ds.iloc[:, 3:16].values\n",
    "Y = ds.iloc[:, -1].values\n",
    "\n",
    "pd.set_option('display.max_rows', 100)\n",
    "pd.set_option('display.max_columns', 10)\n",
    "\n",
    "\n",
    "ds.head(3)"
   ]
  },
  {
   "cell_type": "code",
   "execution_count": 4,
   "id": "40e00eb5",
   "metadata": {},
   "outputs": [
    {
     "data": {
      "text/plain": [
       "RevLineCr\n",
       "N    420288\n",
       "0    257602\n",
       "Y    201397\n",
       "T     15284\n",
       "1        23\n",
       "R        14\n",
       "`        11\n",
       "2         6\n",
       "C         2\n",
       "3         1\n",
       ",         1\n",
       "7         1\n",
       "A         1\n",
       "5         1\n",
       ".         1\n",
       "4         1\n",
       "-         1\n",
       "Q         1\n",
       "Name: count, dtype: int64"
      ]
     },
     "execution_count": 4,
     "metadata": {},
     "output_type": "execute_result"
    }
   ],
   "source": [
    "# For some reason there is 1976A so I edited the dataset\n",
    "ds.RevLineCr.value_counts()"
   ]
  },
  {
   "cell_type": "code",
   "execution_count": 5,
   "id": "a95956d7",
   "metadata": {},
   "outputs": [
    {
     "data": {
      "text/plain": [
       "count     896582\n",
       "unique         8\n",
       "top            N\n",
       "freq      782822\n",
       "Name: LowDoc, dtype: object"
      ]
     },
     "execution_count": 5,
     "metadata": {},
     "output_type": "execute_result"
    }
   ],
   "source": [
    "ds['LowDoc'].describe()"
   ]
  },
  {
   "cell_type": "code",
   "execution_count": 6,
   "id": "1fdb202e",
   "metadata": {},
   "outputs": [
    {
     "data": {
      "text/plain": [
       "(897154, 26)"
      ]
     },
     "execution_count": 6,
     "metadata": {},
     "output_type": "execute_result"
    }
   ],
   "source": [
    "# Null Values in MIS Status\n",
    "ds.dropna(subset=['MIS_Status'], inplace=True)\n",
    "ds.dropna(subset=['State'], inplace=True)\n",
    "ds.shape"
   ]
  },
  {
   "cell_type": "code",
   "execution_count": 7,
   "id": "d03e7af5",
   "metadata": {},
   "outputs": [],
   "source": [
    "\n",
    "    \n",
    "# Convert LowDoc and RevLineCR \n",
    "#ds['Low_Doc'] = ds['LowDoc'].apply(yes_no_binary).astype('Int64')"
   ]
  },
  {
   "cell_type": "code",
   "execution_count": 8,
   "id": "fa298c8a",
   "metadata": {},
   "outputs": [
    {
     "name": "stdout",
     "output_type": "stream",
     "text": [
      "[['IN' 'FIFTH THIRD BANK' 'OH' ... 'N' 'Y' 'P I F']\n",
      " ['IN' '1ST SOURCE BANK' 'IN' ... 'N' 'Y' 'P I F']\n",
      " ['IN' 'GRANT COUNTY STATE BANK' 'IN' ... 'N' 'N' 'P I F']\n",
      " ...\n",
      " ['CA' 'RABOBANK, NATIONAL ASSOCIATION' 'CA' ... 'N' 'N' 'P I F']\n",
      " ['HI' 'BANK OF HAWAII' 'HI' ... 'N' 'Y' 'CHGOFF']\n",
      " ['HI' 'CENTRAL PACIFIC BANK' 'HI' ... 'N' 'N' 'P I F']]\n",
      "[ 84  60 180 ... 108  60  48]\n"
     ]
    }
   ],
   "source": [
    "print(X)\n",
    "print(Y)"
   ]
  },
  {
   "cell_type": "code",
   "execution_count": 9,
   "id": "32007ef4",
   "metadata": {},
   "outputs": [
    {
     "data": {
      "text/plain": [
       "(890896, 26)"
      ]
     },
     "execution_count": 9,
     "metadata": {},
     "output_type": "execute_result"
    }
   ],
   "source": [
    "ds = ds.drop(ds[(ds['MIS_Status'] == 'P I F') & (ds['ApprovalFY'] >= 2014)].index)\n",
    "\n",
    "# Cleaning up LowDoc Values \n",
    "val_to_drop = ['0', 'C', 'S', 'A', 'R', '1']\n",
    "ds.dropna(subset=['LowDoc'], inplace=True)\n",
    "#ds = ds[~ds['LowDoc'].isin(val_to_drop)]\n",
    "ds = ds[ds['LowDoc'] != '0']\n",
    "ds = ds[ds['LowDoc'] != 'C']\n",
    "ds = ds[ds['LowDoc'] != 'S']\n",
    "ds = ds[ds['LowDoc'] != 'A']\n",
    "ds = ds[ds['LowDoc'] != 'R']\n",
    "ds = ds[ds['LowDoc'] != '1']\n",
    "ds.shape"
   ]
  },
  {
   "cell_type": "code",
   "execution_count": 10,
   "id": "6ff24352",
   "metadata": {},
   "outputs": [
    {
     "data": {
      "text/plain": [
       "(890831, 26)"
      ]
     },
     "execution_count": 10,
     "metadata": {},
     "output_type": "execute_result"
    }
   ],
   "source": [
    "val_to_drop_revlinecr = ['1', 'R', '`', '2', 'C', '3', ',', '7', 'A', '5', '.', '4', '-', 'Q']\n",
    "ds = ds[~ds['RevLineCr'].isin(val_to_drop_revlinecr)]\n",
    "ds.shape"
   ]
  },
  {
   "cell_type": "code",
   "execution_count": 11,
   "id": "2972abdc",
   "metadata": {},
   "outputs": [
    {
     "data": {
      "text/plain": [
       "count    890831.000000\n",
       "mean        110.834972\n",
       "std          78.880232\n",
       "min           0.000000\n",
       "25%          60.000000\n",
       "50%          84.000000\n",
       "75%         120.000000\n",
       "max         569.000000\n",
       "Name: Term, dtype: float64"
      ]
     },
     "execution_count": 11,
     "metadata": {},
     "output_type": "execute_result"
    }
   ],
   "source": [
    "ds.Term.describe()"
   ]
  },
  {
   "cell_type": "markdown",
   "id": "6afa94f1",
   "metadata": {},
   "source": [
    "## Encoding"
   ]
  },
  {
   "cell_type": "code",
   "execution_count": 13,
   "id": "c8310de7",
   "metadata": {
    "scrolled": true
   },
   "outputs": [
    {
     "name": "stdout",
     "output_type": "stream",
     "text": [
      "[[15 2143 38 ... 12 7 1]\n",
      " [15 132 18 ... 12 7 1]\n",
      " [15 2859 18 ... 12 4 1]\n",
      " ...\n",
      " [4 4335 5 ... 12 4 1]\n",
      " [11 551 14 ... 12 7 0]\n",
      " [11 1077 14 ... 12 4 1]]\n"
     ]
    }
   ],
   "source": [
    "from sklearn.preprocessing import LabelEncoder\n",
    "from sklearn.compose import ColumnTransformer\n",
    "from sklearn.preprocessing import OneHotEncoder\n",
    "from sklearn import preprocessing\n",
    "\n",
    "#figure out encoding for Low Doc, go down the columns\n",
    "le = LabelEncoder()\n",
    "\n",
    "X[:, 12] = le.fit_transform(X[:, 12])\n",
    "X[:, 11] = le.fit_transform(X[:, 11])\n",
    "X[:, 10] = le.fit_transform(X[:, 10])\n",
    "X[:, 8] = le.fit_transform(X[:, 8])\n",
    "X[:, 3] = le.fit_transform(X[:, 3])\n",
    "X[:, 2] = le.fit_transform(X[:, 2])\n",
    "X[:, 1] = le.fit_transform(X[:, 1])\n",
    "X[:, 0] = le.fit_transform(X[:, 0])\n",
    "\n",
    "# Print the first few rows to see the encoding\n",
    "print(X)"
   ]
  },
  {
   "cell_type": "markdown",
   "id": "ce85b0ba",
   "metadata": {},
   "source": [
    "## Spliting Training set and Test set"
   ]
  },
  {
   "cell_type": "code",
   "execution_count": 14,
   "id": "8151cf26",
   "metadata": {},
   "outputs": [],
   "source": [
    "from sklearn.model_selection import train_test_split\n",
    "X_train, X_test, Y_train, Y_test = train_test_split(X, Y, test_size=0.2, random_state=42)"
   ]
  },
  {
   "cell_type": "markdown",
   "id": "c0dc32de",
   "metadata": {},
   "source": [
    "### Feature Scaling"
   ]
  },
  {
   "cell_type": "code",
   "execution_count": 15,
   "id": "7694bf55",
   "metadata": {},
   "outputs": [],
   "source": [
    "from sklearn.preprocessing import StandardScaler\n",
    "sc = StandardScaler()\n",
    "X_train = sc.fit_transform(X_train)\n",
    "X_test = sc.transform(X_test)"
   ]
  },
  {
   "cell_type": "markdown",
   "id": "4d0d7eb8",
   "metadata": {},
   "source": [
    "# Neural Network Architecture"
   ]
  },
  {
   "cell_type": "code",
   "execution_count": 16,
   "id": "e6211243",
   "metadata": {},
   "outputs": [],
   "source": [
    "model = tf.keras.models.Sequential()"
   ]
  },
  {
   "cell_type": "code",
   "execution_count": 21,
   "id": "d52eec68",
   "metadata": {},
   "outputs": [],
   "source": [
    "# Input Layer\n",
    "model.add(tf.keras.layers.Dense(units=64, activation='relu'))\n",
    "\n",
    "# Second Hidden Layer\n",
    "model.add(tf.keras.layers.Dense(units=32, activation='relu'))\n",
    "#model.add(Dropout(0.5))\n",
    "\n",
    "model.add(tf.keras.layers.Dense(units=16, activation='relu'))\n",
    "#model.add(Dropout(0.5))\n",
    "#Output Layer\n",
    "model.add(tf.keras.layers.Dense(units=1, activation='sigmoid'))"
   ]
  },
  {
   "cell_type": "markdown",
   "id": "5b81962b",
   "metadata": {},
   "source": [
    "# Training NN"
   ]
  },
  {
   "cell_type": "code",
   "execution_count": 22,
   "id": "cd651623",
   "metadata": {},
   "outputs": [],
   "source": [
    "# Compiling\n",
    "model.compile(optimizer='adam', loss='binary_crossentropy', metrics=['accuracy'])"
   ]
  },
  {
   "cell_type": "code",
   "execution_count": 23,
   "id": "06dc6896",
   "metadata": {},
   "outputs": [
    {
     "name": "stdout",
     "output_type": "stream",
     "text": [
      "Epoch 1/30\n",
      "11240/11240 [==============================] - 13s 1ms/step - loss: nan - accuracy: 9.0779e-04\n",
      "Epoch 2/30\n",
      "11240/11240 [==============================] - 12s 1ms/step - loss: nan - accuracy: 9.0779e-04\n",
      "Epoch 3/30\n",
      "11240/11240 [==============================] - 12s 1ms/step - loss: nan - accuracy: 9.0779e-04\n",
      "Epoch 4/30\n",
      "11240/11240 [==============================] - 12s 1ms/step - loss: nan - accuracy: 9.0779e-04\n",
      "Epoch 5/30\n",
      "11240/11240 [==============================] - 12s 1ms/step - loss: nan - accuracy: 9.0779e-04\n",
      "Epoch 6/30\n",
      "11240/11240 [==============================] - 12s 1ms/step - loss: nan - accuracy: 9.0779e-04\n",
      "Epoch 7/30\n",
      "11240/11240 [==============================] - 12s 1ms/step - loss: nan - accuracy: 9.0779e-04\n",
      "Epoch 8/30\n",
      "11240/11240 [==============================] - 13s 1ms/step - loss: nan - accuracy: 9.0779e-04\n",
      "Epoch 9/30\n",
      "11240/11240 [==============================] - 12s 1ms/step - loss: nan - accuracy: 9.0779e-04\n",
      "Epoch 10/30\n",
      "11240/11240 [==============================] - 12s 1ms/step - loss: nan - accuracy: 9.0779e-04\n",
      "Epoch 11/30\n",
      "11240/11240 [==============================] - 12s 1ms/step - loss: nan - accuracy: 9.0779e-04\n",
      "Epoch 12/30\n",
      "11240/11240 [==============================] - 12s 1ms/step - loss: nan - accuracy: 9.0779e-04\n",
      "Epoch 13/30\n",
      "11240/11240 [==============================] - 12s 1ms/step - loss: nan - accuracy: 9.0779e-04\n",
      "Epoch 14/30\n",
      "11240/11240 [==============================] - 12s 1ms/step - loss: nan - accuracy: 9.0779e-04\n",
      "Epoch 15/30\n",
      "11240/11240 [==============================] - 12s 1ms/step - loss: nan - accuracy: 9.0779e-04\n",
      "Epoch 16/30\n",
      "11240/11240 [==============================] - 12s 1ms/step - loss: nan - accuracy: 9.0779e-04\n",
      "Epoch 17/30\n",
      "11240/11240 [==============================] - 12s 1ms/step - loss: nan - accuracy: 9.0779e-04\n",
      "Epoch 18/30\n",
      "11240/11240 [==============================] - 12s 1ms/step - loss: nan - accuracy: 9.0779e-04\n",
      "Epoch 19/30\n",
      "11240/11240 [==============================] - 12s 1ms/step - loss: nan - accuracy: 9.0779e-04\n",
      "Epoch 20/30\n",
      "11240/11240 [==============================] - 12s 1ms/step - loss: nan - accuracy: 9.0779e-04\n",
      "Epoch 21/30\n",
      "11240/11240 [==============================] - 12s 1ms/step - loss: nan - accuracy: 9.0779e-04\n",
      "Epoch 22/30\n",
      "11240/11240 [==============================] - 13s 1ms/step - loss: nan - accuracy: 9.0779e-04\n",
      "Epoch 23/30\n",
      "11240/11240 [==============================] - 12s 1ms/step - loss: nan - accuracy: 9.0779e-04\n",
      "Epoch 24/30\n",
      "11240/11240 [==============================] - 12s 1ms/step - loss: nan - accuracy: 9.0779e-04\n",
      "Epoch 25/30\n",
      "11240/11240 [==============================] - 12s 1ms/step - loss: nan - accuracy: 9.0779e-04\n",
      "Epoch 26/30\n",
      "11240/11240 [==============================] - 12s 1ms/step - loss: nan - accuracy: 9.0779e-04\n",
      "Epoch 27/30\n",
      "11240/11240 [==============================] - 12s 1ms/step - loss: nan - accuracy: 9.0779e-04\n",
      "Epoch 28/30\n",
      "11240/11240 [==============================] - 12s 1ms/step - loss: nan - accuracy: 9.0779e-04\n",
      "Epoch 29/30\n",
      "11240/11240 [==============================] - 12s 1ms/step - loss: nan - accuracy: 9.0779e-04\n",
      "Epoch 30/30\n",
      "11240/11240 [==============================] - 12s 1ms/step - loss: nan - accuracy: 9.0779e-04\n"
     ]
    },
    {
     "data": {
      "text/plain": [
       "<keras.src.callbacks.History at 0x2392d26d850>"
      ]
     },
     "execution_count": 23,
     "metadata": {},
     "output_type": "execute_result"
    }
   ],
   "source": [
    "model.fit(X_train, Y_train, batch_size=64, epochs=30)"
   ]
  }
 ],
 "metadata": {
  "kernelspec": {
   "display_name": "Python 3 (ipykernel)",
   "language": "python",
   "name": "python3"
  },
  "language_info": {
   "codemirror_mode": {
    "name": "ipython",
    "version": 3
   },
   "file_extension": ".py",
   "mimetype": "text/x-python",
   "name": "python",
   "nbconvert_exporter": "python",
   "pygments_lexer": "ipython3",
   "version": "3.11.1"
  }
 },
 "nbformat": 4,
 "nbformat_minor": 5
}
